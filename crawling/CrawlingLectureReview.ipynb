{
 "cells": [
  {
   "cell_type": "markdown",
   "metadata": {},
   "source": [
    "# Crawling"
   ]
  },
  {
   "cell_type": "markdown",
   "metadata": {},
   "source": [
    "## 에브리타임에서 강의평 수집하기"
   ]
  },
  {
   "cell_type": "code",
   "execution_count": null,
   "metadata": {},
   "outputs": [],
   "source": [
    "from selenium import webdriver\n",
    "\n",
    "from bs4 import BeautifulSoup\n",
    "\n",
    "import time\n",
    "import pandas as pd\n",
    "import re"
   ]
  },
  {
   "cell_type": "code",
   "execution_count": null,
   "metadata": {
    "scrolled": true
   },
   "outputs": [],
   "source": [
    "data = pd.read_csv('../data/2020LectureTable.csv', index_col=0)\n",
    "data"
   ]
  },
  {
   "cell_type": "code",
   "execution_count": null,
   "metadata": {},
   "outputs": [],
   "source": [
    "lecture_urls = [] ; lecture_names = [] ; professor_names = [] ; \n",
    "review_rates = [] ; review_semesters = [] ; review_texts = []"
   ]
  },
  {
   "cell_type": "code",
   "execution_count": null,
   "metadata": {},
   "outputs": [],
   "source": [
    "def GetAllReviews(lecture_url, driver):\n",
    "    \n",
    "    global lecture_urls, lecture_names, professor_names, review_rates, review_semesters, review_texts\n",
    "    \n",
    "    # html 파싱\n",
    "    html = driver.page_source\n",
    "    soup = BeautifulSoup(html, 'lxml')\n",
    "    \n",
    "    lecture_name = soup.find('h2').text\n",
    "    professor_name = soup.find(attrs={'class':'side head'}).find_all('span')[1].text\n",
    "\n",
    "    try:\n",
    "        # 강의평이 있는 경우\n",
    "        articles = soup.find(attrs={'class':'articles'}).find_all('article')\n",
    "        time.sleep(3)\n",
    "\n",
    "        for article in articles:\n",
    "            rate = article.find(attrs={'class':'rate'}).find(attrs={'class':'on'})['style']\n",
    "            semester = article.find(attrs={'class':'info'}).find(attrs={'class':'semester'}).text\n",
    "            text = article.find(attrs={'class':'text'}).text\n",
    "            \n",
    "            lecture_urls.append(lecture_url)\n",
    "            lecture_names.append(lecture_name)\n",
    "            professor_names.append(professor_name)\n",
    "            review_rates.append(rate)\n",
    "            review_semesters.append(semester)\n",
    "            review_texts.append(text)\n",
    "    \n",
    "    except:\n",
    "        # 강의평이 없는 경우\n",
    "        lecture_urls.append(lecture_url)\n",
    "        lecture_names.append(lecture_name)\n",
    "        professor_names.append(professor_name)\n",
    "        review_rates.append(None)\n",
    "        review_semesters.append(None)\n",
    "        review_texts.append(None)"
   ]
  },
  {
   "cell_type": "code",
   "execution_count": null,
   "metadata": {},
   "outputs": [],
   "source": [
    "# Settings\n",
    "LECTURE_URLS = list(set(data['LectureUrl']))\n",
    "URL = 'https://yonsei.everytime.kr/lecture'\n",
    "USER_ID = 'dlgyeka12'\n",
    "USER_PW = 'power01'"
   ]
  },
  {
   "cell_type": "code",
   "execution_count": null,
   "metadata": {},
   "outputs": [],
   "source": [
    "# 브라우저 생성 및 url 호출\n",
    "driver = webdriver.Chrome('chromedriver')\n",
    "driver.get(URL)"
   ]
  },
  {
   "cell_type": "code",
   "execution_count": null,
   "metadata": {},
   "outputs": [],
   "source": [
    "# 로그인\n",
    "driver.find_element_by_xpath('//*[@id=\"container\"]/form/p[1]/input').send_keys(USER_ID)\n",
    "driver.find_element_by_xpath('//*[@id=\"container\"]/form/p[2]/input').send_keys(USER_PW)\n",
    "driver.find_element_by_xpath('//*[@id=\"container\"]/form/p[3]/input').click()"
   ]
  },
  {
   "cell_type": "code",
   "execution_count": null,
   "metadata": {},
   "outputs": [],
   "source": [
    "time.sleep(5)\n",
    "driver.find_element_by_xpath('//*[@id=\"sheet\"]/ul/li[3]/a').click() # 팝업창 닫기"
   ]
  },
  {
   "cell_type": "code",
   "execution_count": null,
   "metadata": {},
   "outputs": [],
   "source": [
    "for lecture_url in LECTURE_URLS:\n",
    "    driver.get(lecture_url) # 브라우저 생성 및 url 호출\n",
    "    driver.execute_script('window.scrollTo(0, document.body.scrollHeight);') # 웹페이지 최하단까지 스크롤\n",
    "    time.sleep(2)\n",
    "    GetAllReviews(lecture_url, driver) # 데이터 수집"
   ]
  },
  {
   "cell_type": "code",
   "execution_count": null,
   "metadata": {},
   "outputs": [],
   "source": [
    "# 브라우저 종료\n",
    "driver.quit()"
   ]
  },
  {
   "cell_type": "code",
   "execution_count": null,
   "metadata": {},
   "outputs": [],
   "source": [
    "# 데이터셋 생성\n",
    "data = pd.DataFrame({'LectureUrl':lecture_urls, 'LectureName':lecture_names, 'LectureProf':professor_names, \n",
    "                     'ReviewStar':review_rates, 'ReviewSemester':review_semesters, 'ReviewText':review_texts})"
   ]
  },
  {
   "cell_type": "code",
   "execution_count": null,
   "metadata": {},
   "outputs": [],
   "source": [
    "# 데이터셋 확인\n",
    "data.info()"
   ]
  },
  {
   "cell_type": "code",
   "execution_count": null,
   "metadata": {},
   "outputs": [],
   "source": [
    "# ReviewStar 후처리\n",
    "data['ReviewStar'] = data['ReviewStar'].fillna('').apply(lambda x: re.findall('[0-9]+', x)[0] if x!='' else x)"
   ]
  },
  {
   "cell_type": "code",
   "execution_count": null,
   "metadata": {},
   "outputs": [],
   "source": [
    "# 데이터셋 저장\n",
    "data.to_csv('../data/2020LectureReview.csv')"
   ]
  }
 ],
 "metadata": {
  "kernelspec": {
   "display_name": "Python 3",
   "language": "python",
   "name": "python3"
  },
  "language_info": {
   "codemirror_mode": {
    "name": "ipython",
    "version": 3
   },
   "file_extension": ".py",
   "mimetype": "text/x-python",
   "name": "python",
   "nbconvert_exporter": "python",
   "pygments_lexer": "ipython3",
   "version": "3.8.5"
  }
 },
 "nbformat": 4,
 "nbformat_minor": 4
}
