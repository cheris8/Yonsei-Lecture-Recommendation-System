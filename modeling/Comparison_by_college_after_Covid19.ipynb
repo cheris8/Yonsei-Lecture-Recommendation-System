{
  "nbformat": 4,
  "nbformat_minor": 0,
  "metadata": {
    "colab": {
      "name": "Comparison_by_college_after_Covid19.ipynb",
      "provenance": [],
      "collapsed_sections": []
    },
    "kernelspec": {
      "name": "python3",
      "display_name": "Python 3"
    },
    "language_info": {
      "name": "python"
    }
  },
  "cells": [
    {
      "cell_type": "markdown",
      "metadata": {
        "id": "x4Qxmha9O-kU"
      },
      "source": [
        "COVID19 전후 단과대학별 강의평점 양상 비교\n",
        "\n",
        "필요한 dataset : after_covid19_dataset, before_covid19_dataset"
      ]
    },
    {
      "cell_type": "code",
      "metadata": {
        "colab": {
          "base_uri": "https://localhost:8080/"
        },
        "id": "60H98Dbmgo1o",
        "outputId": "f9953200-2dda-4b9a-d3e0-b0736aa7ff3c"
      },
      "source": [
        "#Plt 한글깨짐 현상 방지: 코랩용\n",
        "!sudo apt-get install -y fonts-nanum\n",
        "!sudo fc-cache -fv\n",
        "!rm ~/.cache/matplotlib -rf"
      ],
      "execution_count": 1,
      "outputs": [
        {
          "output_type": "stream",
          "text": [
            "Reading package lists... Done\n",
            "Building dependency tree       \n",
            "Reading state information... Done\n",
            "The following package was automatically installed and is no longer required:\n",
            "  libnvidia-common-460\n",
            "Use 'sudo apt autoremove' to remove it.\n",
            "The following NEW packages will be installed:\n",
            "  fonts-nanum\n",
            "0 upgraded, 1 newly installed, 0 to remove and 34 not upgraded.\n",
            "Need to get 9,604 kB of archives.\n",
            "After this operation, 29.5 MB of additional disk space will be used.\n",
            "Get:1 http://archive.ubuntu.com/ubuntu bionic/universe amd64 fonts-nanum all 20170925-1 [9,604 kB]\n",
            "Fetched 9,604 kB in 1s (8,358 kB/s)\n",
            "debconf: unable to initialize frontend: Dialog\n",
            "debconf: (No usable dialog-like program is installed, so the dialog based frontend cannot be used. at /usr/share/perl5/Debconf/FrontEnd/Dialog.pm line 76, <> line 1.)\n",
            "debconf: falling back to frontend: Readline\n",
            "debconf: unable to initialize frontend: Readline\n",
            "debconf: (This frontend requires a controlling tty.)\n",
            "debconf: falling back to frontend: Teletype\n",
            "dpkg-preconfigure: unable to re-open stdin: \n",
            "Selecting previously unselected package fonts-nanum.\n",
            "(Reading database ... 160706 files and directories currently installed.)\n",
            "Preparing to unpack .../fonts-nanum_20170925-1_all.deb ...\n",
            "Unpacking fonts-nanum (20170925-1) ...\n",
            "Setting up fonts-nanum (20170925-1) ...\n",
            "Processing triggers for fontconfig (2.12.6-0ubuntu2) ...\n",
            "/usr/share/fonts: caching, new cache contents: 0 fonts, 1 dirs\n",
            "/usr/share/fonts/truetype: caching, new cache contents: 0 fonts, 3 dirs\n",
            "/usr/share/fonts/truetype/humor-sans: caching, new cache contents: 1 fonts, 0 dirs\n",
            "/usr/share/fonts/truetype/liberation: caching, new cache contents: 16 fonts, 0 dirs\n",
            "/usr/share/fonts/truetype/nanum: caching, new cache contents: 10 fonts, 0 dirs\n",
            "/usr/local/share/fonts: caching, new cache contents: 0 fonts, 0 dirs\n",
            "/root/.local/share/fonts: skipping, no such directory\n",
            "/root/.fonts: skipping, no such directory\n",
            "/var/cache/fontconfig: cleaning cache directory\n",
            "/root/.cache/fontconfig: not cleaning non-existent cache directory\n",
            "/root/.fontconfig: not cleaning non-existent cache directory\n",
            "fc-cache: succeeded\n"
          ],
          "name": "stdout"
        }
      ]
    },
    {
      "cell_type": "code",
      "metadata": {
        "id": "lxpDQDtFPIDF"
      },
      "source": [
        "import pandas as pd\n",
        "import matplotlib.pyplot as plt\n",
        "import seaborn as sns\n",
        "%matplotlib inline \n",
        "# notebook을 실행한 브라우저에서 바로 그림을 볼 수 있게 해주는 코드"
      ],
      "execution_count": 2,
      "outputs": []
    },
    {
      "cell_type": "code",
      "metadata": {
        "colab": {
          "base_uri": "https://localhost:8080/",
          "height": 589
        },
        "id": "Y1TQc00FNZTT",
        "outputId": "ed8f6a35-4915-4e67-c068-d1ed84004dbd"
      },
      "source": [
        "#데이터셋\n",
        "after_data = pd.read_csv(\"after_covid19_dataset.csv\")\n",
        "before_data = pd.read_csv(\"before_covid19_dataset.csv\")\n",
        "after_data"
      ],
      "execution_count": 3,
      "outputs": [
        {
          "output_type": "execute_result",
          "data": {
            "text/html": [
              "<div>\n",
              "<style scoped>\n",
              "    .dataframe tbody tr th:only-of-type {\n",
              "        vertical-align: middle;\n",
              "    }\n",
              "\n",
              "    .dataframe tbody tr th {\n",
              "        vertical-align: top;\n",
              "    }\n",
              "\n",
              "    .dataframe thead th {\n",
              "        text-align: right;\n",
              "    }\n",
              "</style>\n",
              "<table border=\"1\" class=\"dataframe\">\n",
              "  <thead>\n",
              "    <tr style=\"text-align: right;\">\n",
              "      <th></th>\n",
              "      <th>LectureUrl</th>\n",
              "      <th>LectureName</th>\n",
              "      <th>LectureProf</th>\n",
              "      <th>ReviewStar</th>\n",
              "      <th>ReviewSemester</th>\n",
              "      <th>ReviewText</th>\n",
              "      <th>LectureId</th>\n",
              "      <th>College</th>\n",
              "    </tr>\n",
              "  </thead>\n",
              "  <tbody>\n",
              "    <tr>\n",
              "      <th>0</th>\n",
              "      <td>https://yonsei.everytime.kr/lecture/view/1600344</td>\n",
              "      <td>현대독일산문</td>\n",
              "      <td>이진영</td>\n",
              "      <td>100.0</td>\n",
              "      <td>20년 1학기 수강자</td>\n",
              "      <td>이번 학기에 들은 강의 중에 가장 좋았던 수업 중 하나. 교수님께서 학생들 많이 배...</td>\n",
              "      <td>GER2106-01-00</td>\n",
              "      <td>문과대학</td>\n",
              "    </tr>\n",
              "    <tr>\n",
              "      <th>1</th>\n",
              "      <td>https://yonsei.everytime.kr/lecture/view/1600344</td>\n",
              "      <td>현대독일산문</td>\n",
              "      <td>이진영</td>\n",
              "      <td>100.0</td>\n",
              "      <td>20년 1학기 수강자</td>\n",
              "      <td>책은 4~5권으로 한학기 나감. 일주일에 100쪽정도 분량 주시는 것 같고 솔직히 ...</td>\n",
              "      <td>GER2106-01-00</td>\n",
              "      <td>문과대학</td>\n",
              "    </tr>\n",
              "    <tr>\n",
              "      <th>2</th>\n",
              "      <td>https://yonsei.everytime.kr/lecture/view/1600344</td>\n",
              "      <td>현대독일산문</td>\n",
              "      <td>이진영</td>\n",
              "      <td>100.0</td>\n",
              "      <td>20년 1학기 수강자</td>\n",
              "      <td>이번 학기에 들은 강의 중에 가장 좋았던 수업 중 하나. 교수님께서 학생들 많이 배...</td>\n",
              "      <td>GER2106-01-00</td>\n",
              "      <td>문과대학</td>\n",
              "    </tr>\n",
              "    <tr>\n",
              "      <th>3</th>\n",
              "      <td>https://yonsei.everytime.kr/lecture/view/1600344</td>\n",
              "      <td>현대독일산문</td>\n",
              "      <td>이진영</td>\n",
              "      <td>100.0</td>\n",
              "      <td>20년 1학기 수강자</td>\n",
              "      <td>책은 4~5권으로 한학기 나감. 일주일에 100쪽정도 분량 주시는 것 같고 솔직히 ...</td>\n",
              "      <td>GER2106-01-00</td>\n",
              "      <td>문과대학</td>\n",
              "    </tr>\n",
              "    <tr>\n",
              "      <th>4</th>\n",
              "      <td>https://yonsei.everytime.kr/lecture/view/2179</td>\n",
              "      <td>서양사연습</td>\n",
              "      <td>전수연</td>\n",
              "      <td>100.0</td>\n",
              "      <td>20년 1학기 수강자</td>\n",
              "      <td>원래는 이런 강의평 한번도 쓴 적이 없지만 명색이 역사학자를 평가하는 일을 하는 수...</td>\n",
              "      <td>HIS4706-01-00</td>\n",
              "      <td>문과대학</td>\n",
              "    </tr>\n",
              "    <tr>\n",
              "      <th>...</th>\n",
              "      <td>...</td>\n",
              "      <td>...</td>\n",
              "      <td>...</td>\n",
              "      <td>...</td>\n",
              "      <td>...</td>\n",
              "      <td>...</td>\n",
              "      <td>...</td>\n",
              "      <td>...</td>\n",
              "    </tr>\n",
              "    <tr>\n",
              "      <th>16977</th>\n",
              "      <td>https://yonsei.everytime.kr/lecture/view/2164633</td>\n",
              "      <td>치수치료 II</td>\n",
              "      <td>김의성,김선일</td>\n",
              "      <td>100.0</td>\n",
              "      <td>20년 2학기 수강자</td>\n",
              "      <td>학생들과 많이 소통하시는 분입니다. 암기에 강하신 분보다 서술형에 강하신 분이 들으...</td>\n",
              "      <td>DEN2108-01-00</td>\n",
              "      <td>치과대학</td>\n",
              "    </tr>\n",
              "    <tr>\n",
              "      <th>16978</th>\n",
              "      <td>https://yonsei.everytime.kr/lecture/view/1604299</td>\n",
              "      <td>치과응급처치학</td>\n",
              "      <td>강정완</td>\n",
              "      <td>80.0</td>\n",
              "      <td>20년 1학기 수강자</td>\n",
              "      <td>빡센 수업발표 3번해야하고 + 중간고사 대체과제 + 기말고사 대체과제 + 최종연구 ...</td>\n",
              "      <td>DEN3130-01-00</td>\n",
              "      <td>치과대학</td>\n",
              "    </tr>\n",
              "    <tr>\n",
              "      <th>16979</th>\n",
              "      <td>https://yonsei.everytime.kr/lecture/view/2164647</td>\n",
              "      <td>졸업시험</td>\n",
              "      <td>최윤정</td>\n",
              "      <td>60.0</td>\n",
              "      <td>20년 2학기 수강자</td>\n",
              "      <td>수업 내용은 가볍고 넘 재밌었음근데 채점 기준 모르겠고 자잘한 과제 졸라 많아서 개...</td>\n",
              "      <td>DEN4126-01-00</td>\n",
              "      <td>치과대학</td>\n",
              "    </tr>\n",
              "    <tr>\n",
              "      <th>16980</th>\n",
              "      <td>https://yonsei.everytime.kr/lecture/view/109398</td>\n",
              "      <td>감염관리학</td>\n",
              "      <td>정일영</td>\n",
              "      <td>80.0</td>\n",
              "      <td>20년 2학기 수강자</td>\n",
              "      <td>무난하고 깔끔한 설명, 시험문제 쉬움, 빠르고 자세한 피드백, 학점은 비율 끊어서 ...</td>\n",
              "      <td>DEN3103-01-00</td>\n",
              "      <td>치과대학</td>\n",
              "    </tr>\n",
              "    <tr>\n",
              "      <th>16981</th>\n",
              "      <td>https://yonsei.everytime.kr/lecture/view/2073377</td>\n",
              "      <td>임상가철성국소의치학실습1</td>\n",
              "      <td>김지환</td>\n",
              "      <td>80.0</td>\n",
              "      <td>20년 2학기 수강자</td>\n",
              "      <td>조모임 위주로 진행되기 때문에 조원이 매우 중요. 조원 잘 만나면 크게 탈 없으나 ...</td>\n",
              "      <td>DEN3121-01-00</td>\n",
              "      <td>치과대학</td>\n",
              "    </tr>\n",
              "  </tbody>\n",
              "</table>\n",
              "<p>16982 rows × 8 columns</p>\n",
              "</div>"
            ],
            "text/plain": [
              "                                             LectureUrl  ... College\n",
              "0      https://yonsei.everytime.kr/lecture/view/1600344  ...    문과대학\n",
              "1      https://yonsei.everytime.kr/lecture/view/1600344  ...    문과대학\n",
              "2      https://yonsei.everytime.kr/lecture/view/1600344  ...    문과대학\n",
              "3      https://yonsei.everytime.kr/lecture/view/1600344  ...    문과대학\n",
              "4         https://yonsei.everytime.kr/lecture/view/2179  ...    문과대학\n",
              "...                                                 ...  ...     ...\n",
              "16977  https://yonsei.everytime.kr/lecture/view/2164633  ...    치과대학\n",
              "16978  https://yonsei.everytime.kr/lecture/view/1604299  ...    치과대학\n",
              "16979  https://yonsei.everytime.kr/lecture/view/2164647  ...    치과대학\n",
              "16980   https://yonsei.everytime.kr/lecture/view/109398  ...    치과대학\n",
              "16981  https://yonsei.everytime.kr/lecture/view/2073377  ...    치과대학\n",
              "\n",
              "[16982 rows x 8 columns]"
            ]
          },
          "metadata": {
            "tags": []
          },
          "execution_count": 3
        }
      ]
    },
    {
      "cell_type": "code",
      "metadata": {
        "id": "1pYMKfmhTmYL"
      },
      "source": [
        "# 1: before covid19\n",
        "liberal_arts_1 = before_data[(before_data['College'] == '문과대학')]\n",
        "commerce_1 = before_data[(before_data['College'] == '상경대학')]\n",
        "business_1 = before_data[(before_data['College'] == '경영대학')]\n",
        "science_1 = before_data[(before_data['College'] == '이과대학')]\n",
        "engineering_1 = before_data[(before_data['College'] == '공과대학')]\n",
        "bio_1 = before_data[(before_data['College'] == '생명시스템대학')]\n",
        "theology_1 = before_data[(before_data['College'] == '신과대학')]\n",
        "social_science_1 = before_data[(before_data['College'] == '사회과학대학')]\n",
        "music_1 = before_data[(before_data['College'] == '음악대학')]\n",
        "human_ecology_1 = before_data[(before_data['College'] == '생활과학대학')]\n",
        "educational_science_1 = before_data[(before_data['College'] == '교육과학대학')]\n",
        "nursing_1 = before_data[(before_data['College'] == '간호대학')]\n",
        "uic_1 = before_data[(before_data['College'] == '언더우드국제대학')]\n",
        "glc_1 = before_data[(before_data['College'] == '글로벌인재대학')]\n",
        "medicine_1 = before_data[(before_data['College'] == '의과대학')]\n",
        "dentistry_1 = before_data[(before_data['College'] == '치과대학')]"
      ],
      "execution_count": 4,
      "outputs": []
    },
    {
      "cell_type": "code",
      "metadata": {
        "id": "8TVPxQyXTCww"
      },
      "source": [
        "# 2: after covid19\n",
        "liberal_arts_2 = after_data[(after_data['College'] == '문과대학')]\n",
        "commerce_2 = after_data[(after_data['College'] == '상경대학')]\n",
        "business_2 = after_data[(after_data['College'] == '경영대학')]\n",
        "science_2 = after_data[(after_data['College'] == '이과대학')]\n",
        "engineering_2 = after_data[(after_data['College'] == '공과대학')]\n",
        "bio_2 = after_data[(after_data['College'] == '생명시스템대학')]\n",
        "theology_2 = after_data[(after_data['College'] == '신과대학')]\n",
        "social_science_2 = after_data[(after_data['College'] == '사회과학대학')]\n",
        "music_2 = after_data[(after_data['College'] == '음악대학')]\n",
        "human_ecology_2 = after_data[(after_data['College'] == '생활과학대학')]\n",
        "educational_science_2 = after_data[(after_data['College'] == '교육과학대학')]\n",
        "nursing_2 = after_data[(after_data['College'] == '간호대학')]\n",
        "uic_2 = after_data[(after_data['College'] == '언더우드국제대학')]\n",
        "glc_2 = after_data[(after_data['College'] == '글로벌인재대학')]\n",
        "medicine_2 = after_data[(after_data['College'] == '의과대학')]\n",
        "dentistry_2 = after_data[(after_data['College'] == '치과대학')]"
      ],
      "execution_count": 5,
      "outputs": []
    },
    {
      "cell_type": "code",
      "metadata": {
        "id": "asyecRGQTf5-"
      },
      "source": [
        "liberal_arts_2_mean = liberal_arts_2['ReviewStar'].mean()\n",
        "liberal_arts_1_mean = liberal_arts_1['ReviewStar'].mean()\n",
        "\n",
        "commerce_2_mean = commerce_2['ReviewStar'].mean()\n",
        "commerce_1_mean = commerce_1['ReviewStar'].mean()\n",
        "\n",
        "business_2_mean = business_2['ReviewStar'].mean()\n",
        "business_1_mean = business_1['ReviewStar'].mean()\n",
        "\n",
        "science_2_mean = science_2['ReviewStar'].mean()\n",
        "science_1_mean = science_1['ReviewStar'].mean() #코로나 이후가 평균 평점 더 낮은 단과대\n",
        "\n",
        "engineering_2_mean = engineering_2['ReviewStar'].mean()\n",
        "engineering_1_mean = engineering_1['ReviewStar'].mean() #코로나 이후가 평균 평점 더 낮은 단과대\n",
        "\n",
        "bio_2_mean = bio_2['ReviewStar'].mean()\n",
        "bio_1_mean = bio_1['ReviewStar'].mean()\n",
        "\n",
        "theology_2_mean = theology_2['ReviewStar'].mean()\n",
        "theology_1_mean = theology_1['ReviewStar'].mean()\n",
        "\n",
        "social_science_2_mean = social_science_2['ReviewStar'].mean()\n",
        "social_science_1_mean = social_science_1['ReviewStar'].mean()\n",
        "\n",
        "music_2_mean = music_2['ReviewStar'].mean()\n",
        "music_1_mean = music_1['ReviewStar'].mean() #코로나 이후가 평균 평점 더 낮은 단과대\n",
        "\n",
        "human_ecology_2_mean =human_ecology_2['ReviewStar'].mean()\n",
        "human_ecology_1_mean = human_ecology_1['ReviewStar'].mean()\n",
        "\n",
        "educational_science_2_mean = educational_science_2['ReviewStar'].mean()\n",
        "educational_science_1_mean = educational_science_1['ReviewStar'].mean() #코로나 이후가 평균 평점 더 낮은 단과대\n",
        "\n",
        "nursing_2_mean = nursing_2['ReviewStar'].mean()\n",
        "nursing_1_mean = nursing_1['ReviewStar'].mean() #코로나 이후가 평균 평점 더 낮은 단과대\n",
        "\n",
        "uic_2_mean =uic_2['ReviewStar'].mean()\n",
        "uic_1_mean = uic_1['ReviewStar'].mean()\n",
        "\n",
        "glc_2_mean = glc_2['ReviewStar'].mean()\n",
        "glc_1_mean = glc_1['ReviewStar'].mean()\n",
        "\n",
        "medicine_2_mean = medicine_2['ReviewStar'].mean()\n",
        "medicine_1_mean = medicine_1['ReviewStar'].mean()\n",
        "\n",
        "dentistry_2_mean = dentistry_2['ReviewStar'].mean()\n",
        "dentistry_1_mean =dentistry_1['ReviewStar'].mean() #코로나 이후가 압도적으로 평균평점이 높음. 왜? 데이터 수의 부재. before:22, after: 14"
      ],
      "execution_count": 6,
      "outputs": []
    },
    {
      "cell_type": "code",
      "metadata": {
        "colab": {
          "base_uri": "https://localhost:8080/"
        },
        "id": "QYCydeJKqXX3",
        "outputId": "521447e5-ec43-4f92-c26f-c8fe1054673d"
      },
      "source": [
        "print(\"문과대학\")\n",
        "print(\"코로나 이전 강의평점 평균:\" + str(liberal_arts_1_mean))\n",
        "print(\"코로나 이후 강의평점 평균:\" + str(liberal_arts_2_mean) + \"\\n\")\n",
        "\n",
        "\n",
        "print(\"상경대학\")\n",
        "print( \"코로나 이전 강의평점 평균:\" + str(commerce_1_mean))\n",
        "print(\"코로나 이후 강의평점 평균:\" + str(commerce_2_mean) + \"\\n\")\n",
        "\n",
        "print(\"경영대학\")\n",
        "print( \"코로나 이전 강의평점 평균:\" + str(business_1_mean))\n",
        "print(\"코로나 이후 강의평점 평균:\" + str(business_2_mean) + \"\\n\")\n",
        "\n",
        "print(\"이과대학\")\n",
        "print( \"코로나 이전 강의평점 평균:\" + str(science_1_mean))\n",
        "print(\"코로나 이후 강의평점 평균:\" + str(science_2_mean) + \"\\n\")\n",
        "\n",
        "print(\"공과대학\")\n",
        "print( \"코로나 이전 강의평점 평균:\" + str(engineering_1_mean))\n",
        "print(\"코로나 이후 강의평점 평균:\" + str(engineering_2_mean) + \"\\n\")\n",
        "\n",
        "print(\"생명시스템대학\")\n",
        "print( \"코로나 이전 강의평점 평균:\" + str(bio_1_mean)\n",
        ")\n",
        "print(\"코로나 이후 강의평점 평균:\" + str(bio_2_mean) + \"\\n\")\n",
        "\n",
        "print(\"신과대학\")\n",
        "print( \"코로나 이전 강의평점 평균:\" + str(theology_1_mean))\n",
        "print(\"코로나 이후 강의평점 평균:\" + str(theology_2_mean) + \"\\n\")\n",
        "\n",
        "print(\"사회과학대학\")\n",
        "print( \"코로나 이전 강의평점 평균:\" + str(social_science_1_mean))\n",
        "print(\"코로나 이후 강의평점 평균:\" + str(social_science_2_mean) + \"\\n\")\n",
        "\n",
        "print(\"음악대학\")\n",
        "print( \"코로나 이전 강의평점 평균:\" + str(music_1_mean))\n",
        "print(\"코로나 이후 강의평점 평균:\" + str(music_2_mean) + \"\\n\")\n",
        "\n",
        "print(\"생활과학대학\")\n",
        "print( \"코로나 이전 강의평점 평균:\" + str(human_ecology_1_mean))\n",
        "print(\"코로나 이후 강의평점 평균:\" + str(human_ecology_2_mean) + \"\\n\")\n",
        "\n",
        "print(\"교육과학대학\")\n",
        "print( \"코로나 이전 강의평점 평균:\" + str(educational_science_1_mean))\n",
        "print(\"코로나 이후 강의평점 평균:\" + str(educational_science_2_mean) + \"\\n\")\n",
        "\n",
        "print(\"간호대학\")\n",
        "print( \"코로나 이전 강의평점 평균:\" + str(nursing_1_mean))\n",
        "print(\"코로나 이후 강의평점 평균:\" + str(nursing_2_mean) + \"\\n\")\n",
        "\n",
        "print(\"언더우드국제대학\")\n",
        "print( \"코로나 이전 강의평점 평균:\" + str(uic_1_mean))\n",
        "print(\"코로나 이후 강의평점 평균:\" + str(uic_2_mean) + \"\\n\")\n",
        "\n",
        "print(\"글로벌인재대학\")\n",
        "print( \"코로나 이전 강의평점 평균:\" + str(glc_1_mean)\n",
        ")\n",
        "print(\"코로나 이후 강의평점 평균:\" + str(glc_2_mean) + \"\\n\")\n",
        "\n",
        "\n",
        "print(\"의과대학\")\n",
        "print( \"코로나 이전 강의평점 평균:\" + str(medicine_1_mean))\n",
        "print(\"코로나 이후 강의평점 평균:\" + str(medicine_2_mean) + \"\\n\")\n",
        "\n",
        "\n",
        "print(\"치과대학\")\n",
        "print( \"코로나 이전 강의평점 평균:\" + str(dentistry_1_mean))\n",
        "print(\"코로나 이후 강의평점 평균:\" + str(dentistry_2_mean) + \"\\n\")"
      ],
      "execution_count": 15,
      "outputs": [
        {
          "output_type": "stream",
          "text": [
            "문과대학\n",
            "코로나 이전 강의평점 평균:78.35149218379915\n",
            "코로나 이후 강의평점 평균:81.2759336099585\n",
            "\n",
            "상경대학\n",
            "코로나 이전 강의평점 평균:78.43548933288182\n",
            "코로나 이후 강의평점 평균:82.06455364931666\n",
            "\n",
            "경영대학\n",
            "코로나 이전 강의평점 평균:78.35257410296411\n",
            "코로나 이후 강의평점 평균:80.34077555816687\n",
            "\n",
            "이과대학\n",
            "코로나 이전 강의평점 평균:79.98113207547169\n",
            "코로나 이후 강의평점 평균:79.10733262486717\n",
            "\n",
            "공과대학\n",
            "코로나 이전 강의평점 평균:78.38028169014085\n",
            "코로나 이후 강의평점 평균:77.13366481427317\n",
            "\n",
            "생명시스템대학\n",
            "코로나 이전 강의평점 평균:68.6853448275862\n",
            "코로나 이후 강의평점 평균:75.88014981273409\n",
            "\n",
            "신과대학\n",
            "코로나 이전 강의평점 평균:78.0\n",
            "코로나 이후 강의평점 평균:84.61538461538461\n",
            "\n",
            "사회과학대학\n",
            "코로나 이전 강의평점 평균:74.45670628183362\n",
            "코로나 이후 강의평점 평균:78.85778275475924\n",
            "\n",
            "음악대학\n",
            "코로나 이전 강의평점 평균:83.63636363636364\n",
            "코로나 이후 강의평점 평균:75.83333333333333\n",
            "\n",
            "생활과학대학\n",
            "코로나 이전 강의평점 평균:72.18523878437048\n",
            "코로나 이후 강의평점 평균:78.28358208955224\n",
            "\n",
            "교육과학대학\n",
            "코로나 이전 강의평점 평균:81.3882863340564\n",
            "코로나 이후 강의평점 평균:78.01369863013699\n",
            "\n",
            "간호대학\n",
            "코로나 이전 강의평점 평균:70.2439024390244\n",
            "코로나 이후 강의평점 평균:66.66666666666667\n",
            "\n",
            "언더우드국제대학\n",
            "코로나 이전 강의평점 평균:72.40591397849462\n",
            "코로나 이후 강의평점 평균:76.79900744416874\n",
            "\n",
            "글로벌인재대학\n",
            "코로나 이전 강의평점 평균:81.45695364238411\n",
            "코로나 이후 강의평점 평균:82.39520958083833\n",
            "\n",
            "의과대학\n",
            "코로나 이전 강의평점 평균:73.71794871794872\n",
            "코로나 이후 강의평점 평균:75.0909090909091\n",
            "\n",
            "치과대학\n",
            "코로나 이전 강의평점 평균:69.0909090909091\n",
            "코로나 이후 강의평점 평균:84.28571428571429\n",
            "\n"
          ],
          "name": "stdout"
        }
      ]
    },
    {
      "cell_type": "code",
      "metadata": {
        "colab": {
          "base_uri": "https://localhost:8080/",
          "height": 782
        },
        "id": "pafE03YpSJOZ",
        "outputId": "5d1bca5c-ab42-4331-eb94-b9af2ca0dd03"
      },
      "source": [
        "# 시각화\n",
        "plt.rcParams[\"figure.figsize\"] = (18,12)\n",
        "plt.rcParams['lines.linewidth'] = 2\n",
        "plt.rcParams['lines.color'] = 'r'\n",
        "plt.rcParams['axes.grid'] = True \n",
        "\n",
        "# x축 : 단과대\n",
        "college = after_data['College'].unique()\n",
        "# 라인그래프1: 코로나 이전 강의평점\n",
        "before_covid19 = [liberal_arts_1_mean,commerce_1_mean,business_1_mean,science_1_mean,engineering_1_mean,bio_1_mean,theology_1_mean,social_science_1_mean,music_1_mean,human_ecology_1_mean,educational_science_1_mean,nursing_1_mean,uic_1_mean,glc_1_mean,medicine_1_mean,dentistry_1_mean]\n",
        "# 라인그래프2: 코로나 이후 강의평점\n",
        "after_covid19 = [liberal_arts_2_mean,commerce_2_mean,business_2_mean,science_2_mean,engineering_2_mean,bio_2_mean,theology_2_mean,social_science_2_mean,music_2_mean,human_ecology_2_mean,educational_science_2_mean,nursing_2_mean,uic_2_mean,glc_2_mean,medicine_2_mean,dentistry_2_mean]\n",
        "\n",
        "# 코로나 이전 강의평점을 그래프로 그립니다.\n",
        "before_line_plot = plt.plot(college, before_covid19,color='#b5f0a5',marker='o',markersize=10,markeredgewidth=3,label='before')\n",
        "before_line_plot = before_line_plot[0] ## 선 그래프 요소\n",
        "\n",
        "bbox = dict( ## 텍스트 박스 스타일 지정\n",
        "    boxstyle='square', # 박스 모양\n",
        "    facecolor='#b5f0a5', # 박스 배경색\n",
        ")\n",
        " \n",
        "for coord in list(before_line_plot.get_xydata()):\n",
        "    plt.text(coord[0],coord[1]+0.5,f'{round(coord[1],2)}',fontsize=9.5, ha='center', bbox=bbox) ## 선 그래프 텍스트\n",
        "\n",
        "# 같은 그림에 코로나 이후 강의평점도 그래프로 그립니다\n",
        "after_line_plot = plt.plot(college, after_covid19,color='#ff8a82',linestyle='--',linewidth=4,marker='o',markersize=10,markeredgewidth=3,label='after')\n",
        "after_line_plot = after_line_plot[0] ## 선 그래프 요소\n",
        "\n",
        "bbbox = dict( ## 텍스트 박스 스타일 지정\n",
        "    boxstyle='square', # 박스 모양\n",
        "    facecolor='#ff8a82', # 박스 배경색\n",
        ")\n",
        " \n",
        "for coord in list(after_line_plot.get_xydata()):\n",
        "    plt.text(coord[0],coord[1]+0.5,f'{round(coord[1],2)}',fontsize=9.5, ha='center', bbox=bbbox) ## 선 그래프 텍스트\n",
        "\n",
        "plt.yticks(fontsize=12)\n",
        "plt.xticks(rotation=45,fontsize=12) ## x축 눈금 라벨 설정 - 45도 회전\n",
        "plt.title('코로나 전후 단과대학별 강의평점 비교',fontsize=20) ## 타이틀 설정\n",
        "\n",
        "# 한글 폰트 사용을 위해서 세팅\n",
        "plt.rc('font', family='NanumBarunGothic') \n",
        "\n",
        "# 화면에 그래프를 보여줍니다\n",
        "plt.show()"
      ],
      "execution_count": null,
      "outputs": [
        {
          "output_type": "display_data",
          "data": {
            "image/png": "[encoded data removed]",
            "text/plain": [
              "<Figure size 1296x864 with 1 Axes>"
            ]
          },
          "metadata": {
            "tags": [],
            "needs_background": "light"
          }
        }
      ]
    },
    {
      "cell_type": "markdown",
      "metadata": {
        "id": "uc506YbfhpsI"
      },
      "source": [
        "분석 결과, 20-1학기 이후 대부분의 단과대에서 평균 강의 평점이 높아졌지만,\n",
        "\n",
        "**이과대학, 공과대학, 음악대학, 교육과학대학, 간호대학\n",
        "\n",
        "에서는 covid-19이후 평균 강의 평점이 하락하는 양상을 확인할 수 있었습니다."
      ]
    },
    {
      "cell_type": "markdown",
      "metadata": {
        "id": "glBQlKxUuk8a"
      },
      "source": [
        "-----\n",
        "krwordrank: reviewText 중요 문장 추출 후 확인하기"
      ]
    },
    {
      "cell_type": "code",
      "metadata": {
        "colab": {
          "base_uri": "https://localhost:8080/"
        },
        "id": "fPSGvp_lOqCf",
        "outputId": "231b7f7d-f778-4166-818b-0d156a34343a"
      },
      "source": [
        "!pip install krwordrank"
      ],
      "execution_count": null,
      "outputs": [
        {
          "output_type": "stream",
          "text": [
            "Requirement already satisfied: krwordrank in /usr/local/lib/python3.7/dist-packages (1.0.3)\n",
            "Requirement already satisfied: numpy>=1.18.4 in /usr/local/lib/python3.7/dist-packages (from krwordrank) (1.19.5)\n",
            "Requirement already satisfied: scikit-learn>=0.22.1 in /usr/local/lib/python3.7/dist-packages (from krwordrank) (0.22.2.post1)\n",
            "Requirement already satisfied: scipy>=1.4.1 in /usr/local/lib/python3.7/dist-packages (from krwordrank) (1.4.1)\n",
            "Requirement already satisfied: joblib>=0.11 in /usr/local/lib/python3.7/dist-packages (from scikit-learn>=0.22.1->krwordrank) (1.0.1)\n"
          ],
          "name": "stdout"
        }
      ]
    },
    {
      "cell_type": "code",
      "metadata": {
        "id": "G3I7vKtklSMx"
      },
      "source": [
        "is_test_2_ = science_2['ReviewStar'] <= 40 #이과대학의 코로나 이후 부정 리뷰를 확인해 봅시다.\n",
        "test_2_ = science_2[is_test_2_]\n",
        "test_2 = test_2_['ReviewText'].values "
      ],
      "execution_count": null,
      "outputs": []
    },
    {
      "cell_type": "code",
      "metadata": {
        "id": "baLetLq_lG73"
      },
      "source": [
        "from krwordrank.sentence import summarize_with_sentences #주요 키워드 추출 기반 주요 문장 추출\n",
        "\n",
        "texts = test_2\n",
        "\n",
        "penalty = lambda x:0 if (25 <= len(x) <= 150) else 1\n",
        "stopwords = {'것은','것이','경우','그리고','근데','때문에','아니','아무리','이거','이걸','이런','이번'}\n",
        "\n",
        "keywords, sents = summarize_with_sentences(\n",
        "    texts,\n",
        "    penalty=penalty,\n",
        "    stopwords = stopwords,\n",
        "    diversity=0.5,\n",
        "    num_keywords=100,\n",
        "    num_keysents=10,\n",
        "    verbose=False\n",
        ")"
      ],
      "execution_count": null,
      "outputs": []
    },
    {
      "cell_type": "code",
      "metadata": {
        "colab": {
          "base_uri": "https://localhost:8080/"
        },
        "id": "og2SNbPCvgR5",
        "outputId": "a0f3f1fc-6362-4fb4-fa82-15aab82bf0d6"
      },
      "source": [
        "sents #주요 문장 확인"
      ],
      "execution_count": null,
      "outputs": [
        {
          "output_type": "execute_result",
          "data": {
            "text/plain": [
              "['코로나 비대면 학기 기준으로 퀴즈 3번 보고 기말 1번 봤음교수님이 영어로 수업하시기는 하지만 충분히 듣고 이해할 수 있음 하지만 강의력이 좋은 편은 아님. 기말이 논술형이라 점수가 예상보다 못나오는 경우가 많고 상대평가여서 타 미적벡 수업에 비해 학점을 따기가 힘들다',\n",
              " '싸강 한정일지 모르겠지만매주 두번 퀴즈보는날에도 있고 채점도 매번하는 악랄한 과제+온라인 퀴즈 네번+전범위 기말 시험+절평 100점기준 85점 이상이어야 에이 받는 깐깐함..한학기 내내 공학 수학만 한 기분이네요 너무 하십니다 정말',\n",
              " '아무리 싸강이라고해도 프로그래밍으로 중간고사를 대체해버리는게 이해가 잘 안갑니다.  숙제는 매~우 많고 강의랑 책이랑 노트랑 다 따로따로 노는 느낌. 다른교수님 수업 듣고싶네요. 조교님은 바쁘셔서 과제가 거의 한달?뒤에 채점되서 나옵니다.',\n",
              " '수업을 한번도 안해서 교수님 얼굴도 목소리도 모르는건 둘째치고 피피티 수업자료도 끝까지 다 안올려주심. 대면 강의 하실때는 어떨지 몰라도 비대면때는 비추... 그래도 수업 없어서 다른 분반과 다르게 추가 과제는 없었음^^',\n",
              " '꼭 들어야하는 경우가 아니면 비추천입니다. 우선 수업 시간이 너무 길어서 듣는 것 자체가 힘들었고 시험도 부분 점수가 거의 없어요ㅠ어려운 내용은 아니지만 한 학기동안 좋은 기억은 별로 없네요',\n",
              " '강의를 올리신적이 없어서 교수님 얼굴 손 글씨도 본 적 없습니다 최악이었습니다 과제는 모든 교수님 공통적으로 정말정말 많습니다 성적은 매우 잘 받아가지만 순전히 혼자 독학한겁니다 공물은 정말 독학이라는 것을 깨달았습니다 (제가 수강한 학기는 싸강임을 고려해야 합니다)',\n",
              " '밑에 있는 강의평들 다 동의합니다. 제일 큰 문제가 교수님 글씨체를 알아볼 수 없고 강의 중에 정말정말 실수를 많이 하셔서 수업 듣기 힘들었습니다.',\n",
              " '조교님이 일단 너무하시다 중간고사를 보는데 중간대체 과제가 3개나 나오고 채점또한 엄격하게 하신다. 수업에 대한 피드백은 전혀 없고 그저 과제만 주구장창 내는 수업방식. 수업에 대한 이해를 할 시간적 여유도 없이 과제만 겨우 시간맞춰 제출하는게 반복된다.',\n",
              " '강의가 없음;신입생을 위한 대학물리 첫걸음이란 영상으로 대충 보고 배우라는데 정말 대학을 온게 아니라 그냥 돈내고 학점 발급받는 느낌.물론 싸강이라 어쩔수 없는 면도 있긴 하겠지만 교수님이 이렇게 아무것도 안하고 배째라 하는건 무시못함.',\n",
              " '중간 대체과제3개. 중간 대체 퀴즈(사실상 중간고사) 내주시고  기말고사는 또 전범위프로그래밍 과제를 내주면서 설명도 안해주는건 처음 봤다. 교수님 맨날 두시간 다 채워서 수업하시지도 않는데 왜 남는 시간에 기본적인 프로그래밍 설명이 없었는지는 도무지 이해할 수 없다.']"
            ]
          },
          "metadata": {
            "tags": []
          },
          "execution_count": 142
        }
      ]
    },
    {
      "cell_type": "code",
      "metadata": {
        "colab": {
          "base_uri": "https://localhost:8080/"
        },
        "id": "7n6Mbkvcvuks",
        "outputId": "912504f2-84c6-4e1b-c170-5128aeef9965"
      },
      "source": [
        "for word, r in sorted(keywords.items(), key=lambda x:x[1], reverse=True)[:50]:\n",
        "        print('%8s:\\t%.4f' % (word, r))"
      ],
      "execution_count": null,
      "outputs": [
        {
          "output_type": "stream",
          "text": [
            "      수업:\t12.7120\n",
            "      강의:\t11.2413\n",
            "     교수님:\t10.8330\n",
            "      과제:\t8.6857\n",
            "      너무:\t8.5522\n",
            "      퀴즈:\t8.3223\n",
            "      그냥:\t7.5400\n",
            "      정말:\t6.5464\n",
            "      시험:\t5.6646\n",
            "      다른:\t5.3012\n",
            "      매우:\t5.1172\n",
            "      진짜:\t5.0354\n",
            "      매주:\t3.9193\n",
            "      시간:\t3.4044\n",
            "      문제:\t3.2604\n",
            "      학점:\t3.2421\n",
            "      거의:\t3.1183\n",
            "      하는:\t3.1053\n",
            "      점수:\t2.8028\n",
            "      많이:\t2.7705\n",
            "      학기:\t2.7663\n",
            "      대한:\t2.7483\n",
            "      학생:\t2.7376\n",
            "     비대면:\t2.6930\n",
            "      절대:\t2.6777\n",
            "      과목:\t2.6355\n",
            "      기말:\t2.5888\n",
            "      있는:\t2.5121\n",
            "      내용:\t2.5116\n",
            "      공부:\t2.4200\n",
            "      생각:\t2.3050\n",
            "      공지:\t2.2927\n",
            "      성적:\t2.2591\n",
            "      사람:\t2.1921\n",
            "      혼자:\t2.1859\n",
            "      듣지:\t2.1614\n",
            "      물리:\t2.1462\n",
            "      싸강:\t2.1153\n",
            "      제일:\t2.1044\n",
            "      대충:\t2.0906\n",
            "      코딩:\t2.0559\n",
            "      전혀:\t1.9705\n",
            "     어려운:\t1.9613\n",
            "      없는:\t1.9581\n",
            "      많은:\t1.9249\n",
            "      그런:\t1.8893\n",
            "      올려:\t1.8796\n",
            "      채점:\t1.8547\n",
            "     최악의:\t1.8532\n",
            "      모르:\t1.8255\n"
          ],
          "name": "stdout"
        }
      ]
    },
    {
      "cell_type": "code",
      "metadata": {
        "id": "4Q7ftsiUvOUh"
      },
      "source": [
        ""
      ],
      "execution_count": null,
      "outputs": []
    }
  ]
}