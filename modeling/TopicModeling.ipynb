{
 "cells": [
  {
   "cell_type": "markdown",
   "metadata": {},
   "source": [
    "# 코로나19 전/후 강의평 비교 분석"
   ]
  },
  {
   "cell_type": "code",
   "execution_count": 1,
   "metadata": {},
   "outputs": [],
   "source": [
    "import warnings\n",
    "warnings.filterwarnings(action='ignore')"
   ]
  },
  {
   "cell_type": "code",
   "execution_count": 2,
   "metadata": {},
   "outputs": [],
   "source": [
    "# load libs\n",
    "import pandas as pd\n",
    "import numpy as np\n",
    "import seaborn as sns\n",
    "import matplotlib.pyplot as plt\n",
    "%matplotlib inline\n",
    "\n",
    "from collections import Counter\n",
    "\n",
    "from utils import *"
   ]
  },
  {
   "cell_type": "code",
   "execution_count": 3,
   "metadata": {},
   "outputs": [],
   "source": [
    "# load dataset\n",
    "data = pd.read_csv('../data/2020LectureReview.csv', index_col=0)"
   ]
  },
  {
   "cell_type": "code",
   "execution_count": 4,
   "metadata": {},
   "outputs": [],
   "source": [
    "# make before/after COVID-19 column\n",
    "data['COVID-19'] = data['ReviewSemester'].apply(lambda x: 'before' if x not in ['20년 1학기 수강자', '20년 2학기 수강자'] else 'after')"
   ]
  },
  {
   "cell_type": "code",
   "execution_count": 5,
   "metadata": {},
   "outputs": [
    {
     "data": {
      "text/html": [
       "<div>\n",
       "<style scoped>\n",
       "    .dataframe tbody tr th:only-of-type {\n",
       "        vertical-align: middle;\n",
       "    }\n",
       "\n",
       "    .dataframe tbody tr th {\n",
       "        vertical-align: top;\n",
       "    }\n",
       "\n",
       "    .dataframe thead th {\n",
       "        text-align: right;\n",
       "    }\n",
       "</style>\n",
       "<table border=\"1\" class=\"dataframe\">\n",
       "  <thead>\n",
       "    <tr style=\"text-align: right;\">\n",
       "      <th></th>\n",
       "      <th>LectureUrl</th>\n",
       "      <th>LectureName</th>\n",
       "      <th>LectureProf</th>\n",
       "      <th>ReviewStar</th>\n",
       "      <th>ReviewSemester</th>\n",
       "      <th>ReviewText</th>\n",
       "      <th>COVID-19</th>\n",
       "    </tr>\n",
       "  </thead>\n",
       "  <tbody>\n",
       "    <tr>\n",
       "      <th>0</th>\n",
       "      <td>https://yonsei.everytime.kr/lecture/view/3640</td>\n",
       "      <td>INTERNATIONAL MONEY AND CAPITAL MARKETS</td>\n",
       "      <td>함준호</td>\n",
       "      <td>100.0</td>\n",
       "      <td>20년 1학기 수강자</td>\n",
       "      <td>시험 잘 멋본 것 같은데 에이제로 떠서 놀람 감사합니다 교수님</td>\n",
       "      <td>after</td>\n",
       "    </tr>\n",
       "    <tr>\n",
       "      <th>1</th>\n",
       "      <td>https://yonsei.everytime.kr/lecture/view/3640</td>\n",
       "      <td>INTERNATIONAL MONEY AND CAPITAL MARKETS</td>\n",
       "      <td>함준호</td>\n",
       "      <td>80.0</td>\n",
       "      <td>20년 1학기 수강자</td>\n",
       "      <td>에 뭐,,, 그냥 괜찮았는데 자습기간을 안 주고 전범위 시험본다그러니까 당황스러웠네...</td>\n",
       "      <td>after</td>\n",
       "    </tr>\n",
       "    <tr>\n",
       "      <th>2</th>\n",
       "      <td>https://yonsei.everytime.kr/lecture/view/3640</td>\n",
       "      <td>INTERNATIONAL MONEY AND CAPITAL MARKETS</td>\n",
       "      <td>함준호</td>\n",
       "      <td>80.0</td>\n",
       "      <td>19년 1학기 수강자</td>\n",
       "      <td>한국은행 금융통화위원을 지내고 오신 교수님이시라 그런지 간간히 들려주시는 교수님의 ...</td>\n",
       "      <td>before</td>\n",
       "    </tr>\n",
       "    <tr>\n",
       "      <th>3</th>\n",
       "      <td>https://yonsei.everytime.kr/lecture/view/3640</td>\n",
       "      <td>INTERNATIONAL MONEY AND CAPITAL MARKETS</td>\n",
       "      <td>함준호</td>\n",
       "      <td>100.0</td>\n",
       "      <td>19년 1학기 수강자</td>\n",
       "      <td>교수님 너무 똑똑하시고 피피티 위주로 수업하시기는 하는데 현장경험이 풍부하셔서 그런...</td>\n",
       "      <td>before</td>\n",
       "    </tr>\n",
       "    <tr>\n",
       "      <th>4</th>\n",
       "      <td>https://yonsei.everytime.kr/lecture/view/943471</td>\n",
       "      <td>학교교실의현장연구방법입문</td>\n",
       "      <td>박순용</td>\n",
       "      <td>80.0</td>\n",
       "      <td>20년 1학기 수강자</td>\n",
       "      <td>매주 온라인 강의를 늦게 올려주셔서 불편했지만 수업 내용은 무난하고 좋았습니다. 매...</td>\n",
       "      <td>after</td>\n",
       "    </tr>\n",
       "  </tbody>\n",
       "</table>\n",
       "</div>"
      ],
      "text/plain": [
       "                                        LectureUrl  \\\n",
       "0    https://yonsei.everytime.kr/lecture/view/3640   \n",
       "1    https://yonsei.everytime.kr/lecture/view/3640   \n",
       "2    https://yonsei.everytime.kr/lecture/view/3640   \n",
       "3    https://yonsei.everytime.kr/lecture/view/3640   \n",
       "4  https://yonsei.everytime.kr/lecture/view/943471   \n",
       "\n",
       "                               LectureName LectureProf  ReviewStar  \\\n",
       "0  INTERNATIONAL MONEY AND CAPITAL MARKETS         함준호       100.0   \n",
       "1  INTERNATIONAL MONEY AND CAPITAL MARKETS         함준호        80.0   \n",
       "2  INTERNATIONAL MONEY AND CAPITAL MARKETS         함준호        80.0   \n",
       "3  INTERNATIONAL MONEY AND CAPITAL MARKETS         함준호       100.0   \n",
       "4                            학교교실의현장연구방법입문         박순용        80.0   \n",
       "\n",
       "  ReviewSemester                                         ReviewText COVID-19  \n",
       "0    20년 1학기 수강자                 시험 잘 멋본 것 같은데 에이제로 떠서 놀람 감사합니다 교수님    after  \n",
       "1    20년 1학기 수강자  에 뭐,,, 그냥 괜찮았는데 자습기간을 안 주고 전범위 시험본다그러니까 당황스러웠네...    after  \n",
       "2    19년 1학기 수강자  한국은행 금융통화위원을 지내고 오신 교수님이시라 그런지 간간히 들려주시는 교수님의 ...   before  \n",
       "3    19년 1학기 수강자  교수님 너무 똑똑하시고 피피티 위주로 수업하시기는 하는데 현장경험이 풍부하셔서 그런...   before  \n",
       "4    20년 1학기 수강자  매주 온라인 강의를 늦게 올려주셔서 불편했지만 수업 내용은 무난하고 좋았습니다. 매...    after  "
      ]
     },
     "execution_count": 5,
     "metadata": {},
     "output_type": "execute_result"
    }
   ],
   "source": [
    "data.head()"
   ]
  },
  {
   "cell_type": "markdown",
   "metadata": {},
   "source": [
    "## Task1 : 전체 강의평에 대하여 토픽 모델링 진행 후 코로나 전/후 강의평 토픽 비교"
   ]
  },
  {
   "cell_type": "markdown",
   "metadata": {},
   "source": [
    "### Preprocessing"
   ]
  },
  {
   "cell_type": "code",
   "execution_count": 6,
   "metadata": {},
   "outputs": [
    {
     "data": {
      "text/html": [
       "<div>\n",
       "<style scoped>\n",
       "    .dataframe tbody tr th:only-of-type {\n",
       "        vertical-align: middle;\n",
       "    }\n",
       "\n",
       "    .dataframe tbody tr th {\n",
       "        vertical-align: top;\n",
       "    }\n",
       "\n",
       "    .dataframe thead th {\n",
       "        text-align: right;\n",
       "    }\n",
       "</style>\n",
       "<table border=\"1\" class=\"dataframe\">\n",
       "  <thead>\n",
       "    <tr style=\"text-align: right;\">\n",
       "      <th></th>\n",
       "      <th>LectureUrl</th>\n",
       "      <th>LectureName</th>\n",
       "      <th>LectureProf</th>\n",
       "      <th>ReviewStar</th>\n",
       "      <th>ReviewSemester</th>\n",
       "      <th>ReviewText</th>\n",
       "      <th>COVID-19</th>\n",
       "      <th>TextPreprocessed</th>\n",
       "      <th>TokenCnt</th>\n",
       "    </tr>\n",
       "  </thead>\n",
       "  <tbody>\n",
       "    <tr>\n",
       "      <th>0</th>\n",
       "      <td>https://yonsei.everytime.kr/lecture/view/3640</td>\n",
       "      <td>INTERNATIONAL MONEY AND CAPITAL MARKETS</td>\n",
       "      <td>함준호</td>\n",
       "      <td>100.0</td>\n",
       "      <td>20년 1학기 수강자</td>\n",
       "      <td>시험 잘 멋본 것 같은데 에이제로 떠서 놀람 감사합니다 교수님</td>\n",
       "      <td>after</td>\n",
       "      <td>시험 이제 떠서 놀람 감사 교수</td>\n",
       "      <td>6</td>\n",
       "    </tr>\n",
       "    <tr>\n",
       "      <th>1</th>\n",
       "      <td>https://yonsei.everytime.kr/lecture/view/3640</td>\n",
       "      <td>INTERNATIONAL MONEY AND CAPITAL MARKETS</td>\n",
       "      <td>함준호</td>\n",
       "      <td>80.0</td>\n",
       "      <td>20년 1학기 수강자</td>\n",
       "      <td>에 뭐,,, 그냥 괜찮았는데 자습기간을 안 주고 전범위 시험본다그러니까 당황스러웠네...</td>\n",
       "      <td>after</td>\n",
       "      <td>그냥 괜찮 자습 기간 범위 시험 본다 그러니까 당황 스러웠 교수 똑똑 나쁘 다만 시...</td>\n",
       "      <td>21</td>\n",
       "    </tr>\n",
       "    <tr>\n",
       "      <th>2</th>\n",
       "      <td>https://yonsei.everytime.kr/lecture/view/3640</td>\n",
       "      <td>INTERNATIONAL MONEY AND CAPITAL MARKETS</td>\n",
       "      <td>함준호</td>\n",
       "      <td>80.0</td>\n",
       "      <td>19년 1학기 수강자</td>\n",
       "      <td>한국은행 금융통화위원을 지내고 오신 교수님이시라 그런지 간간히 들려주시는 교수님의 ...</td>\n",
       "      <td>before</td>\n",
       "      <td>한국은행 금융 통화 위원 지내 교수 그런지 간간히 들려 교수 현장 쏠쏠 재미 중간고...</td>\n",
       "      <td>41</td>\n",
       "    </tr>\n",
       "    <tr>\n",
       "      <th>3</th>\n",
       "      <td>https://yonsei.everytime.kr/lecture/view/3640</td>\n",
       "      <td>INTERNATIONAL MONEY AND CAPITAL MARKETS</td>\n",
       "      <td>함준호</td>\n",
       "      <td>100.0</td>\n",
       "      <td>19년 1학기 수강자</td>\n",
       "      <td>교수님 너무 똑똑하시고 피피티 위주로 수업하시기는 하는데 현장경험이 풍부하셔서 그런...</td>\n",
       "      <td>before</td>\n",
       "      <td>교수 똑똑 피피티 위주 현장 경험 풍부 그런지 설명</td>\n",
       "      <td>9</td>\n",
       "    </tr>\n",
       "    <tr>\n",
       "      <th>4</th>\n",
       "      <td>https://yonsei.everytime.kr/lecture/view/943471</td>\n",
       "      <td>학교교실의현장연구방법입문</td>\n",
       "      <td>박순용</td>\n",
       "      <td>80.0</td>\n",
       "      <td>20년 1학기 수강자</td>\n",
       "      <td>매주 온라인 강의를 늦게 올려주셔서 불편했지만 수업 내용은 무난하고 좋았습니다. 매...</td>\n",
       "      <td>after</td>\n",
       "      <td>매주 온라인 강의 올려 불편 내용 무난 매주 출석 과제 기말 연구 보고서 기말 온라...</td>\n",
       "      <td>44</td>\n",
       "    </tr>\n",
       "  </tbody>\n",
       "</table>\n",
       "</div>"
      ],
      "text/plain": [
       "                                        LectureUrl  \\\n",
       "0    https://yonsei.everytime.kr/lecture/view/3640   \n",
       "1    https://yonsei.everytime.kr/lecture/view/3640   \n",
       "2    https://yonsei.everytime.kr/lecture/view/3640   \n",
       "3    https://yonsei.everytime.kr/lecture/view/3640   \n",
       "4  https://yonsei.everytime.kr/lecture/view/943471   \n",
       "\n",
       "                               LectureName LectureProf  ReviewStar  \\\n",
       "0  INTERNATIONAL MONEY AND CAPITAL MARKETS         함준호       100.0   \n",
       "1  INTERNATIONAL MONEY AND CAPITAL MARKETS         함준호        80.0   \n",
       "2  INTERNATIONAL MONEY AND CAPITAL MARKETS         함준호        80.0   \n",
       "3  INTERNATIONAL MONEY AND CAPITAL MARKETS         함준호       100.0   \n",
       "4                            학교교실의현장연구방법입문         박순용        80.0   \n",
       "\n",
       "  ReviewSemester                                         ReviewText COVID-19  \\\n",
       "0    20년 1학기 수강자                 시험 잘 멋본 것 같은데 에이제로 떠서 놀람 감사합니다 교수님    after   \n",
       "1    20년 1학기 수강자  에 뭐,,, 그냥 괜찮았는데 자습기간을 안 주고 전범위 시험본다그러니까 당황스러웠네...    after   \n",
       "2    19년 1학기 수강자  한국은행 금융통화위원을 지내고 오신 교수님이시라 그런지 간간히 들려주시는 교수님의 ...   before   \n",
       "3    19년 1학기 수강자  교수님 너무 똑똑하시고 피피티 위주로 수업하시기는 하는데 현장경험이 풍부하셔서 그런...   before   \n",
       "4    20년 1학기 수강자  매주 온라인 강의를 늦게 올려주셔서 불편했지만 수업 내용은 무난하고 좋았습니다. 매...    after   \n",
       "\n",
       "                                    TextPreprocessed  TokenCnt  \n",
       "0                                  시험 이제 떠서 놀람 감사 교수         6  \n",
       "1  그냥 괜찮 자습 기간 범위 시험 본다 그러니까 당황 스러웠 교수 똑똑 나쁘 다만 시...        21  \n",
       "2  한국은행 금융 통화 위원 지내 교수 그런지 간간히 들려 교수 현장 쏠쏠 재미 중간고...        41  \n",
       "3                       교수 똑똑 피피티 위주 현장 경험 풍부 그런지 설명         9  \n",
       "4  매주 온라인 강의 올려 불편 내용 무난 매주 출석 과제 기말 연구 보고서 기말 온라...        44  "
      ]
     },
     "execution_count": 6,
     "metadata": {},
     "output_type": "execute_result"
    }
   ],
   "source": [
    "data_, text_tokenized_ = Preprocessor(data, list(data['ReviewText'].values))\n",
    "data_.head()"
   ]
  },
  {
   "cell_type": "markdown",
   "metadata": {},
   "source": [
    "### Topic Modeling (LDA)"
   ]
  },
  {
   "cell_type": "code",
   "execution_count": 7,
   "metadata": {
    "scrolled": true
   },
   "outputs": [
    {
     "name": "stdout",
     "output_type": "stream",
     "text": [
      "========== Topic List ==========\n",
      "(0, '0.089*\"학점\" + 0.049*\"강의\" + 0.037*\"과목\" + 0.036*\"무조건\" + 0.034*\"그냥\"')\n",
      "(1, '0.028*\"사람\" + 0.028*\"모르\" + 0.025*\"그냥\" + 0.020*\"교수\" + 0.018*\"아니\"')\n",
      "(2, '0.077*\"강의\" + 0.054*\"영상\" + 0.038*\"동영상\" + 0.032*\"올려\" + 0.026*\"질문\"')\n",
      "(3, '0.061*\"과제\" + 0.037*\"모임\" + 0.031*\"교수\" + 0.024*\"학점\" + 0.023*\"부담\"')\n",
      "(4, '0.081*\"내용\" + 0.024*\"흥미\" + 0.021*\"문제\" + 0.017*\"주제\" + 0.017*\"논문\"')\n",
      "(5, '0.091*\"시험\" + 0.047*\"공부\" + 0.035*\"피피티\" + 0.031*\"필기\" + 0.027*\"외우\"')\n",
      "(6, '0.082*\"영어\" + 0.049*\"교수\" + 0.044*\"강의\" + 0.039*\"조교\" + 0.022*\"독학\"')\n",
      "(7, '0.099*\"ㅋㅋ\" + 0.081*\"ㅋㅋㅋ\" + 0.049*\"the\" + 0.042*\"to\" + 0.028*\"and\"')\n",
      "(8, '0.115*\"출석\" + 0.080*\"출결\" + 0.027*\"체크\" + 0.025*\"결석\" + 0.021*\"부르\"')\n",
      "(9, '0.064*\"강의\" + 0.039*\"학기\" + 0.038*\"기준\" + 0.038*\"과제\" + 0.034*\"성적\"')\n",
      "(10, '0.080*\"문제\" + 0.069*\"시험\" + 0.026*\"점수\" + 0.019*\"퀴즈\" + 0.019*\"공부\"')\n",
      "(11, '0.070*\"시간\" + 0.040*\"발표\" + 0.015*\"교수\" + 0.015*\"토론\" + 0.012*\"주제\"')\n",
      "(12, '0.168*\"교수\" + 0.053*\"학생\" + 0.025*\"친절\" + 0.022*\"강의\" + 0.016*\"려고\"')\n",
      "(13, '0.045*\"교수\" + 0.038*\"강의\" + 0.034*\"내용\" + 0.024*\"설명\" + 0.023*\"이해\"')\n",
      "(14, '0.216*\"족보\" + 0.155*\"무난\" + 0.044*\"계절\" + 0.037*\"실험\" + 0.027*\"이제\"')\n",
      "(15, '0.153*\"과제\" + 0.036*\"시간\" + 0.026*\"프로젝트\" + 0.022*\"제출\" + 0.020*\"매주\"')\n",
      "(16, '0.385*\"..\" + 0.083*\"...\" + 0.038*\"ㅠㅠ\" + 0.024*\"....\" + 0.023*\"천사\"')\n",
      "(17, '0.036*\"교수\" + 0.034*\"생각\" + 0.025*\"학생\" + 0.025*\"강의\" + 0.009*\"지식\"')\n",
      "(18, '0.230*\"중간\" + 0.216*\"기말\" + 0.046*\"레포트\" + 0.028*\"대체\" + 0.023*\"영화\"')\n",
      "(19, '0.094*\"채플\" + 0.039*\"패스\" + 0.025*\"이론\" + 0.024*\"프로그래밍\" + 0.022*\"그냥\"')\n"
     ]
    }
   ],
   "source": [
    "# topic modeling => topic list\n",
    "f = open('Task1_topic_list.txt', 'w')\n",
    "print('========== Topic List ==========')\n",
    "corpus_, lda_ = ModelingLDA(text_tokenized_)\n",
    "f.close()"
   ]
  },
  {
   "cell_type": "code",
   "execution_count": 8,
   "metadata": {},
   "outputs": [],
   "source": [
    "topic_table_ = MakeTopicTable(corpus_, lda_)"
   ]
  },
  {
   "cell_type": "code",
   "execution_count": 9,
   "metadata": {},
   "outputs": [
    {
     "data": {
      "text/html": [
       "<div>\n",
       "<style scoped>\n",
       "    .dataframe tbody tr th:only-of-type {\n",
       "        vertical-align: middle;\n",
       "    }\n",
       "\n",
       "    .dataframe tbody tr th {\n",
       "        vertical-align: top;\n",
       "    }\n",
       "\n",
       "    .dataframe thead th {\n",
       "        text-align: right;\n",
       "    }\n",
       "</style>\n",
       "<table border=\"1\" class=\"dataframe\">\n",
       "  <thead>\n",
       "    <tr style=\"text-align: right;\">\n",
       "      <th></th>\n",
       "      <th>LectureUrl</th>\n",
       "      <th>LectureName</th>\n",
       "      <th>LectureProf</th>\n",
       "      <th>ReviewStar</th>\n",
       "      <th>ReviewSemester</th>\n",
       "      <th>ReviewText</th>\n",
       "      <th>COVID-19</th>\n",
       "      <th>TextPreprocessed</th>\n",
       "      <th>TokenCnt</th>\n",
       "      <th>TopicIndex</th>\n",
       "      <th>TopicProportion</th>\n",
       "      <th>TopicList</th>\n",
       "    </tr>\n",
       "  </thead>\n",
       "  <tbody>\n",
       "    <tr>\n",
       "      <th>0</th>\n",
       "      <td>https://yonsei.everytime.kr/lecture/view/3640</td>\n",
       "      <td>INTERNATIONAL MONEY AND CAPITAL MARKETS</td>\n",
       "      <td>함준호</td>\n",
       "      <td>100.0</td>\n",
       "      <td>20년 1학기 수강자</td>\n",
       "      <td>시험 잘 멋본 것 같은데 에이제로 떠서 놀람 감사합니다 교수님</td>\n",
       "      <td>after</td>\n",
       "      <td>시험 이제 떠서 놀람 감사 교수</td>\n",
       "      <td>6</td>\n",
       "      <td>14</td>\n",
       "      <td>0.43567</td>\n",
       "      <td>[(5, 0.15887797), (12, 0.28401068), (14, 0.435...</td>\n",
       "    </tr>\n",
       "    <tr>\n",
       "      <th>1</th>\n",
       "      <td>https://yonsei.everytime.kr/lecture/view/3640</td>\n",
       "      <td>INTERNATIONAL MONEY AND CAPITAL MARKETS</td>\n",
       "      <td>함준호</td>\n",
       "      <td>80.0</td>\n",
       "      <td>20년 1학기 수강자</td>\n",
       "      <td>에 뭐,,, 그냥 괜찮았는데 자습기간을 안 주고 전범위 시험본다그러니까 당황스러웠네...</td>\n",
       "      <td>after</td>\n",
       "      <td>그냥 괜찮 자습 기간 범위 시험 본다 그러니까 당황 스러웠 교수 똑똑 나쁘 다만 시...</td>\n",
       "      <td>21</td>\n",
       "      <td>3</td>\n",
       "      <td>0.28957</td>\n",
       "      <td>[(1, 0.25765258), (3, 0.28956982), (5, 0.14361...</td>\n",
       "    </tr>\n",
       "    <tr>\n",
       "      <th>2</th>\n",
       "      <td>https://yonsei.everytime.kr/lecture/view/3640</td>\n",
       "      <td>INTERNATIONAL MONEY AND CAPITAL MARKETS</td>\n",
       "      <td>함준호</td>\n",
       "      <td>80.0</td>\n",
       "      <td>19년 1학기 수강자</td>\n",
       "      <td>한국은행 금융통화위원을 지내고 오신 교수님이시라 그런지 간간히 들려주시는 교수님의 ...</td>\n",
       "      <td>before</td>\n",
       "      <td>한국은행 금융 통화 위원 지내 교수 그런지 간간히 들려 교수 현장 쏠쏠 재미 중간고...</td>\n",
       "      <td>41</td>\n",
       "      <td>13</td>\n",
       "      <td>0.38230</td>\n",
       "      <td>[(5, 0.09661087), (10, 0.2542754), (12, 0.0806...</td>\n",
       "    </tr>\n",
       "    <tr>\n",
       "      <th>3</th>\n",
       "      <td>https://yonsei.everytime.kr/lecture/view/3640</td>\n",
       "      <td>INTERNATIONAL MONEY AND CAPITAL MARKETS</td>\n",
       "      <td>함준호</td>\n",
       "      <td>100.0</td>\n",
       "      <td>19년 1학기 수강자</td>\n",
       "      <td>교수님 너무 똑똑하시고 피피티 위주로 수업하시기는 하는데 현장경험이 풍부하셔서 그런...</td>\n",
       "      <td>before</td>\n",
       "      <td>교수 똑똑 피피티 위주 현장 경험 풍부 그런지 설명</td>\n",
       "      <td>9</td>\n",
       "      <td>13</td>\n",
       "      <td>0.36192</td>\n",
       "      <td>[(5, 0.16486974), (12, 0.28641945), (13, 0.361...</td>\n",
       "    </tr>\n",
       "    <tr>\n",
       "      <th>4</th>\n",
       "      <td>https://yonsei.everytime.kr/lecture/view/943471</td>\n",
       "      <td>학교교실의현장연구방법입문</td>\n",
       "      <td>박순용</td>\n",
       "      <td>80.0</td>\n",
       "      <td>20년 1학기 수강자</td>\n",
       "      <td>매주 온라인 강의를 늦게 올려주셔서 불편했지만 수업 내용은 무난하고 좋았습니다. 매...</td>\n",
       "      <td>after</td>\n",
       "      <td>매주 온라인 강의 올려 불편 내용 무난 매주 출석 과제 기말 연구 보고서 기말 온라...</td>\n",
       "      <td>44</td>\n",
       "      <td>9</td>\n",
       "      <td>0.52951</td>\n",
       "      <td>[(2, 0.040547308), (4, 0.13102348), (5, 0.1612...</td>\n",
       "    </tr>\n",
       "  </tbody>\n",
       "</table>\n",
       "</div>"
      ],
      "text/plain": [
       "                                        LectureUrl  \\\n",
       "0    https://yonsei.everytime.kr/lecture/view/3640   \n",
       "1    https://yonsei.everytime.kr/lecture/view/3640   \n",
       "2    https://yonsei.everytime.kr/lecture/view/3640   \n",
       "3    https://yonsei.everytime.kr/lecture/view/3640   \n",
       "4  https://yonsei.everytime.kr/lecture/view/943471   \n",
       "\n",
       "                               LectureName LectureProf  ReviewStar  \\\n",
       "0  INTERNATIONAL MONEY AND CAPITAL MARKETS         함준호       100.0   \n",
       "1  INTERNATIONAL MONEY AND CAPITAL MARKETS         함준호        80.0   \n",
       "2  INTERNATIONAL MONEY AND CAPITAL MARKETS         함준호        80.0   \n",
       "3  INTERNATIONAL MONEY AND CAPITAL MARKETS         함준호       100.0   \n",
       "4                            학교교실의현장연구방법입문         박순용        80.0   \n",
       "\n",
       "  ReviewSemester                                         ReviewText COVID-19  \\\n",
       "0    20년 1학기 수강자                 시험 잘 멋본 것 같은데 에이제로 떠서 놀람 감사합니다 교수님    after   \n",
       "1    20년 1학기 수강자  에 뭐,,, 그냥 괜찮았는데 자습기간을 안 주고 전범위 시험본다그러니까 당황스러웠네...    after   \n",
       "2    19년 1학기 수강자  한국은행 금융통화위원을 지내고 오신 교수님이시라 그런지 간간히 들려주시는 교수님의 ...   before   \n",
       "3    19년 1학기 수강자  교수님 너무 똑똑하시고 피피티 위주로 수업하시기는 하는데 현장경험이 풍부하셔서 그런...   before   \n",
       "4    20년 1학기 수강자  매주 온라인 강의를 늦게 올려주셔서 불편했지만 수업 내용은 무난하고 좋았습니다. 매...    after   \n",
       "\n",
       "                                    TextPreprocessed  TokenCnt  TopicIndex  \\\n",
       "0                                  시험 이제 떠서 놀람 감사 교수         6          14   \n",
       "1  그냥 괜찮 자습 기간 범위 시험 본다 그러니까 당황 스러웠 교수 똑똑 나쁘 다만 시...        21           3   \n",
       "2  한국은행 금융 통화 위원 지내 교수 그런지 간간히 들려 교수 현장 쏠쏠 재미 중간고...        41          13   \n",
       "3                       교수 똑똑 피피티 위주 현장 경험 풍부 그런지 설명         9          13   \n",
       "4  매주 온라인 강의 올려 불편 내용 무난 매주 출석 과제 기말 연구 보고서 기말 온라...        44           9   \n",
       "\n",
       "   TopicProportion                                          TopicList  \n",
       "0          0.43567  [(5, 0.15887797), (12, 0.28401068), (14, 0.435...  \n",
       "1          0.28957  [(1, 0.25765258), (3, 0.28956982), (5, 0.14361...  \n",
       "2          0.38230  [(5, 0.09661087), (10, 0.2542754), (12, 0.0806...  \n",
       "3          0.36192  [(5, 0.16486974), (12, 0.28641945), (13, 0.361...  \n",
       "4          0.52951  [(2, 0.040547308), (4, 0.13102348), (5, 0.1612...  "
      ]
     },
     "execution_count": 9,
     "metadata": {},
     "output_type": "execute_result"
    }
   ],
   "source": [
    "df_ = pd.concat([data_.reset_index(drop=True), topic_table_.reset_index(drop=True)], axis=1)\n",
    "df_.head()"
   ]
  },
  {
   "cell_type": "code",
   "execution_count": 10,
   "metadata": {},
   "outputs": [],
   "source": [
    "df_.to_csv('Task1_data_with_topic.csv')"
   ]
  },
  {
   "cell_type": "code",
   "execution_count": 11,
   "metadata": {},
   "outputs": [],
   "source": [
    "before_df_ = df_[df_['COVID-19']=='before']\n",
    "after_df_ = df_[df_['COVID-19']=='after']"
   ]
  },
  {
   "cell_type": "code",
   "execution_count": 12,
   "metadata": {},
   "outputs": [
    {
     "data": {
      "image/png": "[encoded data removed]",
      "text/plain": [
       "<Figure size 1152x216 with 1 Axes>"
      ]
     },
     "metadata": {
      "needs_background": "light"
     },
     "output_type": "display_data"
    },
    {
     "data": {
      "image/png": "[encoded data removed]",
      "text/plain": [
       "<Figure size 1152x432 with 4 Axes>"
      ]
     },
     "metadata": {
      "needs_background": "light"
     },
     "output_type": "display_data"
    }
   ],
   "source": [
    "# Topic Distribution\n",
    "\n",
    "before_temp_ = before_df_.groupby('TopicIndex').count()['LectureUrl']\n",
    "after_temp_ = after_df_.groupby('TopicIndex').count()['LectureUrl']\n",
    "\n",
    "fig, ax = plt.subplots(1, 1, figsize=(16, 3))\n",
    "\n",
    "sns.countplot(x=df_['TopicIndex'])\n",
    "plt.title('Topic Distribution')\n",
    "\n",
    "fig, ax = plt.subplots(2, 2, figsize=(16, 6))\n",
    "\n",
    "plt.subplot(221)\n",
    "sns.countplot(x=before_df_['TopicIndex'])\n",
    "plt.yticks(range(0, 7001, 1000))\n",
    "plt.title('Topic Distribution before COVID-19')\n",
    "\n",
    "plt.subplot(222)\n",
    "sns.countplot(x=after_df_['TopicIndex'])\n",
    "plt.yticks(range(0, 7001, 1000))\n",
    "plt.title('Topic Distribution after COVID-19')\n",
    "\n",
    "plt.subplot(223)\n",
    "sns.barplot(x=before_temp_.index, y=before_temp_.values/len(before_df_))\n",
    "plt.yticks(np.arange(0, 0.20, 0.02))\n",
    "plt.ylabel('proportion')\n",
    "\n",
    "plt.subplot(224)\n",
    "sns.barplot(x=after_temp_.index, y=after_temp_.values/len(after_df_))\n",
    "plt.yticks(np.arange(0, 0.20, 0.02))\n",
    "plt.ylabel('proportion')\n",
    "\n",
    "plt.show()"
   ]
  },
  {
   "cell_type": "code",
   "execution_count": 13,
   "metadata": {},
   "outputs": [
    {
     "data": {
      "image/png": "[encoded data removed]",
      "text/plain": [
       "<Figure size 1152x648 with 3 Axes>"
      ]
     },
     "metadata": {
      "needs_background": "light"
     },
     "output_type": "display_data"
    }
   ],
   "source": [
    "# Compare Topic Distribution before/after COVID19\n",
    "\n",
    "fig, ax = plt.subplots(3, 1, figsize=(16, 9))\n",
    "\n",
    "plt.subplot(311)\n",
    "sns.countplot(x='TopicIndex', data=df_)\n",
    "plt.xticks(range(0, 20, 1))\n",
    "plt.xlabel('')\n",
    "plt.title('Topic Distribution')\n",
    "\n",
    "plt.subplot(312)\n",
    "sns.countplot(x='TopicIndex', data=df_, hue='COVID-19', palette='muted')\n",
    "plt.xticks(range(0, 20, 1))\n",
    "plt.xlabel('')\n",
    "plt.ylabel('count')\n",
    "\n",
    "plt.subplot(313)\n",
    "sns.lineplot(x=after_temp_.index, y=after_temp_.values/len(after_df_), label='after COVID-19', color=sns.color_palette('muted')[0])\n",
    "sns.lineplot(x=before_temp_.index, y=before_temp_.values/len(before_df_), label='before COVID-19', color=sns.color_palette('muted')[1])\n",
    "plt.xticks(range(0, 20, 1))\n",
    "plt.ylabel('proportion')\n",
    "\n",
    "plt.show()"
   ]
  },
  {
   "cell_type": "code",
   "execution_count": 14,
   "metadata": {},
   "outputs": [
    {
     "data": {
      "image/png": "[encoded data removed]",
      "text/plain": [
       "<Figure size 1152x216 with 1 Axes>"
      ]
     },
     "metadata": {
      "needs_background": "light"
     },
     "output_type": "display_data"
    },
    {
     "data": {
      "image/png": "[encoded data removed]",
      "text/plain": [
       "<Figure size 1152x216 with 2 Axes>"
      ]
     },
     "metadata": {
      "needs_background": "light"
     },
     "output_type": "display_data"
    }
   ],
   "source": [
    "# ReviewStar Distribution\n",
    "\n",
    "fig, ax = plt.subplots(1, 1, figsize=(16, 3))\n",
    "\n",
    "sns.boxplot(x='TopicIndex', y='ReviewStar', data=df_, palette='Paired')\n",
    "plt.title('ReviewStar Distribution')\n",
    "\n",
    "fig, ax = plt.subplots(1, 2, figsize=(16, 3))\n",
    "\n",
    "plt.subplot(121)\n",
    "sns.boxplot(x='TopicIndex', y='ReviewStar', data=before_df_, palette='Paired')\n",
    "plt.title('ReviewStar Distribution before COVID-19')\n",
    "\n",
    "plt.subplot(122)\n",
    "sns.boxplot(x='TopicIndex', y='ReviewStar', data=after_df_, palette='Paired')\n",
    "plt.title('ReviewStar Distribution after COVID-19')\n",
    "\n",
    "plt.show()"
   ]
  },
  {
   "cell_type": "markdown",
   "metadata": {},
   "source": [
    "## Task2 : 코로나 전/후 강의평에 대하여 각각 토픽 모델링 진행 후 코로나 전/후 강의평 토픽 비교"
   ]
  },
  {
   "cell_type": "markdown",
   "metadata": {},
   "source": [
    "### Preprocessing"
   ]
  },
  {
   "cell_type": "code",
   "execution_count": 15,
   "metadata": {},
   "outputs": [],
   "source": [
    "before_data = data[data['COVID-19']=='before']\n",
    "after_data = data[data['COVID-19']=='after']"
   ]
  },
  {
   "cell_type": "code",
   "execution_count": 16,
   "metadata": {},
   "outputs": [],
   "source": [
    "before_text = list(before_data['ReviewText'].values)\n",
    "after_text = list(after_data['ReviewText'].values)"
   ]
  },
  {
   "cell_type": "code",
   "execution_count": 17,
   "metadata": {},
   "outputs": [],
   "source": [
    "before_data, before_text_tokenized = Preprocessor(before_data, before_text)\n",
    "after_data, after_text_tokenized = Preprocessor(after_data, after_text)"
   ]
  },
  {
   "cell_type": "code",
   "execution_count": 18,
   "metadata": {},
   "outputs": [
    {
     "data": {
      "text/html": [
       "<div>\n",
       "<style scoped>\n",
       "    .dataframe tbody tr th:only-of-type {\n",
       "        vertical-align: middle;\n",
       "    }\n",
       "\n",
       "    .dataframe tbody tr th {\n",
       "        vertical-align: top;\n",
       "    }\n",
       "\n",
       "    .dataframe thead th {\n",
       "        text-align: right;\n",
       "    }\n",
       "</style>\n",
       "<table border=\"1\" class=\"dataframe\">\n",
       "  <thead>\n",
       "    <tr style=\"text-align: right;\">\n",
       "      <th></th>\n",
       "      <th>LectureUrl</th>\n",
       "      <th>LectureName</th>\n",
       "      <th>LectureProf</th>\n",
       "      <th>ReviewStar</th>\n",
       "      <th>ReviewSemester</th>\n",
       "      <th>ReviewText</th>\n",
       "      <th>COVID-19</th>\n",
       "      <th>TextPreprocessed</th>\n",
       "      <th>TokenCnt</th>\n",
       "    </tr>\n",
       "  </thead>\n",
       "  <tbody>\n",
       "    <tr>\n",
       "      <th>2</th>\n",
       "      <td>https://yonsei.everytime.kr/lecture/view/3640</td>\n",
       "      <td>INTERNATIONAL MONEY AND CAPITAL MARKETS</td>\n",
       "      <td>함준호</td>\n",
       "      <td>80.0</td>\n",
       "      <td>19년 1학기 수강자</td>\n",
       "      <td>한국은행 금융통화위원을 지내고 오신 교수님이시라 그런지 간간히 들려주시는 교수님의 ...</td>\n",
       "      <td>before</td>\n",
       "      <td>한국은행 금융 통화 위원 지내 교수 그런지 간간히 들려 교수 현장 쏠쏠 재미 중간고...</td>\n",
       "      <td>41</td>\n",
       "    </tr>\n",
       "    <tr>\n",
       "      <th>3</th>\n",
       "      <td>https://yonsei.everytime.kr/lecture/view/3640</td>\n",
       "      <td>INTERNATIONAL MONEY AND CAPITAL MARKETS</td>\n",
       "      <td>함준호</td>\n",
       "      <td>100.0</td>\n",
       "      <td>19년 1학기 수강자</td>\n",
       "      <td>교수님 너무 똑똑하시고 피피티 위주로 수업하시기는 하는데 현장경험이 풍부하셔서 그런...</td>\n",
       "      <td>before</td>\n",
       "      <td>교수 똑똑 피피티 위주 현장 경험 풍부 그런지 설명</td>\n",
       "      <td>9</td>\n",
       "    </tr>\n",
       "    <tr>\n",
       "      <th>6</th>\n",
       "      <td>https://yonsei.everytime.kr/lecture/view/943471</td>\n",
       "      <td>학교교실의현장연구방법입문</td>\n",
       "      <td>박순용</td>\n",
       "      <td>20.0</td>\n",
       "      <td>18년 2학기 수강자</td>\n",
       "      <td>교수님의 수업은 이해하기 쉬웠고 질적연구와 현장연구에 대해 잘 설명해주셔서 수업은 ...</td>\n",
       "      <td>before</td>\n",
       "      <td>교수 이해 쉬웠 연구 현장 연구 설명 중간고사 비중 성적 산출 아쉬운 부분</td>\n",
       "      <td>13</td>\n",
       "    </tr>\n",
       "    <tr>\n",
       "      <th>7</th>\n",
       "      <td>https://yonsei.everytime.kr/lecture/view/943471</td>\n",
       "      <td>학교교실의현장연구방법입문</td>\n",
       "      <td>박순용</td>\n",
       "      <td>100.0</td>\n",
       "      <td>18년 2학기 수강자</td>\n",
       "      <td>개인적이지만 수업 괜찮았고 설명 잘해주심. 성적은 그냥 시험으로 갈리는듯? 조모임 ...</td>\n",
       "      <td>before</td>\n",
       "      <td>개인 괜찮 설명 성적 그냥 시험 갈리 모임 빡세 엄청 자주 만나 조원 만나 헤쳐 나...</td>\n",
       "      <td>47</td>\n",
       "    </tr>\n",
       "    <tr>\n",
       "      <th>16</th>\n",
       "      <td>https://yonsei.everytime.kr/lecture/view/2073400</td>\n",
       "      <td>국제이해교육</td>\n",
       "      <td>이무성</td>\n",
       "      <td>40.0</td>\n",
       "      <td>19년 2학기 수강자</td>\n",
       "      <td>교수님 좋고 학구적이고 내용도 좋은데 마이너스 폭격기임^^</td>\n",
       "      <td>before</td>\n",
       "      <td>교수 학구 내용 은데 마이너스 폭격기 ^^</td>\n",
       "      <td>7</td>\n",
       "    </tr>\n",
       "  </tbody>\n",
       "</table>\n",
       "</div>"
      ],
      "text/plain": [
       "                                          LectureUrl  \\\n",
       "2      https://yonsei.everytime.kr/lecture/view/3640   \n",
       "3      https://yonsei.everytime.kr/lecture/view/3640   \n",
       "6    https://yonsei.everytime.kr/lecture/view/943471   \n",
       "7    https://yonsei.everytime.kr/lecture/view/943471   \n",
       "16  https://yonsei.everytime.kr/lecture/view/2073400   \n",
       "\n",
       "                                LectureName LectureProf  ReviewStar  \\\n",
       "2   INTERNATIONAL MONEY AND CAPITAL MARKETS         함준호        80.0   \n",
       "3   INTERNATIONAL MONEY AND CAPITAL MARKETS         함준호       100.0   \n",
       "6                             학교교실의현장연구방법입문         박순용        20.0   \n",
       "7                             학교교실의현장연구방법입문         박순용       100.0   \n",
       "16                                   국제이해교육         이무성        40.0   \n",
       "\n",
       "   ReviewSemester                                         ReviewText COVID-19  \\\n",
       "2     19년 1학기 수강자  한국은행 금융통화위원을 지내고 오신 교수님이시라 그런지 간간히 들려주시는 교수님의 ...   before   \n",
       "3     19년 1학기 수강자  교수님 너무 똑똑하시고 피피티 위주로 수업하시기는 하는데 현장경험이 풍부하셔서 그런...   before   \n",
       "6     18년 2학기 수강자  교수님의 수업은 이해하기 쉬웠고 질적연구와 현장연구에 대해 잘 설명해주셔서 수업은 ...   before   \n",
       "7     18년 2학기 수강자  개인적이지만 수업 괜찮았고 설명 잘해주심. 성적은 그냥 시험으로 갈리는듯? 조모임 ...   before   \n",
       "16    19년 2학기 수강자                   교수님 좋고 학구적이고 내용도 좋은데 마이너스 폭격기임^^   before   \n",
       "\n",
       "                                     TextPreprocessed  TokenCnt  \n",
       "2   한국은행 금융 통화 위원 지내 교수 그런지 간간히 들려 교수 현장 쏠쏠 재미 중간고...        41  \n",
       "3                        교수 똑똑 피피티 위주 현장 경험 풍부 그런지 설명         9  \n",
       "6           교수 이해 쉬웠 연구 현장 연구 설명 중간고사 비중 성적 산출 아쉬운 부분        13  \n",
       "7   개인 괜찮 설명 성적 그냥 시험 갈리 모임 빡세 엄청 자주 만나 조원 만나 헤쳐 나...        47  \n",
       "16                            교수 학구 내용 은데 마이너스 폭격기 ^^         7  "
      ]
     },
     "execution_count": 18,
     "metadata": {},
     "output_type": "execute_result"
    }
   ],
   "source": [
    "before_data.head()"
   ]
  },
  {
   "cell_type": "code",
   "execution_count": 19,
   "metadata": {},
   "outputs": [
    {
     "data": {
      "text/html": [
       "<div>\n",
       "<style scoped>\n",
       "    .dataframe tbody tr th:only-of-type {\n",
       "        vertical-align: middle;\n",
       "    }\n",
       "\n",
       "    .dataframe tbody tr th {\n",
       "        vertical-align: top;\n",
       "    }\n",
       "\n",
       "    .dataframe thead th {\n",
       "        text-align: right;\n",
       "    }\n",
       "</style>\n",
       "<table border=\"1\" class=\"dataframe\">\n",
       "  <thead>\n",
       "    <tr style=\"text-align: right;\">\n",
       "      <th></th>\n",
       "      <th>LectureUrl</th>\n",
       "      <th>LectureName</th>\n",
       "      <th>LectureProf</th>\n",
       "      <th>ReviewStar</th>\n",
       "      <th>ReviewSemester</th>\n",
       "      <th>ReviewText</th>\n",
       "      <th>COVID-19</th>\n",
       "      <th>TextPreprocessed</th>\n",
       "      <th>TokenCnt</th>\n",
       "    </tr>\n",
       "  </thead>\n",
       "  <tbody>\n",
       "    <tr>\n",
       "      <th>0</th>\n",
       "      <td>https://yonsei.everytime.kr/lecture/view/3640</td>\n",
       "      <td>INTERNATIONAL MONEY AND CAPITAL MARKETS</td>\n",
       "      <td>함준호</td>\n",
       "      <td>100.0</td>\n",
       "      <td>20년 1학기 수강자</td>\n",
       "      <td>시험 잘 멋본 것 같은데 에이제로 떠서 놀람 감사합니다 교수님</td>\n",
       "      <td>after</td>\n",
       "      <td>시험 이제 떠서 놀람 감사 교수</td>\n",
       "      <td>6</td>\n",
       "    </tr>\n",
       "    <tr>\n",
       "      <th>1</th>\n",
       "      <td>https://yonsei.everytime.kr/lecture/view/3640</td>\n",
       "      <td>INTERNATIONAL MONEY AND CAPITAL MARKETS</td>\n",
       "      <td>함준호</td>\n",
       "      <td>80.0</td>\n",
       "      <td>20년 1학기 수강자</td>\n",
       "      <td>에 뭐,,, 그냥 괜찮았는데 자습기간을 안 주고 전범위 시험본다그러니까 당황스러웠네...</td>\n",
       "      <td>after</td>\n",
       "      <td>그냥 괜찮 자습 기간 범위 시험 본다 그러니까 당황 스러웠 교수 똑똑 나쁘 다만 시...</td>\n",
       "      <td>21</td>\n",
       "    </tr>\n",
       "    <tr>\n",
       "      <th>4</th>\n",
       "      <td>https://yonsei.everytime.kr/lecture/view/943471</td>\n",
       "      <td>학교교실의현장연구방법입문</td>\n",
       "      <td>박순용</td>\n",
       "      <td>80.0</td>\n",
       "      <td>20년 1학기 수강자</td>\n",
       "      <td>매주 온라인 강의를 늦게 올려주셔서 불편했지만 수업 내용은 무난하고 좋았습니다. 매...</td>\n",
       "      <td>after</td>\n",
       "      <td>매주 온라인 강의 올려 불편 내용 무난 매주 출석 과제 기말 연구 보고서 기말 온라...</td>\n",
       "      <td>44</td>\n",
       "    </tr>\n",
       "    <tr>\n",
       "      <th>5</th>\n",
       "      <td>https://yonsei.everytime.kr/lecture/view/943471</td>\n",
       "      <td>학교교실의현장연구방법입문</td>\n",
       "      <td>박순용</td>\n",
       "      <td>20.0</td>\n",
       "      <td>20년 1학기 수강자</td>\n",
       "      <td>조교가 일을 안하는건지 교수가 일을 안하는건지 강의가 맨날 늦게 올라옴 제 시간에 ...</td>\n",
       "      <td>after</td>\n",
       "      <td>조교 건지 교수 건지 강의 맨날 올라옴 시간 강의 니까 열정 초반 부터 사라짐 그러...</td>\n",
       "      <td>21</td>\n",
       "    </tr>\n",
       "    <tr>\n",
       "      <th>8</th>\n",
       "      <td>https://yonsei.everytime.kr/lecture/view/1600344</td>\n",
       "      <td>현대독일산문</td>\n",
       "      <td>이진영</td>\n",
       "      <td>100.0</td>\n",
       "      <td>20년 1학기 수강자</td>\n",
       "      <td>이번 학기에 들은 강의 중에 가장 좋았던 수업 중 하나. 교수님께서 학생들 많이 배...</td>\n",
       "      <td>after</td>\n",
       "      <td>학기 강의 가장 하나 교수 학생 배려 강의 필요 학생 감상 이나 해석 개입 참고 배...</td>\n",
       "      <td>53</td>\n",
       "    </tr>\n",
       "  </tbody>\n",
       "</table>\n",
       "</div>"
      ],
      "text/plain": [
       "                                         LectureUrl  \\\n",
       "0     https://yonsei.everytime.kr/lecture/view/3640   \n",
       "1     https://yonsei.everytime.kr/lecture/view/3640   \n",
       "4   https://yonsei.everytime.kr/lecture/view/943471   \n",
       "5   https://yonsei.everytime.kr/lecture/view/943471   \n",
       "8  https://yonsei.everytime.kr/lecture/view/1600344   \n",
       "\n",
       "                               LectureName LectureProf  ReviewStar  \\\n",
       "0  INTERNATIONAL MONEY AND CAPITAL MARKETS         함준호       100.0   \n",
       "1  INTERNATIONAL MONEY AND CAPITAL MARKETS         함준호        80.0   \n",
       "4                            학교교실의현장연구방법입문         박순용        80.0   \n",
       "5                            학교교실의현장연구방법입문         박순용        20.0   \n",
       "8                                   현대독일산문         이진영       100.0   \n",
       "\n",
       "  ReviewSemester                                         ReviewText COVID-19  \\\n",
       "0    20년 1학기 수강자                 시험 잘 멋본 것 같은데 에이제로 떠서 놀람 감사합니다 교수님    after   \n",
       "1    20년 1학기 수강자  에 뭐,,, 그냥 괜찮았는데 자습기간을 안 주고 전범위 시험본다그러니까 당황스러웠네...    after   \n",
       "4    20년 1학기 수강자  매주 온라인 강의를 늦게 올려주셔서 불편했지만 수업 내용은 무난하고 좋았습니다. 매...    after   \n",
       "5    20년 1학기 수강자  조교가 일을 안하는건지 교수가 일을 안하는건지 강의가 맨날 늦게 올라옴 제 시간에 ...    after   \n",
       "8    20년 1학기 수강자  이번 학기에 들은 강의 중에 가장 좋았던 수업 중 하나. 교수님께서 학생들 많이 배...    after   \n",
       "\n",
       "                                    TextPreprocessed  TokenCnt  \n",
       "0                                  시험 이제 떠서 놀람 감사 교수         6  \n",
       "1  그냥 괜찮 자습 기간 범위 시험 본다 그러니까 당황 스러웠 교수 똑똑 나쁘 다만 시...        21  \n",
       "4  매주 온라인 강의 올려 불편 내용 무난 매주 출석 과제 기말 연구 보고서 기말 온라...        44  \n",
       "5  조교 건지 교수 건지 강의 맨날 올라옴 시간 강의 니까 열정 초반 부터 사라짐 그러...        21  \n",
       "8  학기 강의 가장 하나 교수 학생 배려 강의 필요 학생 감상 이나 해석 개입 참고 배...        53  "
      ]
     },
     "execution_count": 19,
     "metadata": {},
     "output_type": "execute_result"
    }
   ],
   "source": [
    "after_data.head()"
   ]
  },
  {
   "cell_type": "markdown",
   "metadata": {},
   "source": [
    "### EDA"
   ]
  },
  {
   "cell_type": "code",
   "execution_count": 20,
   "metadata": {},
   "outputs": [
    {
     "name": "stdout",
     "output_type": "stream",
     "text": [
      "COVID-19 이전 전체 강의평 개수: 49127개\n",
      "COVID-19 이후 전체 강의평 개수: 29423개\n",
      "COVID-19 이전 전체 토큰 개수: 30011개\n",
      "COVID-19 이후 전체 토큰 개수: 22865개\n"
     ]
    }
   ],
   "source": [
    "# Number of Texts & tokens\n",
    "\n",
    "before_counter = Counter(sum(before_text_tokenized, []))\n",
    "after_counter = Counter(sum(after_text_tokenized, []))\n",
    "\n",
    "print('COVID-19 이전 전체 강의평 개수: {}개'.format(len(before_text)))\n",
    "print('COVID-19 이후 전체 강의평 개수: {}개'.format(len(after_text)))\n",
    "\n",
    "print('COVID-19 이전 전체 토큰 개수: {}개'.format(len(before_counter)))\n",
    "print('COVID-19 이후 전체 토큰 개수: {}개'.format(len(after_counter)))"
   ]
  },
  {
   "cell_type": "code",
   "execution_count": 21,
   "metadata": {},
   "outputs": [
    {
     "data": {
      "image/png": "[encoded data removed]",
      "text/plain": [
       "<Figure size 1152x288 with 2 Axes>"
      ]
     },
     "metadata": {
      "needs_background": "light"
     },
     "output_type": "display_data"
    }
   ],
   "source": [
    "# Length of Texts\n",
    "\n",
    "fig, ax = plt.subplots(1, 2, figsize=(16, 4))\n",
    "\n",
    "plt.subplot(121)\n",
    "plt.hist(before_data['TokenCnt'], bins=100)\n",
    "plt.xticks(range(0, 1201, 100))\n",
    "plt.yticks(range(0, 15001, 1000))\n",
    "plt.title('Length of ReviewText before COVID-19')\n",
    "\n",
    "plt.subplot(122)\n",
    "plt.hist(after_data['TokenCnt'], bins=100)\n",
    "plt.xticks(range(0, 1201, 100))\n",
    "plt.yticks(range(0, 15001, 1000))\n",
    "plt.title('Length of ReviewText after COVID-19')\n",
    "\n",
    "plt.show()"
   ]
  },
  {
   "cell_type": "code",
   "execution_count": 22,
   "metadata": {},
   "outputs": [
    {
     "data": {
      "image/png": "[encoded data removed]",
      "text/plain": [
       "<Figure size 1152x288 with 2 Axes>"
      ]
     },
     "metadata": {
      "needs_background": "light"
     },
     "output_type": "display_data"
    }
   ],
   "source": [
    "# Length of Texts (zoom-in)\n",
    "\n",
    "fig, ax = plt.subplots(1, 2, figsize=(16, 4))\n",
    "\n",
    "plt.subplot(121)\n",
    "plt.hist(before_data['TokenCnt'][before_data['TokenCnt']<200], bins=50)\n",
    "plt.xticks(range(0, 201, 25))\n",
    "plt.yticks(range(0, 7001, 1000))\n",
    "plt.title('Length of ReviewText before COVID-19')\n",
    "\n",
    "plt.subplot(122)\n",
    "plt.hist(after_data['TokenCnt'][after_data['TokenCnt']<200], bins=50)\n",
    "plt.xticks(range(0, 201, 25))\n",
    "plt.yticks(range(0, 7001, 1000))\n",
    "plt.title('Length of ReviewText after COVID-19')\n",
    "\n",
    "plt.show()"
   ]
  },
  {
   "cell_type": "markdown",
   "metadata": {},
   "source": [
    "### Topic Modeling (LDA)"
   ]
  },
  {
   "cell_type": "code",
   "execution_count": 23,
   "metadata": {},
   "outputs": [
    {
     "name": "stdout",
     "output_type": "stream",
     "text": [
      "========== Topic List before COVID-19 ==========\n",
      "(0, '0.061*\"공부\" + 0.048*\"시험\" + 0.037*\"열심히\" + 0.027*\"학점\" + 0.022*\"사람\"')\n",
      "(1, '0.048*\"실습\" + 0.044*\"조교\" + 0.044*\"코딩\" + 0.037*\"배우\" + 0.033*\"ㅎㅎㅎ\"')\n",
      "(2, '0.181*\"과제\" + 0.094*\"퀴즈\" + 0.039*\"매주\" + 0.035*\"학점\" + 0.031*\"귀찮\"')\n",
      "(3, '0.278*\"..\" + 0.111*\"...\" + 0.103*\"ㅋㅋ\" + 0.083*\"ㅋㅋㅋ\" + 0.034*\"....\"')\n",
      "(4, '0.117*\"출석\" + 0.036*\"결석\" + 0.031*\"출결\" + 0.031*\"부르\" + 0.029*\"지각\"')\n",
      "(5, '0.074*\"채플\" + 0.021*\"그냥\" + 0.016*\"of\" + 0.016*\"종교\" + 0.016*\"재무\"')\n",
      "(6, '0.056*\"교수\" + 0.046*\"강의\" + 0.036*\"시험\" + 0.032*\"내용\" + 0.020*\"학점\"')\n",
      "(7, '0.159*\"수강\" + 0.058*\"신청\" + 0.038*\"학기\" + 0.033*\"계절\" + 0.024*\"실험\"')\n",
      "(8, '0.021*\"생각\" + 0.019*\"내용\" + 0.016*\"주제\" + 0.014*\"발표\" + 0.014*\"교수\"')\n",
      "(9, '0.066*\"문제\" + 0.050*\"시험\" + 0.029*\"내용\" + 0.024*\"교수\" + 0.021*\"공부\"')\n",
      "(10, '0.211*\"교수\" + 0.059*\"최고\" + 0.054*\"ㅎㅎ\" + 0.040*\"재밌\" + 0.037*\"ㅠㅠ\"')\n",
      "(11, '0.079*\"교수\" + 0.054*\"학생\" + 0.016*\"질문\" + 0.016*\"강의\" + 0.015*\"생각\"')\n",
      "(12, '0.066*\"과목\" + 0.062*\"전공\" + 0.059*\"지식\" + 0.054*\"수학\" + 0.027*\"문과\"')\n",
      "(13, '0.062*\"외우\" + 0.058*\"시험\" + 0.054*\"피피티\" + 0.036*\"필기\" + 0.033*\"그냥\"')\n",
      "(14, '0.081*\"기독교\" + 0.032*\"the\" + 0.022*\"to\" + 0.017*\"프리\" + 0.016*\"and\"')\n",
      "(15, '0.057*\"강의\" + 0.033*\"교수\" + 0.018*\"추천\" + 0.015*\"학기\" + 0.014*\"과목\"')\n",
      "(16, '0.058*\"과제\" + 0.054*\"시간\" + 0.039*\"발표\" + 0.032*\"모임\" + 0.025*\"조별\"')\n",
      "(17, '0.034*\"강의\" + 0.032*\"교수\" + 0.031*\"모르\" + 0.029*\"..\" + 0.024*\"그냥\"')\n",
      "(18, '0.281*\"족보\" + 0.043*\"지정\" + 0.043*\"끝내\" + 0.038*\"일찍\" + 0.037*\"그저\"')\n",
      "(19, '0.066*\"중간\" + 0.065*\"기말\" + 0.039*\"시험\" + 0.032*\"점수\" + 0.022*\"문제\"')\n",
      "\n",
      "========== Topic List after COVID-19 ==========\n",
      "(0, '0.049*\"수강\" + 0.034*\"신청\" + 0.029*\"영화\" + 0.020*\"패스\" + 0.017*\"학기\"')\n",
      "(1, '0.076*\"단점\" + 0.071*\"인가\" + 0.061*\"장점\" + 0.029*\"퀄리티\" + 0.028*\"텍스트\"')\n",
      "(2, '0.076*\"문제\" + 0.074*\"시험\" + 0.043*\"퀴즈\" + 0.030*\"시간\" + 0.020*\"강의\"')\n",
      "(3, '0.052*\"강의\" + 0.042*\"시간\" + 0.041*\"과제\" + 0.035*\"출석\" + 0.032*\"영상\"')\n",
      "(4, '0.021*\"강의\" + 0.019*\"내용\" + 0.018*\"생각\" + 0.009*\"진행\" + 0.008*\"시간\"')\n",
      "(5, '0.046*\"내용\" + 0.042*\"교수\" + 0.038*\"강의\" + 0.035*\"시험\" + 0.030*\"이해\"')\n",
      "(6, '0.052*\"the\" + 0.046*\"to\" + 0.038*\"and\" + 0.031*\"is\" + 0.027*\"you\"')\n",
      "(7, '0.178*\"최고\" + 0.104*\"채플\" + 0.065*\"개꿀\" + 0.051*\"힐링\" + 0.040*\"그저\"')\n",
      "(8, '0.072*\"과제\" + 0.026*\"기말\" + 0.023*\"중간\" + 0.019*\"보고서\" + 0.019*\"대체\"')\n",
      "(9, '0.074*\"기말\" + 0.069*\"중간\" + 0.062*\"이쁠\" + 0.036*\"점수\" + 0.035*\"레포트\"')\n",
      "(10, '0.033*\"경제학\" + 0.026*\"관심\" + 0.020*\"다면\" + 0.017*\"분야\" + 0.016*\"지식\"')\n",
      "(11, '0.049*\"학점\" + 0.040*\"과제\" + 0.034*\"강의\" + 0.032*\"교수\" + 0.021*\"과목\"')\n",
      "(12, '0.100*\"교수\" + 0.088*\"학생\" + 0.033*\"질문\" + 0.022*\"강의\" + 0.020*\"친절\"')\n",
      "(13, '0.326*\"..\" + 0.063*\"...\" + 0.046*\"그냥\" + 0.015*\"ㅠㅠ\" + 0.015*\"학점\"')\n",
      "(14, '0.096*\"교수\" + 0.095*\"강의\" + 0.026*\"재밌\" + 0.025*\"학점\" + 0.022*\"내용\"')\n",
      "(15, '0.044*\"교수\" + 0.022*\"생각\" + 0.015*\"학생\" + 0.014*\"발표\" + 0.014*\"시간\"')\n",
      "(16, '0.039*\"모르\" + 0.030*\"평가\" + 0.026*\"기준\" + 0.026*\"강의\" + 0.025*\"성적\"')\n",
      "(17, '0.129*\"ㅋㅋ\" + 0.098*\"ㅋㅋㅋ\" + 0.037*\"^^\" + 0.021*\"전공\" + 0.018*\"습니당\"')\n",
      "(18, '0.043*\"조교\" + 0.034*\"과목\" + 0.025*\"수학\" + 0.019*\"물리\" + 0.016*\"실험\"')\n",
      "(19, '0.066*\"코로나\" + 0.064*\"학기\" + 0.043*\"교수\" + 0.026*\"경제\" + 0.026*\"학점\"')\n"
     ]
    }
   ],
   "source": [
    "f = open('Task2_topic_list.txt', 'w')\n",
    "print('========== Topic List before COVID-19 ==========')\n",
    "before_corpus, before_lda = ModelingLDA(before_text_tokenized)\n",
    "print()\n",
    "print('========== Topic List after COVID-19 ==========')\n",
    "after_corpus, after_lda = ModelingLDA(after_text_tokenized)\n",
    "f.close()"
   ]
  },
  {
   "cell_type": "code",
   "execution_count": 24,
   "metadata": {},
   "outputs": [],
   "source": [
    "before_topic_table = MakeTopicTable(before_corpus, before_lda)\n",
    "after_topic_table = MakeTopicTable(after_corpus, after_lda)"
   ]
  },
  {
   "cell_type": "code",
   "execution_count": 25,
   "metadata": {},
   "outputs": [],
   "source": [
    "before_df = pd.concat([before_data.reset_index(drop=True), before_topic_table.reset_index(drop=True)], axis=1)\n",
    "after_df = pd.concat([after_data.reset_index(drop=True), after_topic_table.reset_index(drop=True)], axis=1)"
   ]
  },
  {
   "cell_type": "code",
   "execution_count": 26,
   "metadata": {},
   "outputs": [
    {
     "data": {
      "text/html": [
       "<div>\n",
       "<style scoped>\n",
       "    .dataframe tbody tr th:only-of-type {\n",
       "        vertical-align: middle;\n",
       "    }\n",
       "\n",
       "    .dataframe tbody tr th {\n",
       "        vertical-align: top;\n",
       "    }\n",
       "\n",
       "    .dataframe thead th {\n",
       "        text-align: right;\n",
       "    }\n",
       "</style>\n",
       "<table border=\"1\" class=\"dataframe\">\n",
       "  <thead>\n",
       "    <tr style=\"text-align: right;\">\n",
       "      <th></th>\n",
       "      <th>LectureUrl</th>\n",
       "      <th>LectureName</th>\n",
       "      <th>LectureProf</th>\n",
       "      <th>ReviewStar</th>\n",
       "      <th>ReviewSemester</th>\n",
       "      <th>ReviewText</th>\n",
       "      <th>COVID-19</th>\n",
       "      <th>TextPreprocessed</th>\n",
       "      <th>TokenCnt</th>\n",
       "      <th>TopicIndex</th>\n",
       "      <th>TopicProportion</th>\n",
       "      <th>TopicList</th>\n",
       "    </tr>\n",
       "  </thead>\n",
       "  <tbody>\n",
       "    <tr>\n",
       "      <th>0</th>\n",
       "      <td>https://yonsei.everytime.kr/lecture/view/3640</td>\n",
       "      <td>INTERNATIONAL MONEY AND CAPITAL MARKETS</td>\n",
       "      <td>함준호</td>\n",
       "      <td>80.0</td>\n",
       "      <td>19년 1학기 수강자</td>\n",
       "      <td>한국은행 금융통화위원을 지내고 오신 교수님이시라 그런지 간간히 들려주시는 교수님의 ...</td>\n",
       "      <td>before</td>\n",
       "      <td>한국은행 금융 통화 위원 지내 교수 그런지 간간히 들려 교수 현장 쏠쏠 재미 중간고...</td>\n",
       "      <td>41</td>\n",
       "      <td>6</td>\n",
       "      <td>0.24809</td>\n",
       "      <td>[(4, 0.029200342), (6, 0.24809301), (8, 0.0359...</td>\n",
       "    </tr>\n",
       "    <tr>\n",
       "      <th>1</th>\n",
       "      <td>https://yonsei.everytime.kr/lecture/view/3640</td>\n",
       "      <td>INTERNATIONAL MONEY AND CAPITAL MARKETS</td>\n",
       "      <td>함준호</td>\n",
       "      <td>100.0</td>\n",
       "      <td>19년 1학기 수강자</td>\n",
       "      <td>교수님 너무 똑똑하시고 피피티 위주로 수업하시기는 하는데 현장경험이 풍부하셔서 그런...</td>\n",
       "      <td>before</td>\n",
       "      <td>교수 똑똑 피피티 위주 현장 경험 풍부 그런지 설명</td>\n",
       "      <td>9</td>\n",
       "      <td>15</td>\n",
       "      <td>0.47013</td>\n",
       "      <td>[(9, 0.3294825), (13, 0.11537117), (15, 0.4701...</td>\n",
       "    </tr>\n",
       "    <tr>\n",
       "      <th>2</th>\n",
       "      <td>https://yonsei.everytime.kr/lecture/view/943471</td>\n",
       "      <td>학교교실의현장연구방법입문</td>\n",
       "      <td>박순용</td>\n",
       "      <td>20.0</td>\n",
       "      <td>18년 2학기 수강자</td>\n",
       "      <td>교수님의 수업은 이해하기 쉬웠고 질적연구와 현장연구에 대해 잘 설명해주셔서 수업은 ...</td>\n",
       "      <td>before</td>\n",
       "      <td>교수 이해 쉬웠 연구 현장 연구 설명 중간고사 비중 성적 산출 아쉬운 부분</td>\n",
       "      <td>13</td>\n",
       "      <td>8</td>\n",
       "      <td>0.36030</td>\n",
       "      <td>[(5, 0.091161765), (8, 0.360301), (9, 0.236280...</td>\n",
       "    </tr>\n",
       "    <tr>\n",
       "      <th>3</th>\n",
       "      <td>https://yonsei.everytime.kr/lecture/view/943471</td>\n",
       "      <td>학교교실의현장연구방법입문</td>\n",
       "      <td>박순용</td>\n",
       "      <td>100.0</td>\n",
       "      <td>18년 2학기 수강자</td>\n",
       "      <td>개인적이지만 수업 괜찮았고 설명 잘해주심. 성적은 그냥 시험으로 갈리는듯? 조모임 ...</td>\n",
       "      <td>before</td>\n",
       "      <td>개인 괜찮 설명 성적 그냥 시험 갈리 모임 빡세 엄청 자주 만나 조원 만나 헤쳐 나...</td>\n",
       "      <td>47</td>\n",
       "      <td>16</td>\n",
       "      <td>0.35200</td>\n",
       "      <td>[(1, 0.02214311), (3, 0.022098638), (4, 0.0250...</td>\n",
       "    </tr>\n",
       "    <tr>\n",
       "      <th>4</th>\n",
       "      <td>https://yonsei.everytime.kr/lecture/view/2073400</td>\n",
       "      <td>국제이해교육</td>\n",
       "      <td>이무성</td>\n",
       "      <td>40.0</td>\n",
       "      <td>19년 2학기 수강자</td>\n",
       "      <td>교수님 좋고 학구적이고 내용도 좋은데 마이너스 폭격기임^^</td>\n",
       "      <td>before</td>\n",
       "      <td>교수 학구 내용 은데 마이너스 폭격기 ^^</td>\n",
       "      <td>7</td>\n",
       "      <td>0</td>\n",
       "      <td>0.32251</td>\n",
       "      <td>[(0, 0.32251048), (3, 0.13146742), (6, 0.29529...</td>\n",
       "    </tr>\n",
       "  </tbody>\n",
       "</table>\n",
       "</div>"
      ],
      "text/plain": [
       "                                         LectureUrl  \\\n",
       "0     https://yonsei.everytime.kr/lecture/view/3640   \n",
       "1     https://yonsei.everytime.kr/lecture/view/3640   \n",
       "2   https://yonsei.everytime.kr/lecture/view/943471   \n",
       "3   https://yonsei.everytime.kr/lecture/view/943471   \n",
       "4  https://yonsei.everytime.kr/lecture/view/2073400   \n",
       "\n",
       "                               LectureName LectureProf  ReviewStar  \\\n",
       "0  INTERNATIONAL MONEY AND CAPITAL MARKETS         함준호        80.0   \n",
       "1  INTERNATIONAL MONEY AND CAPITAL MARKETS         함준호       100.0   \n",
       "2                            학교교실의현장연구방법입문         박순용        20.0   \n",
       "3                            학교교실의현장연구방법입문         박순용       100.0   \n",
       "4                                   국제이해교육         이무성        40.0   \n",
       "\n",
       "  ReviewSemester                                         ReviewText COVID-19  \\\n",
       "0    19년 1학기 수강자  한국은행 금융통화위원을 지내고 오신 교수님이시라 그런지 간간히 들려주시는 교수님의 ...   before   \n",
       "1    19년 1학기 수강자  교수님 너무 똑똑하시고 피피티 위주로 수업하시기는 하는데 현장경험이 풍부하셔서 그런...   before   \n",
       "2    18년 2학기 수강자  교수님의 수업은 이해하기 쉬웠고 질적연구와 현장연구에 대해 잘 설명해주셔서 수업은 ...   before   \n",
       "3    18년 2학기 수강자  개인적이지만 수업 괜찮았고 설명 잘해주심. 성적은 그냥 시험으로 갈리는듯? 조모임 ...   before   \n",
       "4    19년 2학기 수강자                   교수님 좋고 학구적이고 내용도 좋은데 마이너스 폭격기임^^   before   \n",
       "\n",
       "                                    TextPreprocessed  TokenCnt  TopicIndex  \\\n",
       "0  한국은행 금융 통화 위원 지내 교수 그런지 간간히 들려 교수 현장 쏠쏠 재미 중간고...        41           6   \n",
       "1                       교수 똑똑 피피티 위주 현장 경험 풍부 그런지 설명         9          15   \n",
       "2          교수 이해 쉬웠 연구 현장 연구 설명 중간고사 비중 성적 산출 아쉬운 부분        13           8   \n",
       "3  개인 괜찮 설명 성적 그냥 시험 갈리 모임 빡세 엄청 자주 만나 조원 만나 헤쳐 나...        47          16   \n",
       "4                            교수 학구 내용 은데 마이너스 폭격기 ^^         7           0   \n",
       "\n",
       "   TopicProportion                                          TopicList  \n",
       "0          0.24809  [(4, 0.029200342), (6, 0.24809301), (8, 0.0359...  \n",
       "1          0.47013  [(9, 0.3294825), (13, 0.11537117), (15, 0.4701...  \n",
       "2          0.36030  [(5, 0.091161765), (8, 0.360301), (9, 0.236280...  \n",
       "3          0.35200  [(1, 0.02214311), (3, 0.022098638), (4, 0.0250...  \n",
       "4          0.32251  [(0, 0.32251048), (3, 0.13146742), (6, 0.29529...  "
      ]
     },
     "execution_count": 26,
     "metadata": {},
     "output_type": "execute_result"
    }
   ],
   "source": [
    "before_df.head()"
   ]
  },
  {
   "cell_type": "code",
   "execution_count": 27,
   "metadata": {},
   "outputs": [
    {
     "data": {
      "text/html": [
       "<div>\n",
       "<style scoped>\n",
       "    .dataframe tbody tr th:only-of-type {\n",
       "        vertical-align: middle;\n",
       "    }\n",
       "\n",
       "    .dataframe tbody tr th {\n",
       "        vertical-align: top;\n",
       "    }\n",
       "\n",
       "    .dataframe thead th {\n",
       "        text-align: right;\n",
       "    }\n",
       "</style>\n",
       "<table border=\"1\" class=\"dataframe\">\n",
       "  <thead>\n",
       "    <tr style=\"text-align: right;\">\n",
       "      <th></th>\n",
       "      <th>LectureUrl</th>\n",
       "      <th>LectureName</th>\n",
       "      <th>LectureProf</th>\n",
       "      <th>ReviewStar</th>\n",
       "      <th>ReviewSemester</th>\n",
       "      <th>ReviewText</th>\n",
       "      <th>COVID-19</th>\n",
       "      <th>TextPreprocessed</th>\n",
       "      <th>TokenCnt</th>\n",
       "      <th>TopicIndex</th>\n",
       "      <th>TopicProportion</th>\n",
       "      <th>TopicList</th>\n",
       "    </tr>\n",
       "  </thead>\n",
       "  <tbody>\n",
       "    <tr>\n",
       "      <th>0</th>\n",
       "      <td>https://yonsei.everytime.kr/lecture/view/3640</td>\n",
       "      <td>INTERNATIONAL MONEY AND CAPITAL MARKETS</td>\n",
       "      <td>함준호</td>\n",
       "      <td>100.0</td>\n",
       "      <td>20년 1학기 수강자</td>\n",
       "      <td>시험 잘 멋본 것 같은데 에이제로 떠서 놀람 감사합니다 교수님</td>\n",
       "      <td>after</td>\n",
       "      <td>시험 이제 떠서 놀람 감사 교수</td>\n",
       "      <td>6</td>\n",
       "      <td>15</td>\n",
       "      <td>0.21561</td>\n",
       "      <td>[(2, 0.1762178), (13, 0.13688217), (15, 0.2156...</td>\n",
       "    </tr>\n",
       "    <tr>\n",
       "      <th>1</th>\n",
       "      <td>https://yonsei.everytime.kr/lecture/view/3640</td>\n",
       "      <td>INTERNATIONAL MONEY AND CAPITAL MARKETS</td>\n",
       "      <td>함준호</td>\n",
       "      <td>80.0</td>\n",
       "      <td>20년 1학기 수강자</td>\n",
       "      <td>에 뭐,,, 그냥 괜찮았는데 자습기간을 안 주고 전범위 시험본다그러니까 당황스러웠네...</td>\n",
       "      <td>after</td>\n",
       "      <td>그냥 괜찮 자습 기간 범위 시험 본다 그러니까 당황 스러웠 교수 똑똑 나쁘 다만 시...</td>\n",
       "      <td>21</td>\n",
       "      <td>2</td>\n",
       "      <td>0.24527</td>\n",
       "      <td>[(0, 0.048770968), (2, 0.24527402), (4, 0.1238...</td>\n",
       "    </tr>\n",
       "    <tr>\n",
       "      <th>2</th>\n",
       "      <td>https://yonsei.everytime.kr/lecture/view/943471</td>\n",
       "      <td>학교교실의현장연구방법입문</td>\n",
       "      <td>박순용</td>\n",
       "      <td>80.0</td>\n",
       "      <td>20년 1학기 수강자</td>\n",
       "      <td>매주 온라인 강의를 늦게 올려주셔서 불편했지만 수업 내용은 무난하고 좋았습니다. 매...</td>\n",
       "      <td>after</td>\n",
       "      <td>매주 온라인 강의 올려 불편 내용 무난 매주 출석 과제 기말 연구 보고서 기말 온라...</td>\n",
       "      <td>44</td>\n",
       "      <td>8</td>\n",
       "      <td>0.54471</td>\n",
       "      <td>[(2, 0.27201992), (3, 0.10791202), (8, 0.54471...</td>\n",
       "    </tr>\n",
       "    <tr>\n",
       "      <th>3</th>\n",
       "      <td>https://yonsei.everytime.kr/lecture/view/943471</td>\n",
       "      <td>학교교실의현장연구방법입문</td>\n",
       "      <td>박순용</td>\n",
       "      <td>20.0</td>\n",
       "      <td>20년 1학기 수강자</td>\n",
       "      <td>조교가 일을 안하는건지 교수가 일을 안하는건지 강의가 맨날 늦게 올라옴 제 시간에 ...</td>\n",
       "      <td>after</td>\n",
       "      <td>조교 건지 교수 건지 강의 맨날 올라옴 시간 강의 니까 열정 초반 부터 사라짐 그러...</td>\n",
       "      <td>21</td>\n",
       "      <td>15</td>\n",
       "      <td>0.28452</td>\n",
       "      <td>[(3, 0.1920199), (12, 0.19286528), (15, 0.2845...</td>\n",
       "    </tr>\n",
       "    <tr>\n",
       "      <th>4</th>\n",
       "      <td>https://yonsei.everytime.kr/lecture/view/1600344</td>\n",
       "      <td>현대독일산문</td>\n",
       "      <td>이진영</td>\n",
       "      <td>100.0</td>\n",
       "      <td>20년 1학기 수강자</td>\n",
       "      <td>이번 학기에 들은 강의 중에 가장 좋았던 수업 중 하나. 교수님께서 학생들 많이 배...</td>\n",
       "      <td>after</td>\n",
       "      <td>학기 강의 가장 하나 교수 학생 배려 강의 필요 학생 감상 이나 해석 개입 참고 배...</td>\n",
       "      <td>53</td>\n",
       "      <td>4</td>\n",
       "      <td>0.40745</td>\n",
       "      <td>[(3, 0.1002135), (4, 0.40744993), (12, 0.15685...</td>\n",
       "    </tr>\n",
       "  </tbody>\n",
       "</table>\n",
       "</div>"
      ],
      "text/plain": [
       "                                         LectureUrl  \\\n",
       "0     https://yonsei.everytime.kr/lecture/view/3640   \n",
       "1     https://yonsei.everytime.kr/lecture/view/3640   \n",
       "2   https://yonsei.everytime.kr/lecture/view/943471   \n",
       "3   https://yonsei.everytime.kr/lecture/view/943471   \n",
       "4  https://yonsei.everytime.kr/lecture/view/1600344   \n",
       "\n",
       "                               LectureName LectureProf  ReviewStar  \\\n",
       "0  INTERNATIONAL MONEY AND CAPITAL MARKETS         함준호       100.0   \n",
       "1  INTERNATIONAL MONEY AND CAPITAL MARKETS         함준호        80.0   \n",
       "2                            학교교실의현장연구방법입문         박순용        80.0   \n",
       "3                            학교교실의현장연구방법입문         박순용        20.0   \n",
       "4                                   현대독일산문         이진영       100.0   \n",
       "\n",
       "  ReviewSemester                                         ReviewText COVID-19  \\\n",
       "0    20년 1학기 수강자                 시험 잘 멋본 것 같은데 에이제로 떠서 놀람 감사합니다 교수님    after   \n",
       "1    20년 1학기 수강자  에 뭐,,, 그냥 괜찮았는데 자습기간을 안 주고 전범위 시험본다그러니까 당황스러웠네...    after   \n",
       "2    20년 1학기 수강자  매주 온라인 강의를 늦게 올려주셔서 불편했지만 수업 내용은 무난하고 좋았습니다. 매...    after   \n",
       "3    20년 1학기 수강자  조교가 일을 안하는건지 교수가 일을 안하는건지 강의가 맨날 늦게 올라옴 제 시간에 ...    after   \n",
       "4    20년 1학기 수강자  이번 학기에 들은 강의 중에 가장 좋았던 수업 중 하나. 교수님께서 학생들 많이 배...    after   \n",
       "\n",
       "                                    TextPreprocessed  TokenCnt  TopicIndex  \\\n",
       "0                                  시험 이제 떠서 놀람 감사 교수         6          15   \n",
       "1  그냥 괜찮 자습 기간 범위 시험 본다 그러니까 당황 스러웠 교수 똑똑 나쁘 다만 시...        21           2   \n",
       "2  매주 온라인 강의 올려 불편 내용 무난 매주 출석 과제 기말 연구 보고서 기말 온라...        44           8   \n",
       "3  조교 건지 교수 건지 강의 맨날 올라옴 시간 강의 니까 열정 초반 부터 사라짐 그러...        21          15   \n",
       "4  학기 강의 가장 하나 교수 학생 배려 강의 필요 학생 감상 이나 해석 개입 참고 배...        53           4   \n",
       "\n",
       "   TopicProportion                                          TopicList  \n",
       "0          0.21561  [(2, 0.1762178), (13, 0.13688217), (15, 0.2156...  \n",
       "1          0.24527  [(0, 0.048770968), (2, 0.24527402), (4, 0.1238...  \n",
       "2          0.54471  [(2, 0.27201992), (3, 0.10791202), (8, 0.54471...  \n",
       "3          0.28452  [(3, 0.1920199), (12, 0.19286528), (15, 0.2845...  \n",
       "4          0.40745  [(3, 0.1002135), (4, 0.40744993), (12, 0.15685...  "
      ]
     },
     "execution_count": 27,
     "metadata": {},
     "output_type": "execute_result"
    }
   ],
   "source": [
    "after_df.head()"
   ]
  },
  {
   "cell_type": "code",
   "execution_count": 28,
   "metadata": {},
   "outputs": [],
   "source": [
    "before_df.to_csv('Task2_data_before_COVID19_with_topic.csv')\n",
    "after_df.to_csv('Task2_data_after_COVID19_with_topic.csv')"
   ]
  },
  {
   "cell_type": "code",
   "execution_count": 29,
   "metadata": {},
   "outputs": [
    {
     "data": {
      "image/png": "[encoded data removed]",
      "text/plain": [
       "<Figure size 1152x288 with 2 Axes>"
      ]
     },
     "metadata": {
      "needs_background": "light"
     },
     "output_type": "display_data"
    }
   ],
   "source": [
    "# Topic Distribution & ReviewStar Distribution before COVID-19\n",
    "\n",
    "fig, ax = plt.subplots(1, 2, figsize=(16, 4))\n",
    "\n",
    "plt.subplot(121)\n",
    "sns.countplot(x=before_topic_table['TopicIndex'])\n",
    "plt.title('Topic Distribution before COVID-19')\n",
    "\n",
    "plt.subplot(122)\n",
    "sns.boxplot(x='TopicIndex', y='ReviewStar', data=before_df, palette='Paired')\n",
    "plt.title('ReviewStar Distribution before COVID-19')\n",
    "\n",
    "plt.show()"
   ]
  },
  {
   "cell_type": "code",
   "execution_count": 30,
   "metadata": {},
   "outputs": [
    {
     "data": {
      "image/png": "[encoded data removed]",
      "text/plain": [
       "<Figure size 1152x288 with 2 Axes>"
      ]
     },
     "metadata": {
      "needs_background": "light"
     },
     "output_type": "display_data"
    }
   ],
   "source": [
    "# Topic Distribution & ReviewStar Distribution after COVID-19\n",
    "\n",
    "fig, ax = plt.subplots(1, 2, figsize=(16, 4))\n",
    "\n",
    "plt.subplot(121)\n",
    "sns.countplot(x=after_topic_table['TopicIndex'])\n",
    "plt.title('Topic Distribution after COVID-19')\n",
    "\n",
    "plt.subplot(122)\n",
    "sns.boxplot(x='TopicIndex', y='ReviewStar', data=after_df, palette='Paired')\n",
    "plt.title('ReviewStar Distribution after COVID-19')\n",
    "\n",
    "plt.show()"
   ]
  }
 ],
 "metadata": {
  "kernelspec": {
   "display_name": "Python 3",
   "language": "python",
   "name": "python3"
  },
  "language_info": {
   "codemirror_mode": {
    "name": "ipython",
    "version": 3
   },
   "file_extension": ".py",
   "mimetype": "text/x-python",
   "name": "python",
   "nbconvert_exporter": "python",
   "pygments_lexer": "ipython3",
   "version": "3.8.5"
  }
 },
 "nbformat": 4,
 "nbformat_minor": 4
}
