{
 "cells": [
  {
   "cell_type": "markdown",
   "metadata": {},
   "source": [
    "# Topic Modeling을 통한 코로나19 전/후 강의평 비교 분석"
   ]
  },
  {
   "cell_type": "code",
   "execution_count": 1,
   "metadata": {},
   "outputs": [],
   "source": [
    "import warnings\n",
    "warnings.filterwarnings(action='ignore')"
   ]
  },
  {
   "cell_type": "code",
   "execution_count": 2,
   "metadata": {},
   "outputs": [],
   "source": [
    "# load libs\n",
    "import pandas as pd\n",
    "import numpy as np\n",
    "import seaborn as sns\n",
    "import matplotlib.pyplot as plt\n",
    "%matplotlib inline\n",
    "\n",
    "from collections import Counter\n",
    "\n",
    "from utils import *"
   ]
  },
  {
   "cell_type": "code",
   "execution_count": 3,
   "metadata": {},
   "outputs": [],
   "source": [
    "# load dataset\n",
    "data = pd.read_csv('../data/2020LectureReview.csv', index_col=0)"
   ]
  },
  {
   "cell_type": "code",
   "execution_count": 4,
   "metadata": {},
   "outputs": [],
   "source": [
    "# make before/after COVID-19 column\n",
    "data['COVID-19'] = data['ReviewSemester'].apply(lambda x: 'before' if x not in ['20년 1학기 수강자', '20년 2학기 수강자'] else 'after')"
   ]
  },
  {
   "cell_type": "code",
   "execution_count": 5,
   "metadata": {},
   "outputs": [
    {
     "data": {
      "text/html": [
       "<div>\n",
       "<style scoped>\n",
       "    .dataframe tbody tr th:only-of-type {\n",
       "        vertical-align: middle;\n",
       "    }\n",
       "\n",
       "    .dataframe tbody tr th {\n",
       "        vertical-align: top;\n",
       "    }\n",
       "\n",
       "    .dataframe thead th {\n",
       "        text-align: right;\n",
       "    }\n",
       "</style>\n",
       "<table border=\"1\" class=\"dataframe\">\n",
       "  <thead>\n",
       "    <tr style=\"text-align: right;\">\n",
       "      <th></th>\n",
       "      <th>LectureUrl</th>\n",
       "      <th>LectureName</th>\n",
       "      <th>LectureProf</th>\n",
       "      <th>ReviewStar</th>\n",
       "      <th>ReviewSemester</th>\n",
       "      <th>ReviewText</th>\n",
       "      <th>COVID-19</th>\n",
       "    </tr>\n",
       "  </thead>\n",
       "  <tbody>\n",
       "    <tr>\n",
       "      <th>0</th>\n",
       "      <td>https://yonsei.everytime.kr/lecture/view/3640</td>\n",
       "      <td>INTERNATIONAL MONEY AND CAPITAL MARKETS</td>\n",
       "      <td>함준호</td>\n",
       "      <td>100.0</td>\n",
       "      <td>20년 1학기 수강자</td>\n",
       "      <td>시험 잘 멋본 것 같은데 에이제로 떠서 놀람 감사합니다 교수님</td>\n",
       "      <td>after</td>\n",
       "    </tr>\n",
       "    <tr>\n",
       "      <th>1</th>\n",
       "      <td>https://yonsei.everytime.kr/lecture/view/3640</td>\n",
       "      <td>INTERNATIONAL MONEY AND CAPITAL MARKETS</td>\n",
       "      <td>함준호</td>\n",
       "      <td>80.0</td>\n",
       "      <td>20년 1학기 수강자</td>\n",
       "      <td>에 뭐,,, 그냥 괜찮았는데 자습기간을 안 주고 전범위 시험본다그러니까 당황스러웠네...</td>\n",
       "      <td>after</td>\n",
       "    </tr>\n",
       "    <tr>\n",
       "      <th>2</th>\n",
       "      <td>https://yonsei.everytime.kr/lecture/view/3640</td>\n",
       "      <td>INTERNATIONAL MONEY AND CAPITAL MARKETS</td>\n",
       "      <td>함준호</td>\n",
       "      <td>80.0</td>\n",
       "      <td>19년 1학기 수강자</td>\n",
       "      <td>한국은행 금융통화위원을 지내고 오신 교수님이시라 그런지 간간히 들려주시는 교수님의 ...</td>\n",
       "      <td>before</td>\n",
       "    </tr>\n",
       "    <tr>\n",
       "      <th>3</th>\n",
       "      <td>https://yonsei.everytime.kr/lecture/view/3640</td>\n",
       "      <td>INTERNATIONAL MONEY AND CAPITAL MARKETS</td>\n",
       "      <td>함준호</td>\n",
       "      <td>100.0</td>\n",
       "      <td>19년 1학기 수강자</td>\n",
       "      <td>교수님 너무 똑똑하시고 피피티 위주로 수업하시기는 하는데 현장경험이 풍부하셔서 그런...</td>\n",
       "      <td>before</td>\n",
       "    </tr>\n",
       "    <tr>\n",
       "      <th>4</th>\n",
       "      <td>https://yonsei.everytime.kr/lecture/view/943471</td>\n",
       "      <td>학교교실의현장연구방법입문</td>\n",
       "      <td>박순용</td>\n",
       "      <td>80.0</td>\n",
       "      <td>20년 1학기 수강자</td>\n",
       "      <td>매주 온라인 강의를 늦게 올려주셔서 불편했지만 수업 내용은 무난하고 좋았습니다. 매...</td>\n",
       "      <td>after</td>\n",
       "    </tr>\n",
       "  </tbody>\n",
       "</table>\n",
       "</div>"
      ],
      "text/plain": [
       "                                        LectureUrl  \\\n",
       "0    https://yonsei.everytime.kr/lecture/view/3640   \n",
       "1    https://yonsei.everytime.kr/lecture/view/3640   \n",
       "2    https://yonsei.everytime.kr/lecture/view/3640   \n",
       "3    https://yonsei.everytime.kr/lecture/view/3640   \n",
       "4  https://yonsei.everytime.kr/lecture/view/943471   \n",
       "\n",
       "                               LectureName LectureProf  ReviewStar  \\\n",
       "0  INTERNATIONAL MONEY AND CAPITAL MARKETS         함준호       100.0   \n",
       "1  INTERNATIONAL MONEY AND CAPITAL MARKETS         함준호        80.0   \n",
       "2  INTERNATIONAL MONEY AND CAPITAL MARKETS         함준호        80.0   \n",
       "3  INTERNATIONAL MONEY AND CAPITAL MARKETS         함준호       100.0   \n",
       "4                            학교교실의현장연구방법입문         박순용        80.0   \n",
       "\n",
       "  ReviewSemester                                         ReviewText COVID-19  \n",
       "0    20년 1학기 수강자                 시험 잘 멋본 것 같은데 에이제로 떠서 놀람 감사합니다 교수님    after  \n",
       "1    20년 1학기 수강자  에 뭐,,, 그냥 괜찮았는데 자습기간을 안 주고 전범위 시험본다그러니까 당황스러웠네...    after  \n",
       "2    19년 1학기 수강자  한국은행 금융통화위원을 지내고 오신 교수님이시라 그런지 간간히 들려주시는 교수님의 ...   before  \n",
       "3    19년 1학기 수강자  교수님 너무 똑똑하시고 피피티 위주로 수업하시기는 하는데 현장경험이 풍부하셔서 그런...   before  \n",
       "4    20년 1학기 수강자  매주 온라인 강의를 늦게 올려주셔서 불편했지만 수업 내용은 무난하고 좋았습니다. 매...    after  "
      ]
     },
     "execution_count": 5,
     "metadata": {},
     "output_type": "execute_result"
    }
   ],
   "source": [
    "data.head()"
   ]
  },
  {
   "cell_type": "markdown",
   "metadata": {},
   "source": [
    "## Task1 : 전체 강의평에 대하여 토픽 모델링 진행 후 코로나 전/후 강의평 토픽 비교"
   ]
  },
  {
   "cell_type": "markdown",
   "metadata": {},
   "source": [
    "### Preprocessing"
   ]
  },
  {
   "cell_type": "code",
   "execution_count": 6,
   "metadata": {},
   "outputs": [
    {
     "data": {
      "text/html": [
       "<div>\n",
       "<style scoped>\n",
       "    .dataframe tbody tr th:only-of-type {\n",
       "        vertical-align: middle;\n",
       "    }\n",
       "\n",
       "    .dataframe tbody tr th {\n",
       "        vertical-align: top;\n",
       "    }\n",
       "\n",
       "    .dataframe thead th {\n",
       "        text-align: right;\n",
       "    }\n",
       "</style>\n",
       "<table border=\"1\" class=\"dataframe\">\n",
       "  <thead>\n",
       "    <tr style=\"text-align: right;\">\n",
       "      <th></th>\n",
       "      <th>LectureUrl</th>\n",
       "      <th>LectureName</th>\n",
       "      <th>LectureProf</th>\n",
       "      <th>ReviewStar</th>\n",
       "      <th>ReviewSemester</th>\n",
       "      <th>ReviewText</th>\n",
       "      <th>COVID-19</th>\n",
       "      <th>TextPreprocessed</th>\n",
       "      <th>TokenCnt</th>\n",
       "    </tr>\n",
       "  </thead>\n",
       "  <tbody>\n",
       "    <tr>\n",
       "      <th>0</th>\n",
       "      <td>https://yonsei.everytime.kr/lecture/view/3640</td>\n",
       "      <td>INTERNATIONAL MONEY AND CAPITAL MARKETS</td>\n",
       "      <td>함준호</td>\n",
       "      <td>100.0</td>\n",
       "      <td>20년 1학기 수강자</td>\n",
       "      <td>시험 잘 멋본 것 같은데 에이제로 떠서 놀람 감사합니다 교수님</td>\n",
       "      <td>after</td>\n",
       "      <td>시험 이제 떠서 놀람 감사</td>\n",
       "      <td>5</td>\n",
       "    </tr>\n",
       "    <tr>\n",
       "      <th>1</th>\n",
       "      <td>https://yonsei.everytime.kr/lecture/view/3640</td>\n",
       "      <td>INTERNATIONAL MONEY AND CAPITAL MARKETS</td>\n",
       "      <td>함준호</td>\n",
       "      <td>80.0</td>\n",
       "      <td>20년 1학기 수강자</td>\n",
       "      <td>에 뭐,,, 그냥 괜찮았는데 자습기간을 안 주고 전범위 시험본다그러니까 당황스러웠네...</td>\n",
       "      <td>after</td>\n",
       "      <td>그냥 괜찮 자습 기간 범위 시험 본다 그러니까 당황 똑똑 나쁘 다만 시간 연속 힘들...</td>\n",
       "      <td>20</td>\n",
       "    </tr>\n",
       "    <tr>\n",
       "      <th>2</th>\n",
       "      <td>https://yonsei.everytime.kr/lecture/view/3640</td>\n",
       "      <td>INTERNATIONAL MONEY AND CAPITAL MARKETS</td>\n",
       "      <td>함준호</td>\n",
       "      <td>80.0</td>\n",
       "      <td>19년 1학기 수강자</td>\n",
       "      <td>한국은행 금융통화위원을 지내고 오신 교수님이시라 그런지 간간히 들려주시는 교수님의 ...</td>\n",
       "      <td>before</td>\n",
       "      <td>한국은행 금융 통화 위원 지내 그런지 간간히 들려 현장 쏠쏠 재미 중간고사 기말고사...</td>\n",
       "      <td>37</td>\n",
       "    </tr>\n",
       "    <tr>\n",
       "      <th>3</th>\n",
       "      <td>https://yonsei.everytime.kr/lecture/view/3640</td>\n",
       "      <td>INTERNATIONAL MONEY AND CAPITAL MARKETS</td>\n",
       "      <td>함준호</td>\n",
       "      <td>100.0</td>\n",
       "      <td>19년 1학기 수강자</td>\n",
       "      <td>교수님 너무 똑똑하시고 피피티 위주로 수업하시기는 하는데 현장경험이 풍부하셔서 그런...</td>\n",
       "      <td>before</td>\n",
       "      <td>똑똑 피피티 위주 현장 경험 풍부 그런지 설명</td>\n",
       "      <td>8</td>\n",
       "    </tr>\n",
       "    <tr>\n",
       "      <th>4</th>\n",
       "      <td>https://yonsei.everytime.kr/lecture/view/943471</td>\n",
       "      <td>학교교실의현장연구방법입문</td>\n",
       "      <td>박순용</td>\n",
       "      <td>80.0</td>\n",
       "      <td>20년 1학기 수강자</td>\n",
       "      <td>매주 온라인 강의를 늦게 올려주셔서 불편했지만 수업 내용은 무난하고 좋았습니다. 매...</td>\n",
       "      <td>after</td>\n",
       "      <td>매주 온라인 올려 불편 무난 매주 출석 과제 기말 연구 보고서 기말 온라인 시험 이...</td>\n",
       "      <td>37</td>\n",
       "    </tr>\n",
       "  </tbody>\n",
       "</table>\n",
       "</div>"
      ],
      "text/plain": [
       "                                        LectureUrl  \\\n",
       "0    https://yonsei.everytime.kr/lecture/view/3640   \n",
       "1    https://yonsei.everytime.kr/lecture/view/3640   \n",
       "2    https://yonsei.everytime.kr/lecture/view/3640   \n",
       "3    https://yonsei.everytime.kr/lecture/view/3640   \n",
       "4  https://yonsei.everytime.kr/lecture/view/943471   \n",
       "\n",
       "                               LectureName LectureProf  ReviewStar  \\\n",
       "0  INTERNATIONAL MONEY AND CAPITAL MARKETS         함준호       100.0   \n",
       "1  INTERNATIONAL MONEY AND CAPITAL MARKETS         함준호        80.0   \n",
       "2  INTERNATIONAL MONEY AND CAPITAL MARKETS         함준호        80.0   \n",
       "3  INTERNATIONAL MONEY AND CAPITAL MARKETS         함준호       100.0   \n",
       "4                            학교교실의현장연구방법입문         박순용        80.0   \n",
       "\n",
       "  ReviewSemester                                         ReviewText COVID-19  \\\n",
       "0    20년 1학기 수강자                 시험 잘 멋본 것 같은데 에이제로 떠서 놀람 감사합니다 교수님    after   \n",
       "1    20년 1학기 수강자  에 뭐,,, 그냥 괜찮았는데 자습기간을 안 주고 전범위 시험본다그러니까 당황스러웠네...    after   \n",
       "2    19년 1학기 수강자  한국은행 금융통화위원을 지내고 오신 교수님이시라 그런지 간간히 들려주시는 교수님의 ...   before   \n",
       "3    19년 1학기 수강자  교수님 너무 똑똑하시고 피피티 위주로 수업하시기는 하는데 현장경험이 풍부하셔서 그런...   before   \n",
       "4    20년 1학기 수강자  매주 온라인 강의를 늦게 올려주셔서 불편했지만 수업 내용은 무난하고 좋았습니다. 매...    after   \n",
       "\n",
       "                                    TextPreprocessed  TokenCnt  \n",
       "0                                     시험 이제 떠서 놀람 감사         5  \n",
       "1  그냥 괜찮 자습 기간 범위 시험 본다 그러니까 당황 똑똑 나쁘 다만 시간 연속 힘들...        20  \n",
       "2  한국은행 금융 통화 위원 지내 그런지 간간히 들려 현장 쏠쏠 재미 중간고사 기말고사...        37  \n",
       "3                          똑똑 피피티 위주 현장 경험 풍부 그런지 설명         8  \n",
       "4  매주 온라인 올려 불편 무난 매주 출석 과제 기말 연구 보고서 기말 온라인 시험 이...        37  "
      ]
     },
     "execution_count": 6,
     "metadata": {},
     "output_type": "execute_result"
    }
   ],
   "source": [
    "data_, text_tokenized_ = Preprocessor(data, list(data['ReviewText'].values))\n",
    "data_.head()"
   ]
  },
  {
   "cell_type": "markdown",
   "metadata": {},
   "source": [
    "### Topic Modeling (LDA)"
   ]
  },
  {
   "cell_type": "code",
   "execution_count": 7,
   "metadata": {
    "scrolled": true
   },
   "outputs": [
    {
     "name": "stdout",
     "output_type": "stream",
     "text": [
      "============ Topic List ============\n",
      "(0, '0.137*\"학기\" + 0.088*\"수강\" + 0.034*\"신청\" + 0.022*\"내내\" + 0.018*\"계절\"')\n",
      "(1, '0.068*\"성적\" + 0.065*\"평가\" + 0.064*\"모르\" + 0.053*\"학점\" + 0.051*\"기준\"')\n",
      "(2, '0.072*\"발표\" + 0.028*\"모임\" + 0.026*\"조별\" + 0.022*\"주제\" + 0.022*\"시간\"')\n",
      "(3, '0.031*\"그냥\" + 0.021*\"사람\" + 0.021*\"모르\" + 0.020*\"아니\" + 0.019*\"ㅋㅋ\"')\n",
      "(4, '0.189*\"족보\" + 0.048*\"절대\" + 0.037*\"기출\" + 0.030*\"깔끔\" + 0.027*\"그대로\"')\n",
      "(5, '0.095*\"기말\" + 0.091*\"중간\" + 0.064*\"점수\" + 0.039*\"열심히\" + 0.038*\"성적\"')\n",
      "(6, '0.059*\"공부\" + 0.056*\"시험\" + 0.044*\"그냥\" + 0.029*\"외우\" + 0.029*\"피피티\"')\n",
      "(7, '0.039*\"생각\" + 0.015*\"보다\" + 0.011*\"아니\" + 0.010*\"말씀\" + 0.009*\"지식\"')\n",
      "(8, '0.101*\"퀴즈\" + 0.077*\"영어\" + 0.033*\"이해\" + 0.026*\"힘들\" + 0.026*\"진도\"')\n",
      "(9, '0.108*\"질문\" + 0.040*\"친절\" + 0.025*\"설명\" + 0.021*\"피드백\" + 0.020*\"답변\"')\n",
      "(10, '0.054*\"ㅠㅠ\" + 0.051*\"학점\" + 0.040*\"천사\" + 0.039*\"사랑\" + 0.037*\"단점\"')\n",
      "(11, '0.120*\"학생\" + 0.021*\"노력\" + 0.016*\"생각\" + 0.014*\"배려\" + 0.010*\"최대한\"')\n",
      "(12, '0.113*\"과제\" + 0.049*\"학점\" + 0.042*\"시험\" + 0.019*\"부담\" + 0.018*\"모임\"')\n",
      "(13, '0.062*\"과제\" + 0.042*\"시간\" + 0.029*\"기말\" + 0.024*\"중간\" + 0.024*\"제출\"')\n",
      "(14, '0.117*\"ㅎㅎ\" + 0.072*\"리딩\" + 0.031*\"패스\" + 0.029*\"갑니다\" + 0.026*\"페이퍼\"')\n",
      "(15, '0.028*\"과목\" + 0.019*\"배우\" + 0.013*\"이론\" + 0.012*\"프로젝트\" + 0.012*\"학기\"')\n",
      "(16, '0.098*\"채플\" + 0.040*\"학교\" + 0.024*\"그냥\" + 0.022*\"다니\" + 0.021*\"종교\"')\n",
      "(17, '0.115*\"기독교\" + 0.064*\"무조건\" + 0.061*\"경제\" + 0.058*\"경제학\" + 0.033*\"실험\"')\n",
      "(18, '0.081*\"시험\" + 0.078*\"문제\" + 0.023*\"공부\" + 0.019*\"시간\" + 0.017*\"나오\"')\n",
      "(19, '0.093*\"재밌\" + 0.046*\"흥미\" + 0.032*\"재미있\" + 0.030*\"최고\" + 0.024*\"관심\"')\n"
     ]
    }
   ],
   "source": [
    "# topic modeling => topic list\n",
    "print('============ Topic List ============')\n",
    "corpus_, lda_ = ModelingLDA(text_tokenized_)"
   ]
  },
  {
   "cell_type": "code",
   "execution_count": 8,
   "metadata": {},
   "outputs": [],
   "source": [
    "topic_table_ = MakeTopicTable(corpus_, lda_)"
   ]
  },
  {
   "cell_type": "code",
   "execution_count": 9,
   "metadata": {},
   "outputs": [
    {
     "data": {
      "text/html": [
       "<div>\n",
       "<style scoped>\n",
       "    .dataframe tbody tr th:only-of-type {\n",
       "        vertical-align: middle;\n",
       "    }\n",
       "\n",
       "    .dataframe tbody tr th {\n",
       "        vertical-align: top;\n",
       "    }\n",
       "\n",
       "    .dataframe thead th {\n",
       "        text-align: right;\n",
       "    }\n",
       "</style>\n",
       "<table border=\"1\" class=\"dataframe\">\n",
       "  <thead>\n",
       "    <tr style=\"text-align: right;\">\n",
       "      <th></th>\n",
       "      <th>LectureUrl</th>\n",
       "      <th>LectureName</th>\n",
       "      <th>LectureProf</th>\n",
       "      <th>ReviewStar</th>\n",
       "      <th>ReviewSemester</th>\n",
       "      <th>ReviewText</th>\n",
       "      <th>COVID-19</th>\n",
       "      <th>TextPreprocessed</th>\n",
       "      <th>TokenCnt</th>\n",
       "      <th>TopicIndex</th>\n",
       "      <th>TopicProportion</th>\n",
       "      <th>TopicList</th>\n",
       "    </tr>\n",
       "  </thead>\n",
       "  <tbody>\n",
       "    <tr>\n",
       "      <th>0</th>\n",
       "      <td>https://yonsei.everytime.kr/lecture/view/3640</td>\n",
       "      <td>INTERNATIONAL MONEY AND CAPITAL MARKETS</td>\n",
       "      <td>함준호</td>\n",
       "      <td>100.0</td>\n",
       "      <td>20년 1학기 수강자</td>\n",
       "      <td>시험 잘 멋본 것 같은데 에이제로 떠서 놀람 감사합니다 교수님</td>\n",
       "      <td>after</td>\n",
       "      <td>시험 이제 떠서 놀람 감사</td>\n",
       "      <td>5</td>\n",
       "      <td>5</td>\n",
       "      <td>0.50840</td>\n",
       "      <td>[(5, 0.5084031), (10, 0.1497514), (11, 0.20014...</td>\n",
       "    </tr>\n",
       "    <tr>\n",
       "      <th>1</th>\n",
       "      <td>https://yonsei.everytime.kr/lecture/view/3640</td>\n",
       "      <td>INTERNATIONAL MONEY AND CAPITAL MARKETS</td>\n",
       "      <td>함준호</td>\n",
       "      <td>80.0</td>\n",
       "      <td>20년 1학기 수강자</td>\n",
       "      <td>에 뭐,,, 그냥 괜찮았는데 자습기간을 안 주고 전범위 시험본다그러니까 당황스러웠네...</td>\n",
       "      <td>after</td>\n",
       "      <td>그냥 괜찮 자습 기간 범위 시험 본다 그러니까 당황 똑똑 나쁘 다만 시간 연속 힘들...</td>\n",
       "      <td>20</td>\n",
       "      <td>12</td>\n",
       "      <td>0.24023</td>\n",
       "      <td>[(0, 0.09931418), (3, 0.19417548), (7, 0.17108...</td>\n",
       "    </tr>\n",
       "    <tr>\n",
       "      <th>2</th>\n",
       "      <td>https://yonsei.everytime.kr/lecture/view/3640</td>\n",
       "      <td>INTERNATIONAL MONEY AND CAPITAL MARKETS</td>\n",
       "      <td>함준호</td>\n",
       "      <td>80.0</td>\n",
       "      <td>19년 1학기 수강자</td>\n",
       "      <td>한국은행 금융통화위원을 지내고 오신 교수님이시라 그런지 간간히 들려주시는 교수님의 ...</td>\n",
       "      <td>before</td>\n",
       "      <td>한국은행 금융 통화 위원 지내 그런지 간간히 들려 현장 쏠쏠 재미 중간고사 기말고사...</td>\n",
       "      <td>37</td>\n",
       "      <td>15</td>\n",
       "      <td>0.35491</td>\n",
       "      <td>[(1, 0.03402836), (4, 0.029181197), (5, 0.0820...</td>\n",
       "    </tr>\n",
       "    <tr>\n",
       "      <th>3</th>\n",
       "      <td>https://yonsei.everytime.kr/lecture/view/3640</td>\n",
       "      <td>INTERNATIONAL MONEY AND CAPITAL MARKETS</td>\n",
       "      <td>함준호</td>\n",
       "      <td>100.0</td>\n",
       "      <td>19년 1학기 수강자</td>\n",
       "      <td>교수님 너무 똑똑하시고 피피티 위주로 수업하시기는 하는데 현장경험이 풍부하셔서 그런...</td>\n",
       "      <td>before</td>\n",
       "      <td>똑똑 피피티 위주 현장 경험 풍부 그런지 설명</td>\n",
       "      <td>8</td>\n",
       "      <td>7</td>\n",
       "      <td>0.66046</td>\n",
       "      <td>[(6, 0.100962505), (7, 0.6604634), (18, 0.1441...</td>\n",
       "    </tr>\n",
       "    <tr>\n",
       "      <th>4</th>\n",
       "      <td>https://yonsei.everytime.kr/lecture/view/943471</td>\n",
       "      <td>학교교실의현장연구방법입문</td>\n",
       "      <td>박순용</td>\n",
       "      <td>80.0</td>\n",
       "      <td>20년 1학기 수강자</td>\n",
       "      <td>매주 온라인 강의를 늦게 올려주셔서 불편했지만 수업 내용은 무난하고 좋았습니다. 매...</td>\n",
       "      <td>after</td>\n",
       "      <td>매주 온라인 올려 불편 무난 매주 출석 과제 기말 연구 보고서 기말 온라인 시험 이...</td>\n",
       "      <td>37</td>\n",
       "      <td>13</td>\n",
       "      <td>0.55879</td>\n",
       "      <td>[(2, 0.1111063), (3, 0.029376492), (9, 0.07190...</td>\n",
       "    </tr>\n",
       "  </tbody>\n",
       "</table>\n",
       "</div>"
      ],
      "text/plain": [
       "                                        LectureUrl  \\\n",
       "0    https://yonsei.everytime.kr/lecture/view/3640   \n",
       "1    https://yonsei.everytime.kr/lecture/view/3640   \n",
       "2    https://yonsei.everytime.kr/lecture/view/3640   \n",
       "3    https://yonsei.everytime.kr/lecture/view/3640   \n",
       "4  https://yonsei.everytime.kr/lecture/view/943471   \n",
       "\n",
       "                               LectureName LectureProf  ReviewStar  \\\n",
       "0  INTERNATIONAL MONEY AND CAPITAL MARKETS         함준호       100.0   \n",
       "1  INTERNATIONAL MONEY AND CAPITAL MARKETS         함준호        80.0   \n",
       "2  INTERNATIONAL MONEY AND CAPITAL MARKETS         함준호        80.0   \n",
       "3  INTERNATIONAL MONEY AND CAPITAL MARKETS         함준호       100.0   \n",
       "4                            학교교실의현장연구방법입문         박순용        80.0   \n",
       "\n",
       "  ReviewSemester                                         ReviewText COVID-19  \\\n",
       "0    20년 1학기 수강자                 시험 잘 멋본 것 같은데 에이제로 떠서 놀람 감사합니다 교수님    after   \n",
       "1    20년 1학기 수강자  에 뭐,,, 그냥 괜찮았는데 자습기간을 안 주고 전범위 시험본다그러니까 당황스러웠네...    after   \n",
       "2    19년 1학기 수강자  한국은행 금융통화위원을 지내고 오신 교수님이시라 그런지 간간히 들려주시는 교수님의 ...   before   \n",
       "3    19년 1학기 수강자  교수님 너무 똑똑하시고 피피티 위주로 수업하시기는 하는데 현장경험이 풍부하셔서 그런...   before   \n",
       "4    20년 1학기 수강자  매주 온라인 강의를 늦게 올려주셔서 불편했지만 수업 내용은 무난하고 좋았습니다. 매...    after   \n",
       "\n",
       "                                    TextPreprocessed  TokenCnt  TopicIndex  \\\n",
       "0                                     시험 이제 떠서 놀람 감사         5           5   \n",
       "1  그냥 괜찮 자습 기간 범위 시험 본다 그러니까 당황 똑똑 나쁘 다만 시간 연속 힘들...        20          12   \n",
       "2  한국은행 금융 통화 위원 지내 그런지 간간히 들려 현장 쏠쏠 재미 중간고사 기말고사...        37          15   \n",
       "3                          똑똑 피피티 위주 현장 경험 풍부 그런지 설명         8           7   \n",
       "4  매주 온라인 올려 불편 무난 매주 출석 과제 기말 연구 보고서 기말 온라인 시험 이...        37          13   \n",
       "\n",
       "   TopicProportion                                          TopicList  \n",
       "0          0.50840  [(5, 0.5084031), (10, 0.1497514), (11, 0.20014...  \n",
       "1          0.24023  [(0, 0.09931418), (3, 0.19417548), (7, 0.17108...  \n",
       "2          0.35491  [(1, 0.03402836), (4, 0.029181197), (5, 0.0820...  \n",
       "3          0.66046  [(6, 0.100962505), (7, 0.6604634), (18, 0.1441...  \n",
       "4          0.55879  [(2, 0.1111063), (3, 0.029376492), (9, 0.07190...  "
      ]
     },
     "execution_count": 9,
     "metadata": {},
     "output_type": "execute_result"
    }
   ],
   "source": [
    "df_ = pd.concat([data_.reset_index(drop=True), topic_table_.reset_index(drop=True)], axis=1)\n",
    "df_.head()"
   ]
  },
  {
   "cell_type": "code",
   "execution_count": 10,
   "metadata": {},
   "outputs": [],
   "source": [
    "df_.to_csv('Task1_data_with_topic.csv')"
   ]
  },
  {
   "cell_type": "code",
   "execution_count": 11,
   "metadata": {},
   "outputs": [],
   "source": [
    "before_df_ = df_[df_['COVID-19']=='before']\n",
    "after_df_ = df_[df_['COVID-19']=='after']"
   ]
  },
  {
   "cell_type": "code",
   "execution_count": 12,
   "metadata": {},
   "outputs": [
    {
     "data": {
      "image/png": "[encoded data removed]",
      "text/plain": [
       "<Figure size 1152x288 with 1 Axes>"
      ]
     },
     "metadata": {
      "needs_background": "light"
     },
     "output_type": "display_data"
    },
    {
     "data": {
      "image/png": "[encoded data removed]",
      "text/plain": [
       "<Figure size 1152x288 with 2 Axes>"
      ]
     },
     "metadata": {
      "needs_background": "light"
     },
     "output_type": "display_data"
    }
   ],
   "source": [
    "# ReviewStar Distribution\n",
    "\n",
    "fig, ax = plt.subplots(1, 1, figsize=(16, 4))\n",
    "\n",
    "sns.boxplot(x='TopicIndex', y='ReviewStar', data=df_, palette='Paired')\n",
    "plt.title('ReviewStar Distribution')\n",
    "\n",
    "fig, ax = plt.subplots(1, 2, figsize=(16, 4))\n",
    "\n",
    "plt.subplot(121)\n",
    "sns.boxplot(x='TopicIndex', y='ReviewStar', data=before_df_, palette='Paired')\n",
    "plt.title('ReviewStar Distribution before COVID-19')\n",
    "\n",
    "plt.subplot(122)\n",
    "sns.boxplot(x='TopicIndex', y='ReviewStar', data=after_df_, palette='Paired')\n",
    "plt.title('ReviewStar Distribution after COVID-19')\n",
    "\n",
    "plt.show()"
   ]
  },
  {
   "cell_type": "code",
   "execution_count": 13,
   "metadata": {},
   "outputs": [
    {
     "data": {
      "image/png": "[encoded data removed]",
      "text/plain": [
       "<Figure size 1152x288 with 1 Axes>"
      ]
     },
     "metadata": {
      "needs_background": "light"
     },
     "output_type": "display_data"
    },
    {
     "data": {
      "image/png": "[encoded data removed]",
      "text/plain": [
       "<Figure size 1152x576 with 4 Axes>"
      ]
     },
     "metadata": {
      "needs_background": "light"
     },
     "output_type": "display_data"
    }
   ],
   "source": [
    "# Topic Distribution\n",
    "\n",
    "before_temp_ = before_df_.groupby('TopicIndex').count()['LectureUrl']\n",
    "after_temp_ = after_df_.groupby('TopicIndex').count()['LectureUrl']\n",
    "\n",
    "fig, ax = plt.subplots(1, 1, figsize=(16, 4))\n",
    "\n",
    "sns.countplot(x=df_['TopicIndex'])\n",
    "plt.title('Topic Distribution')\n",
    "\n",
    "fig, ax = plt.subplots(2, 2, figsize=(16, 8))\n",
    "\n",
    "plt.subplot(221)\n",
    "sns.countplot(x=before_df_['TopicIndex'])\n",
    "plt.yticks(range(0, 7001, 1000))\n",
    "plt.xlabel('')\n",
    "plt.title('Topic Distribution before COVID-19')\n",
    "\n",
    "plt.subplot(222)\n",
    "sns.countplot(x=after_df_['TopicIndex'])\n",
    "plt.yticks(range(0, 7001, 1000))\n",
    "plt.xlabel('')\n",
    "plt.title('Topic Distribution after COVID-19')\n",
    "\n",
    "plt.subplot(223)\n",
    "sns.barplot(x=before_temp_.index, y=before_temp_.values/len(before_df_))\n",
    "plt.yticks(np.arange(0, 0.20, 0.02))\n",
    "plt.ylabel('proportion')\n",
    "\n",
    "plt.subplot(224)\n",
    "sns.barplot(x=after_temp_.index, y=after_temp_.values/len(after_df_))\n",
    "plt.yticks(np.arange(0, 0.20, 0.02))\n",
    "plt.ylabel('proportion')\n",
    "\n",
    "plt.show()"
   ]
  },
  {
   "cell_type": "code",
   "execution_count": 14,
   "metadata": {
    "scrolled": true
   },
   "outputs": [
    {
     "data": {
      "image/png": "[encoded data removed]",
      "text/plain": [
       "<Figure size 1152x864 with 3 Axes>"
      ]
     },
     "metadata": {
      "needs_background": "light"
     },
     "output_type": "display_data"
    }
   ],
   "source": [
    "# Compare Topic Distribution before/after COVID19\n",
    "\n",
    "fig, ax = plt.subplots(3, 1, figsize=(16, 12))\n",
    "\n",
    "plt.subplot(311)\n",
    "sns.countplot(x='TopicIndex', data=df_)\n",
    "plt.xticks(range(0, 20, 1))\n",
    "plt.xlabel('')\n",
    "plt.title('Topic Distribution')\n",
    "\n",
    "plt.subplot(312)\n",
    "sns.countplot(x='TopicIndex', data=df_, hue='COVID-19', palette='muted')\n",
    "plt.xticks(range(0, 20, 1))\n",
    "plt.xlabel('')\n",
    "plt.ylabel('count')\n",
    "\n",
    "plt.subplot(313)\n",
    "sns.lineplot(x=after_temp_.index, y=after_temp_.values/len(after_df_), label='after COVID-19', color=sns.color_palette('muted')[0])\n",
    "sns.lineplot(x=before_temp_.index, y=before_temp_.values/len(before_df_), label='before COVID-19', color=sns.color_palette('muted')[1])\n",
    "plt.xticks(range(0, 20, 1))\n",
    "plt.ylabel('proportion')\n",
    "\n",
    "plt.show()"
   ]
  },
  {
   "cell_type": "markdown",
   "metadata": {},
   "source": [
    "## Task2 : 코로나 전/후 강의평에 대하여 각각 토픽 모델링 진행 후 코로나 전/후 강의평 토픽 비교"
   ]
  },
  {
   "cell_type": "markdown",
   "metadata": {},
   "source": [
    "### Preprocessing"
   ]
  },
  {
   "cell_type": "code",
   "execution_count": 15,
   "metadata": {},
   "outputs": [],
   "source": [
    "before_data = data[data['COVID-19']=='before']\n",
    "after_data = data[data['COVID-19']=='after']"
   ]
  },
  {
   "cell_type": "code",
   "execution_count": 16,
   "metadata": {},
   "outputs": [],
   "source": [
    "before_text = list(before_data['ReviewText'].values)\n",
    "after_text = list(after_data['ReviewText'].values)"
   ]
  },
  {
   "cell_type": "code",
   "execution_count": 17,
   "metadata": {},
   "outputs": [],
   "source": [
    "before_data, before_text_tokenized = Preprocessor(before_data, before_text)\n",
    "after_data, after_text_tokenized = Preprocessor(after_data, after_text)"
   ]
  },
  {
   "cell_type": "code",
   "execution_count": 18,
   "metadata": {},
   "outputs": [
    {
     "data": {
      "text/html": [
       "<div>\n",
       "<style scoped>\n",
       "    .dataframe tbody tr th:only-of-type {\n",
       "        vertical-align: middle;\n",
       "    }\n",
       "\n",
       "    .dataframe tbody tr th {\n",
       "        vertical-align: top;\n",
       "    }\n",
       "\n",
       "    .dataframe thead th {\n",
       "        text-align: right;\n",
       "    }\n",
       "</style>\n",
       "<table border=\"1\" class=\"dataframe\">\n",
       "  <thead>\n",
       "    <tr style=\"text-align: right;\">\n",
       "      <th></th>\n",
       "      <th>LectureUrl</th>\n",
       "      <th>LectureName</th>\n",
       "      <th>LectureProf</th>\n",
       "      <th>ReviewStar</th>\n",
       "      <th>ReviewSemester</th>\n",
       "      <th>ReviewText</th>\n",
       "      <th>COVID-19</th>\n",
       "      <th>TextPreprocessed</th>\n",
       "      <th>TokenCnt</th>\n",
       "    </tr>\n",
       "  </thead>\n",
       "  <tbody>\n",
       "    <tr>\n",
       "      <th>2</th>\n",
       "      <td>https://yonsei.everytime.kr/lecture/view/3640</td>\n",
       "      <td>INTERNATIONAL MONEY AND CAPITAL MARKETS</td>\n",
       "      <td>함준호</td>\n",
       "      <td>80.0</td>\n",
       "      <td>19년 1학기 수강자</td>\n",
       "      <td>한국은행 금융통화위원을 지내고 오신 교수님이시라 그런지 간간히 들려주시는 교수님의 ...</td>\n",
       "      <td>before</td>\n",
       "      <td>한국은행 금융 통화 위원 지내 그런지 간간히 들려 현장 쏠쏠 재미 중간고사 기말고사...</td>\n",
       "      <td>37</td>\n",
       "    </tr>\n",
       "    <tr>\n",
       "      <th>3</th>\n",
       "      <td>https://yonsei.everytime.kr/lecture/view/3640</td>\n",
       "      <td>INTERNATIONAL MONEY AND CAPITAL MARKETS</td>\n",
       "      <td>함준호</td>\n",
       "      <td>100.0</td>\n",
       "      <td>19년 1학기 수강자</td>\n",
       "      <td>교수님 너무 똑똑하시고 피피티 위주로 수업하시기는 하는데 현장경험이 풍부하셔서 그런...</td>\n",
       "      <td>before</td>\n",
       "      <td>똑똑 피피티 위주 현장 경험 풍부 그런지 설명</td>\n",
       "      <td>8</td>\n",
       "    </tr>\n",
       "    <tr>\n",
       "      <th>6</th>\n",
       "      <td>https://yonsei.everytime.kr/lecture/view/943471</td>\n",
       "      <td>학교교실의현장연구방법입문</td>\n",
       "      <td>박순용</td>\n",
       "      <td>20.0</td>\n",
       "      <td>18년 2학기 수강자</td>\n",
       "      <td>교수님의 수업은 이해하기 쉬웠고 질적연구와 현장연구에 대해 잘 설명해주셔서 수업은 ...</td>\n",
       "      <td>before</td>\n",
       "      <td>이해 쉬웠 연구 현장 연구 설명 중간고사 비중 성적 산출 아쉬운 부분</td>\n",
       "      <td>12</td>\n",
       "    </tr>\n",
       "    <tr>\n",
       "      <th>7</th>\n",
       "      <td>https://yonsei.everytime.kr/lecture/view/943471</td>\n",
       "      <td>학교교실의현장연구방법입문</td>\n",
       "      <td>박순용</td>\n",
       "      <td>100.0</td>\n",
       "      <td>18년 2학기 수강자</td>\n",
       "      <td>개인적이지만 수업 괜찮았고 설명 잘해주심. 성적은 그냥 시험으로 갈리는듯? 조모임 ...</td>\n",
       "      <td>before</td>\n",
       "      <td>개인 괜찮 설명 주심 성적 그냥 시험 갈리 모임 빡세 자주 만나 조원 만나 헤쳐 나...</td>\n",
       "      <td>48</td>\n",
       "    </tr>\n",
       "    <tr>\n",
       "      <th>16</th>\n",
       "      <td>https://yonsei.everytime.kr/lecture/view/2073400</td>\n",
       "      <td>국제이해교육</td>\n",
       "      <td>이무성</td>\n",
       "      <td>40.0</td>\n",
       "      <td>19년 2학기 수강자</td>\n",
       "      <td>교수님 좋고 학구적이고 내용도 좋은데 마이너스 폭격기임^^</td>\n",
       "      <td>before</td>\n",
       "      <td>학구 은데 마이너스 폭격기</td>\n",
       "      <td>4</td>\n",
       "    </tr>\n",
       "  </tbody>\n",
       "</table>\n",
       "</div>"
      ],
      "text/plain": [
       "                                          LectureUrl  \\\n",
       "2      https://yonsei.everytime.kr/lecture/view/3640   \n",
       "3      https://yonsei.everytime.kr/lecture/view/3640   \n",
       "6    https://yonsei.everytime.kr/lecture/view/943471   \n",
       "7    https://yonsei.everytime.kr/lecture/view/943471   \n",
       "16  https://yonsei.everytime.kr/lecture/view/2073400   \n",
       "\n",
       "                                LectureName LectureProf  ReviewStar  \\\n",
       "2   INTERNATIONAL MONEY AND CAPITAL MARKETS         함준호        80.0   \n",
       "3   INTERNATIONAL MONEY AND CAPITAL MARKETS         함준호       100.0   \n",
       "6                             학교교실의현장연구방법입문         박순용        20.0   \n",
       "7                             학교교실의현장연구방법입문         박순용       100.0   \n",
       "16                                   국제이해교육         이무성        40.0   \n",
       "\n",
       "   ReviewSemester                                         ReviewText COVID-19  \\\n",
       "2     19년 1학기 수강자  한국은행 금융통화위원을 지내고 오신 교수님이시라 그런지 간간히 들려주시는 교수님의 ...   before   \n",
       "3     19년 1학기 수강자  교수님 너무 똑똑하시고 피피티 위주로 수업하시기는 하는데 현장경험이 풍부하셔서 그런...   before   \n",
       "6     18년 2학기 수강자  교수님의 수업은 이해하기 쉬웠고 질적연구와 현장연구에 대해 잘 설명해주셔서 수업은 ...   before   \n",
       "7     18년 2학기 수강자  개인적이지만 수업 괜찮았고 설명 잘해주심. 성적은 그냥 시험으로 갈리는듯? 조모임 ...   before   \n",
       "16    19년 2학기 수강자                   교수님 좋고 학구적이고 내용도 좋은데 마이너스 폭격기임^^   before   \n",
       "\n",
       "                                     TextPreprocessed  TokenCnt  \n",
       "2   한국은행 금융 통화 위원 지내 그런지 간간히 들려 현장 쏠쏠 재미 중간고사 기말고사...        37  \n",
       "3                           똑똑 피피티 위주 현장 경험 풍부 그런지 설명         8  \n",
       "6              이해 쉬웠 연구 현장 연구 설명 중간고사 비중 성적 산출 아쉬운 부분        12  \n",
       "7   개인 괜찮 설명 주심 성적 그냥 시험 갈리 모임 빡세 자주 만나 조원 만나 헤쳐 나...        48  \n",
       "16                                     학구 은데 마이너스 폭격기         4  "
      ]
     },
     "execution_count": 18,
     "metadata": {},
     "output_type": "execute_result"
    }
   ],
   "source": [
    "before_data.head()"
   ]
  },
  {
   "cell_type": "code",
   "execution_count": 19,
   "metadata": {},
   "outputs": [
    {
     "data": {
      "text/html": [
       "<div>\n",
       "<style scoped>\n",
       "    .dataframe tbody tr th:only-of-type {\n",
       "        vertical-align: middle;\n",
       "    }\n",
       "\n",
       "    .dataframe tbody tr th {\n",
       "        vertical-align: top;\n",
       "    }\n",
       "\n",
       "    .dataframe thead th {\n",
       "        text-align: right;\n",
       "    }\n",
       "</style>\n",
       "<table border=\"1\" class=\"dataframe\">\n",
       "  <thead>\n",
       "    <tr style=\"text-align: right;\">\n",
       "      <th></th>\n",
       "      <th>LectureUrl</th>\n",
       "      <th>LectureName</th>\n",
       "      <th>LectureProf</th>\n",
       "      <th>ReviewStar</th>\n",
       "      <th>ReviewSemester</th>\n",
       "      <th>ReviewText</th>\n",
       "      <th>COVID-19</th>\n",
       "      <th>TextPreprocessed</th>\n",
       "      <th>TokenCnt</th>\n",
       "    </tr>\n",
       "  </thead>\n",
       "  <tbody>\n",
       "    <tr>\n",
       "      <th>0</th>\n",
       "      <td>https://yonsei.everytime.kr/lecture/view/3640</td>\n",
       "      <td>INTERNATIONAL MONEY AND CAPITAL MARKETS</td>\n",
       "      <td>함준호</td>\n",
       "      <td>100.0</td>\n",
       "      <td>20년 1학기 수강자</td>\n",
       "      <td>시험 잘 멋본 것 같은데 에이제로 떠서 놀람 감사합니다 교수님</td>\n",
       "      <td>after</td>\n",
       "      <td>시험 이제 떠서 놀람 감사</td>\n",
       "      <td>5</td>\n",
       "    </tr>\n",
       "    <tr>\n",
       "      <th>1</th>\n",
       "      <td>https://yonsei.everytime.kr/lecture/view/3640</td>\n",
       "      <td>INTERNATIONAL MONEY AND CAPITAL MARKETS</td>\n",
       "      <td>함준호</td>\n",
       "      <td>80.0</td>\n",
       "      <td>20년 1학기 수강자</td>\n",
       "      <td>에 뭐,,, 그냥 괜찮았는데 자습기간을 안 주고 전범위 시험본다그러니까 당황스러웠네...</td>\n",
       "      <td>after</td>\n",
       "      <td>그냥 괜찮 자습 기간 범위 시험 본다 그러니까 당황 똑똑 나쁘 다만 시간 연속 힘들...</td>\n",
       "      <td>20</td>\n",
       "    </tr>\n",
       "    <tr>\n",
       "      <th>4</th>\n",
       "      <td>https://yonsei.everytime.kr/lecture/view/943471</td>\n",
       "      <td>학교교실의현장연구방법입문</td>\n",
       "      <td>박순용</td>\n",
       "      <td>80.0</td>\n",
       "      <td>20년 1학기 수강자</td>\n",
       "      <td>매주 온라인 강의를 늦게 올려주셔서 불편했지만 수업 내용은 무난하고 좋았습니다. 매...</td>\n",
       "      <td>after</td>\n",
       "      <td>매주 온라인 올려 불편 무난 매주 출석 과제 기말 연구 보고서 기말 온라인 시험 이...</td>\n",
       "      <td>37</td>\n",
       "    </tr>\n",
       "    <tr>\n",
       "      <th>5</th>\n",
       "      <td>https://yonsei.everytime.kr/lecture/view/943471</td>\n",
       "      <td>학교교실의현장연구방법입문</td>\n",
       "      <td>박순용</td>\n",
       "      <td>20.0</td>\n",
       "      <td>20년 1학기 수강자</td>\n",
       "      <td>조교가 일을 안하는건지 교수가 일을 안하는건지 강의가 맨날 늦게 올라옴 제 시간에 ...</td>\n",
       "      <td>after</td>\n",
       "      <td>조교 건지 건지 맨날 올라옴 시간 니까 열정 초반 부터 사라짐 그러 저작 일찍 내려...</td>\n",
       "      <td>17</td>\n",
       "    </tr>\n",
       "    <tr>\n",
       "      <th>8</th>\n",
       "      <td>https://yonsei.everytime.kr/lecture/view/1600344</td>\n",
       "      <td>현대독일산문</td>\n",
       "      <td>이진영</td>\n",
       "      <td>100.0</td>\n",
       "      <td>20년 1학기 수강자</td>\n",
       "      <td>이번 학기에 들은 강의 중에 가장 좋았던 수업 중 하나. 교수님께서 학생들 많이 배...</td>\n",
       "      <td>after</td>\n",
       "      <td>학기 가장 하나 학생 배려 필요 학생 감상 이나 해석 개입 참고 배경 지식 작가 의...</td>\n",
       "      <td>47</td>\n",
       "    </tr>\n",
       "  </tbody>\n",
       "</table>\n",
       "</div>"
      ],
      "text/plain": [
       "                                         LectureUrl  \\\n",
       "0     https://yonsei.everytime.kr/lecture/view/3640   \n",
       "1     https://yonsei.everytime.kr/lecture/view/3640   \n",
       "4   https://yonsei.everytime.kr/lecture/view/943471   \n",
       "5   https://yonsei.everytime.kr/lecture/view/943471   \n",
       "8  https://yonsei.everytime.kr/lecture/view/1600344   \n",
       "\n",
       "                               LectureName LectureProf  ReviewStar  \\\n",
       "0  INTERNATIONAL MONEY AND CAPITAL MARKETS         함준호       100.0   \n",
       "1  INTERNATIONAL MONEY AND CAPITAL MARKETS         함준호        80.0   \n",
       "4                            학교교실의현장연구방법입문         박순용        80.0   \n",
       "5                            학교교실의현장연구방법입문         박순용        20.0   \n",
       "8                                   현대독일산문         이진영       100.0   \n",
       "\n",
       "  ReviewSemester                                         ReviewText COVID-19  \\\n",
       "0    20년 1학기 수강자                 시험 잘 멋본 것 같은데 에이제로 떠서 놀람 감사합니다 교수님    after   \n",
       "1    20년 1학기 수강자  에 뭐,,, 그냥 괜찮았는데 자습기간을 안 주고 전범위 시험본다그러니까 당황스러웠네...    after   \n",
       "4    20년 1학기 수강자  매주 온라인 강의를 늦게 올려주셔서 불편했지만 수업 내용은 무난하고 좋았습니다. 매...    after   \n",
       "5    20년 1학기 수강자  조교가 일을 안하는건지 교수가 일을 안하는건지 강의가 맨날 늦게 올라옴 제 시간에 ...    after   \n",
       "8    20년 1학기 수강자  이번 학기에 들은 강의 중에 가장 좋았던 수업 중 하나. 교수님께서 학생들 많이 배...    after   \n",
       "\n",
       "                                    TextPreprocessed  TokenCnt  \n",
       "0                                     시험 이제 떠서 놀람 감사         5  \n",
       "1  그냥 괜찮 자습 기간 범위 시험 본다 그러니까 당황 똑똑 나쁘 다만 시간 연속 힘들...        20  \n",
       "4  매주 온라인 올려 불편 무난 매주 출석 과제 기말 연구 보고서 기말 온라인 시험 이...        37  \n",
       "5  조교 건지 건지 맨날 올라옴 시간 니까 열정 초반 부터 사라짐 그러 저작 일찍 내려...        17  \n",
       "8  학기 가장 하나 학생 배려 필요 학생 감상 이나 해석 개입 참고 배경 지식 작가 의...        47  "
      ]
     },
     "execution_count": 19,
     "metadata": {},
     "output_type": "execute_result"
    }
   ],
   "source": [
    "after_data.head()"
   ]
  },
  {
   "cell_type": "markdown",
   "metadata": {},
   "source": [
    "### EDA"
   ]
  },
  {
   "cell_type": "code",
   "execution_count": 20,
   "metadata": {},
   "outputs": [
    {
     "name": "stdout",
     "output_type": "stream",
     "text": [
      "COVID-19 이전 전체 강의평 개수: 49127개\n",
      "COVID-19 이후 전체 강의평 개수: 29423개\n",
      "COVID-19 이전 전체 토큰 개수: 26348개\n",
      "COVID-19 이후 전체 토큰 개수: 19991개\n"
     ]
    }
   ],
   "source": [
    "# Number of Texts & tokens\n",
    "\n",
    "before_counter = Counter(sum(before_text_tokenized, []))\n",
    "after_counter = Counter(sum(after_text_tokenized, []))\n",
    "\n",
    "print('COVID-19 이전 전체 강의평 개수: {}개'.format(len(before_text)))\n",
    "print('COVID-19 이후 전체 강의평 개수: {}개'.format(len(after_text)))\n",
    "\n",
    "print('COVID-19 이전 전체 토큰 개수: {}개'.format(len(before_counter)))\n",
    "print('COVID-19 이후 전체 토큰 개수: {}개'.format(len(after_counter)))"
   ]
  },
  {
   "cell_type": "code",
   "execution_count": 21,
   "metadata": {},
   "outputs": [
    {
     "data": {
      "image/png": "[encoded data removed]",
      "text/plain": [
       "<Figure size 1152x288 with 2 Axes>"
      ]
     },
     "metadata": {
      "needs_background": "light"
     },
     "output_type": "display_data"
    }
   ],
   "source": [
    "# Length of Texts\n",
    "\n",
    "fig, ax = plt.subplots(1, 2, figsize=(16, 4))\n",
    "\n",
    "plt.subplot(121)\n",
    "plt.hist(before_data['TokenCnt'], bins=100)\n",
    "plt.xticks(range(0, 1201, 100))\n",
    "plt.yticks(range(0, 15001, 1000))\n",
    "plt.title('Length of ReviewText before COVID-19')\n",
    "\n",
    "plt.subplot(122)\n",
    "plt.hist(after_data['TokenCnt'], bins=100)\n",
    "plt.xticks(range(0, 1201, 100))\n",
    "plt.yticks(range(0, 15001, 1000))\n",
    "plt.title('Length of ReviewText after COVID-19')\n",
    "\n",
    "plt.show()"
   ]
  },
  {
   "cell_type": "code",
   "execution_count": 22,
   "metadata": {},
   "outputs": [
    {
     "data": {
      "image/png": "[encoded data removed]",
      "text/plain": [
       "<Figure size 1152x288 with 2 Axes>"
      ]
     },
     "metadata": {
      "needs_background": "light"
     },
     "output_type": "display_data"
    }
   ],
   "source": [
    "# Length of Texts (zoom-in)\n",
    "\n",
    "fig, ax = plt.subplots(1, 2, figsize=(16, 4))\n",
    "\n",
    "plt.subplot(121)\n",
    "plt.hist(before_data['TokenCnt'][before_data['TokenCnt']<200], bins=50)\n",
    "plt.xticks(range(0, 201, 25))\n",
    "plt.yticks(range(0, 7001, 1000))\n",
    "plt.title('Length of ReviewText before COVID-19')\n",
    "\n",
    "plt.subplot(122)\n",
    "plt.hist(after_data['TokenCnt'][after_data['TokenCnt']<200], bins=50)\n",
    "plt.xticks(range(0, 201, 25))\n",
    "plt.yticks(range(0, 7001, 1000))\n",
    "plt.title('Length of ReviewText after COVID-19')\n",
    "\n",
    "plt.show()"
   ]
  },
  {
   "cell_type": "markdown",
   "metadata": {},
   "source": [
    "### Topic Modeling (LDA)"
   ]
  },
  {
   "cell_type": "code",
   "execution_count": 23,
   "metadata": {},
   "outputs": [
    {
     "name": "stdout",
     "output_type": "stream",
     "text": [
      "========== Topic List before COVID-19 ==========\n",
      "(0, '0.125*\"족보\" + 0.020*\"계절\" + 0.016*\"학기\" + 0.015*\"구하\" + 0.015*\"수강\"')\n",
      "(1, '0.083*\"문제\" + 0.075*\"시험\" + 0.018*\"나오\" + 0.017*\"공부\" + 0.015*\"과제\"')\n",
      "(2, '0.069*\"시험\" + 0.033*\"공부\" + 0.031*\"피피티\" + 0.029*\"외우\" + 0.028*\"필기\"')\n",
      "(3, '0.058*\"공부\" + 0.047*\"학점\" + 0.045*\"과목\" + 0.034*\"시험\" + 0.026*\"교양\"')\n",
      "(4, '0.071*\"수강\" + 0.045*\"신청\" + 0.037*\"대학\" + 0.028*\"학교\" + 0.017*\"와서\"')\n",
      "(5, '0.198*\"영어\" + 0.047*\"나가\" + 0.041*\"진도\" + 0.041*\"힘들\" + 0.026*\"발음\"')\n",
      "(6, '0.101*\"흥미\" + 0.086*\"참여\" + 0.037*\"철학\" + 0.025*\"과학\" + 0.022*\"로운\"')\n",
      "(7, '0.102*\"기말\" + 0.098*\"중간\" + 0.042*\"시험\" + 0.034*\"점수\" + 0.032*\"중간고사\"')\n",
      "(8, '0.023*\"발표\" + 0.020*\"시간\" + 0.016*\"주제\" + 0.014*\"보고서\" + 0.012*\"토론\"')\n",
      "(9, '0.036*\"시간\" + 0.016*\"그냥\" + 0.016*\"학기\" + 0.014*\"그리고\" + 0.013*\"사람\"')\n",
      "(10, '0.124*\"그냥\" + 0.112*\"무난\" + 0.082*\"채플\" + 0.024*\"귀찮\" + 0.019*\"편하\"')\n",
      "(11, '0.103*\"과제\" + 0.046*\"모임\" + 0.030*\"시험\" + 0.030*\"발표\" + 0.025*\"조별\"')\n",
      "(12, '0.085*\"퀴즈\" + 0.061*\"출석\" + 0.041*\"출결\" + 0.032*\"과제\" + 0.024*\"조교\"')\n",
      "(13, '0.052*\"학생\" + 0.042*\"질문\" + 0.033*\"친절\" + 0.028*\"설명\" + 0.021*\"이해\"')\n",
      "(14, '0.054*\"학점\" + 0.047*\"모르\" + 0.030*\"그냥\" + 0.022*\"기준\" + 0.021*\"아니\"')\n",
      "(15, '0.086*\"ㅎㅎ\" + 0.079*\"재밌\" + 0.048*\"ㅠㅠ\" + 0.046*\"착하\" + 0.046*\"주심\"')\n",
      "(16, '0.056*\"생각\" + 0.024*\"학생\" + 0.019*\"보다\" + 0.019*\"아니\" + 0.018*\"한다\"')\n",
      "(17, '0.186*\"ㅋㅋ\" + 0.149*\"ㅋㅋㅋ\" + 0.048*\"패스\" + 0.038*\"들어야\" + 0.021*\"어차피\"')\n",
      "(18, '0.083*\"학기\" + 0.079*\"최고\" + 0.043*\"사랑\" + 0.031*\"감사\" + 0.021*\"ㅜㅜ\"')\n",
      "(19, '0.037*\"설명\" + 0.036*\"이해\" + 0.031*\"이론\" + 0.031*\"수학\" + 0.024*\"경제학\"')\n",
      "\n",
      "========== Topic List after COVID-19 ==========\n",
      "(0, '0.019*\"모르\" + 0.019*\"학생\" + 0.015*\"그냥\" + 0.013*\"사람\" + 0.013*\"학기\"')\n",
      "(1, '0.047*\"철학\" + 0.022*\"학점\" + 0.020*\"배워가\" + 0.017*\"알차\" + 0.016*\"나라\"')\n",
      "(2, '0.077*\"기말\" + 0.075*\"중간\" + 0.048*\"과제\" + 0.045*\"대체\" + 0.040*\"보고서\"')\n",
      "(3, '0.060*\"무조건\" + 0.022*\"메일\" + 0.020*\"한다\" + 0.019*\"여러분\" + 0.016*\"보내\"')\n",
      "(4, '0.034*\"생각\" + 0.028*\"관심\" + 0.020*\"추천\" + 0.020*\"교양\" + 0.016*\"사람\"')\n",
      "(5, '0.105*\"학생\" + 0.031*\"학기\" + 0.026*\"배려\" + 0.018*\"노력\" + 0.017*\"열정\"')\n",
      "(6, '0.078*\"시간\" + 0.068*\"과제\" + 0.049*\"퀴즈\" + 0.048*\"출석\" + 0.035*\"영상\"')\n",
      "(7, '0.028*\"주제\" + 0.019*\"시간\" + 0.019*\"분석\" + 0.017*\"논문\" + 0.016*\"작성\"')\n",
      "(8, '0.040*\"과목\" + 0.019*\"전공\" + 0.014*\"활동\" + 0.012*\"학교\" + 0.012*\"전필\"')\n",
      "(9, '0.107*\"과제\" + 0.040*\"부담\" + 0.026*\"학점\" + 0.022*\"시험\" + 0.019*\"영어\"')\n",
      "(10, '0.027*\"질문\" + 0.021*\"생각\" + 0.017*\"부분\" + 0.017*\"진행\" + 0.015*\"방식\"')\n",
      "(11, '0.035*\"배우\" + 0.031*\"프로젝트\" + 0.023*\"코딩\" + 0.021*\"이론\" + 0.021*\"과목\"')\n",
      "(12, '0.043*\"성적\" + 0.039*\"점수\" + 0.026*\"기준\" + 0.024*\"과제\" + 0.023*\"열심히\"')\n",
      "(13, '0.142*\"그냥\" + 0.065*\"ㅋㅋ\" + 0.050*\"ㅋㅋㅋ\" + 0.030*\"무난\" + 0.027*\"마세요\"')\n",
      "(14, '0.084*\"시험\" + 0.061*\"문제\" + 0.028*\"공부\" + 0.015*\"시간\" + 0.015*\"퀴즈\"')\n",
      "(15, '0.077*\"학점\" + 0.029*\"학기\" + 0.025*\"과목\" + 0.023*\"생각\" + 0.020*\"로드\"')\n",
      "(16, '0.094*\"발표\" + 0.062*\"조별\" + 0.049*\"토론\" + 0.042*\"기독교\" + 0.041*\"모임\"')\n",
      "(17, '0.130*\"재밌\" + 0.052*\"흥미\" + 0.040*\"유익\" + 0.030*\"편하\" + 0.028*\"ㅎㅎ\"')\n",
      "(18, '0.051*\"비대\" + 0.051*\"채플\" + 0.045*\"온라인\" + 0.045*\"개꿀\" + 0.028*\"대면\"')\n",
      "(19, '0.104*\"최고\" + 0.063*\"영화\" + 0.059*\"그저\" + 0.055*\"천사\" + 0.042*\"감사\"')\n"
     ]
    }
   ],
   "source": [
    "print('========== Topic List before COVID-19 ==========')\n",
    "before_corpus, before_lda = ModelingLDA(before_text_tokenized)\n",
    "print()\n",
    "print('========== Topic List after COVID-19 ==========')\n",
    "after_corpus, after_lda = ModelingLDA(after_text_tokenized)"
   ]
  },
  {
   "cell_type": "code",
   "execution_count": 24,
   "metadata": {},
   "outputs": [],
   "source": [
    "before_topic_table = MakeTopicTable(before_corpus, before_lda)\n",
    "after_topic_table = MakeTopicTable(after_corpus, after_lda)"
   ]
  },
  {
   "cell_type": "code",
   "execution_count": 25,
   "metadata": {},
   "outputs": [],
   "source": [
    "before_df = pd.concat([before_data.reset_index(drop=True), before_topic_table.reset_index(drop=True)], axis=1)\n",
    "after_df = pd.concat([after_data.reset_index(drop=True), after_topic_table.reset_index(drop=True)], axis=1)"
   ]
  },
  {
   "cell_type": "code",
   "execution_count": 26,
   "metadata": {},
   "outputs": [
    {
     "data": {
      "text/html": [
       "<div>\n",
       "<style scoped>\n",
       "    .dataframe tbody tr th:only-of-type {\n",
       "        vertical-align: middle;\n",
       "    }\n",
       "\n",
       "    .dataframe tbody tr th {\n",
       "        vertical-align: top;\n",
       "    }\n",
       "\n",
       "    .dataframe thead th {\n",
       "        text-align: right;\n",
       "    }\n",
       "</style>\n",
       "<table border=\"1\" class=\"dataframe\">\n",
       "  <thead>\n",
       "    <tr style=\"text-align: right;\">\n",
       "      <th></th>\n",
       "      <th>LectureUrl</th>\n",
       "      <th>LectureName</th>\n",
       "      <th>LectureProf</th>\n",
       "      <th>ReviewStar</th>\n",
       "      <th>ReviewSemester</th>\n",
       "      <th>ReviewText</th>\n",
       "      <th>COVID-19</th>\n",
       "      <th>TextPreprocessed</th>\n",
       "      <th>TokenCnt</th>\n",
       "      <th>TopicIndex</th>\n",
       "      <th>TopicProportion</th>\n",
       "      <th>TopicList</th>\n",
       "    </tr>\n",
       "  </thead>\n",
       "  <tbody>\n",
       "    <tr>\n",
       "      <th>0</th>\n",
       "      <td>https://yonsei.everytime.kr/lecture/view/3640</td>\n",
       "      <td>INTERNATIONAL MONEY AND CAPITAL MARKETS</td>\n",
       "      <td>함준호</td>\n",
       "      <td>80.0</td>\n",
       "      <td>19년 1학기 수강자</td>\n",
       "      <td>한국은행 금융통화위원을 지내고 오신 교수님이시라 그런지 간간히 들려주시는 교수님의 ...</td>\n",
       "      <td>before</td>\n",
       "      <td>한국은행 금융 통화 위원 지내 그런지 간간히 들려 현장 쏠쏠 재미 중간고사 기말고사...</td>\n",
       "      <td>37</td>\n",
       "      <td>2</td>\n",
       "      <td>0.25863</td>\n",
       "      <td>[(1, 0.21102434), (2, 0.25863415), (8, 0.18515...</td>\n",
       "    </tr>\n",
       "    <tr>\n",
       "      <th>1</th>\n",
       "      <td>https://yonsei.everytime.kr/lecture/view/3640</td>\n",
       "      <td>INTERNATIONAL MONEY AND CAPITAL MARKETS</td>\n",
       "      <td>함준호</td>\n",
       "      <td>100.0</td>\n",
       "      <td>19년 1학기 수강자</td>\n",
       "      <td>교수님 너무 똑똑하시고 피피티 위주로 수업하시기는 하는데 현장경험이 풍부하셔서 그런...</td>\n",
       "      <td>before</td>\n",
       "      <td>똑똑 피피티 위주 현장 경험 풍부 그런지 설명</td>\n",
       "      <td>8</td>\n",
       "      <td>2</td>\n",
       "      <td>0.30261</td>\n",
       "      <td>[(2, 0.3026146), (6, 0.12827155), (8, 0.241654...</td>\n",
       "    </tr>\n",
       "    <tr>\n",
       "      <th>2</th>\n",
       "      <td>https://yonsei.everytime.kr/lecture/view/943471</td>\n",
       "      <td>학교교실의현장연구방법입문</td>\n",
       "      <td>박순용</td>\n",
       "      <td>20.0</td>\n",
       "      <td>18년 2학기 수강자</td>\n",
       "      <td>교수님의 수업은 이해하기 쉬웠고 질적연구와 현장연구에 대해 잘 설명해주셔서 수업은 ...</td>\n",
       "      <td>before</td>\n",
       "      <td>이해 쉬웠 연구 현장 연구 설명 중간고사 비중 성적 산출 아쉬운 부분</td>\n",
       "      <td>12</td>\n",
       "      <td>7</td>\n",
       "      <td>0.27872</td>\n",
       "      <td>[(7, 0.27872443), (8, 0.27711898), (9, 0.18707...</td>\n",
       "    </tr>\n",
       "    <tr>\n",
       "      <th>3</th>\n",
       "      <td>https://yonsei.everytime.kr/lecture/view/943471</td>\n",
       "      <td>학교교실의현장연구방법입문</td>\n",
       "      <td>박순용</td>\n",
       "      <td>100.0</td>\n",
       "      <td>18년 2학기 수강자</td>\n",
       "      <td>개인적이지만 수업 괜찮았고 설명 잘해주심. 성적은 그냥 시험으로 갈리는듯? 조모임 ...</td>\n",
       "      <td>before</td>\n",
       "      <td>개인 괜찮 설명 주심 성적 그냥 시험 갈리 모임 빡세 자주 만나 조원 만나 헤쳐 나...</td>\n",
       "      <td>48</td>\n",
       "      <td>11</td>\n",
       "      <td>0.35111</td>\n",
       "      <td>[(0, 0.047117744), (2, 0.31604683), (7, 0.0995...</td>\n",
       "    </tr>\n",
       "    <tr>\n",
       "      <th>4</th>\n",
       "      <td>https://yonsei.everytime.kr/lecture/view/2073400</td>\n",
       "      <td>국제이해교육</td>\n",
       "      <td>이무성</td>\n",
       "      <td>40.0</td>\n",
       "      <td>19년 2학기 수강자</td>\n",
       "      <td>교수님 좋고 학구적이고 내용도 좋은데 마이너스 폭격기임^^</td>\n",
       "      <td>before</td>\n",
       "      <td>학구 은데 마이너스 폭격기</td>\n",
       "      <td>4</td>\n",
       "      <td>14</td>\n",
       "      <td>0.41004</td>\n",
       "      <td>[(0, 0.010001579), (1, 0.010001579), (2, 0.010...</td>\n",
       "    </tr>\n",
       "  </tbody>\n",
       "</table>\n",
       "</div>"
      ],
      "text/plain": [
       "                                         LectureUrl  \\\n",
       "0     https://yonsei.everytime.kr/lecture/view/3640   \n",
       "1     https://yonsei.everytime.kr/lecture/view/3640   \n",
       "2   https://yonsei.everytime.kr/lecture/view/943471   \n",
       "3   https://yonsei.everytime.kr/lecture/view/943471   \n",
       "4  https://yonsei.everytime.kr/lecture/view/2073400   \n",
       "\n",
       "                               LectureName LectureProf  ReviewStar  \\\n",
       "0  INTERNATIONAL MONEY AND CAPITAL MARKETS         함준호        80.0   \n",
       "1  INTERNATIONAL MONEY AND CAPITAL MARKETS         함준호       100.0   \n",
       "2                            학교교실의현장연구방법입문         박순용        20.0   \n",
       "3                            학교교실의현장연구방법입문         박순용       100.0   \n",
       "4                                   국제이해교육         이무성        40.0   \n",
       "\n",
       "  ReviewSemester                                         ReviewText COVID-19  \\\n",
       "0    19년 1학기 수강자  한국은행 금융통화위원을 지내고 오신 교수님이시라 그런지 간간히 들려주시는 교수님의 ...   before   \n",
       "1    19년 1학기 수강자  교수님 너무 똑똑하시고 피피티 위주로 수업하시기는 하는데 현장경험이 풍부하셔서 그런...   before   \n",
       "2    18년 2학기 수강자  교수님의 수업은 이해하기 쉬웠고 질적연구와 현장연구에 대해 잘 설명해주셔서 수업은 ...   before   \n",
       "3    18년 2학기 수강자  개인적이지만 수업 괜찮았고 설명 잘해주심. 성적은 그냥 시험으로 갈리는듯? 조모임 ...   before   \n",
       "4    19년 2학기 수강자                   교수님 좋고 학구적이고 내용도 좋은데 마이너스 폭격기임^^   before   \n",
       "\n",
       "                                    TextPreprocessed  TokenCnt  TopicIndex  \\\n",
       "0  한국은행 금융 통화 위원 지내 그런지 간간히 들려 현장 쏠쏠 재미 중간고사 기말고사...        37           2   \n",
       "1                          똑똑 피피티 위주 현장 경험 풍부 그런지 설명         8           2   \n",
       "2             이해 쉬웠 연구 현장 연구 설명 중간고사 비중 성적 산출 아쉬운 부분        12           7   \n",
       "3  개인 괜찮 설명 주심 성적 그냥 시험 갈리 모임 빡세 자주 만나 조원 만나 헤쳐 나...        48          11   \n",
       "4                                     학구 은데 마이너스 폭격기         4          14   \n",
       "\n",
       "   TopicProportion                                          TopicList  \n",
       "0          0.25863  [(1, 0.21102434), (2, 0.25863415), (8, 0.18515...  \n",
       "1          0.30261  [(2, 0.3026146), (6, 0.12827155), (8, 0.241654...  \n",
       "2          0.27872  [(7, 0.27872443), (8, 0.27711898), (9, 0.18707...  \n",
       "3          0.35111  [(0, 0.047117744), (2, 0.31604683), (7, 0.0995...  \n",
       "4          0.41004  [(0, 0.010001579), (1, 0.010001579), (2, 0.010...  "
      ]
     },
     "execution_count": 26,
     "metadata": {},
     "output_type": "execute_result"
    }
   ],
   "source": [
    "before_df.head()"
   ]
  },
  {
   "cell_type": "code",
   "execution_count": 27,
   "metadata": {},
   "outputs": [
    {
     "data": {
      "text/html": [
       "<div>\n",
       "<style scoped>\n",
       "    .dataframe tbody tr th:only-of-type {\n",
       "        vertical-align: middle;\n",
       "    }\n",
       "\n",
       "    .dataframe tbody tr th {\n",
       "        vertical-align: top;\n",
       "    }\n",
       "\n",
       "    .dataframe thead th {\n",
       "        text-align: right;\n",
       "    }\n",
       "</style>\n",
       "<table border=\"1\" class=\"dataframe\">\n",
       "  <thead>\n",
       "    <tr style=\"text-align: right;\">\n",
       "      <th></th>\n",
       "      <th>LectureUrl</th>\n",
       "      <th>LectureName</th>\n",
       "      <th>LectureProf</th>\n",
       "      <th>ReviewStar</th>\n",
       "      <th>ReviewSemester</th>\n",
       "      <th>ReviewText</th>\n",
       "      <th>COVID-19</th>\n",
       "      <th>TextPreprocessed</th>\n",
       "      <th>TokenCnt</th>\n",
       "      <th>TopicIndex</th>\n",
       "      <th>TopicProportion</th>\n",
       "      <th>TopicList</th>\n",
       "    </tr>\n",
       "  </thead>\n",
       "  <tbody>\n",
       "    <tr>\n",
       "      <th>0</th>\n",
       "      <td>https://yonsei.everytime.kr/lecture/view/3640</td>\n",
       "      <td>INTERNATIONAL MONEY AND CAPITAL MARKETS</td>\n",
       "      <td>함준호</td>\n",
       "      <td>100.0</td>\n",
       "      <td>20년 1학기 수강자</td>\n",
       "      <td>시험 잘 멋본 것 같은데 에이제로 떠서 놀람 감사합니다 교수님</td>\n",
       "      <td>after</td>\n",
       "      <td>시험 이제 떠서 놀람 감사</td>\n",
       "      <td>5</td>\n",
       "      <td>1</td>\n",
       "      <td>0.34150</td>\n",
       "      <td>[(1, 0.34150463), (13, 0.17502953), (14, 0.175...</td>\n",
       "    </tr>\n",
       "    <tr>\n",
       "      <th>1</th>\n",
       "      <td>https://yonsei.everytime.kr/lecture/view/3640</td>\n",
       "      <td>INTERNATIONAL MONEY AND CAPITAL MARKETS</td>\n",
       "      <td>함준호</td>\n",
       "      <td>80.0</td>\n",
       "      <td>20년 1학기 수강자</td>\n",
       "      <td>에 뭐,,, 그냥 괜찮았는데 자습기간을 안 주고 전범위 시험본다그러니까 당황스러웠네...</td>\n",
       "      <td>after</td>\n",
       "      <td>그냥 괜찮 자습 기간 범위 시험 본다 그러니까 당황 똑똑 나쁘 다만 시간 연속 힘들...</td>\n",
       "      <td>20</td>\n",
       "      <td>14</td>\n",
       "      <td>0.54056</td>\n",
       "      <td>[(5, 0.1637195), (13, 0.25522074), (14, 0.5405...</td>\n",
       "    </tr>\n",
       "    <tr>\n",
       "      <th>2</th>\n",
       "      <td>https://yonsei.everytime.kr/lecture/view/943471</td>\n",
       "      <td>학교교실의현장연구방법입문</td>\n",
       "      <td>박순용</td>\n",
       "      <td>80.0</td>\n",
       "      <td>20년 1학기 수강자</td>\n",
       "      <td>매주 온라인 강의를 늦게 올려주셔서 불편했지만 수업 내용은 무난하고 좋았습니다. 매...</td>\n",
       "      <td>after</td>\n",
       "      <td>매주 온라인 올려 불편 무난 매주 출석 과제 기말 연구 보고서 기말 온라인 시험 이...</td>\n",
       "      <td>37</td>\n",
       "      <td>2</td>\n",
       "      <td>0.69146</td>\n",
       "      <td>[(2, 0.6914571), (6, 0.13356875), (15, 0.15257...</td>\n",
       "    </tr>\n",
       "    <tr>\n",
       "      <th>3</th>\n",
       "      <td>https://yonsei.everytime.kr/lecture/view/943471</td>\n",
       "      <td>학교교실의현장연구방법입문</td>\n",
       "      <td>박순용</td>\n",
       "      <td>20.0</td>\n",
       "      <td>20년 1학기 수강자</td>\n",
       "      <td>조교가 일을 안하는건지 교수가 일을 안하는건지 강의가 맨날 늦게 올라옴 제 시간에 ...</td>\n",
       "      <td>after</td>\n",
       "      <td>조교 건지 건지 맨날 올라옴 시간 니까 열정 초반 부터 사라짐 그러 저작 일찍 내려...</td>\n",
       "      <td>17</td>\n",
       "      <td>0</td>\n",
       "      <td>0.81293</td>\n",
       "      <td>[(0, 0.8129342), (5, 0.058381703), (13, 0.0814...</td>\n",
       "    </tr>\n",
       "    <tr>\n",
       "      <th>4</th>\n",
       "      <td>https://yonsei.everytime.kr/lecture/view/1600344</td>\n",
       "      <td>현대독일산문</td>\n",
       "      <td>이진영</td>\n",
       "      <td>100.0</td>\n",
       "      <td>20년 1학기 수강자</td>\n",
       "      <td>이번 학기에 들은 강의 중에 가장 좋았던 수업 중 하나. 교수님께서 학생들 많이 배...</td>\n",
       "      <td>after</td>\n",
       "      <td>학기 가장 하나 학생 배려 필요 학생 감상 이나 해석 개입 참고 배경 지식 작가 의...</td>\n",
       "      <td>47</td>\n",
       "      <td>7</td>\n",
       "      <td>0.23268</td>\n",
       "      <td>[(0, 0.10768841), (5, 0.13847822), (6, 0.04286...</td>\n",
       "    </tr>\n",
       "  </tbody>\n",
       "</table>\n",
       "</div>"
      ],
      "text/plain": [
       "                                         LectureUrl  \\\n",
       "0     https://yonsei.everytime.kr/lecture/view/3640   \n",
       "1     https://yonsei.everytime.kr/lecture/view/3640   \n",
       "2   https://yonsei.everytime.kr/lecture/view/943471   \n",
       "3   https://yonsei.everytime.kr/lecture/view/943471   \n",
       "4  https://yonsei.everytime.kr/lecture/view/1600344   \n",
       "\n",
       "                               LectureName LectureProf  ReviewStar  \\\n",
       "0  INTERNATIONAL MONEY AND CAPITAL MARKETS         함준호       100.0   \n",
       "1  INTERNATIONAL MONEY AND CAPITAL MARKETS         함준호        80.0   \n",
       "2                            학교교실의현장연구방법입문         박순용        80.0   \n",
       "3                            학교교실의현장연구방법입문         박순용        20.0   \n",
       "4                                   현대독일산문         이진영       100.0   \n",
       "\n",
       "  ReviewSemester                                         ReviewText COVID-19  \\\n",
       "0    20년 1학기 수강자                 시험 잘 멋본 것 같은데 에이제로 떠서 놀람 감사합니다 교수님    after   \n",
       "1    20년 1학기 수강자  에 뭐,,, 그냥 괜찮았는데 자습기간을 안 주고 전범위 시험본다그러니까 당황스러웠네...    after   \n",
       "2    20년 1학기 수강자  매주 온라인 강의를 늦게 올려주셔서 불편했지만 수업 내용은 무난하고 좋았습니다. 매...    after   \n",
       "3    20년 1학기 수강자  조교가 일을 안하는건지 교수가 일을 안하는건지 강의가 맨날 늦게 올라옴 제 시간에 ...    after   \n",
       "4    20년 1학기 수강자  이번 학기에 들은 강의 중에 가장 좋았던 수업 중 하나. 교수님께서 학생들 많이 배...    after   \n",
       "\n",
       "                                    TextPreprocessed  TokenCnt  TopicIndex  \\\n",
       "0                                     시험 이제 떠서 놀람 감사         5           1   \n",
       "1  그냥 괜찮 자습 기간 범위 시험 본다 그러니까 당황 똑똑 나쁘 다만 시간 연속 힘들...        20          14   \n",
       "2  매주 온라인 올려 불편 무난 매주 출석 과제 기말 연구 보고서 기말 온라인 시험 이...        37           2   \n",
       "3  조교 건지 건지 맨날 올라옴 시간 니까 열정 초반 부터 사라짐 그러 저작 일찍 내려...        17           0   \n",
       "4  학기 가장 하나 학생 배려 필요 학생 감상 이나 해석 개입 참고 배경 지식 작가 의...        47           7   \n",
       "\n",
       "   TopicProportion                                          TopicList  \n",
       "0          0.34150  [(1, 0.34150463), (13, 0.17502953), (14, 0.175...  \n",
       "1          0.54056  [(5, 0.1637195), (13, 0.25522074), (14, 0.5405...  \n",
       "2          0.69146  [(2, 0.6914571), (6, 0.13356875), (15, 0.15257...  \n",
       "3          0.81293  [(0, 0.8129342), (5, 0.058381703), (13, 0.0814...  \n",
       "4          0.23268  [(0, 0.10768841), (5, 0.13847822), (6, 0.04286...  "
      ]
     },
     "execution_count": 27,
     "metadata": {},
     "output_type": "execute_result"
    }
   ],
   "source": [
    "after_df.head()"
   ]
  },
  {
   "cell_type": "code",
   "execution_count": 28,
   "metadata": {},
   "outputs": [],
   "source": [
    "before_df.to_csv('Task2_data_before_COVID19_with_topic.csv')\n",
    "after_df.to_csv('Task2_data_after_COVID19_with_topic.csv')"
   ]
  },
  {
   "cell_type": "code",
   "execution_count": 29,
   "metadata": {},
   "outputs": [
    {
     "data": {
      "image/png": "[encoded data removed]",
      "text/plain": [
       "<Figure size 1152x576 with 2 Axes>"
      ]
     },
     "metadata": {
      "needs_background": "light"
     },
     "output_type": "display_data"
    }
   ],
   "source": [
    "# Topic Distribution & ReviewStar Distribution before COVID-19\n",
    "\n",
    "fig, ax = plt.subplots(2, 1, figsize=(16, 8))\n",
    "\n",
    "plt.subplot(211)\n",
    "sns.boxplot(x='TopicIndex', y='ReviewStar', data=before_df, palette='Paired')\n",
    "plt.xlabel('')\n",
    "plt.title('ReviewStar Distribution before COVID-19')\n",
    "\n",
    "plt.subplot(212)\n",
    "sns.countplot(x=before_topic_table['TopicIndex'])\n",
    "plt.title('Topic Distribution before COVID-19')\n",
    "\n",
    "plt.show()"
   ]
  },
  {
   "cell_type": "code",
   "execution_count": 30,
   "metadata": {},
   "outputs": [
    {
     "data": {
      "image/png": "[encoded data removed]",
      "text/plain": [
       "<Figure size 1152x576 with 2 Axes>"
      ]
     },
     "metadata": {
      "needs_background": "light"
     },
     "output_type": "display_data"
    }
   ],
   "source": [
    "# Topic Distribution & ReviewStar Distribution after COVID-19\n",
    "\n",
    "fig, ax = plt.subplots(2, 1, figsize=(16, 8))\n",
    "\n",
    "plt.subplot(211)\n",
    "sns.boxplot(x='TopicIndex', y='ReviewStar', data=after_df, palette='Paired')\n",
    "plt.xlabel('')\n",
    "plt.title('ReviewStar Distribution after COVID-19')\n",
    "\n",
    "plt.subplot(212)\n",
    "sns.countplot(x=after_topic_table['TopicIndex'])\n",
    "plt.title('Topic Distribution after COVID-19')\n",
    "\n",
    "plt.show()"
   ]
  }
 ],
 "metadata": {
  "kernelspec": {
   "display_name": "Python 3",
   "language": "python",
   "name": "python3"
  },
  "language_info": {
   "codemirror_mode": {
    "name": "ipython",
    "version": 3
   },
   "file_extension": ".py",
   "mimetype": "text/x-python",
   "name": "python",
   "nbconvert_exporter": "python",
   "pygments_lexer": "ipython3",
   "version": "3.8.5"
  }
 },
 "nbformat": 4,
 "nbformat_minor": 4
}
