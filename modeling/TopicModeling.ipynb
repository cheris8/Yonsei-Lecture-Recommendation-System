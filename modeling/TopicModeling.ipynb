{
 "cells": [
  {
   "cell_type": "markdown",
   "metadata": {},
   "source": [
    "# Topic Modeling을 통한 강의평 분석"
   ]
  },
  {
   "cell_type": "code",
   "execution_count": 1,
   "metadata": {},
   "outputs": [],
   "source": [
    "import warnings\n",
    "warnings.filterwarnings(action='ignore')"
   ]
  },
  {
   "cell_type": "code",
   "execution_count": 2,
   "metadata": {},
   "outputs": [],
   "source": [
    "# load libs\n",
    "import pandas as pd\n",
    "import numpy as np\n",
    "import seaborn as sns\n",
    "import matplotlib.pyplot as plt\n",
    "%matplotlib inline\n",
    "\n",
    "from collections import Counter\n",
    "\n",
    "from utils import *"
   ]
  },
  {
   "cell_type": "code",
   "execution_count": 3,
   "metadata": {},
   "outputs": [],
   "source": [
    "# load dataset\n",
    "data = pd.read_csv('../data/2020LectureReview.csv', index_col=0)"
   ]
  },
  {
   "cell_type": "code",
   "execution_count": 4,
   "metadata": {},
   "outputs": [],
   "source": [
    "# make before/after COVID-19 column\n",
    "data['COVID-19'] = data['ReviewSemester'].apply(lambda x: 'before' if x not in ['20년 1학기 수강자', '20년 2학기 수강자'] else 'after')"
   ]
  },
  {
   "cell_type": "code",
   "execution_count": 5,
   "metadata": {},
   "outputs": [
    {
     "data": {
      "text/html": [
       "<div>\n",
       "<style scoped>\n",
       "    .dataframe tbody tr th:only-of-type {\n",
       "        vertical-align: middle;\n",
       "    }\n",
       "\n",
       "    .dataframe tbody tr th {\n",
       "        vertical-align: top;\n",
       "    }\n",
       "\n",
       "    .dataframe thead th {\n",
       "        text-align: right;\n",
       "    }\n",
       "</style>\n",
       "<table border=\"1\" class=\"dataframe\">\n",
       "  <thead>\n",
       "    <tr style=\"text-align: right;\">\n",
       "      <th></th>\n",
       "      <th>LectureUrl</th>\n",
       "      <th>LectureName</th>\n",
       "      <th>LectureProf</th>\n",
       "      <th>ReviewStar</th>\n",
       "      <th>ReviewSemester</th>\n",
       "      <th>ReviewText</th>\n",
       "      <th>COVID-19</th>\n",
       "    </tr>\n",
       "  </thead>\n",
       "  <tbody>\n",
       "    <tr>\n",
       "      <th>0</th>\n",
       "      <td>https://yonsei.everytime.kr/lecture/view/3640</td>\n",
       "      <td>INTERNATIONAL MONEY AND CAPITAL MARKETS</td>\n",
       "      <td>함준호</td>\n",
       "      <td>100.0</td>\n",
       "      <td>20년 1학기 수강자</td>\n",
       "      <td>시험 잘 멋본 것 같은데 에이제로 떠서 놀람 감사합니다 교수님</td>\n",
       "      <td>after</td>\n",
       "    </tr>\n",
       "    <tr>\n",
       "      <th>1</th>\n",
       "      <td>https://yonsei.everytime.kr/lecture/view/3640</td>\n",
       "      <td>INTERNATIONAL MONEY AND CAPITAL MARKETS</td>\n",
       "      <td>함준호</td>\n",
       "      <td>80.0</td>\n",
       "      <td>20년 1학기 수강자</td>\n",
       "      <td>에 뭐,,, 그냥 괜찮았는데 자습기간을 안 주고 전범위 시험본다그러니까 당황스러웠네...</td>\n",
       "      <td>after</td>\n",
       "    </tr>\n",
       "    <tr>\n",
       "      <th>2</th>\n",
       "      <td>https://yonsei.everytime.kr/lecture/view/3640</td>\n",
       "      <td>INTERNATIONAL MONEY AND CAPITAL MARKETS</td>\n",
       "      <td>함준호</td>\n",
       "      <td>80.0</td>\n",
       "      <td>19년 1학기 수강자</td>\n",
       "      <td>한국은행 금융통화위원을 지내고 오신 교수님이시라 그런지 간간히 들려주시는 교수님의 ...</td>\n",
       "      <td>before</td>\n",
       "    </tr>\n",
       "    <tr>\n",
       "      <th>3</th>\n",
       "      <td>https://yonsei.everytime.kr/lecture/view/3640</td>\n",
       "      <td>INTERNATIONAL MONEY AND CAPITAL MARKETS</td>\n",
       "      <td>함준호</td>\n",
       "      <td>100.0</td>\n",
       "      <td>19년 1학기 수강자</td>\n",
       "      <td>교수님 너무 똑똑하시고 피피티 위주로 수업하시기는 하는데 현장경험이 풍부하셔서 그런...</td>\n",
       "      <td>before</td>\n",
       "    </tr>\n",
       "    <tr>\n",
       "      <th>4</th>\n",
       "      <td>https://yonsei.everytime.kr/lecture/view/943471</td>\n",
       "      <td>학교교실의현장연구방법입문</td>\n",
       "      <td>박순용</td>\n",
       "      <td>80.0</td>\n",
       "      <td>20년 1학기 수강자</td>\n",
       "      <td>매주 온라인 강의를 늦게 올려주셔서 불편했지만 수업 내용은 무난하고 좋았습니다. 매...</td>\n",
       "      <td>after</td>\n",
       "    </tr>\n",
       "  </tbody>\n",
       "</table>\n",
       "</div>"
      ],
      "text/plain": [
       "                                        LectureUrl  \\\n",
       "0    https://yonsei.everytime.kr/lecture/view/3640   \n",
       "1    https://yonsei.everytime.kr/lecture/view/3640   \n",
       "2    https://yonsei.everytime.kr/lecture/view/3640   \n",
       "3    https://yonsei.everytime.kr/lecture/view/3640   \n",
       "4  https://yonsei.everytime.kr/lecture/view/943471   \n",
       "\n",
       "                               LectureName LectureProf  ReviewStar  \\\n",
       "0  INTERNATIONAL MONEY AND CAPITAL MARKETS         함준호       100.0   \n",
       "1  INTERNATIONAL MONEY AND CAPITAL MARKETS         함준호        80.0   \n",
       "2  INTERNATIONAL MONEY AND CAPITAL MARKETS         함준호        80.0   \n",
       "3  INTERNATIONAL MONEY AND CAPITAL MARKETS         함준호       100.0   \n",
       "4                            학교교실의현장연구방법입문         박순용        80.0   \n",
       "\n",
       "  ReviewSemester                                         ReviewText COVID-19  \n",
       "0    20년 1학기 수강자                 시험 잘 멋본 것 같은데 에이제로 떠서 놀람 감사합니다 교수님    after  \n",
       "1    20년 1학기 수강자  에 뭐,,, 그냥 괜찮았는데 자습기간을 안 주고 전범위 시험본다그러니까 당황스러웠네...    after  \n",
       "2    19년 1학기 수강자  한국은행 금융통화위원을 지내고 오신 교수님이시라 그런지 간간히 들려주시는 교수님의 ...   before  \n",
       "3    19년 1학기 수강자  교수님 너무 똑똑하시고 피피티 위주로 수업하시기는 하는데 현장경험이 풍부하셔서 그런...   before  \n",
       "4    20년 1학기 수강자  매주 온라인 강의를 늦게 올려주셔서 불편했지만 수업 내용은 무난하고 좋았습니다. 매...    after  "
      ]
     },
     "execution_count": 5,
     "metadata": {},
     "output_type": "execute_result"
    }
   ],
   "source": [
    "data.head()"
   ]
  },
  {
   "cell_type": "markdown",
   "metadata": {},
   "source": [
    "## Task1 : 전체 강의평에 대하여 토픽 모델링 진행 후 코로나 전/후 강의평 토픽 비교"
   ]
  },
  {
   "cell_type": "markdown",
   "metadata": {},
   "source": [
    "### Preprocessing"
   ]
  },
  {
   "cell_type": "code",
   "execution_count": 6,
   "metadata": {},
   "outputs": [
    {
     "data": {
      "text/html": [
       "<div>\n",
       "<style scoped>\n",
       "    .dataframe tbody tr th:only-of-type {\n",
       "        vertical-align: middle;\n",
       "    }\n",
       "\n",
       "    .dataframe tbody tr th {\n",
       "        vertical-align: top;\n",
       "    }\n",
       "\n",
       "    .dataframe thead th {\n",
       "        text-align: right;\n",
       "    }\n",
       "</style>\n",
       "<table border=\"1\" class=\"dataframe\">\n",
       "  <thead>\n",
       "    <tr style=\"text-align: right;\">\n",
       "      <th></th>\n",
       "      <th>LectureUrl</th>\n",
       "      <th>LectureName</th>\n",
       "      <th>LectureProf</th>\n",
       "      <th>ReviewStar</th>\n",
       "      <th>ReviewSemester</th>\n",
       "      <th>ReviewText</th>\n",
       "      <th>COVID-19</th>\n",
       "      <th>TextPreprocessed</th>\n",
       "      <th>TokenCnt</th>\n",
       "    </tr>\n",
       "  </thead>\n",
       "  <tbody>\n",
       "    <tr>\n",
       "      <th>0</th>\n",
       "      <td>https://yonsei.everytime.kr/lecture/view/3640</td>\n",
       "      <td>INTERNATIONAL MONEY AND CAPITAL MARKETS</td>\n",
       "      <td>함준호</td>\n",
       "      <td>100.0</td>\n",
       "      <td>20년 1학기 수강자</td>\n",
       "      <td>시험 잘 멋본 것 같은데 에이제로 떠서 놀람 감사합니다 교수님</td>\n",
       "      <td>after</td>\n",
       "      <td>시험 이제 떠서 놀람 감사</td>\n",
       "      <td>5</td>\n",
       "    </tr>\n",
       "    <tr>\n",
       "      <th>1</th>\n",
       "      <td>https://yonsei.everytime.kr/lecture/view/3640</td>\n",
       "      <td>INTERNATIONAL MONEY AND CAPITAL MARKETS</td>\n",
       "      <td>함준호</td>\n",
       "      <td>80.0</td>\n",
       "      <td>20년 1학기 수강자</td>\n",
       "      <td>에 뭐,,, 그냥 괜찮았는데 자습기간을 안 주고 전범위 시험본다그러니까 당황스러웠네...</td>\n",
       "      <td>after</td>\n",
       "      <td>그냥 괜찮 자습 기간 범위 시험 본다 그러니까 당황 똑똑 나쁘 다만 시간 연속 힘들...</td>\n",
       "      <td>20</td>\n",
       "    </tr>\n",
       "    <tr>\n",
       "      <th>2</th>\n",
       "      <td>https://yonsei.everytime.kr/lecture/view/3640</td>\n",
       "      <td>INTERNATIONAL MONEY AND CAPITAL MARKETS</td>\n",
       "      <td>함준호</td>\n",
       "      <td>80.0</td>\n",
       "      <td>19년 1학기 수강자</td>\n",
       "      <td>한국은행 금융통화위원을 지내고 오신 교수님이시라 그런지 간간히 들려주시는 교수님의 ...</td>\n",
       "      <td>before</td>\n",
       "      <td>한국은행 금융 통화 위원 지내 그런지 간간히 들려 현장 쏠쏠 재미 중간고사 기말고사...</td>\n",
       "      <td>37</td>\n",
       "    </tr>\n",
       "    <tr>\n",
       "      <th>3</th>\n",
       "      <td>https://yonsei.everytime.kr/lecture/view/3640</td>\n",
       "      <td>INTERNATIONAL MONEY AND CAPITAL MARKETS</td>\n",
       "      <td>함준호</td>\n",
       "      <td>100.0</td>\n",
       "      <td>19년 1학기 수강자</td>\n",
       "      <td>교수님 너무 똑똑하시고 피피티 위주로 수업하시기는 하는데 현장경험이 풍부하셔서 그런...</td>\n",
       "      <td>before</td>\n",
       "      <td>똑똑 피피티 위주 현장 경험 풍부 그런지 설명</td>\n",
       "      <td>8</td>\n",
       "    </tr>\n",
       "    <tr>\n",
       "      <th>4</th>\n",
       "      <td>https://yonsei.everytime.kr/lecture/view/943471</td>\n",
       "      <td>학교교실의현장연구방법입문</td>\n",
       "      <td>박순용</td>\n",
       "      <td>80.0</td>\n",
       "      <td>20년 1학기 수강자</td>\n",
       "      <td>매주 온라인 강의를 늦게 올려주셔서 불편했지만 수업 내용은 무난하고 좋았습니다. 매...</td>\n",
       "      <td>after</td>\n",
       "      <td>매주 온라인 올려 불편 무난 매주 출석 과제 기말 연구 보고서 기말 온라인 시험 이...</td>\n",
       "      <td>37</td>\n",
       "    </tr>\n",
       "  </tbody>\n",
       "</table>\n",
       "</div>"
      ],
      "text/plain": [
       "                                        LectureUrl  \\\n",
       "0    https://yonsei.everytime.kr/lecture/view/3640   \n",
       "1    https://yonsei.everytime.kr/lecture/view/3640   \n",
       "2    https://yonsei.everytime.kr/lecture/view/3640   \n",
       "3    https://yonsei.everytime.kr/lecture/view/3640   \n",
       "4  https://yonsei.everytime.kr/lecture/view/943471   \n",
       "\n",
       "                               LectureName LectureProf  ReviewStar  \\\n",
       "0  INTERNATIONAL MONEY AND CAPITAL MARKETS         함준호       100.0   \n",
       "1  INTERNATIONAL MONEY AND CAPITAL MARKETS         함준호        80.0   \n",
       "2  INTERNATIONAL MONEY AND CAPITAL MARKETS         함준호        80.0   \n",
       "3  INTERNATIONAL MONEY AND CAPITAL MARKETS         함준호       100.0   \n",
       "4                            학교교실의현장연구방법입문         박순용        80.0   \n",
       "\n",
       "  ReviewSemester                                         ReviewText COVID-19  \\\n",
       "0    20년 1학기 수강자                 시험 잘 멋본 것 같은데 에이제로 떠서 놀람 감사합니다 교수님    after   \n",
       "1    20년 1학기 수강자  에 뭐,,, 그냥 괜찮았는데 자습기간을 안 주고 전범위 시험본다그러니까 당황스러웠네...    after   \n",
       "2    19년 1학기 수강자  한국은행 금융통화위원을 지내고 오신 교수님이시라 그런지 간간히 들려주시는 교수님의 ...   before   \n",
       "3    19년 1학기 수강자  교수님 너무 똑똑하시고 피피티 위주로 수업하시기는 하는데 현장경험이 풍부하셔서 그런...   before   \n",
       "4    20년 1학기 수강자  매주 온라인 강의를 늦게 올려주셔서 불편했지만 수업 내용은 무난하고 좋았습니다. 매...    after   \n",
       "\n",
       "                                    TextPreprocessed  TokenCnt  \n",
       "0                                     시험 이제 떠서 놀람 감사         5  \n",
       "1  그냥 괜찮 자습 기간 범위 시험 본다 그러니까 당황 똑똑 나쁘 다만 시간 연속 힘들...        20  \n",
       "2  한국은행 금융 통화 위원 지내 그런지 간간히 들려 현장 쏠쏠 재미 중간고사 기말고사...        37  \n",
       "3                          똑똑 피피티 위주 현장 경험 풍부 그런지 설명         8  \n",
       "4  매주 온라인 올려 불편 무난 매주 출석 과제 기말 연구 보고서 기말 온라인 시험 이...        37  "
      ]
     },
     "execution_count": 6,
     "metadata": {},
     "output_type": "execute_result"
    }
   ],
   "source": [
    "data_, text_tokenized_ = Preprocessor(data, list(data['ReviewText'].values))\n",
    "data_.head()"
   ]
  },
  {
   "cell_type": "markdown",
   "metadata": {},
   "source": [
    "### Topic Modeling (LDA)"
   ]
  },
  {
   "cell_type": "code",
   "execution_count": 7,
   "metadata": {
    "scrolled": true
   },
   "outputs": [
    {
     "name": "stdout",
     "output_type": "stream",
     "text": [
      "============ Topic List ============\n",
      "(0, '0.101*\"수강\" + 0.039*\"신청\" + 0.032*\"숙제\" + 0.031*\"물리\" + 0.029*\"학점\"')\n",
      "(1, '0.026*\"사람\" + 0.025*\"모르\" + 0.025*\"그냥\" + 0.021*\"아니\" + 0.015*\"으면\"')\n",
      "(2, '0.063*\"출석\" + 0.047*\"출결\" + 0.030*\"조교\" + 0.017*\"결석\" + 0.014*\"실험\"')\n",
      "(3, '0.049*\"열심히\" + 0.049*\"공부\" + 0.035*\"시험\" + 0.032*\"학점\" + 0.024*\"생각\"')\n",
      "(4, '0.080*\"학기\" + 0.058*\"최고\" + 0.030*\"재밌\" + 0.027*\"학점\" + 0.026*\"ㅎㅎ\"')\n",
      "(5, '0.054*\"설명\" + 0.044*\"이해\" + 0.043*\"질문\" + 0.029*\"친절\" + 0.017*\"진도\"')\n",
      "(6, '0.024*\"학년\" + 0.017*\"당신\" + 0.016*\"타과\" + 0.016*\"등록금\" + 0.014*\"아깝\"')\n",
      "(7, '0.095*\"학생\" + 0.022*\"리딩\" + 0.020*\"흥미\" + 0.017*\"노력\" + 0.016*\"배려\"')\n",
      "(8, '0.084*\"영어\" + 0.053*\"ㅋㅋ\" + 0.043*\"ㅋㅋㅋ\" + 0.019*\"그래도\" + 0.014*\"근데\"')\n",
      "(9, '0.049*\"기말고사\" + 0.046*\"시간\" + 0.039*\"시험\" + 0.038*\"중간고사\" + 0.028*\"보고서\"')\n",
      "(10, '0.107*\"문제\" + 0.100*\"시험\" + 0.031*\"공부\" + 0.026*\"족보\" + 0.023*\"나오\"')\n",
      "(11, '0.034*\"생각\" + 0.028*\"학기\" + 0.013*\"진행\" + 0.012*\"수강\" + 0.012*\"학생\"')\n",
      "(12, '0.048*\"과제\" + 0.040*\"기준\" + 0.039*\"성적\" + 0.033*\"평가\" + 0.031*\"점수\"')\n",
      "(13, '0.157*\"과제\" + 0.044*\"학점\" + 0.043*\"시험\" + 0.032*\"부담\" + 0.022*\"모임\"')\n",
      "(14, '0.023*\"생각\" + 0.014*\"주제\" + 0.013*\"지식\" + 0.012*\"관심\" + 0.012*\"영화\"')\n",
      "(15, '0.074*\"그냥\" + 0.056*\"시험\" + 0.043*\"외우\" + 0.037*\"피피티\" + 0.027*\"이쁠\"')\n",
      "(16, '0.133*\"발표\" + 0.061*\"모임\" + 0.047*\"조별\" + 0.041*\"기독교\" + 0.040*\"토론\"')\n",
      "(17, '0.155*\"시간\" + 0.052*\"채플\" + 0.021*\"그냥\" + 0.019*\"채우\" + 0.018*\"끝내\"')\n",
      "(18, '0.045*\"배우\" + 0.032*\"이론\" + 0.022*\"프로젝트\" + 0.020*\"분야\" + 0.019*\"과목\"')\n",
      "(19, '0.109*\"중간\" + 0.104*\"기말\" + 0.054*\"퀴즈\" + 0.048*\"과제\" + 0.030*\"점수\"')\n"
     ]
    }
   ],
   "source": [
    "# topic modeling => topic list\n",
    "print('============ Topic List ============')\n",
    "corpus_, lda_ = ModelingLDA(text_tokenized_)"
   ]
  },
  {
   "cell_type": "code",
   "execution_count": 8,
   "metadata": {},
   "outputs": [],
   "source": [
    "topic_table_ = MakeTopicTable(corpus_, lda_)"
   ]
  },
  {
   "cell_type": "code",
   "execution_count": 9,
   "metadata": {},
   "outputs": [
    {
     "data": {
      "text/html": [
       "<div>\n",
       "<style scoped>\n",
       "    .dataframe tbody tr th:only-of-type {\n",
       "        vertical-align: middle;\n",
       "    }\n",
       "\n",
       "    .dataframe tbody tr th {\n",
       "        vertical-align: top;\n",
       "    }\n",
       "\n",
       "    .dataframe thead th {\n",
       "        text-align: right;\n",
       "    }\n",
       "</style>\n",
       "<table border=\"1\" class=\"dataframe\">\n",
       "  <thead>\n",
       "    <tr style=\"text-align: right;\">\n",
       "      <th></th>\n",
       "      <th>LectureUrl</th>\n",
       "      <th>LectureName</th>\n",
       "      <th>LectureProf</th>\n",
       "      <th>ReviewStar</th>\n",
       "      <th>ReviewSemester</th>\n",
       "      <th>ReviewText</th>\n",
       "      <th>COVID-19</th>\n",
       "      <th>TextPreprocessed</th>\n",
       "      <th>TokenCnt</th>\n",
       "      <th>TopicIndex</th>\n",
       "      <th>TopicProportion</th>\n",
       "      <th>TopicList</th>\n",
       "    </tr>\n",
       "  </thead>\n",
       "  <tbody>\n",
       "    <tr>\n",
       "      <th>0</th>\n",
       "      <td>https://yonsei.everytime.kr/lecture/view/3640</td>\n",
       "      <td>INTERNATIONAL MONEY AND CAPITAL MARKETS</td>\n",
       "      <td>함준호</td>\n",
       "      <td>100.0</td>\n",
       "      <td>20년 1학기 수강자</td>\n",
       "      <td>시험 잘 멋본 것 같은데 에이제로 떠서 놀람 감사합니다 교수님</td>\n",
       "      <td>after</td>\n",
       "      <td>시험 이제 떠서 놀람 감사</td>\n",
       "      <td>5</td>\n",
       "      <td>4</td>\n",
       "      <td>0.30754</td>\n",
       "      <td>[(2, 0.20916927), (4, 0.30754256), (10, 0.1568...</td>\n",
       "    </tr>\n",
       "    <tr>\n",
       "      <th>1</th>\n",
       "      <td>https://yonsei.everytime.kr/lecture/view/3640</td>\n",
       "      <td>INTERNATIONAL MONEY AND CAPITAL MARKETS</td>\n",
       "      <td>함준호</td>\n",
       "      <td>80.0</td>\n",
       "      <td>20년 1학기 수강자</td>\n",
       "      <td>에 뭐,,, 그냥 괜찮았는데 자습기간을 안 주고 전범위 시험본다그러니까 당황스러웠네...</td>\n",
       "      <td>after</td>\n",
       "      <td>그냥 괜찮 자습 기간 범위 시험 본다 그러니까 당황 똑똑 나쁘 다만 시간 연속 힘들...</td>\n",
       "      <td>20</td>\n",
       "      <td>1</td>\n",
       "      <td>0.23670</td>\n",
       "      <td>[(0, 0.05002789), (1, 0.23669928), (7, 0.09566...</td>\n",
       "    </tr>\n",
       "    <tr>\n",
       "      <th>2</th>\n",
       "      <td>https://yonsei.everytime.kr/lecture/view/3640</td>\n",
       "      <td>INTERNATIONAL MONEY AND CAPITAL MARKETS</td>\n",
       "      <td>함준호</td>\n",
       "      <td>80.0</td>\n",
       "      <td>19년 1학기 수강자</td>\n",
       "      <td>한국은행 금융통화위원을 지내고 오신 교수님이시라 그런지 간간히 들려주시는 교수님의 ...</td>\n",
       "      <td>before</td>\n",
       "      <td>한국은행 금융 통화 위원 지내 그런지 간간히 들려 현장 쏠쏠 재미 중간고사 기말고사...</td>\n",
       "      <td>37</td>\n",
       "      <td>10</td>\n",
       "      <td>0.27493</td>\n",
       "      <td>[(3, 0.1373029), (6, 0.02913044), (7, 0.118931...</td>\n",
       "    </tr>\n",
       "    <tr>\n",
       "      <th>3</th>\n",
       "      <td>https://yonsei.everytime.kr/lecture/view/3640</td>\n",
       "      <td>INTERNATIONAL MONEY AND CAPITAL MARKETS</td>\n",
       "      <td>함준호</td>\n",
       "      <td>100.0</td>\n",
       "      <td>19년 1학기 수강자</td>\n",
       "      <td>교수님 너무 똑똑하시고 피피티 위주로 수업하시기는 하는데 현장경험이 풍부하셔서 그런...</td>\n",
       "      <td>before</td>\n",
       "      <td>똑똑 피피티 위주 현장 경험 풍부 그런지 설명</td>\n",
       "      <td>8</td>\n",
       "      <td>10</td>\n",
       "      <td>0.39913</td>\n",
       "      <td>[(7, 0.13534486), (10, 0.39912838), (14, 0.164...</td>\n",
       "    </tr>\n",
       "    <tr>\n",
       "      <th>4</th>\n",
       "      <td>https://yonsei.everytime.kr/lecture/view/943471</td>\n",
       "      <td>학교교실의현장연구방법입문</td>\n",
       "      <td>박순용</td>\n",
       "      <td>80.0</td>\n",
       "      <td>20년 1학기 수강자</td>\n",
       "      <td>매주 온라인 강의를 늦게 올려주셔서 불편했지만 수업 내용은 무난하고 좋았습니다. 매...</td>\n",
       "      <td>after</td>\n",
       "      <td>매주 온라인 올려 불편 무난 매주 출석 과제 기말 연구 보고서 기말 온라인 시험 이...</td>\n",
       "      <td>37</td>\n",
       "      <td>13</td>\n",
       "      <td>0.29341</td>\n",
       "      <td>[(9, 0.27222767), (10, 0.16813548), (13, 0.293...</td>\n",
       "    </tr>\n",
       "  </tbody>\n",
       "</table>\n",
       "</div>"
      ],
      "text/plain": [
       "                                        LectureUrl  \\\n",
       "0    https://yonsei.everytime.kr/lecture/view/3640   \n",
       "1    https://yonsei.everytime.kr/lecture/view/3640   \n",
       "2    https://yonsei.everytime.kr/lecture/view/3640   \n",
       "3    https://yonsei.everytime.kr/lecture/view/3640   \n",
       "4  https://yonsei.everytime.kr/lecture/view/943471   \n",
       "\n",
       "                               LectureName LectureProf  ReviewStar  \\\n",
       "0  INTERNATIONAL MONEY AND CAPITAL MARKETS         함준호       100.0   \n",
       "1  INTERNATIONAL MONEY AND CAPITAL MARKETS         함준호        80.0   \n",
       "2  INTERNATIONAL MONEY AND CAPITAL MARKETS         함준호        80.0   \n",
       "3  INTERNATIONAL MONEY AND CAPITAL MARKETS         함준호       100.0   \n",
       "4                            학교교실의현장연구방법입문         박순용        80.0   \n",
       "\n",
       "  ReviewSemester                                         ReviewText COVID-19  \\\n",
       "0    20년 1학기 수강자                 시험 잘 멋본 것 같은데 에이제로 떠서 놀람 감사합니다 교수님    after   \n",
       "1    20년 1학기 수강자  에 뭐,,, 그냥 괜찮았는데 자습기간을 안 주고 전범위 시험본다그러니까 당황스러웠네...    after   \n",
       "2    19년 1학기 수강자  한국은행 금융통화위원을 지내고 오신 교수님이시라 그런지 간간히 들려주시는 교수님의 ...   before   \n",
       "3    19년 1학기 수강자  교수님 너무 똑똑하시고 피피티 위주로 수업하시기는 하는데 현장경험이 풍부하셔서 그런...   before   \n",
       "4    20년 1학기 수강자  매주 온라인 강의를 늦게 올려주셔서 불편했지만 수업 내용은 무난하고 좋았습니다. 매...    after   \n",
       "\n",
       "                                    TextPreprocessed  TokenCnt  TopicIndex  \\\n",
       "0                                     시험 이제 떠서 놀람 감사         5           4   \n",
       "1  그냥 괜찮 자습 기간 범위 시험 본다 그러니까 당황 똑똑 나쁘 다만 시간 연속 힘들...        20           1   \n",
       "2  한국은행 금융 통화 위원 지내 그런지 간간히 들려 현장 쏠쏠 재미 중간고사 기말고사...        37          10   \n",
       "3                          똑똑 피피티 위주 현장 경험 풍부 그런지 설명         8          10   \n",
       "4  매주 온라인 올려 불편 무난 매주 출석 과제 기말 연구 보고서 기말 온라인 시험 이...        37          13   \n",
       "\n",
       "   TopicProportion                                          TopicList  \n",
       "0          0.30754  [(2, 0.20916927), (4, 0.30754256), (10, 0.1568...  \n",
       "1          0.23670  [(0, 0.05002789), (1, 0.23669928), (7, 0.09566...  \n",
       "2          0.27493  [(3, 0.1373029), (6, 0.02913044), (7, 0.118931...  \n",
       "3          0.39913  [(7, 0.13534486), (10, 0.39912838), (14, 0.164...  \n",
       "4          0.29341  [(9, 0.27222767), (10, 0.16813548), (13, 0.293...  "
      ]
     },
     "execution_count": 9,
     "metadata": {},
     "output_type": "execute_result"
    }
   ],
   "source": [
    "df_ = pd.concat([data_.reset_index(drop=True), topic_table_.reset_index(drop=True)], axis=1)\n",
    "df_.head()"
   ]
  },
  {
   "cell_type": "code",
   "execution_count": 10,
   "metadata": {},
   "outputs": [],
   "source": [
    "df_.to_csv('Task1_data_with_topic.csv')"
   ]
  },
  {
   "cell_type": "code",
   "execution_count": 11,
   "metadata": {},
   "outputs": [],
   "source": [
    "before_df_ = df_[df_['COVID-19']=='before']\n",
    "after_df_ = df_[df_['COVID-19']=='after']"
   ]
  },
  {
   "cell_type": "code",
   "execution_count": 12,
   "metadata": {},
   "outputs": [
    {
     "data": {
      "image/png": "[encoded data removed]",
      "text/plain": [
       "<Figure size 1152x288 with 1 Axes>"
      ]
     },
     "metadata": {
      "needs_background": "light"
     },
     "output_type": "display_data"
    },
    {
     "data": {
      "image/png": "[encoded data removed]",
      "text/plain": [
       "<Figure size 1152x288 with 2 Axes>"
      ]
     },
     "metadata": {
      "needs_background": "light"
     },
     "output_type": "display_data"
    }
   ],
   "source": [
    "# ReviewStar Distribution\n",
    "\n",
    "fig, ax = plt.subplots(1, 1, figsize=(16, 4))\n",
    "\n",
    "sns.boxplot(x='TopicIndex', y='ReviewStar', data=df_, palette='Paired')\n",
    "plt.title('ReviewStar Distribution')\n",
    "\n",
    "fig, ax = plt.subplots(1, 2, figsize=(16, 4))\n",
    "\n",
    "plt.subplot(121)\n",
    "sns.boxplot(x='TopicIndex', y='ReviewStar', data=before_df_, palette='Paired')\n",
    "plt.title('ReviewStar Distribution before COVID-19')\n",
    "\n",
    "plt.subplot(122)\n",
    "sns.boxplot(x='TopicIndex', y='ReviewStar', data=after_df_, palette='Paired')\n",
    "plt.title('ReviewStar Distribution after COVID-19')\n",
    "\n",
    "plt.show()"
   ]
  },
  {
   "cell_type": "code",
   "execution_count": 13,
   "metadata": {},
   "outputs": [
    {
     "data": {
      "image/png": "[encoded data removed]",
      "text/plain": [
       "<Figure size 1152x288 with 1 Axes>"
      ]
     },
     "metadata": {
      "needs_background": "light"
     },
     "output_type": "display_data"
    },
    {
     "data": {
      "image/png": "[encoded data removed]",
      "text/plain": [
       "<Figure size 1152x576 with 4 Axes>"
      ]
     },
     "metadata": {
      "needs_background": "light"
     },
     "output_type": "display_data"
    }
   ],
   "source": [
    "# Topic Distribution\n",
    "\n",
    "before_temp_ = before_df_.groupby('TopicIndex').count()['LectureUrl']\n",
    "after_temp_ = after_df_.groupby('TopicIndex').count()['LectureUrl']\n",
    "\n",
    "fig, ax = plt.subplots(1, 1, figsize=(16, 4))\n",
    "\n",
    "sns.countplot(x=df_['TopicIndex'])\n",
    "plt.title('Topic Distribution')\n",
    "\n",
    "fig, ax = plt.subplots(2, 2, figsize=(16, 8))\n",
    "\n",
    "plt.subplot(221)\n",
    "sns.countplot(x=before_df_['TopicIndex'])\n",
    "plt.yticks(range(0, 7001, 1000))\n",
    "plt.xlabel('')\n",
    "plt.title('Topic Distribution before COVID-19')\n",
    "\n",
    "plt.subplot(222)\n",
    "sns.countplot(x=after_df_['TopicIndex'])\n",
    "plt.yticks(range(0, 7001, 1000))\n",
    "plt.xlabel('')\n",
    "plt.title('Topic Distribution after COVID-19')\n",
    "\n",
    "plt.subplot(223)\n",
    "sns.barplot(x=before_temp_.index, y=before_temp_.values/len(before_df_))\n",
    "plt.yticks(np.arange(0, 0.20, 0.02))\n",
    "plt.ylabel('proportion')\n",
    "\n",
    "plt.subplot(224)\n",
    "sns.barplot(x=after_temp_.index, y=after_temp_.values/len(after_df_))\n",
    "plt.yticks(np.arange(0, 0.20, 0.02))\n",
    "plt.ylabel('proportion')\n",
    "\n",
    "plt.show()"
   ]
  },
  {
   "cell_type": "code",
   "execution_count": 14,
   "metadata": {
    "scrolled": true
   },
   "outputs": [
    {
     "data": {
      "image/png": "[encoded data removed]",
      "text/plain": [
       "<Figure size 1152x864 with 2 Axes>"
      ]
     },
     "metadata": {
      "needs_background": "light"
     },
     "output_type": "display_data"
    }
   ],
   "source": [
    "# Compare Topic Distribution before/after COVID19\n",
    "\n",
    "fig, ax = plt.subplots(2, 1, figsize=(16, 12))\n",
    "\n",
    "plt.subplot(211)\n",
    "sns.countplot(x='TopicIndex', data=df_, hue='COVID-19', palette='muted')\n",
    "plt.xticks(range(0, 20, 1))\n",
    "plt.xlabel('')\n",
    "plt.ylabel('count')\n",
    "\n",
    "plt.subplot(212)\n",
    "sns.lineplot(x=after_temp_.index, y=after_temp_.values/len(after_df_), label='after COVID-19', color=sns.color_palette('muted')[0])\n",
    "sns.lineplot(x=before_temp_.index, y=before_temp_.values/len(before_df_), label='before COVID-19', color=sns.color_palette('muted')[1])\n",
    "plt.xticks(range(0, 20, 1))\n",
    "plt.ylabel('proportion')\n",
    "\n",
    "plt.show()"
   ]
  },
  {
   "cell_type": "markdown",
   "metadata": {},
   "source": [
    "## Task2 : 코로나 전/후 강의평에 대하여 각각 토픽 모델링 진행 후 코로나 전/후 강의평 토픽 비교"
   ]
  },
  {
   "cell_type": "markdown",
   "metadata": {},
   "source": [
    "### Preprocessing"
   ]
  },
  {
   "cell_type": "code",
   "execution_count": 15,
   "metadata": {},
   "outputs": [],
   "source": [
    "before_data = data[data['COVID-19']=='before']\n",
    "after_data = data[data['COVID-19']=='after']"
   ]
  },
  {
   "cell_type": "code",
   "execution_count": 16,
   "metadata": {},
   "outputs": [],
   "source": [
    "before_text = list(before_data['ReviewText'].values)\n",
    "after_text = list(after_data['ReviewText'].values)"
   ]
  },
  {
   "cell_type": "code",
   "execution_count": 17,
   "metadata": {},
   "outputs": [],
   "source": [
    "before_data, before_text_tokenized = Preprocessor(before_data, before_text)\n",
    "after_data, after_text_tokenized = Preprocessor(after_data, after_text)"
   ]
  },
  {
   "cell_type": "code",
   "execution_count": 18,
   "metadata": {},
   "outputs": [
    {
     "data": {
      "text/html": [
       "<div>\n",
       "<style scoped>\n",
       "    .dataframe tbody tr th:only-of-type {\n",
       "        vertical-align: middle;\n",
       "    }\n",
       "\n",
       "    .dataframe tbody tr th {\n",
       "        vertical-align: top;\n",
       "    }\n",
       "\n",
       "    .dataframe thead th {\n",
       "        text-align: right;\n",
       "    }\n",
       "</style>\n",
       "<table border=\"1\" class=\"dataframe\">\n",
       "  <thead>\n",
       "    <tr style=\"text-align: right;\">\n",
       "      <th></th>\n",
       "      <th>LectureUrl</th>\n",
       "      <th>LectureName</th>\n",
       "      <th>LectureProf</th>\n",
       "      <th>ReviewStar</th>\n",
       "      <th>ReviewSemester</th>\n",
       "      <th>ReviewText</th>\n",
       "      <th>COVID-19</th>\n",
       "      <th>TextPreprocessed</th>\n",
       "      <th>TokenCnt</th>\n",
       "    </tr>\n",
       "  </thead>\n",
       "  <tbody>\n",
       "    <tr>\n",
       "      <th>2</th>\n",
       "      <td>https://yonsei.everytime.kr/lecture/view/3640</td>\n",
       "      <td>INTERNATIONAL MONEY AND CAPITAL MARKETS</td>\n",
       "      <td>함준호</td>\n",
       "      <td>80.0</td>\n",
       "      <td>19년 1학기 수강자</td>\n",
       "      <td>한국은행 금융통화위원을 지내고 오신 교수님이시라 그런지 간간히 들려주시는 교수님의 ...</td>\n",
       "      <td>before</td>\n",
       "      <td>한국은행 금융 통화 위원 지내 그런지 간간히 들려 현장 쏠쏠 재미 중간고사 기말고사...</td>\n",
       "      <td>37</td>\n",
       "    </tr>\n",
       "    <tr>\n",
       "      <th>3</th>\n",
       "      <td>https://yonsei.everytime.kr/lecture/view/3640</td>\n",
       "      <td>INTERNATIONAL MONEY AND CAPITAL MARKETS</td>\n",
       "      <td>함준호</td>\n",
       "      <td>100.0</td>\n",
       "      <td>19년 1학기 수강자</td>\n",
       "      <td>교수님 너무 똑똑하시고 피피티 위주로 수업하시기는 하는데 현장경험이 풍부하셔서 그런...</td>\n",
       "      <td>before</td>\n",
       "      <td>똑똑 피피티 위주 현장 경험 풍부 그런지 설명</td>\n",
       "      <td>8</td>\n",
       "    </tr>\n",
       "    <tr>\n",
       "      <th>6</th>\n",
       "      <td>https://yonsei.everytime.kr/lecture/view/943471</td>\n",
       "      <td>학교교실의현장연구방법입문</td>\n",
       "      <td>박순용</td>\n",
       "      <td>20.0</td>\n",
       "      <td>18년 2학기 수강자</td>\n",
       "      <td>교수님의 수업은 이해하기 쉬웠고 질적연구와 현장연구에 대해 잘 설명해주셔서 수업은 ...</td>\n",
       "      <td>before</td>\n",
       "      <td>이해 쉬웠 연구 현장 연구 설명 중간고사 비중 성적 산출 아쉬운 부분</td>\n",
       "      <td>12</td>\n",
       "    </tr>\n",
       "    <tr>\n",
       "      <th>7</th>\n",
       "      <td>https://yonsei.everytime.kr/lecture/view/943471</td>\n",
       "      <td>학교교실의현장연구방법입문</td>\n",
       "      <td>박순용</td>\n",
       "      <td>100.0</td>\n",
       "      <td>18년 2학기 수강자</td>\n",
       "      <td>개인적이지만 수업 괜찮았고 설명 잘해주심. 성적은 그냥 시험으로 갈리는듯? 조모임 ...</td>\n",
       "      <td>before</td>\n",
       "      <td>개인 괜찮 설명 주심 성적 그냥 시험 갈리 모임 빡세 자주 만나 조원 만나 헤쳐 나...</td>\n",
       "      <td>48</td>\n",
       "    </tr>\n",
       "    <tr>\n",
       "      <th>16</th>\n",
       "      <td>https://yonsei.everytime.kr/lecture/view/2073400</td>\n",
       "      <td>국제이해교육</td>\n",
       "      <td>이무성</td>\n",
       "      <td>40.0</td>\n",
       "      <td>19년 2학기 수강자</td>\n",
       "      <td>교수님 좋고 학구적이고 내용도 좋은데 마이너스 폭격기임^^</td>\n",
       "      <td>before</td>\n",
       "      <td>학구 은데 마이너스 폭격기</td>\n",
       "      <td>4</td>\n",
       "    </tr>\n",
       "  </tbody>\n",
       "</table>\n",
       "</div>"
      ],
      "text/plain": [
       "                                          LectureUrl  \\\n",
       "2      https://yonsei.everytime.kr/lecture/view/3640   \n",
       "3      https://yonsei.everytime.kr/lecture/view/3640   \n",
       "6    https://yonsei.everytime.kr/lecture/view/943471   \n",
       "7    https://yonsei.everytime.kr/lecture/view/943471   \n",
       "16  https://yonsei.everytime.kr/lecture/view/2073400   \n",
       "\n",
       "                                LectureName LectureProf  ReviewStar  \\\n",
       "2   INTERNATIONAL MONEY AND CAPITAL MARKETS         함준호        80.0   \n",
       "3   INTERNATIONAL MONEY AND CAPITAL MARKETS         함준호       100.0   \n",
       "6                             학교교실의현장연구방법입문         박순용        20.0   \n",
       "7                             학교교실의현장연구방법입문         박순용       100.0   \n",
       "16                                   국제이해교육         이무성        40.0   \n",
       "\n",
       "   ReviewSemester                                         ReviewText COVID-19  \\\n",
       "2     19년 1학기 수강자  한국은행 금융통화위원을 지내고 오신 교수님이시라 그런지 간간히 들려주시는 교수님의 ...   before   \n",
       "3     19년 1학기 수강자  교수님 너무 똑똑하시고 피피티 위주로 수업하시기는 하는데 현장경험이 풍부하셔서 그런...   before   \n",
       "6     18년 2학기 수강자  교수님의 수업은 이해하기 쉬웠고 질적연구와 현장연구에 대해 잘 설명해주셔서 수업은 ...   before   \n",
       "7     18년 2학기 수강자  개인적이지만 수업 괜찮았고 설명 잘해주심. 성적은 그냥 시험으로 갈리는듯? 조모임 ...   before   \n",
       "16    19년 2학기 수강자                   교수님 좋고 학구적이고 내용도 좋은데 마이너스 폭격기임^^   before   \n",
       "\n",
       "                                     TextPreprocessed  TokenCnt  \n",
       "2   한국은행 금융 통화 위원 지내 그런지 간간히 들려 현장 쏠쏠 재미 중간고사 기말고사...        37  \n",
       "3                           똑똑 피피티 위주 현장 경험 풍부 그런지 설명         8  \n",
       "6              이해 쉬웠 연구 현장 연구 설명 중간고사 비중 성적 산출 아쉬운 부분        12  \n",
       "7   개인 괜찮 설명 주심 성적 그냥 시험 갈리 모임 빡세 자주 만나 조원 만나 헤쳐 나...        48  \n",
       "16                                     학구 은데 마이너스 폭격기         4  "
      ]
     },
     "execution_count": 18,
     "metadata": {},
     "output_type": "execute_result"
    }
   ],
   "source": [
    "before_data.head()"
   ]
  },
  {
   "cell_type": "code",
   "execution_count": 19,
   "metadata": {},
   "outputs": [
    {
     "data": {
      "text/html": [
       "<div>\n",
       "<style scoped>\n",
       "    .dataframe tbody tr th:only-of-type {\n",
       "        vertical-align: middle;\n",
       "    }\n",
       "\n",
       "    .dataframe tbody tr th {\n",
       "        vertical-align: top;\n",
       "    }\n",
       "\n",
       "    .dataframe thead th {\n",
       "        text-align: right;\n",
       "    }\n",
       "</style>\n",
       "<table border=\"1\" class=\"dataframe\">\n",
       "  <thead>\n",
       "    <tr style=\"text-align: right;\">\n",
       "      <th></th>\n",
       "      <th>LectureUrl</th>\n",
       "      <th>LectureName</th>\n",
       "      <th>LectureProf</th>\n",
       "      <th>ReviewStar</th>\n",
       "      <th>ReviewSemester</th>\n",
       "      <th>ReviewText</th>\n",
       "      <th>COVID-19</th>\n",
       "      <th>TextPreprocessed</th>\n",
       "      <th>TokenCnt</th>\n",
       "    </tr>\n",
       "  </thead>\n",
       "  <tbody>\n",
       "    <tr>\n",
       "      <th>0</th>\n",
       "      <td>https://yonsei.everytime.kr/lecture/view/3640</td>\n",
       "      <td>INTERNATIONAL MONEY AND CAPITAL MARKETS</td>\n",
       "      <td>함준호</td>\n",
       "      <td>100.0</td>\n",
       "      <td>20년 1학기 수강자</td>\n",
       "      <td>시험 잘 멋본 것 같은데 에이제로 떠서 놀람 감사합니다 교수님</td>\n",
       "      <td>after</td>\n",
       "      <td>시험 이제 떠서 놀람 감사</td>\n",
       "      <td>5</td>\n",
       "    </tr>\n",
       "    <tr>\n",
       "      <th>1</th>\n",
       "      <td>https://yonsei.everytime.kr/lecture/view/3640</td>\n",
       "      <td>INTERNATIONAL MONEY AND CAPITAL MARKETS</td>\n",
       "      <td>함준호</td>\n",
       "      <td>80.0</td>\n",
       "      <td>20년 1학기 수강자</td>\n",
       "      <td>에 뭐,,, 그냥 괜찮았는데 자습기간을 안 주고 전범위 시험본다그러니까 당황스러웠네...</td>\n",
       "      <td>after</td>\n",
       "      <td>그냥 괜찮 자습 기간 범위 시험 본다 그러니까 당황 똑똑 나쁘 다만 시간 연속 힘들...</td>\n",
       "      <td>20</td>\n",
       "    </tr>\n",
       "    <tr>\n",
       "      <th>4</th>\n",
       "      <td>https://yonsei.everytime.kr/lecture/view/943471</td>\n",
       "      <td>학교교실의현장연구방법입문</td>\n",
       "      <td>박순용</td>\n",
       "      <td>80.0</td>\n",
       "      <td>20년 1학기 수강자</td>\n",
       "      <td>매주 온라인 강의를 늦게 올려주셔서 불편했지만 수업 내용은 무난하고 좋았습니다. 매...</td>\n",
       "      <td>after</td>\n",
       "      <td>매주 온라인 올려 불편 무난 매주 출석 과제 기말 연구 보고서 기말 온라인 시험 이...</td>\n",
       "      <td>37</td>\n",
       "    </tr>\n",
       "    <tr>\n",
       "      <th>5</th>\n",
       "      <td>https://yonsei.everytime.kr/lecture/view/943471</td>\n",
       "      <td>학교교실의현장연구방법입문</td>\n",
       "      <td>박순용</td>\n",
       "      <td>20.0</td>\n",
       "      <td>20년 1학기 수강자</td>\n",
       "      <td>조교가 일을 안하는건지 교수가 일을 안하는건지 강의가 맨날 늦게 올라옴 제 시간에 ...</td>\n",
       "      <td>after</td>\n",
       "      <td>조교 건지 건지 맨날 올라옴 시간 니까 열정 초반 부터 사라짐 그러 저작 일찍 내려...</td>\n",
       "      <td>17</td>\n",
       "    </tr>\n",
       "    <tr>\n",
       "      <th>8</th>\n",
       "      <td>https://yonsei.everytime.kr/lecture/view/1600344</td>\n",
       "      <td>현대독일산문</td>\n",
       "      <td>이진영</td>\n",
       "      <td>100.0</td>\n",
       "      <td>20년 1학기 수강자</td>\n",
       "      <td>이번 학기에 들은 강의 중에 가장 좋았던 수업 중 하나. 교수님께서 학생들 많이 배...</td>\n",
       "      <td>after</td>\n",
       "      <td>학기 가장 하나 학생 배려 필요 학생 감상 이나 해석 개입 참고 배경 지식 작가 의...</td>\n",
       "      <td>47</td>\n",
       "    </tr>\n",
       "  </tbody>\n",
       "</table>\n",
       "</div>"
      ],
      "text/plain": [
       "                                         LectureUrl  \\\n",
       "0     https://yonsei.everytime.kr/lecture/view/3640   \n",
       "1     https://yonsei.everytime.kr/lecture/view/3640   \n",
       "4   https://yonsei.everytime.kr/lecture/view/943471   \n",
       "5   https://yonsei.everytime.kr/lecture/view/943471   \n",
       "8  https://yonsei.everytime.kr/lecture/view/1600344   \n",
       "\n",
       "                               LectureName LectureProf  ReviewStar  \\\n",
       "0  INTERNATIONAL MONEY AND CAPITAL MARKETS         함준호       100.0   \n",
       "1  INTERNATIONAL MONEY AND CAPITAL MARKETS         함준호        80.0   \n",
       "4                            학교교실의현장연구방법입문         박순용        80.0   \n",
       "5                            학교교실의현장연구방법입문         박순용        20.0   \n",
       "8                                   현대독일산문         이진영       100.0   \n",
       "\n",
       "  ReviewSemester                                         ReviewText COVID-19  \\\n",
       "0    20년 1학기 수강자                 시험 잘 멋본 것 같은데 에이제로 떠서 놀람 감사합니다 교수님    after   \n",
       "1    20년 1학기 수강자  에 뭐,,, 그냥 괜찮았는데 자습기간을 안 주고 전범위 시험본다그러니까 당황스러웠네...    after   \n",
       "4    20년 1학기 수강자  매주 온라인 강의를 늦게 올려주셔서 불편했지만 수업 내용은 무난하고 좋았습니다. 매...    after   \n",
       "5    20년 1학기 수강자  조교가 일을 안하는건지 교수가 일을 안하는건지 강의가 맨날 늦게 올라옴 제 시간에 ...    after   \n",
       "8    20년 1학기 수강자  이번 학기에 들은 강의 중에 가장 좋았던 수업 중 하나. 교수님께서 학생들 많이 배...    after   \n",
       "\n",
       "                                    TextPreprocessed  TokenCnt  \n",
       "0                                     시험 이제 떠서 놀람 감사         5  \n",
       "1  그냥 괜찮 자습 기간 범위 시험 본다 그러니까 당황 똑똑 나쁘 다만 시간 연속 힘들...        20  \n",
       "4  매주 온라인 올려 불편 무난 매주 출석 과제 기말 연구 보고서 기말 온라인 시험 이...        37  \n",
       "5  조교 건지 건지 맨날 올라옴 시간 니까 열정 초반 부터 사라짐 그러 저작 일찍 내려...        17  \n",
       "8  학기 가장 하나 학생 배려 필요 학생 감상 이나 해석 개입 참고 배경 지식 작가 의...        47  "
      ]
     },
     "execution_count": 19,
     "metadata": {},
     "output_type": "execute_result"
    }
   ],
   "source": [
    "after_data.head()"
   ]
  },
  {
   "cell_type": "markdown",
   "metadata": {},
   "source": [
    "### EDA"
   ]
  },
  {
   "cell_type": "code",
   "execution_count": 20,
   "metadata": {},
   "outputs": [
    {
     "name": "stdout",
     "output_type": "stream",
     "text": [
      "COVID-19 이전 전체 강의평 개수: 49127개\n",
      "COVID-19 이후 전체 강의평 개수: 29423개\n",
      "COVID-19 이전 전체 토큰 개수: 26348개\n",
      "COVID-19 이후 전체 토큰 개수: 19991개\n"
     ]
    }
   ],
   "source": [
    "# Number of Texts & tokens\n",
    "\n",
    "before_counter = Counter(sum(before_text_tokenized, []))\n",
    "after_counter = Counter(sum(after_text_tokenized, []))\n",
    "\n",
    "print('COVID-19 이전 전체 강의평 개수: {}개'.format(len(before_text)))\n",
    "print('COVID-19 이후 전체 강의평 개수: {}개'.format(len(after_text)))\n",
    "\n",
    "print('COVID-19 이전 전체 토큰 개수: {}개'.format(len(before_counter)))\n",
    "print('COVID-19 이후 전체 토큰 개수: {}개'.format(len(after_counter)))"
   ]
  },
  {
   "cell_type": "code",
   "execution_count": 21,
   "metadata": {},
   "outputs": [
    {
     "data": {
      "image/png": "[encoded data removed]",
      "text/plain": [
       "<Figure size 1152x288 with 2 Axes>"
      ]
     },
     "metadata": {
      "needs_background": "light"
     },
     "output_type": "display_data"
    }
   ],
   "source": [
    "# Length of Texts\n",
    "\n",
    "fig, ax = plt.subplots(1, 2, figsize=(16, 4))\n",
    "\n",
    "plt.subplot(121)\n",
    "plt.hist(before_data['TokenCnt'], bins=100)\n",
    "plt.xticks(range(0, 1201, 100))\n",
    "plt.yticks(range(0, 15001, 1000))\n",
    "plt.title('Length of ReviewText before COVID-19')\n",
    "\n",
    "plt.subplot(122)\n",
    "plt.hist(after_data['TokenCnt'], bins=100)\n",
    "plt.xticks(range(0, 1201, 100))\n",
    "plt.yticks(range(0, 15001, 1000))\n",
    "plt.title('Length of ReviewText after COVID-19')\n",
    "\n",
    "plt.show()"
   ]
  },
  {
   "cell_type": "code",
   "execution_count": 22,
   "metadata": {},
   "outputs": [
    {
     "data": {
      "image/png": "[encoded data removed]",
      "text/plain": [
       "<Figure size 1152x288 with 2 Axes>"
      ]
     },
     "metadata": {
      "needs_background": "light"
     },
     "output_type": "display_data"
    }
   ],
   "source": [
    "# Length of Texts (zoom-in)\n",
    "\n",
    "fig, ax = plt.subplots(1, 2, figsize=(16, 4))\n",
    "\n",
    "plt.subplot(121)\n",
    "plt.hist(before_data['TokenCnt'][before_data['TokenCnt']<200], bins=50)\n",
    "plt.xticks(range(0, 201, 25))\n",
    "plt.yticks(range(0, 7001, 1000))\n",
    "plt.title('Length of ReviewText before COVID-19')\n",
    "\n",
    "plt.subplot(122)\n",
    "plt.hist(after_data['TokenCnt'][after_data['TokenCnt']<200], bins=50)\n",
    "plt.xticks(range(0, 201, 25))\n",
    "plt.yticks(range(0, 7001, 1000))\n",
    "plt.title('Length of ReviewText after COVID-19')\n",
    "\n",
    "plt.show()"
   ]
  },
  {
   "cell_type": "markdown",
   "metadata": {},
   "source": [
    "### Topic Modeling (LDA)"
   ]
  },
  {
   "cell_type": "code",
   "execution_count": 23,
   "metadata": {},
   "outputs": [
    {
     "name": "stdout",
     "output_type": "stream",
     "text": [
      "========== Topic List before COVID-19 ==========\n",
      "(0, '0.038*\"문과\" + 0.024*\"송도\" + 0.023*\"과학\" + 0.017*\"ㅜㅜ\" + 0.015*\"고등학교\"')\n",
      "(1, '0.125*\"문제\" + 0.120*\"시험\" + 0.032*\"과제\" + 0.032*\"어렵\" + 0.025*\"나오\"')\n",
      "(2, '0.165*\"최고\" + 0.118*\"리딩\" + 0.046*\"물리\" + 0.029*\"젠틀\" + 0.024*\"분반\"')\n",
      "(3, '0.044*\"문제\" + 0.038*\"시험\" + 0.019*\"시간\" + 0.018*\"점수\" + 0.018*\"중간고사\"')\n",
      "(4, '0.172*\"영어\" + 0.111*\"ㅋㅋ\" + 0.089*\"ㅋㅋㅋ\" + 0.023*\"영강\" + 0.023*\"발음\"')\n",
      "(5, '0.085*\"족보\" + 0.043*\"그냥\" + 0.034*\"시험\" + 0.025*\"공부\" + 0.020*\"독학\"')\n",
      "(6, '0.062*\"모임\" + 0.041*\"과제\" + 0.027*\"학기\" + 0.023*\"만나\" + 0.022*\"조원\"')\n",
      "(7, '0.195*\"ㅎㅎ\" + 0.106*\"착하\" + 0.061*\"제발\" + 0.059*\"귀여우\" + 0.041*\"너무너무\"')\n",
      "(8, '0.038*\"설명\" + 0.037*\"질문\" + 0.032*\"이해\" + 0.024*\"시간\" + 0.021*\"친절\"')\n",
      "(9, '0.132*\"학생\" + 0.032*\"열정\" + 0.022*\"주심\" + 0.019*\"노력\" + 0.017*\"배려\"')\n",
      "(10, '0.054*\"추천\" + 0.053*\"과목\" + 0.047*\"학점\" + 0.029*\"수강\" + 0.028*\"배우\"')\n",
      "(11, '0.072*\"중간\" + 0.064*\"기말\" + 0.046*\"퀴즈\" + 0.044*\"과제\" + 0.036*\"성적\"')\n",
      "(12, '0.077*\"출석\" + 0.046*\"출결\" + 0.017*\"결석\" + 0.017*\"부르\" + 0.016*\"지각\"')\n",
      "(13, '0.075*\"과제\" + 0.063*\"발표\" + 0.030*\"조별\" + 0.022*\"시간\" + 0.019*\"부담\"')\n",
      "(14, '0.021*\"모르\" + 0.020*\"학기\" + 0.019*\"사람\" + 0.017*\"학생\" + 0.016*\"아니\"')\n",
      "(15, '0.029*\"생각\" + 0.015*\"학생\" + 0.011*\"지식\" + 0.011*\"보다\" + 0.010*\"개인\"')\n",
      "(16, '0.079*\"시험\" + 0.052*\"공부\" + 0.033*\"열심히\" + 0.027*\"필기\" + 0.026*\"피피티\"')\n",
      "(17, '0.112*\"시간\" + 0.038*\"채플\" + 0.027*\"그냥\" + 0.024*\"개꿀\" + 0.023*\"학기\"')\n",
      "(18, '0.115*\"재밌\" + 0.039*\"흥미\" + 0.028*\"관심\" + 0.027*\"사랑\" + 0.025*\"ㅠㅠ\"')\n",
      "(19, '0.057*\"학점\" + 0.036*\"생각\" + 0.028*\"그냥\" + 0.026*\"아니\" + 0.023*\"보다\"')\n",
      "\n",
      "========== Topic List after COVID-19 ==========\n",
      "(0, '0.084*\"시험\" + 0.065*\"문제\" + 0.024*\"퀴즈\" + 0.024*\"공부\" + 0.018*\"과제\"')\n",
      "(1, '0.134*\"무난\" + 0.028*\"실험\" + 0.026*\"물리\" + 0.019*\"그냥\" + 0.017*\"가르치\"')\n",
      "(2, '0.050*\"과제\" + 0.027*\"힘들\" + 0.024*\"열심히\" + 0.024*\"학점\" + 0.018*\"그래도\"')\n",
      "(3, '0.039*\"채플\" + 0.034*\"개꿀\" + 0.033*\"비대\" + 0.030*\"온라인\" + 0.029*\"출석\"')\n",
      "(4, '0.033*\"단어\" + 0.022*\"채우\" + 0.022*\"장점\" + 0.019*\"단점\" + 0.019*\"단위\"')\n",
      "(5, '0.030*\"생각\" + 0.016*\"시간\" + 0.012*\"부분\" + 0.011*\"보다\" + 0.011*\"말씀\"')\n",
      "(6, '0.040*\"프로젝트\" + 0.028*\"이론\" + 0.026*\"배우\" + 0.022*\"코딩\" + 0.020*\"지식\"')\n",
      "(7, '0.105*\"시간\" + 0.028*\"올려\" + 0.027*\"퀴즈\" + 0.026*\"동영상\" + 0.025*\"영상\"')\n",
      "(8, '0.066*\"재밌\" + 0.037*\"흥미\" + 0.035*\"부담\" + 0.026*\"교양\" + 0.025*\"재미있\"')\n",
      "(9, '0.049*\"학생\" + 0.045*\"학기\" + 0.044*\"평가\" + 0.041*\"성적\" + 0.026*\"방식\"')\n",
      "(10, '0.021*\"철학\" + 0.020*\"사람\" + 0.019*\"대학\" + 0.018*\"인가\" + 0.018*\"과학\"')\n",
      "(11, '0.077*\"질문\" + 0.042*\"학생\" + 0.020*\"답변\" + 0.017*\"친절\" + 0.017*\"피드백\"')\n",
      "(12, '0.050*\"그냥\" + 0.042*\"ㅋㅋ\" + 0.032*\"ㅋㅋㅋ\" + 0.026*\"모르\" + 0.023*\"기준\"')\n",
      "(13, '0.031*\"모르\" + 0.020*\"과목\" + 0.018*\"다른\" + 0.015*\"사람\" + 0.015*\"학기\"')\n",
      "(14, '0.042*\"설명\" + 0.034*\"이해\" + 0.032*\"시험\" + 0.030*\"공부\" + 0.020*\"문제\"')\n",
      "(15, '0.058*\"최고\" + 0.053*\"학생\" + 0.036*\"학점\" + 0.031*\"ㅠㅠ\" + 0.030*\"감사\"')\n",
      "(16, '0.020*\"여러분\" + 0.015*\"시국\" + 0.014*\"등록금\" + 0.014*\"로서\" + 0.013*\"이런\"')\n",
      "(17, '0.115*\"과제\" + 0.062*\"기말\" + 0.057*\"중간\" + 0.035*\"대체\" + 0.027*\"레포트\"')\n",
      "(18, '0.098*\"학점\" + 0.032*\"추천\" + 0.025*\"그냥\" + 0.024*\"생각\" + 0.021*\"대면\"')\n",
      "(19, '0.043*\"발표\" + 0.029*\"주제\" + 0.027*\"토론\" + 0.024*\"생각\" + 0.024*\"기독교\"')\n"
     ]
    }
   ],
   "source": [
    "print('========== Topic List before COVID-19 ==========')\n",
    "before_corpus, before_lda = ModelingLDA(before_text_tokenized)\n",
    "print()\n",
    "print('========== Topic List after COVID-19 ==========')\n",
    "after_corpus, after_lda = ModelingLDA(after_text_tokenized)"
   ]
  },
  {
   "cell_type": "code",
   "execution_count": 24,
   "metadata": {},
   "outputs": [],
   "source": [
    "before_topic_table = MakeTopicTable(before_corpus, before_lda)\n",
    "after_topic_table = MakeTopicTable(after_corpus, after_lda)"
   ]
  },
  {
   "cell_type": "code",
   "execution_count": 25,
   "metadata": {},
   "outputs": [],
   "source": [
    "before_df = pd.concat([before_data.reset_index(drop=True), before_topic_table.reset_index(drop=True)], axis=1)\n",
    "after_df = pd.concat([after_data.reset_index(drop=True), after_topic_table.reset_index(drop=True)], axis=1)"
   ]
  },
  {
   "cell_type": "code",
   "execution_count": 26,
   "metadata": {},
   "outputs": [
    {
     "data": {
      "text/html": [
       "<div>\n",
       "<style scoped>\n",
       "    .dataframe tbody tr th:only-of-type {\n",
       "        vertical-align: middle;\n",
       "    }\n",
       "\n",
       "    .dataframe tbody tr th {\n",
       "        vertical-align: top;\n",
       "    }\n",
       "\n",
       "    .dataframe thead th {\n",
       "        text-align: right;\n",
       "    }\n",
       "</style>\n",
       "<table border=\"1\" class=\"dataframe\">\n",
       "  <thead>\n",
       "    <tr style=\"text-align: right;\">\n",
       "      <th></th>\n",
       "      <th>LectureUrl</th>\n",
       "      <th>LectureName</th>\n",
       "      <th>LectureProf</th>\n",
       "      <th>ReviewStar</th>\n",
       "      <th>ReviewSemester</th>\n",
       "      <th>ReviewText</th>\n",
       "      <th>COVID-19</th>\n",
       "      <th>TextPreprocessed</th>\n",
       "      <th>TokenCnt</th>\n",
       "      <th>TopicIndex</th>\n",
       "      <th>TopicProportion</th>\n",
       "      <th>TopicList</th>\n",
       "    </tr>\n",
       "  </thead>\n",
       "  <tbody>\n",
       "    <tr>\n",
       "      <th>0</th>\n",
       "      <td>https://yonsei.everytime.kr/lecture/view/3640</td>\n",
       "      <td>INTERNATIONAL MONEY AND CAPITAL MARKETS</td>\n",
       "      <td>함준호</td>\n",
       "      <td>80.0</td>\n",
       "      <td>19년 1학기 수강자</td>\n",
       "      <td>한국은행 금융통화위원을 지내고 오신 교수님이시라 그런지 간간히 들려주시는 교수님의 ...</td>\n",
       "      <td>before</td>\n",
       "      <td>한국은행 금융 통화 위원 지내 그런지 간간히 들려 현장 쏠쏠 재미 중간고사 기말고사...</td>\n",
       "      <td>37</td>\n",
       "      <td>15</td>\n",
       "      <td>0.42923</td>\n",
       "      <td>[(3, 0.14941701), (5, 0.03939199), (8, 0.07600...</td>\n",
       "    </tr>\n",
       "    <tr>\n",
       "      <th>1</th>\n",
       "      <td>https://yonsei.everytime.kr/lecture/view/3640</td>\n",
       "      <td>INTERNATIONAL MONEY AND CAPITAL MARKETS</td>\n",
       "      <td>함준호</td>\n",
       "      <td>100.0</td>\n",
       "      <td>19년 1학기 수강자</td>\n",
       "      <td>교수님 너무 똑똑하시고 피피티 위주로 수업하시기는 하는데 현장경험이 풍부하셔서 그런...</td>\n",
       "      <td>before</td>\n",
       "      <td>똑똑 피피티 위주 현장 경험 풍부 그런지 설명</td>\n",
       "      <td>8</td>\n",
       "      <td>15</td>\n",
       "      <td>0.39990</td>\n",
       "      <td>[(2, 0.11671776), (15, 0.39989832), (16, 0.388...</td>\n",
       "    </tr>\n",
       "    <tr>\n",
       "      <th>2</th>\n",
       "      <td>https://yonsei.everytime.kr/lecture/view/943471</td>\n",
       "      <td>학교교실의현장연구방법입문</td>\n",
       "      <td>박순용</td>\n",
       "      <td>20.0</td>\n",
       "      <td>18년 2학기 수강자</td>\n",
       "      <td>교수님의 수업은 이해하기 쉬웠고 질적연구와 현장연구에 대해 잘 설명해주셔서 수업은 ...</td>\n",
       "      <td>before</td>\n",
       "      <td>이해 쉬웠 연구 현장 연구 설명 중간고사 비중 성적 산출 아쉬운 부분</td>\n",
       "      <td>12</td>\n",
       "      <td>15</td>\n",
       "      <td>0.55430</td>\n",
       "      <td>[(11, 0.37645757), (15, 0.5543027)]</td>\n",
       "    </tr>\n",
       "    <tr>\n",
       "      <th>3</th>\n",
       "      <td>https://yonsei.everytime.kr/lecture/view/943471</td>\n",
       "      <td>학교교실의현장연구방법입문</td>\n",
       "      <td>박순용</td>\n",
       "      <td>100.0</td>\n",
       "      <td>18년 2학기 수강자</td>\n",
       "      <td>개인적이지만 수업 괜찮았고 설명 잘해주심. 성적은 그냥 시험으로 갈리는듯? 조모임 ...</td>\n",
       "      <td>before</td>\n",
       "      <td>개인 괜찮 설명 주심 성적 그냥 시험 갈리 모임 빡세 자주 만나 조원 만나 헤쳐 나...</td>\n",
       "      <td>48</td>\n",
       "      <td>16</td>\n",
       "      <td>0.30697</td>\n",
       "      <td>[(3, 0.19366269), (6, 0.27680615), (7, 0.06401...</td>\n",
       "    </tr>\n",
       "    <tr>\n",
       "      <th>4</th>\n",
       "      <td>https://yonsei.everytime.kr/lecture/view/2073400</td>\n",
       "      <td>국제이해교육</td>\n",
       "      <td>이무성</td>\n",
       "      <td>40.0</td>\n",
       "      <td>19년 2학기 수강자</td>\n",
       "      <td>교수님 좋고 학구적이고 내용도 좋은데 마이너스 폭격기임^^</td>\n",
       "      <td>before</td>\n",
       "      <td>학구 은데 마이너스 폭격기</td>\n",
       "      <td>4</td>\n",
       "      <td>11</td>\n",
       "      <td>0.41011</td>\n",
       "      <td>[(0, 0.010003326), (1, 0.010003326), (2, 0.010...</td>\n",
       "    </tr>\n",
       "  </tbody>\n",
       "</table>\n",
       "</div>"
      ],
      "text/plain": [
       "                                         LectureUrl  \\\n",
       "0     https://yonsei.everytime.kr/lecture/view/3640   \n",
       "1     https://yonsei.everytime.kr/lecture/view/3640   \n",
       "2   https://yonsei.everytime.kr/lecture/view/943471   \n",
       "3   https://yonsei.everytime.kr/lecture/view/943471   \n",
       "4  https://yonsei.everytime.kr/lecture/view/2073400   \n",
       "\n",
       "                               LectureName LectureProf  ReviewStar  \\\n",
       "0  INTERNATIONAL MONEY AND CAPITAL MARKETS         함준호        80.0   \n",
       "1  INTERNATIONAL MONEY AND CAPITAL MARKETS         함준호       100.0   \n",
       "2                            학교교실의현장연구방법입문         박순용        20.0   \n",
       "3                            학교교실의현장연구방법입문         박순용       100.0   \n",
       "4                                   국제이해교육         이무성        40.0   \n",
       "\n",
       "  ReviewSemester                                         ReviewText COVID-19  \\\n",
       "0    19년 1학기 수강자  한국은행 금융통화위원을 지내고 오신 교수님이시라 그런지 간간히 들려주시는 교수님의 ...   before   \n",
       "1    19년 1학기 수강자  교수님 너무 똑똑하시고 피피티 위주로 수업하시기는 하는데 현장경험이 풍부하셔서 그런...   before   \n",
       "2    18년 2학기 수강자  교수님의 수업은 이해하기 쉬웠고 질적연구와 현장연구에 대해 잘 설명해주셔서 수업은 ...   before   \n",
       "3    18년 2학기 수강자  개인적이지만 수업 괜찮았고 설명 잘해주심. 성적은 그냥 시험으로 갈리는듯? 조모임 ...   before   \n",
       "4    19년 2학기 수강자                   교수님 좋고 학구적이고 내용도 좋은데 마이너스 폭격기임^^   before   \n",
       "\n",
       "                                    TextPreprocessed  TokenCnt  TopicIndex  \\\n",
       "0  한국은행 금융 통화 위원 지내 그런지 간간히 들려 현장 쏠쏠 재미 중간고사 기말고사...        37          15   \n",
       "1                          똑똑 피피티 위주 현장 경험 풍부 그런지 설명         8          15   \n",
       "2             이해 쉬웠 연구 현장 연구 설명 중간고사 비중 성적 산출 아쉬운 부분        12          15   \n",
       "3  개인 괜찮 설명 주심 성적 그냥 시험 갈리 모임 빡세 자주 만나 조원 만나 헤쳐 나...        48          16   \n",
       "4                                     학구 은데 마이너스 폭격기         4          11   \n",
       "\n",
       "   TopicProportion                                          TopicList  \n",
       "0          0.42923  [(3, 0.14941701), (5, 0.03939199), (8, 0.07600...  \n",
       "1          0.39990  [(2, 0.11671776), (15, 0.39989832), (16, 0.388...  \n",
       "2          0.55430                [(11, 0.37645757), (15, 0.5543027)]  \n",
       "3          0.30697  [(3, 0.19366269), (6, 0.27680615), (7, 0.06401...  \n",
       "4          0.41011  [(0, 0.010003326), (1, 0.010003326), (2, 0.010...  "
      ]
     },
     "execution_count": 26,
     "metadata": {},
     "output_type": "execute_result"
    }
   ],
   "source": [
    "before_df.head()"
   ]
  },
  {
   "cell_type": "code",
   "execution_count": 27,
   "metadata": {},
   "outputs": [
    {
     "data": {
      "text/html": [
       "<div>\n",
       "<style scoped>\n",
       "    .dataframe tbody tr th:only-of-type {\n",
       "        vertical-align: middle;\n",
       "    }\n",
       "\n",
       "    .dataframe tbody tr th {\n",
       "        vertical-align: top;\n",
       "    }\n",
       "\n",
       "    .dataframe thead th {\n",
       "        text-align: right;\n",
       "    }\n",
       "</style>\n",
       "<table border=\"1\" class=\"dataframe\">\n",
       "  <thead>\n",
       "    <tr style=\"text-align: right;\">\n",
       "      <th></th>\n",
       "      <th>LectureUrl</th>\n",
       "      <th>LectureName</th>\n",
       "      <th>LectureProf</th>\n",
       "      <th>ReviewStar</th>\n",
       "      <th>ReviewSemester</th>\n",
       "      <th>ReviewText</th>\n",
       "      <th>COVID-19</th>\n",
       "      <th>TextPreprocessed</th>\n",
       "      <th>TokenCnt</th>\n",
       "      <th>TopicIndex</th>\n",
       "      <th>TopicProportion</th>\n",
       "      <th>TopicList</th>\n",
       "    </tr>\n",
       "  </thead>\n",
       "  <tbody>\n",
       "    <tr>\n",
       "      <th>0</th>\n",
       "      <td>https://yonsei.everytime.kr/lecture/view/3640</td>\n",
       "      <td>INTERNATIONAL MONEY AND CAPITAL MARKETS</td>\n",
       "      <td>함준호</td>\n",
       "      <td>100.0</td>\n",
       "      <td>20년 1학기 수강자</td>\n",
       "      <td>시험 잘 멋본 것 같은데 에이제로 떠서 놀람 감사합니다 교수님</td>\n",
       "      <td>after</td>\n",
       "      <td>시험 이제 떠서 놀람 감사</td>\n",
       "      <td>5</td>\n",
       "      <td>7</td>\n",
       "      <td>0.34154</td>\n",
       "      <td>[(0, 0.22344877), (7, 0.34153807), (15, 0.1750...</td>\n",
       "    </tr>\n",
       "    <tr>\n",
       "      <th>1</th>\n",
       "      <td>https://yonsei.everytime.kr/lecture/view/3640</td>\n",
       "      <td>INTERNATIONAL MONEY AND CAPITAL MARKETS</td>\n",
       "      <td>함준호</td>\n",
       "      <td>80.0</td>\n",
       "      <td>20년 1학기 수강자</td>\n",
       "      <td>에 뭐,,, 그냥 괜찮았는데 자습기간을 안 주고 전범위 시험본다그러니까 당황스러웠네...</td>\n",
       "      <td>after</td>\n",
       "      <td>그냥 괜찮 자습 기간 범위 시험 본다 그러니까 당황 똑똑 나쁘 다만 시간 연속 힘들...</td>\n",
       "      <td>20</td>\n",
       "      <td>0</td>\n",
       "      <td>0.27530</td>\n",
       "      <td>[(0, 0.27530342), (1, 0.16007057), (7, 0.17327...</td>\n",
       "    </tr>\n",
       "    <tr>\n",
       "      <th>2</th>\n",
       "      <td>https://yonsei.everytime.kr/lecture/view/943471</td>\n",
       "      <td>학교교실의현장연구방법입문</td>\n",
       "      <td>박순용</td>\n",
       "      <td>80.0</td>\n",
       "      <td>20년 1학기 수강자</td>\n",
       "      <td>매주 온라인 강의를 늦게 올려주셔서 불편했지만 수업 내용은 무난하고 좋았습니다. 매...</td>\n",
       "      <td>after</td>\n",
       "      <td>매주 온라인 올려 불편 무난 매주 출석 과제 기말 연구 보고서 기말 온라인 시험 이...</td>\n",
       "      <td>37</td>\n",
       "      <td>17</td>\n",
       "      <td>0.48280</td>\n",
       "      <td>[(0, 0.2019097), (1, 0.14822762), (3, 0.074564...</td>\n",
       "    </tr>\n",
       "    <tr>\n",
       "      <th>3</th>\n",
       "      <td>https://yonsei.everytime.kr/lecture/view/943471</td>\n",
       "      <td>학교교실의현장연구방법입문</td>\n",
       "      <td>박순용</td>\n",
       "      <td>20.0</td>\n",
       "      <td>20년 1학기 수강자</td>\n",
       "      <td>조교가 일을 안하는건지 교수가 일을 안하는건지 강의가 맨날 늦게 올라옴 제 시간에 ...</td>\n",
       "      <td>after</td>\n",
       "      <td>조교 건지 건지 맨날 올라옴 시간 니까 열정 초반 부터 사라짐 그러 저작 일찍 내려...</td>\n",
       "      <td>17</td>\n",
       "      <td>12</td>\n",
       "      <td>0.32183</td>\n",
       "      <td>[(3, 0.29197127), (7, 0.28334722), (12, 0.3218...</td>\n",
       "    </tr>\n",
       "    <tr>\n",
       "      <th>4</th>\n",
       "      <td>https://yonsei.everytime.kr/lecture/view/1600344</td>\n",
       "      <td>현대독일산문</td>\n",
       "      <td>이진영</td>\n",
       "      <td>100.0</td>\n",
       "      <td>20년 1학기 수강자</td>\n",
       "      <td>이번 학기에 들은 강의 중에 가장 좋았던 수업 중 하나. 교수님께서 학생들 많이 배...</td>\n",
       "      <td>after</td>\n",
       "      <td>학기 가장 하나 학생 배려 필요 학생 감상 이나 해석 개입 참고 배경 지식 작가 의...</td>\n",
       "      <td>47</td>\n",
       "      <td>19</td>\n",
       "      <td>0.68714</td>\n",
       "      <td>[(11, 0.16457574), (14, 0.029316697), (15, 0.1...</td>\n",
       "    </tr>\n",
       "  </tbody>\n",
       "</table>\n",
       "</div>"
      ],
      "text/plain": [
       "                                         LectureUrl  \\\n",
       "0     https://yonsei.everytime.kr/lecture/view/3640   \n",
       "1     https://yonsei.everytime.kr/lecture/view/3640   \n",
       "2   https://yonsei.everytime.kr/lecture/view/943471   \n",
       "3   https://yonsei.everytime.kr/lecture/view/943471   \n",
       "4  https://yonsei.everytime.kr/lecture/view/1600344   \n",
       "\n",
       "                               LectureName LectureProf  ReviewStar  \\\n",
       "0  INTERNATIONAL MONEY AND CAPITAL MARKETS         함준호       100.0   \n",
       "1  INTERNATIONAL MONEY AND CAPITAL MARKETS         함준호        80.0   \n",
       "2                            학교교실의현장연구방법입문         박순용        80.0   \n",
       "3                            학교교실의현장연구방법입문         박순용        20.0   \n",
       "4                                   현대독일산문         이진영       100.0   \n",
       "\n",
       "  ReviewSemester                                         ReviewText COVID-19  \\\n",
       "0    20년 1학기 수강자                 시험 잘 멋본 것 같은데 에이제로 떠서 놀람 감사합니다 교수님    after   \n",
       "1    20년 1학기 수강자  에 뭐,,, 그냥 괜찮았는데 자습기간을 안 주고 전범위 시험본다그러니까 당황스러웠네...    after   \n",
       "2    20년 1학기 수강자  매주 온라인 강의를 늦게 올려주셔서 불편했지만 수업 내용은 무난하고 좋았습니다. 매...    after   \n",
       "3    20년 1학기 수강자  조교가 일을 안하는건지 교수가 일을 안하는건지 강의가 맨날 늦게 올라옴 제 시간에 ...    after   \n",
       "4    20년 1학기 수강자  이번 학기에 들은 강의 중에 가장 좋았던 수업 중 하나. 교수님께서 학생들 많이 배...    after   \n",
       "\n",
       "                                    TextPreprocessed  TokenCnt  TopicIndex  \\\n",
       "0                                     시험 이제 떠서 놀람 감사         5           7   \n",
       "1  그냥 괜찮 자습 기간 범위 시험 본다 그러니까 당황 똑똑 나쁘 다만 시간 연속 힘들...        20           0   \n",
       "2  매주 온라인 올려 불편 무난 매주 출석 과제 기말 연구 보고서 기말 온라인 시험 이...        37          17   \n",
       "3  조교 건지 건지 맨날 올라옴 시간 니까 열정 초반 부터 사라짐 그러 저작 일찍 내려...        17          12   \n",
       "4  학기 가장 하나 학생 배려 필요 학생 감상 이나 해석 개입 참고 배경 지식 작가 의...        47          19   \n",
       "\n",
       "   TopicProportion                                          TopicList  \n",
       "0          0.34154  [(0, 0.22344877), (7, 0.34153807), (15, 0.1750...  \n",
       "1          0.27530  [(0, 0.27530342), (1, 0.16007057), (7, 0.17327...  \n",
       "2          0.48280  [(0, 0.2019097), (1, 0.14822762), (3, 0.074564...  \n",
       "3          0.32183  [(3, 0.29197127), (7, 0.28334722), (12, 0.3218...  \n",
       "4          0.68714  [(11, 0.16457574), (14, 0.029316697), (15, 0.1...  "
      ]
     },
     "execution_count": 27,
     "metadata": {},
     "output_type": "execute_result"
    }
   ],
   "source": [
    "after_df.head()"
   ]
  },
  {
   "cell_type": "code",
   "execution_count": 28,
   "metadata": {},
   "outputs": [],
   "source": [
    "before_df.to_csv('Task2_data_before_COVID19_with_topic.csv')\n",
    "after_df.to_csv('Task2_data_after_COVID19_with_topic.csv')"
   ]
  },
  {
   "cell_type": "code",
   "execution_count": 29,
   "metadata": {},
   "outputs": [
    {
     "data": {
      "image/png": "[encoded data removed]",
      "text/plain": [
       "<Figure size 1152x288 with 2 Axes>"
      ]
     },
     "metadata": {
      "needs_background": "light"
     },
     "output_type": "display_data"
    }
   ],
   "source": [
    "# Topic Distribution & ReviewStar Distribution before COVID-19\n",
    "\n",
    "fig, ax = plt.subplots(1, 2, figsize=(16, 4))\n",
    "\n",
    "plt.subplot(121)\n",
    "sns.boxplot(x='TopicIndex', y='ReviewStar', data=before_df, palette='Paired')\n",
    "plt.xlabel('')\n",
    "plt.title('ReviewStar Distribution before COVID-19')\n",
    "\n",
    "plt.subplot(122)\n",
    "sns.countplot(x=before_topic_table['TopicIndex'])\n",
    "plt.title('Topic Distribution before COVID-19')\n",
    "\n",
    "plt.show()"
   ]
  },
  {
   "cell_type": "code",
   "execution_count": 30,
   "metadata": {},
   "outputs": [
    {
     "data": {
      "image/png": "[encoded data removed]",
      "text/plain": [
       "<Figure size 1152x288 with 2 Axes>"
      ]
     },
     "metadata": {
      "needs_background": "light"
     },
     "output_type": "display_data"
    }
   ],
   "source": [
    "# Topic Distribution & ReviewStar Distribution after COVID-19\n",
    "\n",
    "fig, ax = plt.subplots(1, 2, figsize=(16, 4))\n",
    "\n",
    "plt.subplot(121)\n",
    "sns.boxplot(x='TopicIndex', y='ReviewStar', data=after_df, palette='Paired')\n",
    "plt.xlabel('')\n",
    "plt.title('ReviewStar Distribution after COVID-19')\n",
    "\n",
    "plt.subplot(122)\n",
    "sns.countplot(x=after_topic_table['TopicIndex'])\n",
    "plt.title('Topic Distribution after COVID-19')\n",
    "\n",
    "plt.show()"
   ]
  }
 ],
 "metadata": {
  "kernelspec": {
   "display_name": "Python 3",
   "language": "python",
   "name": "python3"
  },
  "language_info": {
   "codemirror_mode": {
    "name": "ipython",
    "version": 3
   },
   "file_extension": ".py",
   "mimetype": "text/x-python",
   "name": "python",
   "nbconvert_exporter": "python",
   "pygments_lexer": "ipython3",
   "version": "3.8.5"
  }
 },
 "nbformat": 4,
 "nbformat_minor": 4
}
