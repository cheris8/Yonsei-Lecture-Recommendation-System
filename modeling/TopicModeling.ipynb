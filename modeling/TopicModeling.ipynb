{
 "cells": [
  {
   "cell_type": "markdown",
   "metadata": {},
   "source": [
    "# Topic Modeling을 통한 코로나19 전/후 강의평 비교 분석"
   ]
  },
  {
   "cell_type": "code",
   "execution_count": 1,
   "metadata": {},
   "outputs": [],
   "source": [
    "import warnings\n",
    "warnings.filterwarnings(action='ignore')"
   ]
  },
  {
   "cell_type": "code",
   "execution_count": 2,
   "metadata": {},
   "outputs": [],
   "source": [
    "# load libs\n",
    "import pandas as pd\n",
    "import numpy as np\n",
    "import seaborn as sns\n",
    "import matplotlib.pyplot as plt\n",
    "%matplotlib inline\n",
    "\n",
    "from collections import Counter\n",
    "\n",
    "from utils import *"
   ]
  },
  {
   "cell_type": "code",
   "execution_count": 3,
   "metadata": {},
   "outputs": [],
   "source": [
    "# load dataset\n",
    "data = pd.read_csv('../data/2020LectureReview.csv', index_col=0)"
   ]
  },
  {
   "cell_type": "code",
   "execution_count": 4,
   "metadata": {},
   "outputs": [],
   "source": [
    "# make before/after COVID-19 column\n",
    "data['COVID-19'] = data['ReviewSemester'].apply(lambda x: 'before' if x not in ['20년 1학기 수강자', '20년 2학기 수강자'] else 'after')"
   ]
  },
  {
   "cell_type": "code",
   "execution_count": 5,
   "metadata": {},
   "outputs": [
    {
     "data": {
      "text/html": [
       "<div>\n",
       "<style scoped>\n",
       "    .dataframe tbody tr th:only-of-type {\n",
       "        vertical-align: middle;\n",
       "    }\n",
       "\n",
       "    .dataframe tbody tr th {\n",
       "        vertical-align: top;\n",
       "    }\n",
       "\n",
       "    .dataframe thead th {\n",
       "        text-align: right;\n",
       "    }\n",
       "</style>\n",
       "<table border=\"1\" class=\"dataframe\">\n",
       "  <thead>\n",
       "    <tr style=\"text-align: right;\">\n",
       "      <th></th>\n",
       "      <th>LectureUrl</th>\n",
       "      <th>LectureName</th>\n",
       "      <th>LectureProf</th>\n",
       "      <th>ReviewStar</th>\n",
       "      <th>ReviewSemester</th>\n",
       "      <th>ReviewText</th>\n",
       "      <th>COVID-19</th>\n",
       "    </tr>\n",
       "  </thead>\n",
       "  <tbody>\n",
       "    <tr>\n",
       "      <th>0</th>\n",
       "      <td>https://yonsei.everytime.kr/lecture/view/3640</td>\n",
       "      <td>INTERNATIONAL MONEY AND CAPITAL MARKETS</td>\n",
       "      <td>함준호</td>\n",
       "      <td>100.0</td>\n",
       "      <td>20년 1학기 수강자</td>\n",
       "      <td>시험 잘 멋본 것 같은데 에이제로 떠서 놀람 감사합니다 교수님</td>\n",
       "      <td>after</td>\n",
       "    </tr>\n",
       "    <tr>\n",
       "      <th>1</th>\n",
       "      <td>https://yonsei.everytime.kr/lecture/view/3640</td>\n",
       "      <td>INTERNATIONAL MONEY AND CAPITAL MARKETS</td>\n",
       "      <td>함준호</td>\n",
       "      <td>80.0</td>\n",
       "      <td>20년 1학기 수강자</td>\n",
       "      <td>에 뭐,,, 그냥 괜찮았는데 자습기간을 안 주고 전범위 시험본다그러니까 당황스러웠네...</td>\n",
       "      <td>after</td>\n",
       "    </tr>\n",
       "    <tr>\n",
       "      <th>2</th>\n",
       "      <td>https://yonsei.everytime.kr/lecture/view/3640</td>\n",
       "      <td>INTERNATIONAL MONEY AND CAPITAL MARKETS</td>\n",
       "      <td>함준호</td>\n",
       "      <td>80.0</td>\n",
       "      <td>19년 1학기 수강자</td>\n",
       "      <td>한국은행 금융통화위원을 지내고 오신 교수님이시라 그런지 간간히 들려주시는 교수님의 ...</td>\n",
       "      <td>before</td>\n",
       "    </tr>\n",
       "    <tr>\n",
       "      <th>3</th>\n",
       "      <td>https://yonsei.everytime.kr/lecture/view/3640</td>\n",
       "      <td>INTERNATIONAL MONEY AND CAPITAL MARKETS</td>\n",
       "      <td>함준호</td>\n",
       "      <td>100.0</td>\n",
       "      <td>19년 1학기 수강자</td>\n",
       "      <td>교수님 너무 똑똑하시고 피피티 위주로 수업하시기는 하는데 현장경험이 풍부하셔서 그런...</td>\n",
       "      <td>before</td>\n",
       "    </tr>\n",
       "    <tr>\n",
       "      <th>4</th>\n",
       "      <td>https://yonsei.everytime.kr/lecture/view/943471</td>\n",
       "      <td>학교교실의현장연구방법입문</td>\n",
       "      <td>박순용</td>\n",
       "      <td>80.0</td>\n",
       "      <td>20년 1학기 수강자</td>\n",
       "      <td>매주 온라인 강의를 늦게 올려주셔서 불편했지만 수업 내용은 무난하고 좋았습니다. 매...</td>\n",
       "      <td>after</td>\n",
       "    </tr>\n",
       "  </tbody>\n",
       "</table>\n",
       "</div>"
      ],
      "text/plain": [
       "                                        LectureUrl  \\\n",
       "0    https://yonsei.everytime.kr/lecture/view/3640   \n",
       "1    https://yonsei.everytime.kr/lecture/view/3640   \n",
       "2    https://yonsei.everytime.kr/lecture/view/3640   \n",
       "3    https://yonsei.everytime.kr/lecture/view/3640   \n",
       "4  https://yonsei.everytime.kr/lecture/view/943471   \n",
       "\n",
       "                               LectureName LectureProf  ReviewStar  \\\n",
       "0  INTERNATIONAL MONEY AND CAPITAL MARKETS         함준호       100.0   \n",
       "1  INTERNATIONAL MONEY AND CAPITAL MARKETS         함준호        80.0   \n",
       "2  INTERNATIONAL MONEY AND CAPITAL MARKETS         함준호        80.0   \n",
       "3  INTERNATIONAL MONEY AND CAPITAL MARKETS         함준호       100.0   \n",
       "4                            학교교실의현장연구방법입문         박순용        80.0   \n",
       "\n",
       "  ReviewSemester                                         ReviewText COVID-19  \n",
       "0    20년 1학기 수강자                 시험 잘 멋본 것 같은데 에이제로 떠서 놀람 감사합니다 교수님    after  \n",
       "1    20년 1학기 수강자  에 뭐,,, 그냥 괜찮았는데 자습기간을 안 주고 전범위 시험본다그러니까 당황스러웠네...    after  \n",
       "2    19년 1학기 수강자  한국은행 금융통화위원을 지내고 오신 교수님이시라 그런지 간간히 들려주시는 교수님의 ...   before  \n",
       "3    19년 1학기 수강자  교수님 너무 똑똑하시고 피피티 위주로 수업하시기는 하는데 현장경험이 풍부하셔서 그런...   before  \n",
       "4    20년 1학기 수강자  매주 온라인 강의를 늦게 올려주셔서 불편했지만 수업 내용은 무난하고 좋았습니다. 매...    after  "
      ]
     },
     "execution_count": 5,
     "metadata": {},
     "output_type": "execute_result"
    }
   ],
   "source": [
    "data.head()"
   ]
  },
  {
   "cell_type": "markdown",
   "metadata": {},
   "source": [
    "## Task1 : 전체 강의평에 대하여 토픽 모델링 진행 후 코로나 전/후 강의평 토픽 비교"
   ]
  },
  {
   "cell_type": "markdown",
   "metadata": {},
   "source": [
    "### Preprocessing"
   ]
  },
  {
   "cell_type": "code",
   "execution_count": 6,
   "metadata": {},
   "outputs": [
    {
     "data": {
      "text/html": [
       "<div>\n",
       "<style scoped>\n",
       "    .dataframe tbody tr th:only-of-type {\n",
       "        vertical-align: middle;\n",
       "    }\n",
       "\n",
       "    .dataframe tbody tr th {\n",
       "        vertical-align: top;\n",
       "    }\n",
       "\n",
       "    .dataframe thead th {\n",
       "        text-align: right;\n",
       "    }\n",
       "</style>\n",
       "<table border=\"1\" class=\"dataframe\">\n",
       "  <thead>\n",
       "    <tr style=\"text-align: right;\">\n",
       "      <th></th>\n",
       "      <th>LectureUrl</th>\n",
       "      <th>LectureName</th>\n",
       "      <th>LectureProf</th>\n",
       "      <th>ReviewStar</th>\n",
       "      <th>ReviewSemester</th>\n",
       "      <th>ReviewText</th>\n",
       "      <th>COVID-19</th>\n",
       "      <th>TextPreprocessed</th>\n",
       "      <th>TokenCnt</th>\n",
       "    </tr>\n",
       "  </thead>\n",
       "  <tbody>\n",
       "    <tr>\n",
       "      <th>0</th>\n",
       "      <td>https://yonsei.everytime.kr/lecture/view/3640</td>\n",
       "      <td>INTERNATIONAL MONEY AND CAPITAL MARKETS</td>\n",
       "      <td>함준호</td>\n",
       "      <td>100.0</td>\n",
       "      <td>20년 1학기 수강자</td>\n",
       "      <td>시험 잘 멋본 것 같은데 에이제로 떠서 놀람 감사합니다 교수님</td>\n",
       "      <td>after</td>\n",
       "      <td>시험 이제 떠서 놀람 감사</td>\n",
       "      <td>5</td>\n",
       "    </tr>\n",
       "    <tr>\n",
       "      <th>1</th>\n",
       "      <td>https://yonsei.everytime.kr/lecture/view/3640</td>\n",
       "      <td>INTERNATIONAL MONEY AND CAPITAL MARKETS</td>\n",
       "      <td>함준호</td>\n",
       "      <td>80.0</td>\n",
       "      <td>20년 1학기 수강자</td>\n",
       "      <td>에 뭐,,, 그냥 괜찮았는데 자습기간을 안 주고 전범위 시험본다그러니까 당황스러웠네...</td>\n",
       "      <td>after</td>\n",
       "      <td>그냥 괜찮 자습 기간 범위 시험 본다 그러니까 당황 똑똑 나쁘 다만 시간 연속 힘들...</td>\n",
       "      <td>20</td>\n",
       "    </tr>\n",
       "    <tr>\n",
       "      <th>2</th>\n",
       "      <td>https://yonsei.everytime.kr/lecture/view/3640</td>\n",
       "      <td>INTERNATIONAL MONEY AND CAPITAL MARKETS</td>\n",
       "      <td>함준호</td>\n",
       "      <td>80.0</td>\n",
       "      <td>19년 1학기 수강자</td>\n",
       "      <td>한국은행 금융통화위원을 지내고 오신 교수님이시라 그런지 간간히 들려주시는 교수님의 ...</td>\n",
       "      <td>before</td>\n",
       "      <td>한국은행 금융 통화 위원 지내 그런지 간간히 들려 현장 쏠쏠 재미 중간고사 기말고사...</td>\n",
       "      <td>37</td>\n",
       "    </tr>\n",
       "    <tr>\n",
       "      <th>3</th>\n",
       "      <td>https://yonsei.everytime.kr/lecture/view/3640</td>\n",
       "      <td>INTERNATIONAL MONEY AND CAPITAL MARKETS</td>\n",
       "      <td>함준호</td>\n",
       "      <td>100.0</td>\n",
       "      <td>19년 1학기 수강자</td>\n",
       "      <td>교수님 너무 똑똑하시고 피피티 위주로 수업하시기는 하는데 현장경험이 풍부하셔서 그런...</td>\n",
       "      <td>before</td>\n",
       "      <td>똑똑 피피티 위주 현장 경험 풍부 그런지 설명</td>\n",
       "      <td>8</td>\n",
       "    </tr>\n",
       "    <tr>\n",
       "      <th>4</th>\n",
       "      <td>https://yonsei.everytime.kr/lecture/view/943471</td>\n",
       "      <td>학교교실의현장연구방법입문</td>\n",
       "      <td>박순용</td>\n",
       "      <td>80.0</td>\n",
       "      <td>20년 1학기 수강자</td>\n",
       "      <td>매주 온라인 강의를 늦게 올려주셔서 불편했지만 수업 내용은 무난하고 좋았습니다. 매...</td>\n",
       "      <td>after</td>\n",
       "      <td>매주 온라인 올려 불편 무난 매주 출석 과제 기말 연구 보고서 기말 온라인 시험 이...</td>\n",
       "      <td>37</td>\n",
       "    </tr>\n",
       "  </tbody>\n",
       "</table>\n",
       "</div>"
      ],
      "text/plain": [
       "                                        LectureUrl  \\\n",
       "0    https://yonsei.everytime.kr/lecture/view/3640   \n",
       "1    https://yonsei.everytime.kr/lecture/view/3640   \n",
       "2    https://yonsei.everytime.kr/lecture/view/3640   \n",
       "3    https://yonsei.everytime.kr/lecture/view/3640   \n",
       "4  https://yonsei.everytime.kr/lecture/view/943471   \n",
       "\n",
       "                               LectureName LectureProf  ReviewStar  \\\n",
       "0  INTERNATIONAL MONEY AND CAPITAL MARKETS         함준호       100.0   \n",
       "1  INTERNATIONAL MONEY AND CAPITAL MARKETS         함준호        80.0   \n",
       "2  INTERNATIONAL MONEY AND CAPITAL MARKETS         함준호        80.0   \n",
       "3  INTERNATIONAL MONEY AND CAPITAL MARKETS         함준호       100.0   \n",
       "4                            학교교실의현장연구방법입문         박순용        80.0   \n",
       "\n",
       "  ReviewSemester                                         ReviewText COVID-19  \\\n",
       "0    20년 1학기 수강자                 시험 잘 멋본 것 같은데 에이제로 떠서 놀람 감사합니다 교수님    after   \n",
       "1    20년 1학기 수강자  에 뭐,,, 그냥 괜찮았는데 자습기간을 안 주고 전범위 시험본다그러니까 당황스러웠네...    after   \n",
       "2    19년 1학기 수강자  한국은행 금융통화위원을 지내고 오신 교수님이시라 그런지 간간히 들려주시는 교수님의 ...   before   \n",
       "3    19년 1학기 수강자  교수님 너무 똑똑하시고 피피티 위주로 수업하시기는 하는데 현장경험이 풍부하셔서 그런...   before   \n",
       "4    20년 1학기 수강자  매주 온라인 강의를 늦게 올려주셔서 불편했지만 수업 내용은 무난하고 좋았습니다. 매...    after   \n",
       "\n",
       "                                    TextPreprocessed  TokenCnt  \n",
       "0                                     시험 이제 떠서 놀람 감사         5  \n",
       "1  그냥 괜찮 자습 기간 범위 시험 본다 그러니까 당황 똑똑 나쁘 다만 시간 연속 힘들...        20  \n",
       "2  한국은행 금융 통화 위원 지내 그런지 간간히 들려 현장 쏠쏠 재미 중간고사 기말고사...        37  \n",
       "3                          똑똑 피피티 위주 현장 경험 풍부 그런지 설명         8  \n",
       "4  매주 온라인 올려 불편 무난 매주 출석 과제 기말 연구 보고서 기말 온라인 시험 이...        37  "
      ]
     },
     "execution_count": 6,
     "metadata": {},
     "output_type": "execute_result"
    }
   ],
   "source": [
    "data_, text_tokenized_ = Preprocessor(data, list(data['ReviewText'].values))\n",
    "data_.head()"
   ]
  },
  {
   "cell_type": "markdown",
   "metadata": {},
   "source": [
    "### Topic Modeling (LDA)"
   ]
  },
  {
   "cell_type": "code",
   "execution_count": 7,
   "metadata": {
    "scrolled": true
   },
   "outputs": [
    {
     "name": "stdout",
     "output_type": "stream",
     "text": [
      "============ Topic List ============\n",
      "(0, '0.039*\"학기\" + 0.035*\"과제\" + 0.027*\"시간\" + 0.022*\"시험\" + 0.019*\"비대\"')\n",
      "(1, '0.152*\"ㅋㅋ\" + 0.123*\"ㅋㅋㅋ\" + 0.027*\"그러나\" + 0.022*\"ㅠㅠㅠ\" + 0.021*\"연세대\"')\n",
      "(2, '0.048*\"학점\" + 0.037*\"열심히\" + 0.037*\"공부\" + 0.034*\"시험\" + 0.030*\"생각\"')\n",
      "(3, '0.200*\"영어\" + 0.052*\"경제학\" + 0.044*\"경제\" + 0.039*\"실력\" + 0.030*\"독학\"')\n",
      "(4, '0.037*\"생각\" + 0.028*\"학생\" + 0.022*\"부분\" + 0.020*\"설명\" + 0.014*\"말씀\"')\n",
      "(5, '0.060*\"발표\" + 0.027*\"기말\" + 0.026*\"시간\" + 0.024*\"보고서\" + 0.021*\"중간\"')\n",
      "(6, '0.108*\"재밌\" + 0.068*\"흥미\" + 0.043*\"교양\" + 0.038*\"재미있\" + 0.034*\"관심\"')\n",
      "(7, '0.068*\"출석\" + 0.055*\"기독교\" + 0.045*\"채플\" + 0.041*\"그냥\" + 0.030*\"출결\"')\n",
      "(8, '0.079*\"시험\" + 0.035*\"공부\" + 0.034*\"족보\" + 0.029*\"피피티\" + 0.028*\"필기\"')\n",
      "(9, '0.035*\"설명\" + 0.035*\"친절\" + 0.026*\"이해\" + 0.024*\"힘들\" + 0.023*\"열심히\"')\n",
      "(10, '0.024*\"마세요\" + 0.020*\"이런\" + 0.020*\"최악\" + 0.018*\"자기\" + 0.017*\"학교\"')\n",
      "(11, '0.212*\"과제\" + 0.049*\"시험\" + 0.035*\"학점\" + 0.034*\"모임\" + 0.033*\"부담\"')\n",
      "(12, '0.027*\"생각\" + 0.013*\"이론\" + 0.013*\"지식\" + 0.012*\"관련\" + 0.011*\"개인\"')\n",
      "(13, '0.040*\"시간\" + 0.032*\"질문\" + 0.026*\"조교\" + 0.016*\"학생\" + 0.010*\"사람\"')\n",
      "(14, '0.093*\"학생\" + 0.057*\"최고\" + 0.038*\"학기\" + 0.030*\"ㅠㅠ\" + 0.029*\"학점\"')\n",
      "(15, '0.140*\"문제\" + 0.103*\"시험\" + 0.023*\"공부\" + 0.023*\"나오\" + 0.016*\"교재\"')\n",
      "(16, '0.081*\"개꿀\" + 0.050*\"물리\" + 0.032*\"채우\" + 0.026*\"공대\" + 0.023*\"언어\"')\n",
      "(17, '0.065*\"모르\" + 0.038*\"그냥\" + 0.027*\"기준\" + 0.023*\"학점\" + 0.020*\"성적\"')\n",
      "(18, '0.125*\"기말\" + 0.123*\"중간\" + 0.046*\"퀴즈\" + 0.027*\"점수\" + 0.020*\"평균\"')\n",
      "(19, '0.057*\"과목\" + 0.043*\"수강\" + 0.039*\"학기\" + 0.033*\"추천\" + 0.033*\"학점\"')\n"
     ]
    }
   ],
   "source": [
    "# topic modeling => topic list\n",
    "print('============ Topic List ============')\n",
    "corpus_, lda_ = ModelingLDA(text_tokenized_)"
   ]
  },
  {
   "cell_type": "code",
   "execution_count": 8,
   "metadata": {},
   "outputs": [],
   "source": [
    "topic_table_ = MakeTopicTable(corpus_, lda_)"
   ]
  },
  {
   "cell_type": "code",
   "execution_count": 9,
   "metadata": {},
   "outputs": [
    {
     "data": {
      "text/html": [
       "<div>\n",
       "<style scoped>\n",
       "    .dataframe tbody tr th:only-of-type {\n",
       "        vertical-align: middle;\n",
       "    }\n",
       "\n",
       "    .dataframe tbody tr th {\n",
       "        vertical-align: top;\n",
       "    }\n",
       "\n",
       "    .dataframe thead th {\n",
       "        text-align: right;\n",
       "    }\n",
       "</style>\n",
       "<table border=\"1\" class=\"dataframe\">\n",
       "  <thead>\n",
       "    <tr style=\"text-align: right;\">\n",
       "      <th></th>\n",
       "      <th>LectureUrl</th>\n",
       "      <th>LectureName</th>\n",
       "      <th>LectureProf</th>\n",
       "      <th>ReviewStar</th>\n",
       "      <th>ReviewSemester</th>\n",
       "      <th>ReviewText</th>\n",
       "      <th>COVID-19</th>\n",
       "      <th>TextPreprocessed</th>\n",
       "      <th>TokenCnt</th>\n",
       "      <th>TopicIndex</th>\n",
       "      <th>TopicProportion</th>\n",
       "      <th>TopicList</th>\n",
       "    </tr>\n",
       "  </thead>\n",
       "  <tbody>\n",
       "    <tr>\n",
       "      <th>0</th>\n",
       "      <td>https://yonsei.everytime.kr/lecture/view/3640</td>\n",
       "      <td>INTERNATIONAL MONEY AND CAPITAL MARKETS</td>\n",
       "      <td>함준호</td>\n",
       "      <td>100.0</td>\n",
       "      <td>20년 1학기 수강자</td>\n",
       "      <td>시험 잘 멋본 것 같은데 에이제로 떠서 놀람 감사합니다 교수님</td>\n",
       "      <td>after</td>\n",
       "      <td>시험 이제 떠서 놀람 감사</td>\n",
       "      <td>5</td>\n",
       "      <td>2</td>\n",
       "      <td>0.41262</td>\n",
       "      <td>[(2, 0.41261744), (8, 0.2706287), (14, 0.17504...</td>\n",
       "    </tr>\n",
       "    <tr>\n",
       "      <th>1</th>\n",
       "      <td>https://yonsei.everytime.kr/lecture/view/3640</td>\n",
       "      <td>INTERNATIONAL MONEY AND CAPITAL MARKETS</td>\n",
       "      <td>함준호</td>\n",
       "      <td>80.0</td>\n",
       "      <td>20년 1학기 수강자</td>\n",
       "      <td>에 뭐,,, 그냥 괜찮았는데 자습기간을 안 주고 전범위 시험본다그러니까 당황스러웠네...</td>\n",
       "      <td>after</td>\n",
       "      <td>그냥 괜찮 자습 기간 범위 시험 본다 그러니까 당황 똑똑 나쁘 다만 시간 연속 힘들...</td>\n",
       "      <td>20</td>\n",
       "      <td>2</td>\n",
       "      <td>0.29354</td>\n",
       "      <td>[(0, 0.16698176), (2, 0.29354447), (7, 0.07365...</td>\n",
       "    </tr>\n",
       "    <tr>\n",
       "      <th>2</th>\n",
       "      <td>https://yonsei.everytime.kr/lecture/view/3640</td>\n",
       "      <td>INTERNATIONAL MONEY AND CAPITAL MARKETS</td>\n",
       "      <td>함준호</td>\n",
       "      <td>80.0</td>\n",
       "      <td>19년 1학기 수강자</td>\n",
       "      <td>한국은행 금융통화위원을 지내고 오신 교수님이시라 그런지 간간히 들려주시는 교수님의 ...</td>\n",
       "      <td>before</td>\n",
       "      <td>한국은행 금융 통화 위원 지내 그런지 간간히 들려 현장 쏠쏠 재미 중간고사 기말고사...</td>\n",
       "      <td>37</td>\n",
       "      <td>15</td>\n",
       "      <td>0.24471</td>\n",
       "      <td>[(0, 0.07678881), (5, 0.14898792), (8, 0.08291...</td>\n",
       "    </tr>\n",
       "    <tr>\n",
       "      <th>3</th>\n",
       "      <td>https://yonsei.everytime.kr/lecture/view/3640</td>\n",
       "      <td>INTERNATIONAL MONEY AND CAPITAL MARKETS</td>\n",
       "      <td>함준호</td>\n",
       "      <td>100.0</td>\n",
       "      <td>19년 1학기 수강자</td>\n",
       "      <td>교수님 너무 똑똑하시고 피피티 위주로 수업하시기는 하는데 현장경험이 풍부하셔서 그런...</td>\n",
       "      <td>before</td>\n",
       "      <td>똑똑 피피티 위주 현장 경험 풍부 그런지 설명</td>\n",
       "      <td>8</td>\n",
       "      <td>4</td>\n",
       "      <td>0.36339</td>\n",
       "      <td>[(4, 0.3633946), (8, 0.16210656), (9, 0.159891...</td>\n",
       "    </tr>\n",
       "    <tr>\n",
       "      <th>4</th>\n",
       "      <td>https://yonsei.everytime.kr/lecture/view/943471</td>\n",
       "      <td>학교교실의현장연구방법입문</td>\n",
       "      <td>박순용</td>\n",
       "      <td>80.0</td>\n",
       "      <td>20년 1학기 수강자</td>\n",
       "      <td>매주 온라인 강의를 늦게 올려주셔서 불편했지만 수업 내용은 무난하고 좋았습니다. 매...</td>\n",
       "      <td>after</td>\n",
       "      <td>매주 온라인 올려 불편 무난 매주 출석 과제 기말 연구 보고서 기말 온라인 시험 이...</td>\n",
       "      <td>37</td>\n",
       "      <td>0</td>\n",
       "      <td>0.29469</td>\n",
       "      <td>[(0, 0.29468825), (5, 0.22924832), (8, 0.08433...</td>\n",
       "    </tr>\n",
       "  </tbody>\n",
       "</table>\n",
       "</div>"
      ],
      "text/plain": [
       "                                        LectureUrl  \\\n",
       "0    https://yonsei.everytime.kr/lecture/view/3640   \n",
       "1    https://yonsei.everytime.kr/lecture/view/3640   \n",
       "2    https://yonsei.everytime.kr/lecture/view/3640   \n",
       "3    https://yonsei.everytime.kr/lecture/view/3640   \n",
       "4  https://yonsei.everytime.kr/lecture/view/943471   \n",
       "\n",
       "                               LectureName LectureProf  ReviewStar  \\\n",
       "0  INTERNATIONAL MONEY AND CAPITAL MARKETS         함준호       100.0   \n",
       "1  INTERNATIONAL MONEY AND CAPITAL MARKETS         함준호        80.0   \n",
       "2  INTERNATIONAL MONEY AND CAPITAL MARKETS         함준호        80.0   \n",
       "3  INTERNATIONAL MONEY AND CAPITAL MARKETS         함준호       100.0   \n",
       "4                            학교교실의현장연구방법입문         박순용        80.0   \n",
       "\n",
       "  ReviewSemester                                         ReviewText COVID-19  \\\n",
       "0    20년 1학기 수강자                 시험 잘 멋본 것 같은데 에이제로 떠서 놀람 감사합니다 교수님    after   \n",
       "1    20년 1학기 수강자  에 뭐,,, 그냥 괜찮았는데 자습기간을 안 주고 전범위 시험본다그러니까 당황스러웠네...    after   \n",
       "2    19년 1학기 수강자  한국은행 금융통화위원을 지내고 오신 교수님이시라 그런지 간간히 들려주시는 교수님의 ...   before   \n",
       "3    19년 1학기 수강자  교수님 너무 똑똑하시고 피피티 위주로 수업하시기는 하는데 현장경험이 풍부하셔서 그런...   before   \n",
       "4    20년 1학기 수강자  매주 온라인 강의를 늦게 올려주셔서 불편했지만 수업 내용은 무난하고 좋았습니다. 매...    after   \n",
       "\n",
       "                                    TextPreprocessed  TokenCnt  TopicIndex  \\\n",
       "0                                     시험 이제 떠서 놀람 감사         5           2   \n",
       "1  그냥 괜찮 자습 기간 범위 시험 본다 그러니까 당황 똑똑 나쁘 다만 시간 연속 힘들...        20           2   \n",
       "2  한국은행 금융 통화 위원 지내 그런지 간간히 들려 현장 쏠쏠 재미 중간고사 기말고사...        37          15   \n",
       "3                          똑똑 피피티 위주 현장 경험 풍부 그런지 설명         8           4   \n",
       "4  매주 온라인 올려 불편 무난 매주 출석 과제 기말 연구 보고서 기말 온라인 시험 이...        37           0   \n",
       "\n",
       "   TopicProportion                                          TopicList  \n",
       "0          0.41262  [(2, 0.41261744), (8, 0.2706287), (14, 0.17504...  \n",
       "1          0.29354  [(0, 0.16698176), (2, 0.29354447), (7, 0.07365...  \n",
       "2          0.24471  [(0, 0.07678881), (5, 0.14898792), (8, 0.08291...  \n",
       "3          0.36339  [(4, 0.3633946), (8, 0.16210656), (9, 0.159891...  \n",
       "4          0.29469  [(0, 0.29468825), (5, 0.22924832), (8, 0.08433...  "
      ]
     },
     "execution_count": 9,
     "metadata": {},
     "output_type": "execute_result"
    }
   ],
   "source": [
    "df_ = pd.concat([data_.reset_index(drop=True), topic_table_.reset_index(drop=True)], axis=1)\n",
    "df_.head()"
   ]
  },
  {
   "cell_type": "code",
   "execution_count": 10,
   "metadata": {},
   "outputs": [],
   "source": [
    "df_.to_csv('Task1_data_with_topic.csv')"
   ]
  },
  {
   "cell_type": "code",
   "execution_count": 11,
   "metadata": {},
   "outputs": [],
   "source": [
    "before_df_ = df_[df_['COVID-19']=='before']\n",
    "after_df_ = df_[df_['COVID-19']=='after']"
   ]
  },
  {
   "cell_type": "code",
   "execution_count": 12,
   "metadata": {},
   "outputs": [
    {
     "data": {
      "image/png": "[encoded data removed]",
      "text/plain": [
       "<Figure size 1152x288 with 1 Axes>"
      ]
     },
     "metadata": {
      "needs_background": "light"
     },
     "output_type": "display_data"
    },
    {
     "data": {
      "image/png": "[encoded data removed]",
      "text/plain": [
       "<Figure size 1152x288 with 2 Axes>"
      ]
     },
     "metadata": {
      "needs_background": "light"
     },
     "output_type": "display_data"
    }
   ],
   "source": [
    "# ReviewStar Distribution\n",
    "\n",
    "fig, ax = plt.subplots(1, 1, figsize=(16, 4))\n",
    "\n",
    "sns.boxplot(x='TopicIndex', y='ReviewStar', data=df_, palette='Paired')\n",
    "plt.title('ReviewStar Distribution')\n",
    "\n",
    "fig, ax = plt.subplots(1, 2, figsize=(16, 4))\n",
    "\n",
    "plt.subplot(121)\n",
    "sns.boxplot(x='TopicIndex', y='ReviewStar', data=before_df_, palette='Paired')\n",
    "plt.title('ReviewStar Distribution before COVID-19')\n",
    "\n",
    "plt.subplot(122)\n",
    "sns.boxplot(x='TopicIndex', y='ReviewStar', data=after_df_, palette='Paired')\n",
    "plt.title('ReviewStar Distribution after COVID-19')\n",
    "\n",
    "plt.show()"
   ]
  },
  {
   "cell_type": "code",
   "execution_count": 13,
   "metadata": {},
   "outputs": [
    {
     "data": {
      "image/png": "[encoded data removed]",
      "text/plain": [
       "<Figure size 1152x288 with 1 Axes>"
      ]
     },
     "metadata": {
      "needs_background": "light"
     },
     "output_type": "display_data"
    },
    {
     "data": {
      "image/png": "[encoded data removed]",
      "text/plain": [
       "<Figure size 1152x576 with 4 Axes>"
      ]
     },
     "metadata": {
      "needs_background": "light"
     },
     "output_type": "display_data"
    }
   ],
   "source": [
    "# Topic Distribution\n",
    "\n",
    "before_temp_ = before_df_.groupby('TopicIndex').count()['LectureUrl']\n",
    "after_temp_ = after_df_.groupby('TopicIndex').count()['LectureUrl']\n",
    "\n",
    "fig, ax = plt.subplots(1, 1, figsize=(16, 4))\n",
    "\n",
    "sns.countplot(x=df_['TopicIndex'])\n",
    "plt.title('Topic Distribution')\n",
    "\n",
    "fig, ax = plt.subplots(2, 2, figsize=(16, 8))\n",
    "\n",
    "plt.subplot(221)\n",
    "sns.countplot(x=before_df_['TopicIndex'])\n",
    "plt.yticks(range(0, 7001, 1000))\n",
    "plt.xlabel('')\n",
    "plt.title('Topic Distribution before COVID-19')\n",
    "\n",
    "plt.subplot(222)\n",
    "sns.countplot(x=after_df_['TopicIndex'])\n",
    "plt.yticks(range(0, 7001, 1000))\n",
    "plt.xlabel('')\n",
    "plt.title('Topic Distribution after COVID-19')\n",
    "\n",
    "plt.subplot(223)\n",
    "sns.barplot(x=before_temp_.index, y=before_temp_.values/len(before_df_))\n",
    "plt.yticks(np.arange(0, 0.20, 0.02))\n",
    "plt.ylabel('proportion')\n",
    "\n",
    "plt.subplot(224)\n",
    "sns.barplot(x=after_temp_.index, y=after_temp_.values/len(after_df_))\n",
    "plt.yticks(np.arange(0, 0.20, 0.02))\n",
    "plt.ylabel('proportion')\n",
    "\n",
    "plt.show()"
   ]
  },
  {
   "cell_type": "code",
   "execution_count": 14,
   "metadata": {
    "scrolled": true
   },
   "outputs": [
    {
     "data": {
      "image/png": "[encoded data removed]",
      "text/plain": [
       "<Figure size 1152x864 with 3 Axes>"
      ]
     },
     "metadata": {
      "needs_background": "light"
     },
     "output_type": "display_data"
    }
   ],
   "source": [
    "# Compare Topic Distribution before/after COVID19\n",
    "\n",
    "fig, ax = plt.subplots(3, 1, figsize=(16, 12))\n",
    "\n",
    "plt.subplot(311)\n",
    "sns.countplot(x='TopicIndex', data=df_)\n",
    "plt.xticks(range(0, 20, 1))\n",
    "plt.xlabel('')\n",
    "plt.title('Topic Distribution')\n",
    "\n",
    "plt.subplot(312)\n",
    "sns.countplot(x='TopicIndex', data=df_, hue='COVID-19', palette='muted')\n",
    "plt.xticks(range(0, 20, 1))\n",
    "plt.xlabel('')\n",
    "plt.ylabel('count')\n",
    "\n",
    "plt.subplot(313)\n",
    "sns.lineplot(x=after_temp_.index, y=after_temp_.values/len(after_df_), label='after COVID-19', color=sns.color_palette('muted')[0])\n",
    "sns.lineplot(x=before_temp_.index, y=before_temp_.values/len(before_df_), label='before COVID-19', color=sns.color_palette('muted')[1])\n",
    "plt.xticks(range(0, 20, 1))\n",
    "plt.ylabel('proportion')\n",
    "\n",
    "plt.show()"
   ]
  },
  {
   "cell_type": "markdown",
   "metadata": {},
   "source": [
    "## Task2 : 코로나 전/후 강의평에 대하여 각각 토픽 모델링 진행 후 코로나 전/후 강의평 토픽 비교"
   ]
  },
  {
   "cell_type": "markdown",
   "metadata": {},
   "source": [
    "### Preprocessing"
   ]
  },
  {
   "cell_type": "code",
   "execution_count": 15,
   "metadata": {},
   "outputs": [],
   "source": [
    "before_data = data[data['COVID-19']=='before']\n",
    "after_data = data[data['COVID-19']=='after']"
   ]
  },
  {
   "cell_type": "code",
   "execution_count": 16,
   "metadata": {},
   "outputs": [],
   "source": [
    "before_text = list(before_data['ReviewText'].values)\n",
    "after_text = list(after_data['ReviewText'].values)"
   ]
  },
  {
   "cell_type": "code",
   "execution_count": 17,
   "metadata": {},
   "outputs": [],
   "source": [
    "before_data, before_text_tokenized = Preprocessor(before_data, before_text)\n",
    "after_data, after_text_tokenized = Preprocessor(after_data, after_text)"
   ]
  },
  {
   "cell_type": "code",
   "execution_count": 18,
   "metadata": {},
   "outputs": [
    {
     "data": {
      "text/html": [
       "<div>\n",
       "<style scoped>\n",
       "    .dataframe tbody tr th:only-of-type {\n",
       "        vertical-align: middle;\n",
       "    }\n",
       "\n",
       "    .dataframe tbody tr th {\n",
       "        vertical-align: top;\n",
       "    }\n",
       "\n",
       "    .dataframe thead th {\n",
       "        text-align: right;\n",
       "    }\n",
       "</style>\n",
       "<table border=\"1\" class=\"dataframe\">\n",
       "  <thead>\n",
       "    <tr style=\"text-align: right;\">\n",
       "      <th></th>\n",
       "      <th>LectureUrl</th>\n",
       "      <th>LectureName</th>\n",
       "      <th>LectureProf</th>\n",
       "      <th>ReviewStar</th>\n",
       "      <th>ReviewSemester</th>\n",
       "      <th>ReviewText</th>\n",
       "      <th>COVID-19</th>\n",
       "      <th>TextPreprocessed</th>\n",
       "      <th>TokenCnt</th>\n",
       "    </tr>\n",
       "  </thead>\n",
       "  <tbody>\n",
       "    <tr>\n",
       "      <th>2</th>\n",
       "      <td>https://yonsei.everytime.kr/lecture/view/3640</td>\n",
       "      <td>INTERNATIONAL MONEY AND CAPITAL MARKETS</td>\n",
       "      <td>함준호</td>\n",
       "      <td>80.0</td>\n",
       "      <td>19년 1학기 수강자</td>\n",
       "      <td>한국은행 금융통화위원을 지내고 오신 교수님이시라 그런지 간간히 들려주시는 교수님의 ...</td>\n",
       "      <td>before</td>\n",
       "      <td>한국은행 금융 통화 위원 지내 그런지 간간히 들려 현장 쏠쏠 재미 중간고사 기말고사...</td>\n",
       "      <td>37</td>\n",
       "    </tr>\n",
       "    <tr>\n",
       "      <th>3</th>\n",
       "      <td>https://yonsei.everytime.kr/lecture/view/3640</td>\n",
       "      <td>INTERNATIONAL MONEY AND CAPITAL MARKETS</td>\n",
       "      <td>함준호</td>\n",
       "      <td>100.0</td>\n",
       "      <td>19년 1학기 수강자</td>\n",
       "      <td>교수님 너무 똑똑하시고 피피티 위주로 수업하시기는 하는데 현장경험이 풍부하셔서 그런...</td>\n",
       "      <td>before</td>\n",
       "      <td>똑똑 피피티 위주 현장 경험 풍부 그런지 설명</td>\n",
       "      <td>8</td>\n",
       "    </tr>\n",
       "    <tr>\n",
       "      <th>6</th>\n",
       "      <td>https://yonsei.everytime.kr/lecture/view/943471</td>\n",
       "      <td>학교교실의현장연구방법입문</td>\n",
       "      <td>박순용</td>\n",
       "      <td>20.0</td>\n",
       "      <td>18년 2학기 수강자</td>\n",
       "      <td>교수님의 수업은 이해하기 쉬웠고 질적연구와 현장연구에 대해 잘 설명해주셔서 수업은 ...</td>\n",
       "      <td>before</td>\n",
       "      <td>이해 쉬웠 연구 현장 연구 설명 중간고사 비중 성적 산출 아쉬운 부분</td>\n",
       "      <td>12</td>\n",
       "    </tr>\n",
       "    <tr>\n",
       "      <th>7</th>\n",
       "      <td>https://yonsei.everytime.kr/lecture/view/943471</td>\n",
       "      <td>학교교실의현장연구방법입문</td>\n",
       "      <td>박순용</td>\n",
       "      <td>100.0</td>\n",
       "      <td>18년 2학기 수강자</td>\n",
       "      <td>개인적이지만 수업 괜찮았고 설명 잘해주심. 성적은 그냥 시험으로 갈리는듯? 조모임 ...</td>\n",
       "      <td>before</td>\n",
       "      <td>개인 괜찮 설명 주심 성적 그냥 시험 갈리 모임 빡세 엄청 자주 만나 조원 만나 헤...</td>\n",
       "      <td>49</td>\n",
       "    </tr>\n",
       "    <tr>\n",
       "      <th>16</th>\n",
       "      <td>https://yonsei.everytime.kr/lecture/view/2073400</td>\n",
       "      <td>국제이해교육</td>\n",
       "      <td>이무성</td>\n",
       "      <td>40.0</td>\n",
       "      <td>19년 2학기 수강자</td>\n",
       "      <td>교수님 좋고 학구적이고 내용도 좋은데 마이너스 폭격기임^^</td>\n",
       "      <td>before</td>\n",
       "      <td>학구 은데 마이너스 폭격기</td>\n",
       "      <td>4</td>\n",
       "    </tr>\n",
       "  </tbody>\n",
       "</table>\n",
       "</div>"
      ],
      "text/plain": [
       "                                          LectureUrl  \\\n",
       "2      https://yonsei.everytime.kr/lecture/view/3640   \n",
       "3      https://yonsei.everytime.kr/lecture/view/3640   \n",
       "6    https://yonsei.everytime.kr/lecture/view/943471   \n",
       "7    https://yonsei.everytime.kr/lecture/view/943471   \n",
       "16  https://yonsei.everytime.kr/lecture/view/2073400   \n",
       "\n",
       "                                LectureName LectureProf  ReviewStar  \\\n",
       "2   INTERNATIONAL MONEY AND CAPITAL MARKETS         함준호        80.0   \n",
       "3   INTERNATIONAL MONEY AND CAPITAL MARKETS         함준호       100.0   \n",
       "6                             학교교실의현장연구방법입문         박순용        20.0   \n",
       "7                             학교교실의현장연구방법입문         박순용       100.0   \n",
       "16                                   국제이해교육         이무성        40.0   \n",
       "\n",
       "   ReviewSemester                                         ReviewText COVID-19  \\\n",
       "2     19년 1학기 수강자  한국은행 금융통화위원을 지내고 오신 교수님이시라 그런지 간간히 들려주시는 교수님의 ...   before   \n",
       "3     19년 1학기 수강자  교수님 너무 똑똑하시고 피피티 위주로 수업하시기는 하는데 현장경험이 풍부하셔서 그런...   before   \n",
       "6     18년 2학기 수강자  교수님의 수업은 이해하기 쉬웠고 질적연구와 현장연구에 대해 잘 설명해주셔서 수업은 ...   before   \n",
       "7     18년 2학기 수강자  개인적이지만 수업 괜찮았고 설명 잘해주심. 성적은 그냥 시험으로 갈리는듯? 조모임 ...   before   \n",
       "16    19년 2학기 수강자                   교수님 좋고 학구적이고 내용도 좋은데 마이너스 폭격기임^^   before   \n",
       "\n",
       "                                     TextPreprocessed  TokenCnt  \n",
       "2   한국은행 금융 통화 위원 지내 그런지 간간히 들려 현장 쏠쏠 재미 중간고사 기말고사...        37  \n",
       "3                           똑똑 피피티 위주 현장 경험 풍부 그런지 설명         8  \n",
       "6              이해 쉬웠 연구 현장 연구 설명 중간고사 비중 성적 산출 아쉬운 부분        12  \n",
       "7   개인 괜찮 설명 주심 성적 그냥 시험 갈리 모임 빡세 엄청 자주 만나 조원 만나 헤...        49  \n",
       "16                                     학구 은데 마이너스 폭격기         4  "
      ]
     },
     "execution_count": 18,
     "metadata": {},
     "output_type": "execute_result"
    }
   ],
   "source": [
    "before_data.head()"
   ]
  },
  {
   "cell_type": "code",
   "execution_count": 19,
   "metadata": {},
   "outputs": [
    {
     "data": {
      "text/html": [
       "<div>\n",
       "<style scoped>\n",
       "    .dataframe tbody tr th:only-of-type {\n",
       "        vertical-align: middle;\n",
       "    }\n",
       "\n",
       "    .dataframe tbody tr th {\n",
       "        vertical-align: top;\n",
       "    }\n",
       "\n",
       "    .dataframe thead th {\n",
       "        text-align: right;\n",
       "    }\n",
       "</style>\n",
       "<table border=\"1\" class=\"dataframe\">\n",
       "  <thead>\n",
       "    <tr style=\"text-align: right;\">\n",
       "      <th></th>\n",
       "      <th>LectureUrl</th>\n",
       "      <th>LectureName</th>\n",
       "      <th>LectureProf</th>\n",
       "      <th>ReviewStar</th>\n",
       "      <th>ReviewSemester</th>\n",
       "      <th>ReviewText</th>\n",
       "      <th>COVID-19</th>\n",
       "      <th>TextPreprocessed</th>\n",
       "      <th>TokenCnt</th>\n",
       "    </tr>\n",
       "  </thead>\n",
       "  <tbody>\n",
       "    <tr>\n",
       "      <th>0</th>\n",
       "      <td>https://yonsei.everytime.kr/lecture/view/3640</td>\n",
       "      <td>INTERNATIONAL MONEY AND CAPITAL MARKETS</td>\n",
       "      <td>함준호</td>\n",
       "      <td>100.0</td>\n",
       "      <td>20년 1학기 수강자</td>\n",
       "      <td>시험 잘 멋본 것 같은데 에이제로 떠서 놀람 감사합니다 교수님</td>\n",
       "      <td>after</td>\n",
       "      <td>시험 이제 떠서 놀람 감사</td>\n",
       "      <td>5</td>\n",
       "    </tr>\n",
       "    <tr>\n",
       "      <th>1</th>\n",
       "      <td>https://yonsei.everytime.kr/lecture/view/3640</td>\n",
       "      <td>INTERNATIONAL MONEY AND CAPITAL MARKETS</td>\n",
       "      <td>함준호</td>\n",
       "      <td>80.0</td>\n",
       "      <td>20년 1학기 수강자</td>\n",
       "      <td>에 뭐,,, 그냥 괜찮았는데 자습기간을 안 주고 전범위 시험본다그러니까 당황스러웠네...</td>\n",
       "      <td>after</td>\n",
       "      <td>그냥 괜찮 자습 기간 범위 시험 본다 그러니까 당황 똑똑 나쁘 다만 시간 연속 힘들...</td>\n",
       "      <td>20</td>\n",
       "    </tr>\n",
       "    <tr>\n",
       "      <th>4</th>\n",
       "      <td>https://yonsei.everytime.kr/lecture/view/943471</td>\n",
       "      <td>학교교실의현장연구방법입문</td>\n",
       "      <td>박순용</td>\n",
       "      <td>80.0</td>\n",
       "      <td>20년 1학기 수강자</td>\n",
       "      <td>매주 온라인 강의를 늦게 올려주셔서 불편했지만 수업 내용은 무난하고 좋았습니다. 매...</td>\n",
       "      <td>after</td>\n",
       "      <td>매주 온라인 올려 불편 무난 매주 출석 과제 기말 연구 보고서 기말 온라인 시험 이...</td>\n",
       "      <td>37</td>\n",
       "    </tr>\n",
       "    <tr>\n",
       "      <th>5</th>\n",
       "      <td>https://yonsei.everytime.kr/lecture/view/943471</td>\n",
       "      <td>학교교실의현장연구방법입문</td>\n",
       "      <td>박순용</td>\n",
       "      <td>20.0</td>\n",
       "      <td>20년 1학기 수강자</td>\n",
       "      <td>조교가 일을 안하는건지 교수가 일을 안하는건지 강의가 맨날 늦게 올라옴 제 시간에 ...</td>\n",
       "      <td>after</td>\n",
       "      <td>조교 건지 건지 맨날 올라옴 시간 니까 열정 초반 부터 사라짐 그러 저작 일찍 내려...</td>\n",
       "      <td>17</td>\n",
       "    </tr>\n",
       "    <tr>\n",
       "      <th>8</th>\n",
       "      <td>https://yonsei.everytime.kr/lecture/view/1600344</td>\n",
       "      <td>현대독일산문</td>\n",
       "      <td>이진영</td>\n",
       "      <td>100.0</td>\n",
       "      <td>20년 1학기 수강자</td>\n",
       "      <td>이번 학기에 들은 강의 중에 가장 좋았던 수업 중 하나. 교수님께서 학생들 많이 배...</td>\n",
       "      <td>after</td>\n",
       "      <td>학기 가장 하나 학생 배려 필요 학생 감상 이나 해석 개입 참고 배경 지식 작가 의...</td>\n",
       "      <td>47</td>\n",
       "    </tr>\n",
       "  </tbody>\n",
       "</table>\n",
       "</div>"
      ],
      "text/plain": [
       "                                         LectureUrl  \\\n",
       "0     https://yonsei.everytime.kr/lecture/view/3640   \n",
       "1     https://yonsei.everytime.kr/lecture/view/3640   \n",
       "4   https://yonsei.everytime.kr/lecture/view/943471   \n",
       "5   https://yonsei.everytime.kr/lecture/view/943471   \n",
       "8  https://yonsei.everytime.kr/lecture/view/1600344   \n",
       "\n",
       "                               LectureName LectureProf  ReviewStar  \\\n",
       "0  INTERNATIONAL MONEY AND CAPITAL MARKETS         함준호       100.0   \n",
       "1  INTERNATIONAL MONEY AND CAPITAL MARKETS         함준호        80.0   \n",
       "4                            학교교실의현장연구방법입문         박순용        80.0   \n",
       "5                            학교교실의현장연구방법입문         박순용        20.0   \n",
       "8                                   현대독일산문         이진영       100.0   \n",
       "\n",
       "  ReviewSemester                                         ReviewText COVID-19  \\\n",
       "0    20년 1학기 수강자                 시험 잘 멋본 것 같은데 에이제로 떠서 놀람 감사합니다 교수님    after   \n",
       "1    20년 1학기 수강자  에 뭐,,, 그냥 괜찮았는데 자습기간을 안 주고 전범위 시험본다그러니까 당황스러웠네...    after   \n",
       "4    20년 1학기 수강자  매주 온라인 강의를 늦게 올려주셔서 불편했지만 수업 내용은 무난하고 좋았습니다. 매...    after   \n",
       "5    20년 1학기 수강자  조교가 일을 안하는건지 교수가 일을 안하는건지 강의가 맨날 늦게 올라옴 제 시간에 ...    after   \n",
       "8    20년 1학기 수강자  이번 학기에 들은 강의 중에 가장 좋았던 수업 중 하나. 교수님께서 학생들 많이 배...    after   \n",
       "\n",
       "                                    TextPreprocessed  TokenCnt  \n",
       "0                                     시험 이제 떠서 놀람 감사         5  \n",
       "1  그냥 괜찮 자습 기간 범위 시험 본다 그러니까 당황 똑똑 나쁘 다만 시간 연속 힘들...        20  \n",
       "4  매주 온라인 올려 불편 무난 매주 출석 과제 기말 연구 보고서 기말 온라인 시험 이...        37  \n",
       "5  조교 건지 건지 맨날 올라옴 시간 니까 열정 초반 부터 사라짐 그러 저작 일찍 내려...        17  \n",
       "8  학기 가장 하나 학생 배려 필요 학생 감상 이나 해석 개입 참고 배경 지식 작가 의...        47  "
      ]
     },
     "execution_count": 19,
     "metadata": {},
     "output_type": "execute_result"
    }
   ],
   "source": [
    "after_data.head()"
   ]
  },
  {
   "cell_type": "markdown",
   "metadata": {},
   "source": [
    "### EDA"
   ]
  },
  {
   "cell_type": "code",
   "execution_count": 20,
   "metadata": {},
   "outputs": [
    {
     "name": "stdout",
     "output_type": "stream",
     "text": [
      "COVID-19 이전 전체 강의평 개수: 49127개\n",
      "COVID-19 이후 전체 강의평 개수: 29423개\n",
      "COVID-19 이전 전체 토큰 개수: 26341개\n",
      "COVID-19 이후 전체 토큰 개수: 19985개\n"
     ]
    }
   ],
   "source": [
    "# Number of Texts & tokens\n",
    "\n",
    "before_counter = Counter(sum(before_text_tokenized, []))\n",
    "after_counter = Counter(sum(after_text_tokenized, []))\n",
    "\n",
    "print('COVID-19 이전 전체 강의평 개수: {}개'.format(len(before_text)))\n",
    "print('COVID-19 이후 전체 강의평 개수: {}개'.format(len(after_text)))\n",
    "\n",
    "print('COVID-19 이전 전체 토큰 개수: {}개'.format(len(before_counter)))\n",
    "print('COVID-19 이후 전체 토큰 개수: {}개'.format(len(after_counter)))"
   ]
  },
  {
   "cell_type": "code",
   "execution_count": 21,
   "metadata": {},
   "outputs": [
    {
     "data": {
      "image/png": "[encoded data removed]",
      "text/plain": [
       "<Figure size 1152x288 with 2 Axes>"
      ]
     },
     "metadata": {
      "needs_background": "light"
     },
     "output_type": "display_data"
    }
   ],
   "source": [
    "# Length of Texts\n",
    "\n",
    "fig, ax = plt.subplots(1, 2, figsize=(16, 4))\n",
    "\n",
    "plt.subplot(121)\n",
    "plt.hist(before_data['TokenCnt'], bins=100)\n",
    "plt.xticks(range(0, 1201, 100))\n",
    "plt.yticks(range(0, 15001, 1000))\n",
    "plt.title('Length of ReviewText before COVID-19')\n",
    "\n",
    "plt.subplot(122)\n",
    "plt.hist(after_data['TokenCnt'], bins=100)\n",
    "plt.xticks(range(0, 1201, 100))\n",
    "plt.yticks(range(0, 15001, 1000))\n",
    "plt.title('Length of ReviewText after COVID-19')\n",
    "\n",
    "plt.show()"
   ]
  },
  {
   "cell_type": "code",
   "execution_count": 22,
   "metadata": {},
   "outputs": [
    {
     "data": {
      "image/png": "[encoded data removed]",
      "text/plain": [
       "<Figure size 1152x288 with 2 Axes>"
      ]
     },
     "metadata": {
      "needs_background": "light"
     },
     "output_type": "display_data"
    }
   ],
   "source": [
    "# Length of Texts (zoom-in)\n",
    "\n",
    "fig, ax = plt.subplots(1, 2, figsize=(16, 4))\n",
    "\n",
    "plt.subplot(121)\n",
    "plt.hist(before_data['TokenCnt'][before_data['TokenCnt']<200], bins=50)\n",
    "plt.xticks(range(0, 201, 25))\n",
    "plt.yticks(range(0, 7001, 1000))\n",
    "plt.title('Length of ReviewText before COVID-19')\n",
    "\n",
    "plt.subplot(122)\n",
    "plt.hist(after_data['TokenCnt'][after_data['TokenCnt']<200], bins=50)\n",
    "plt.xticks(range(0, 201, 25))\n",
    "plt.yticks(range(0, 7001, 1000))\n",
    "plt.title('Length of ReviewText after COVID-19')\n",
    "\n",
    "plt.show()"
   ]
  },
  {
   "cell_type": "markdown",
   "metadata": {},
   "source": [
    "### Topic Modeling (LDA)"
   ]
  },
  {
   "cell_type": "code",
   "execution_count": 23,
   "metadata": {},
   "outputs": [
    {
     "name": "stdout",
     "output_type": "stream",
     "text": [
      "========== Topic List before COVID-19 ==========\n",
      "(0, '0.046*\"그냥\" + 0.034*\"사람\" + 0.032*\"ㅋㅋ\" + 0.026*\"ㅋㅋㅋ\" + 0.024*\"근데\"')\n",
      "(1, '0.055*\"학점\" + 0.050*\"과목\" + 0.037*\"생각\" + 0.031*\"보다\" + 0.029*\"공부\"')\n",
      "(2, '0.044*\"중간\" + 0.041*\"기말\" + 0.017*\"중간고사\" + 0.016*\"채플\" + 0.016*\"학기\"')\n",
      "(3, '0.037*\"교양\" + 0.037*\"편하\" + 0.026*\"학기\" + 0.026*\"학점\" + 0.017*\"대형\"')\n",
      "(4, '0.082*\"질문\" + 0.080*\"설명\" + 0.071*\"친절\" + 0.043*\"이해\" + 0.037*\"진도\"')\n",
      "(5, '0.050*\"흥미\" + 0.046*\"조교\" + 0.022*\"관심\" + 0.019*\"경제\" + 0.018*\"정보\"')\n",
      "(6, '0.029*\"생각\" + 0.012*\"학생\" + 0.011*\"말씀\" + 0.011*\"부분\" + 0.011*\"아니\"')\n",
      "(7, '0.054*\"문제\" + 0.050*\"시험\" + 0.024*\"공부\" + 0.018*\"이해\" + 0.015*\"시간\"')\n",
      "(8, '0.117*\"수강\" + 0.070*\"학기\" + 0.069*\"최고\" + 0.056*\"신청\" + 0.035*\"깔끔\"')\n",
      "(9, '0.106*\"학생\" + 0.023*\"노력\" + 0.016*\"배우\" + 0.012*\"모든\" + 0.012*\"모습\"')\n",
      "(10, '0.117*\"과제\" + 0.045*\"시험\" + 0.041*\"모임\" + 0.022*\"부담\" + 0.021*\"기말\"')\n",
      "(11, '0.061*\"모르\" + 0.035*\"기준\" + 0.034*\"성적\" + 0.031*\"평가\" + 0.028*\"리딩\"')\n",
      "(12, '0.131*\"시간\" + 0.055*\"출석\" + 0.032*\"그냥\" + 0.029*\"개꿀\" + 0.019*\"결석\"')\n",
      "(13, '0.209*\"퀴즈\" + 0.052*\"비율\" + 0.038*\"채워\" + 0.034*\"학점\" + 0.030*\"매주\"')\n",
      "(14, '0.026*\"학교\" + 0.022*\"이런\" + 0.015*\"최악\" + 0.014*\"배우\" + 0.013*\"다니\"')\n",
      "(15, '0.083*\"시험\" + 0.036*\"문제\" + 0.034*\"공부\" + 0.026*\"족보\" + 0.021*\"피피티\"')\n",
      "(16, '0.112*\"기독교\" + 0.081*\"수학\" + 0.054*\"단점\" + 0.052*\"숙제\" + 0.049*\"장점\"')\n",
      "(17, '0.097*\"영어\" + 0.026*\"마세요\" + 0.021*\"학점\" + 0.020*\"힘들\" + 0.020*\"문과\"')\n",
      "(18, '0.046*\"ㅎㅎ\" + 0.043*\"재밌\" + 0.029*\"ㅠㅠ\" + 0.027*\"학생\" + 0.024*\"감사\"')\n",
      "(19, '0.069*\"발표\" + 0.029*\"시간\" + 0.024*\"보고서\" + 0.022*\"토론\" + 0.022*\"주제\"')\n",
      "\n",
      "========== Topic List after COVID-19 ==========\n",
      "(0, '0.020*\"모르\" + 0.020*\"학생\" + 0.020*\"그냥\" + 0.019*\"시간\" + 0.017*\"사람\"')\n",
      "(1, '0.051*\"친절\" + 0.042*\"영어\" + 0.040*\"엄청\" + 0.029*\"질문\" + 0.024*\"리딩\"')\n",
      "(2, '0.062*\"기독교\" + 0.027*\"역사\" + 0.026*\"철학\" + 0.019*\"영화\" + 0.013*\"문학\"')\n",
      "(3, '0.046*\"그냥\" + 0.037*\"채플\" + 0.029*\"ㅎㅎ\" + 0.026*\"학기\" + 0.021*\"완전\"')\n",
      "(4, '0.088*\"학생\" + 0.031*\"생각\" + 0.018*\"학기\" + 0.017*\"배려\" + 0.014*\"노력\"')\n",
      "(5, '0.202*\"학점\" + 0.044*\"과제\" + 0.042*\"배우\" + 0.038*\"추천\" + 0.025*\"주심\"')\n",
      "(6, '0.029*\"생각\" + 0.015*\"보다\" + 0.015*\"주제\" + 0.014*\"분석\" + 0.012*\"가지\"')\n",
      "(7, '0.049*\"영상\" + 0.039*\"출석\" + 0.038*\"과제\" + 0.032*\"동영상\" + 0.025*\"시간\"')\n",
      "(8, '0.037*\"학기\" + 0.019*\"모르\" + 0.019*\"학점\" + 0.017*\"수강\" + 0.016*\"다른\"')\n",
      "(9, '0.020*\"프로젝트\" + 0.018*\"생각\" + 0.014*\"사람\" + 0.011*\"코딩\" + 0.011*\"한다\"')\n",
      "(10, '0.059*\"시험\" + 0.034*\"방식\" + 0.030*\"학기\" + 0.025*\"진행\" + 0.024*\"성적\"')\n",
      "(11, '0.073*\"과제\" + 0.037*\"발표\" + 0.023*\"보고서\" + 0.022*\"조별\" + 0.021*\"부담\"')\n",
      "(12, '0.047*\"시험\" + 0.032*\"공부\" + 0.030*\"학점\" + 0.027*\"열심히\" + 0.026*\"생각\"')\n",
      "(13, '0.075*\"그저\" + 0.036*\"실험\" + 0.029*\"학교\" + 0.025*\"행복\" + 0.022*\"공학\"')\n",
      "(14, '0.046*\"기말\" + 0.046*\"과제\" + 0.042*\"중간\" + 0.037*\"점수\" + 0.024*\"기준\"')\n",
      "(15, '0.084*\"문제\" + 0.066*\"시험\" + 0.041*\"퀴즈\" + 0.034*\"시간\" + 0.026*\"과제\"')\n",
      "(16, '0.111*\"과목\" + 0.057*\"로드\" + 0.040*\"전공\" + 0.034*\"다른\" + 0.031*\"학기\"')\n",
      "(17, '0.057*\"설명\" + 0.047*\"질문\" + 0.041*\"이해\" + 0.021*\"조교\" + 0.020*\"답변\"')\n",
      "(18, '0.110*\"ㅋㅋ\" + 0.084*\"ㅋㅋㅋ\" + 0.014*\"친구\" + 0.014*\"당신\" + 0.013*\"러닝\"')\n",
      "(19, '0.126*\"최고\" + 0.050*\"감사\" + 0.044*\"사랑\" + 0.021*\"학기\" + 0.019*\"유일\"')\n"
     ]
    }
   ],
   "source": [
    "print('========== Topic List before COVID-19 ==========')\n",
    "before_corpus, before_lda = ModelingLDA(before_text_tokenized)\n",
    "print()\n",
    "print('========== Topic List after COVID-19 ==========')\n",
    "after_corpus, after_lda = ModelingLDA(after_text_tokenized)"
   ]
  },
  {
   "cell_type": "code",
   "execution_count": 24,
   "metadata": {},
   "outputs": [],
   "source": [
    "before_topic_table = MakeTopicTable(before_corpus, before_lda)\n",
    "after_topic_table = MakeTopicTable(after_corpus, after_lda)"
   ]
  },
  {
   "cell_type": "code",
   "execution_count": 25,
   "metadata": {},
   "outputs": [],
   "source": [
    "before_df = pd.concat([before_data.reset_index(drop=True), before_topic_table.reset_index(drop=True)], axis=1)\n",
    "after_df = pd.concat([after_data.reset_index(drop=True), after_topic_table.reset_index(drop=True)], axis=1)"
   ]
  },
  {
   "cell_type": "code",
   "execution_count": 26,
   "metadata": {},
   "outputs": [
    {
     "data": {
      "text/html": [
       "<div>\n",
       "<style scoped>\n",
       "    .dataframe tbody tr th:only-of-type {\n",
       "        vertical-align: middle;\n",
       "    }\n",
       "\n",
       "    .dataframe tbody tr th {\n",
       "        vertical-align: top;\n",
       "    }\n",
       "\n",
       "    .dataframe thead th {\n",
       "        text-align: right;\n",
       "    }\n",
       "</style>\n",
       "<table border=\"1\" class=\"dataframe\">\n",
       "  <thead>\n",
       "    <tr style=\"text-align: right;\">\n",
       "      <th></th>\n",
       "      <th>LectureUrl</th>\n",
       "      <th>LectureName</th>\n",
       "      <th>LectureProf</th>\n",
       "      <th>ReviewStar</th>\n",
       "      <th>ReviewSemester</th>\n",
       "      <th>ReviewText</th>\n",
       "      <th>COVID-19</th>\n",
       "      <th>TextPreprocessed</th>\n",
       "      <th>TokenCnt</th>\n",
       "      <th>TopicIndex</th>\n",
       "      <th>TopicProportion</th>\n",
       "      <th>TopicList</th>\n",
       "    </tr>\n",
       "  </thead>\n",
       "  <tbody>\n",
       "    <tr>\n",
       "      <th>0</th>\n",
       "      <td>https://yonsei.everytime.kr/lecture/view/3640</td>\n",
       "      <td>INTERNATIONAL MONEY AND CAPITAL MARKETS</td>\n",
       "      <td>함준호</td>\n",
       "      <td>80.0</td>\n",
       "      <td>19년 1학기 수강자</td>\n",
       "      <td>한국은행 금융통화위원을 지내고 오신 교수님이시라 그런지 간간히 들려주시는 교수님의 ...</td>\n",
       "      <td>before</td>\n",
       "      <td>한국은행 금융 통화 위원 지내 그런지 간간히 들려 현장 쏠쏠 재미 중간고사 기말고사...</td>\n",
       "      <td>37</td>\n",
       "      <td>15</td>\n",
       "      <td>0.27768</td>\n",
       "      <td>[(3, 0.0806024), (5, 0.092119865), (7, 0.22665...</td>\n",
       "    </tr>\n",
       "    <tr>\n",
       "      <th>1</th>\n",
       "      <td>https://yonsei.everytime.kr/lecture/view/3640</td>\n",
       "      <td>INTERNATIONAL MONEY AND CAPITAL MARKETS</td>\n",
       "      <td>함준호</td>\n",
       "      <td>100.0</td>\n",
       "      <td>19년 1학기 수강자</td>\n",
       "      <td>교수님 너무 똑똑하시고 피피티 위주로 수업하시기는 하는데 현장경험이 풍부하셔서 그런...</td>\n",
       "      <td>before</td>\n",
       "      <td>똑똑 피피티 위주 현장 경험 풍부 그런지 설명</td>\n",
       "      <td>8</td>\n",
       "      <td>3</td>\n",
       "      <td>0.37987</td>\n",
       "      <td>[(3, 0.3798665), (4, 0.16048484), (14, 0.14297...</td>\n",
       "    </tr>\n",
       "    <tr>\n",
       "      <th>2</th>\n",
       "      <td>https://yonsei.everytime.kr/lecture/view/943471</td>\n",
       "      <td>학교교실의현장연구방법입문</td>\n",
       "      <td>박순용</td>\n",
       "      <td>20.0</td>\n",
       "      <td>18년 2학기 수강자</td>\n",
       "      <td>교수님의 수업은 이해하기 쉬웠고 질적연구와 현장연구에 대해 잘 설명해주셔서 수업은 ...</td>\n",
       "      <td>before</td>\n",
       "      <td>이해 쉬웠 연구 현장 연구 설명 중간고사 비중 성적 산출 아쉬운 부분</td>\n",
       "      <td>12</td>\n",
       "      <td>7</td>\n",
       "      <td>0.54397</td>\n",
       "      <td>[(5, 0.08071951), (6, 0.19322819), (7, 0.54396...</td>\n",
       "    </tr>\n",
       "    <tr>\n",
       "      <th>3</th>\n",
       "      <td>https://yonsei.everytime.kr/lecture/view/943471</td>\n",
       "      <td>학교교실의현장연구방법입문</td>\n",
       "      <td>박순용</td>\n",
       "      <td>100.0</td>\n",
       "      <td>18년 2학기 수강자</td>\n",
       "      <td>개인적이지만 수업 괜찮았고 설명 잘해주심. 성적은 그냥 시험으로 갈리는듯? 조모임 ...</td>\n",
       "      <td>before</td>\n",
       "      <td>개인 괜찮 설명 주심 성적 그냥 시험 갈리 모임 빡세 엄청 자주 만나 조원 만나 헤...</td>\n",
       "      <td>49</td>\n",
       "      <td>10</td>\n",
       "      <td>0.37171</td>\n",
       "      <td>[(4, 0.02917245), (10, 0.37171075), (12, 0.263...</td>\n",
       "    </tr>\n",
       "    <tr>\n",
       "      <th>4</th>\n",
       "      <td>https://yonsei.everytime.kr/lecture/view/2073400</td>\n",
       "      <td>국제이해교육</td>\n",
       "      <td>이무성</td>\n",
       "      <td>40.0</td>\n",
       "      <td>19년 2학기 수강자</td>\n",
       "      <td>교수님 좋고 학구적이고 내용도 좋은데 마이너스 폭격기임^^</td>\n",
       "      <td>before</td>\n",
       "      <td>학구 은데 마이너스 폭격기</td>\n",
       "      <td>4</td>\n",
       "      <td>13</td>\n",
       "      <td>0.80999</td>\n",
       "      <td>[(0, 0.010000682), (1, 0.010000682), (2, 0.010...</td>\n",
       "    </tr>\n",
       "  </tbody>\n",
       "</table>\n",
       "</div>"
      ],
      "text/plain": [
       "                                         LectureUrl  \\\n",
       "0     https://yonsei.everytime.kr/lecture/view/3640   \n",
       "1     https://yonsei.everytime.kr/lecture/view/3640   \n",
       "2   https://yonsei.everytime.kr/lecture/view/943471   \n",
       "3   https://yonsei.everytime.kr/lecture/view/943471   \n",
       "4  https://yonsei.everytime.kr/lecture/view/2073400   \n",
       "\n",
       "                               LectureName LectureProf  ReviewStar  \\\n",
       "0  INTERNATIONAL MONEY AND CAPITAL MARKETS         함준호        80.0   \n",
       "1  INTERNATIONAL MONEY AND CAPITAL MARKETS         함준호       100.0   \n",
       "2                            학교교실의현장연구방법입문         박순용        20.0   \n",
       "3                            학교교실의현장연구방법입문         박순용       100.0   \n",
       "4                                   국제이해교육         이무성        40.0   \n",
       "\n",
       "  ReviewSemester                                         ReviewText COVID-19  \\\n",
       "0    19년 1학기 수강자  한국은행 금융통화위원을 지내고 오신 교수님이시라 그런지 간간히 들려주시는 교수님의 ...   before   \n",
       "1    19년 1학기 수강자  교수님 너무 똑똑하시고 피피티 위주로 수업하시기는 하는데 현장경험이 풍부하셔서 그런...   before   \n",
       "2    18년 2학기 수강자  교수님의 수업은 이해하기 쉬웠고 질적연구와 현장연구에 대해 잘 설명해주셔서 수업은 ...   before   \n",
       "3    18년 2학기 수강자  개인적이지만 수업 괜찮았고 설명 잘해주심. 성적은 그냥 시험으로 갈리는듯? 조모임 ...   before   \n",
       "4    19년 2학기 수강자                   교수님 좋고 학구적이고 내용도 좋은데 마이너스 폭격기임^^   before   \n",
       "\n",
       "                                    TextPreprocessed  TokenCnt  TopicIndex  \\\n",
       "0  한국은행 금융 통화 위원 지내 그런지 간간히 들려 현장 쏠쏠 재미 중간고사 기말고사...        37          15   \n",
       "1                          똑똑 피피티 위주 현장 경험 풍부 그런지 설명         8           3   \n",
       "2             이해 쉬웠 연구 현장 연구 설명 중간고사 비중 성적 산출 아쉬운 부분        12           7   \n",
       "3  개인 괜찮 설명 주심 성적 그냥 시험 갈리 모임 빡세 엄청 자주 만나 조원 만나 헤...        49          10   \n",
       "4                                     학구 은데 마이너스 폭격기         4          13   \n",
       "\n",
       "   TopicProportion                                          TopicList  \n",
       "0          0.27768  [(3, 0.0806024), (5, 0.092119865), (7, 0.22665...  \n",
       "1          0.37987  [(3, 0.3798665), (4, 0.16048484), (14, 0.14297...  \n",
       "2          0.54397  [(5, 0.08071951), (6, 0.19322819), (7, 0.54396...  \n",
       "3          0.37171  [(4, 0.02917245), (10, 0.37171075), (12, 0.263...  \n",
       "4          0.80999  [(0, 0.010000682), (1, 0.010000682), (2, 0.010...  "
      ]
     },
     "execution_count": 26,
     "metadata": {},
     "output_type": "execute_result"
    }
   ],
   "source": [
    "before_df.head()"
   ]
  },
  {
   "cell_type": "code",
   "execution_count": 27,
   "metadata": {},
   "outputs": [
    {
     "data": {
      "text/html": [
       "<div>\n",
       "<style scoped>\n",
       "    .dataframe tbody tr th:only-of-type {\n",
       "        vertical-align: middle;\n",
       "    }\n",
       "\n",
       "    .dataframe tbody tr th {\n",
       "        vertical-align: top;\n",
       "    }\n",
       "\n",
       "    .dataframe thead th {\n",
       "        text-align: right;\n",
       "    }\n",
       "</style>\n",
       "<table border=\"1\" class=\"dataframe\">\n",
       "  <thead>\n",
       "    <tr style=\"text-align: right;\">\n",
       "      <th></th>\n",
       "      <th>LectureUrl</th>\n",
       "      <th>LectureName</th>\n",
       "      <th>LectureProf</th>\n",
       "      <th>ReviewStar</th>\n",
       "      <th>ReviewSemester</th>\n",
       "      <th>ReviewText</th>\n",
       "      <th>COVID-19</th>\n",
       "      <th>TextPreprocessed</th>\n",
       "      <th>TokenCnt</th>\n",
       "      <th>TopicIndex</th>\n",
       "      <th>TopicProportion</th>\n",
       "      <th>TopicList</th>\n",
       "    </tr>\n",
       "  </thead>\n",
       "  <tbody>\n",
       "    <tr>\n",
       "      <th>0</th>\n",
       "      <td>https://yonsei.everytime.kr/lecture/view/3640</td>\n",
       "      <td>INTERNATIONAL MONEY AND CAPITAL MARKETS</td>\n",
       "      <td>함준호</td>\n",
       "      <td>100.0</td>\n",
       "      <td>20년 1학기 수강자</td>\n",
       "      <td>시험 잘 멋본 것 같은데 에이제로 떠서 놀람 감사합니다 교수님</td>\n",
       "      <td>after</td>\n",
       "      <td>시험 이제 떠서 놀람 감사</td>\n",
       "      <td>5</td>\n",
       "      <td>15</td>\n",
       "      <td>0.47700</td>\n",
       "      <td>[(12, 0.20617522), (15, 0.47699606), (19, 0.17...</td>\n",
       "    </tr>\n",
       "    <tr>\n",
       "      <th>1</th>\n",
       "      <td>https://yonsei.everytime.kr/lecture/view/3640</td>\n",
       "      <td>INTERNATIONAL MONEY AND CAPITAL MARKETS</td>\n",
       "      <td>함준호</td>\n",
       "      <td>80.0</td>\n",
       "      <td>20년 1학기 수강자</td>\n",
       "      <td>에 뭐,,, 그냥 괜찮았는데 자습기간을 안 주고 전범위 시험본다그러니까 당황스러웠네...</td>\n",
       "      <td>after</td>\n",
       "      <td>그냥 괜찮 자습 기간 범위 시험 본다 그러니까 당황 똑똑 나쁘 다만 시간 연속 힘들...</td>\n",
       "      <td>20</td>\n",
       "      <td>12</td>\n",
       "      <td>0.32159</td>\n",
       "      <td>[(0, 0.23246804), (10, 0.07475332), (11, 0.255...</td>\n",
       "    </tr>\n",
       "    <tr>\n",
       "      <th>2</th>\n",
       "      <td>https://yonsei.everytime.kr/lecture/view/943471</td>\n",
       "      <td>학교교실의현장연구방법입문</td>\n",
       "      <td>박순용</td>\n",
       "      <td>80.0</td>\n",
       "      <td>20년 1학기 수강자</td>\n",
       "      <td>매주 온라인 강의를 늦게 올려주셔서 불편했지만 수업 내용은 무난하고 좋았습니다. 매...</td>\n",
       "      <td>after</td>\n",
       "      <td>매주 온라인 올려 불편 무난 매주 출석 과제 기말 연구 보고서 기말 온라인 시험 이...</td>\n",
       "      <td>37</td>\n",
       "      <td>11</td>\n",
       "      <td>0.26126</td>\n",
       "      <td>[(4, 0.15703532), (6, 0.08025234), (7, 0.23112...</td>\n",
       "    </tr>\n",
       "    <tr>\n",
       "      <th>3</th>\n",
       "      <td>https://yonsei.everytime.kr/lecture/view/943471</td>\n",
       "      <td>학교교실의현장연구방법입문</td>\n",
       "      <td>박순용</td>\n",
       "      <td>20.0</td>\n",
       "      <td>20년 1학기 수강자</td>\n",
       "      <td>조교가 일을 안하는건지 교수가 일을 안하는건지 강의가 맨날 늦게 올라옴 제 시간에 ...</td>\n",
       "      <td>after</td>\n",
       "      <td>조교 건지 건지 맨날 올라옴 시간 니까 열정 초반 부터 사라짐 그러 저작 일찍 내려...</td>\n",
       "      <td>17</td>\n",
       "      <td>0</td>\n",
       "      <td>0.50781</td>\n",
       "      <td>[(0, 0.50781286), (3, 0.2515995), (15, 0.08205...</td>\n",
       "    </tr>\n",
       "    <tr>\n",
       "      <th>4</th>\n",
       "      <td>https://yonsei.everytime.kr/lecture/view/1600344</td>\n",
       "      <td>현대독일산문</td>\n",
       "      <td>이진영</td>\n",
       "      <td>100.0</td>\n",
       "      <td>20년 1학기 수강자</td>\n",
       "      <td>이번 학기에 들은 강의 중에 가장 좋았던 수업 중 하나. 교수님께서 학생들 많이 배...</td>\n",
       "      <td>after</td>\n",
       "      <td>학기 가장 하나 학생 배려 필요 학생 감상 이나 해석 개입 참고 배경 지식 작가 의...</td>\n",
       "      <td>47</td>\n",
       "      <td>6</td>\n",
       "      <td>0.50103</td>\n",
       "      <td>[(4, 0.20116085), (5, 0.022075845), (6, 0.5010...</td>\n",
       "    </tr>\n",
       "  </tbody>\n",
       "</table>\n",
       "</div>"
      ],
      "text/plain": [
       "                                         LectureUrl  \\\n",
       "0     https://yonsei.everytime.kr/lecture/view/3640   \n",
       "1     https://yonsei.everytime.kr/lecture/view/3640   \n",
       "2   https://yonsei.everytime.kr/lecture/view/943471   \n",
       "3   https://yonsei.everytime.kr/lecture/view/943471   \n",
       "4  https://yonsei.everytime.kr/lecture/view/1600344   \n",
       "\n",
       "                               LectureName LectureProf  ReviewStar  \\\n",
       "0  INTERNATIONAL MONEY AND CAPITAL MARKETS         함준호       100.0   \n",
       "1  INTERNATIONAL MONEY AND CAPITAL MARKETS         함준호        80.0   \n",
       "2                            학교교실의현장연구방법입문         박순용        80.0   \n",
       "3                            학교교실의현장연구방법입문         박순용        20.0   \n",
       "4                                   현대독일산문         이진영       100.0   \n",
       "\n",
       "  ReviewSemester                                         ReviewText COVID-19  \\\n",
       "0    20년 1학기 수강자                 시험 잘 멋본 것 같은데 에이제로 떠서 놀람 감사합니다 교수님    after   \n",
       "1    20년 1학기 수강자  에 뭐,,, 그냥 괜찮았는데 자습기간을 안 주고 전범위 시험본다그러니까 당황스러웠네...    after   \n",
       "2    20년 1학기 수강자  매주 온라인 강의를 늦게 올려주셔서 불편했지만 수업 내용은 무난하고 좋았습니다. 매...    after   \n",
       "3    20년 1학기 수강자  조교가 일을 안하는건지 교수가 일을 안하는건지 강의가 맨날 늦게 올라옴 제 시간에 ...    after   \n",
       "4    20년 1학기 수강자  이번 학기에 들은 강의 중에 가장 좋았던 수업 중 하나. 교수님께서 학생들 많이 배...    after   \n",
       "\n",
       "                                    TextPreprocessed  TokenCnt  TopicIndex  \\\n",
       "0                                     시험 이제 떠서 놀람 감사         5          15   \n",
       "1  그냥 괜찮 자습 기간 범위 시험 본다 그러니까 당황 똑똑 나쁘 다만 시간 연속 힘들...        20          12   \n",
       "2  매주 온라인 올려 불편 무난 매주 출석 과제 기말 연구 보고서 기말 온라인 시험 이...        37          11   \n",
       "3  조교 건지 건지 맨날 올라옴 시간 니까 열정 초반 부터 사라짐 그러 저작 일찍 내려...        17           0   \n",
       "4  학기 가장 하나 학생 배려 필요 학생 감상 이나 해석 개입 참고 배경 지식 작가 의...        47           6   \n",
       "\n",
       "   TopicProportion                                          TopicList  \n",
       "0          0.47700  [(12, 0.20617522), (15, 0.47699606), (19, 0.17...  \n",
       "1          0.32159  [(0, 0.23246804), (10, 0.07475332), (11, 0.255...  \n",
       "2          0.26126  [(4, 0.15703532), (6, 0.08025234), (7, 0.23112...  \n",
       "3          0.50781  [(0, 0.50781286), (3, 0.2515995), (15, 0.08205...  \n",
       "4          0.50103  [(4, 0.20116085), (5, 0.022075845), (6, 0.5010...  "
      ]
     },
     "execution_count": 27,
     "metadata": {},
     "output_type": "execute_result"
    }
   ],
   "source": [
    "after_df.head()"
   ]
  },
  {
   "cell_type": "code",
   "execution_count": 28,
   "metadata": {},
   "outputs": [],
   "source": [
    "before_df.to_csv('Task2_data_before_COVID19_with_topic.csv')\n",
    "after_df.to_csv('Task2_data_after_COVID19_with_topic.csv')"
   ]
  },
  {
   "cell_type": "code",
   "execution_count": 29,
   "metadata": {},
   "outputs": [
    {
     "data": {
      "image/png": "[encoded data removed]",
      "text/plain": [
       "<Figure size 1152x576 with 2 Axes>"
      ]
     },
     "metadata": {
      "needs_background": "light"
     },
     "output_type": "display_data"
    }
   ],
   "source": [
    "# Topic Distribution & ReviewStar Distribution before COVID-19\n",
    "\n",
    "fig, ax = plt.subplots(2, 1, figsize=(16, 8))\n",
    "\n",
    "plt.subplot(211)\n",
    "sns.boxplot(x='TopicIndex', y='ReviewStar', data=before_df, palette='Paired')\n",
    "plt.xlabel('')\n",
    "plt.title('ReviewStar Distribution before COVID-19')\n",
    "\n",
    "plt.subplot(212)\n",
    "sns.countplot(x=before_topic_table['TopicIndex'])\n",
    "plt.title('Topic Distribution before COVID-19')\n",
    "\n",
    "plt.show()"
   ]
  },
  {
   "cell_type": "code",
   "execution_count": 30,
   "metadata": {},
   "outputs": [
    {
     "data": {
      "image/png": "[encoded data removed]",
      "text/plain": [
       "<Figure size 1152x576 with 2 Axes>"
      ]
     },
     "metadata": {
      "needs_background": "light"
     },
     "output_type": "display_data"
    }
   ],
   "source": [
    "# Topic Distribution & ReviewStar Distribution after COVID-19\n",
    "\n",
    "fig, ax = plt.subplots(2, 1, figsize=(16, 8))\n",
    "\n",
    "plt.subplot(211)\n",
    "sns.boxplot(x='TopicIndex', y='ReviewStar', data=after_df, palette='Paired')\n",
    "plt.xlabel('')\n",
    "plt.title('ReviewStar Distribution after COVID-19')\n",
    "\n",
    "plt.subplot(212)\n",
    "sns.countplot(x=after_topic_table['TopicIndex'])\n",
    "plt.title('Topic Distribution after COVID-19')\n",
    "\n",
    "plt.show()"
   ]
  }
 ],
 "metadata": {
  "kernelspec": {
   "display_name": "Python 3",
   "language": "python",
   "name": "python3"
  },
  "language_info": {
   "codemirror_mode": {
    "name": "ipython",
    "version": 3
   },
   "file_extension": ".py",
   "mimetype": "text/x-python",
   "name": "python",
   "nbconvert_exporter": "python",
   "pygments_lexer": "ipython3",
   "version": "3.8.5"
  }
 },
 "nbformat": 4,
 "nbformat_minor": 4
}
