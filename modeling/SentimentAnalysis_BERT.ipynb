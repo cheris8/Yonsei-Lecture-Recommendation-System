{
  "nbformat": 4,
  "nbformat_minor": 0,
  "metadata": {
    "colab": {
      "name": "SentimentAnalysis_BERT.ipynb",
      "provenance": [],
      "collapsed_sections": []
    },
    "kernelspec": {
      "name": "python3",
      "display_name": "Python 3"
    },
    "language_info": {
      "name": "python"
    },
    "accelerator": "GPU"
  },
  "cells": [
    {
      "cell_type": "markdown",
      "metadata": {
        "id": "7bmUHJCe8lV_"
      },
      "source": [
        "시작 전 주의!\n",
        "\n",
        "런타임-런타임 유형 변경-GPU로 바꿔주고 시작합니다."
      ]
    },
    {
      "cell_type": "code",
      "metadata": {
        "colab": {
          "base_uri": "https://localhost:8080/"
        },
        "id": "mUzDwo4ocyzj",
        "outputId": "fe26f65d-7195-4ba7-a9db-3dcc86faafea"
      },
      "source": [
        "!pip install transformers"
      ],
      "execution_count": 1,
      "outputs": [
        {
          "output_type": "stream",
          "text": [
            "Collecting transformers\n",
            "\u001b[?25l  Downloading https://files.pythonhosted.org/packages/b0/9e/5b80becd952d5f7250eaf8fc64b957077b12ccfe73e9c03d37146ab29712/transformers-4.6.0-py3-none-any.whl (2.3MB)\n",
            "\r\u001b[K     |▏                               | 10kB 21.3MB/s eta 0:00:01\r\u001b[K     |▎                               | 20kB 26.9MB/s eta 0:00:01\r\u001b[K     |▍                               | 30kB 32.0MB/s eta 0:00:01\r\u001b[K     |▋                               | 40kB 28.4MB/s eta 0:00:01\r\u001b[K     |▊                               | 51kB 28.8MB/s eta 0:00:01\r\u001b[K     |▉                               | 61kB 31.1MB/s eta 0:00:01\r\u001b[K     |█                               | 71kB 26.3MB/s eta 0:00:01\r\u001b[K     |█▏                              | 81kB 26.6MB/s eta 0:00:01\r\u001b[K     |█▎                              | 92kB 23.7MB/s eta 0:00:01\r\u001b[K     |█▍                              | 102kB 25.0MB/s eta 0:00:01\r\u001b[K     |█▌                              | 112kB 25.0MB/s eta 0:00:01\r\u001b[K     |█▊                              | 122kB 25.0MB/s eta 0:00:01\r\u001b[K     |█▉                              | 133kB 25.0MB/s eta 0:00:01\r\u001b[K     |██                              | 143kB 25.0MB/s eta 0:00:01\r\u001b[K     |██                              | 153kB 25.0MB/s eta 0:00:01\r\u001b[K     |██▎                             | 163kB 25.0MB/s eta 0:00:01\r\u001b[K     |██▍                             | 174kB 25.0MB/s eta 0:00:01\r\u001b[K     |██▌                             | 184kB 25.0MB/s eta 0:00:01\r\u001b[K     |██▋                             | 194kB 25.0MB/s eta 0:00:01\r\u001b[K     |██▉                             | 204kB 25.0MB/s eta 0:00:01\r\u001b[K     |███                             | 215kB 25.0MB/s eta 0:00:01\r\u001b[K     |███                             | 225kB 25.0MB/s eta 0:00:01\r\u001b[K     |███▎                            | 235kB 25.0MB/s eta 0:00:01\r\u001b[K     |███▍                            | 245kB 25.0MB/s eta 0:00:01\r\u001b[K     |███▌                            | 256kB 25.0MB/s eta 0:00:01\r\u001b[K     |███▋                            | 266kB 25.0MB/s eta 0:00:01\r\u001b[K     |███▉                            | 276kB 25.0MB/s eta 0:00:01\r\u001b[K     |████                            | 286kB 25.0MB/s eta 0:00:01\r\u001b[K     |████                            | 296kB 25.0MB/s eta 0:00:01\r\u001b[K     |████▏                           | 307kB 25.0MB/s eta 0:00:01\r\u001b[K     |████▍                           | 317kB 25.0MB/s eta 0:00:01\r\u001b[K     |████▌                           | 327kB 25.0MB/s eta 0:00:01\r\u001b[K     |████▋                           | 337kB 25.0MB/s eta 0:00:01\r\u001b[K     |████▊                           | 348kB 25.0MB/s eta 0:00:01\r\u001b[K     |█████                           | 358kB 25.0MB/s eta 0:00:01\r\u001b[K     |█████                           | 368kB 25.0MB/s eta 0:00:01\r\u001b[K     |█████▏                          | 378kB 25.0MB/s eta 0:00:01\r\u001b[K     |█████▎                          | 389kB 25.0MB/s eta 0:00:01\r\u001b[K     |█████▌                          | 399kB 25.0MB/s eta 0:00:01\r\u001b[K     |█████▋                          | 409kB 25.0MB/s eta 0:00:01\r\u001b[K     |█████▊                          | 419kB 25.0MB/s eta 0:00:01\r\u001b[K     |██████                          | 430kB 25.0MB/s eta 0:00:01\r\u001b[K     |██████                          | 440kB 25.0MB/s eta 0:00:01\r\u001b[K     |██████▏                         | 450kB 25.0MB/s eta 0:00:01\r\u001b[K     |██████▎                         | 460kB 25.0MB/s eta 0:00:01\r\u001b[K     |██████▌                         | 471kB 25.0MB/s eta 0:00:01\r\u001b[K     |██████▋                         | 481kB 25.0MB/s eta 0:00:01\r\u001b[K     |██████▊                         | 491kB 25.0MB/s eta 0:00:01\r\u001b[K     |██████▉                         | 501kB 25.0MB/s eta 0:00:01\r\u001b[K     |███████                         | 512kB 25.0MB/s eta 0:00:01\r\u001b[K     |███████▏                        | 522kB 25.0MB/s eta 0:00:01\r\u001b[K     |███████▎                        | 532kB 25.0MB/s eta 0:00:01\r\u001b[K     |███████▍                        | 542kB 25.0MB/s eta 0:00:01\r\u001b[K     |███████▋                        | 552kB 25.0MB/s eta 0:00:01\r\u001b[K     |███████▊                        | 563kB 25.0MB/s eta 0:00:01\r\u001b[K     |███████▉                        | 573kB 25.0MB/s eta 0:00:01\r\u001b[K     |████████                        | 583kB 25.0MB/s eta 0:00:01\r\u001b[K     |████████▏                       | 593kB 25.0MB/s eta 0:00:01\r\u001b[K     |████████▎                       | 604kB 25.0MB/s eta 0:00:01\r\u001b[K     |████████▍                       | 614kB 25.0MB/s eta 0:00:01\r\u001b[K     |████████▋                       | 624kB 25.0MB/s eta 0:00:01\r\u001b[K     |████████▊                       | 634kB 25.0MB/s eta 0:00:01\r\u001b[K     |████████▉                       | 645kB 25.0MB/s eta 0:00:01\r\u001b[K     |█████████                       | 655kB 25.0MB/s eta 0:00:01\r\u001b[K     |█████████▏                      | 665kB 25.0MB/s eta 0:00:01\r\u001b[K     |█████████▎                      | 675kB 25.0MB/s eta 0:00:01\r\u001b[K     |█████████▍                      | 686kB 25.0MB/s eta 0:00:01\r\u001b[K     |█████████▌                      | 696kB 25.0MB/s eta 0:00:01\r\u001b[K     |█████████▊                      | 706kB 25.0MB/s eta 0:00:01\r\u001b[K     |█████████▉                      | 716kB 25.0MB/s eta 0:00:01\r\u001b[K     |██████████                      | 727kB 25.0MB/s eta 0:00:01\r\u001b[K     |██████████                      | 737kB 25.0MB/s eta 0:00:01\r\u001b[K     |██████████▎                     | 747kB 25.0MB/s eta 0:00:01\r\u001b[K     |██████████▍                     | 757kB 25.0MB/s eta 0:00:01\r\u001b[K     |██████████▌                     | 768kB 25.0MB/s eta 0:00:01\r\u001b[K     |██████████▋                     | 778kB 25.0MB/s eta 0:00:01\r\u001b[K     |██████████▉                     | 788kB 25.0MB/s eta 0:00:01\r\u001b[K     |███████████                     | 798kB 25.0MB/s eta 0:00:01\r\u001b[K     |███████████                     | 808kB 25.0MB/s eta 0:00:01\r\u001b[K     |███████████▎                    | 819kB 25.0MB/s eta 0:00:01\r\u001b[K     |███████████▍                    | 829kB 25.0MB/s eta 0:00:01\r\u001b[K     |███████████▌                    | 839kB 25.0MB/s eta 0:00:01\r\u001b[K     |███████████▋                    | 849kB 25.0MB/s eta 0:00:01\r\u001b[K     |███████████▉                    | 860kB 25.0MB/s eta 0:00:01\r\u001b[K     |████████████                    | 870kB 25.0MB/s eta 0:00:01\r\u001b[K     |████████████                    | 880kB 25.0MB/s eta 0:00:01\r\u001b[K     |████████████▏                   | 890kB 25.0MB/s eta 0:00:01\r\u001b[K     |████████████▍                   | 901kB 25.0MB/s eta 0:00:01\r\u001b[K     |████████████▌                   | 911kB 25.0MB/s eta 0:00:01\r\u001b[K     |████████████▋                   | 921kB 25.0MB/s eta 0:00:01\r\u001b[K     |████████████▊                   | 931kB 25.0MB/s eta 0:00:01\r\u001b[K     |█████████████                   | 942kB 25.0MB/s eta 0:00:01\r\u001b[K     |█████████████                   | 952kB 25.0MB/s eta 0:00:01\r\u001b[K     |█████████████▏                  | 962kB 25.0MB/s eta 0:00:01\r\u001b[K     |█████████████▎                  | 972kB 25.0MB/s eta 0:00:01\r\u001b[K     |█████████████▌                  | 983kB 25.0MB/s eta 0:00:01\r\u001b[K     |█████████████▋                  | 993kB 25.0MB/s eta 0:00:01\r\u001b[K     |█████████████▊                  | 1.0MB 25.0MB/s eta 0:00:01\r\u001b[K     |██████████████                  | 1.0MB 25.0MB/s eta 0:00:01\r\u001b[K     |██████████████                  | 1.0MB 25.0MB/s eta 0:00:01\r\u001b[K     |██████████████▏                 | 1.0MB 25.0MB/s eta 0:00:01\r\u001b[K     |██████████████▎                 | 1.0MB 25.0MB/s eta 0:00:01\r\u001b[K     |██████████████▌                 | 1.1MB 25.0MB/s eta 0:00:01\r\u001b[K     |██████████████▋                 | 1.1MB 25.0MB/s eta 0:00:01\r\u001b[K     |██████████████▊                 | 1.1MB 25.0MB/s eta 0:00:01\r\u001b[K     |██████████████▉                 | 1.1MB 25.0MB/s eta 0:00:01\r\u001b[K     |███████████████                 | 1.1MB 25.0MB/s eta 0:00:01\r\u001b[K     |███████████████▏                | 1.1MB 25.0MB/s eta 0:00:01\r\u001b[K     |███████████████▎                | 1.1MB 25.0MB/s eta 0:00:01\r\u001b[K     |███████████████▍                | 1.1MB 25.0MB/s eta 0:00:01\r\u001b[K     |███████████████▋                | 1.1MB 25.0MB/s eta 0:00:01\r\u001b[K     |███████████████▊                | 1.1MB 25.0MB/s eta 0:00:01\r\u001b[K     |███████████████▉                | 1.2MB 25.0MB/s eta 0:00:01\r\u001b[K     |████████████████                | 1.2MB 25.0MB/s eta 0:00:01\r\u001b[K     |████████████████▏               | 1.2MB 25.0MB/s eta 0:00:01\r\u001b[K     |████████████████▎               | 1.2MB 25.0MB/s eta 0:00:01\r\u001b[K     |████████████████▍               | 1.2MB 25.0MB/s eta 0:00:01\r\u001b[K     |████████████████▋               | 1.2MB 25.0MB/s eta 0:00:01\r\u001b[K     |████████████████▊               | 1.2MB 25.0MB/s eta 0:00:01\r\u001b[K     |████████████████▉               | 1.2MB 25.0MB/s eta 0:00:01\r\u001b[K     |█████████████████               | 1.2MB 25.0MB/s eta 0:00:01\r\u001b[K     |█████████████████▏              | 1.2MB 25.0MB/s eta 0:00:01\r\u001b[K     |█████████████████▎              | 1.3MB 25.0MB/s eta 0:00:01\r\u001b[K     |█████████████████▍              | 1.3MB 25.0MB/s eta 0:00:01\r\u001b[K     |█████████████████▌              | 1.3MB 25.0MB/s eta 0:00:01\r\u001b[K     |█████████████████▊              | 1.3MB 25.0MB/s eta 0:00:01\r\u001b[K     |█████████████████▉              | 1.3MB 25.0MB/s eta 0:00:01\r\u001b[K     |██████████████████              | 1.3MB 25.0MB/s eta 0:00:01\r\u001b[K     |██████████████████              | 1.3MB 25.0MB/s eta 0:00:01\r\u001b[K     |██████████████████▎             | 1.3MB 25.0MB/s eta 0:00:01\r\u001b[K     |██████████████████▍             | 1.3MB 25.0MB/s eta 0:00:01\r\u001b[K     |██████████████████▌             | 1.4MB 25.0MB/s eta 0:00:01\r\u001b[K     |██████████████████▋             | 1.4MB 25.0MB/s eta 0:00:01\r\u001b[K     |██████████████████▉             | 1.4MB 25.0MB/s eta 0:00:01\r\u001b[K     |███████████████████             | 1.4MB 25.0MB/s eta 0:00:01\r\u001b[K     |███████████████████             | 1.4MB 25.0MB/s eta 0:00:01\r\u001b[K     |███████████████████▎            | 1.4MB 25.0MB/s eta 0:00:01\r\u001b[K     |███████████████████▍            | 1.4MB 25.0MB/s eta 0:00:01\r\u001b[K     |███████████████████▌            | 1.4MB 25.0MB/s eta 0:00:01\r\u001b[K     |███████████████████▋            | 1.4MB 25.0MB/s eta 0:00:01\r\u001b[K     |███████████████████▉            | 1.4MB 25.0MB/s eta 0:00:01\r\u001b[K     |████████████████████            | 1.5MB 25.0MB/s eta 0:00:01\r\u001b[K     |████████████████████            | 1.5MB 25.0MB/s eta 0:00:01\r\u001b[K     |████████████████████▏           | 1.5MB 25.0MB/s eta 0:00:01\r\u001b[K     |████████████████████▍           | 1.5MB 25.0MB/s eta 0:00:01\r\u001b[K     |████████████████████▌           | 1.5MB 25.0MB/s eta 0:00:01\r\u001b[K     |████████████████████▋           | 1.5MB 25.0MB/s eta 0:00:01\r\u001b[K     |████████████████████▊           | 1.5MB 25.0MB/s eta 0:00:01\r\u001b[K     |█████████████████████           | 1.5MB 25.0MB/s eta 0:00:01\r\u001b[K     |█████████████████████           | 1.5MB 25.0MB/s eta 0:00:01\r\u001b[K     |█████████████████████▏          | 1.5MB 25.0MB/s eta 0:00:01\r\u001b[K     |█████████████████████▎          | 1.6MB 25.0MB/s eta 0:00:01\r\u001b[K     |█████████████████████▌          | 1.6MB 25.0MB/s eta 0:00:01\r\u001b[K     |█████████████████████▋          | 1.6MB 25.0MB/s eta 0:00:01\r\u001b[K     |█████████████████████▊          | 1.6MB 25.0MB/s eta 0:00:01\r\u001b[K     |█████████████████████▉          | 1.6MB 25.0MB/s eta 0:00:01\r\u001b[K     |██████████████████████          | 1.6MB 25.0MB/s eta 0:00:01\r\u001b[K     |██████████████████████▏         | 1.6MB 25.0MB/s eta 0:00:01\r\u001b[K     |██████████████████████▎         | 1.6MB 25.0MB/s eta 0:00:01\r\u001b[K     |██████████████████████▌         | 1.6MB 25.0MB/s eta 0:00:01\r\u001b[K     |██████████████████████▋         | 1.6MB 25.0MB/s eta 0:00:01\r\u001b[K     |██████████████████████▊         | 1.7MB 25.0MB/s eta 0:00:01\r\u001b[K     |██████████████████████▉         | 1.7MB 25.0MB/s eta 0:00:01\r\u001b[K     |███████████████████████         | 1.7MB 25.0MB/s eta 0:00:01\r\u001b[K     |███████████████████████▏        | 1.7MB 25.0MB/s eta 0:00:01\r\u001b[K     |███████████████████████▎        | 1.7MB 25.0MB/s eta 0:00:01\r\u001b[K     |███████████████████████▍        | 1.7MB 25.0MB/s eta 0:00:01\r\u001b[K     |███████████████████████▋        | 1.7MB 25.0MB/s eta 0:00:01\r\u001b[K     |███████████████████████▊        | 1.7MB 25.0MB/s eta 0:00:01\r\u001b[K     |███████████████████████▉        | 1.7MB 25.0MB/s eta 0:00:01\r\u001b[K     |████████████████████████        | 1.8MB 25.0MB/s eta 0:00:01\r\u001b[K     |████████████████████████▏       | 1.8MB 25.0MB/s eta 0:00:01\r\u001b[K     |████████████████████████▎       | 1.8MB 25.0MB/s eta 0:00:01\r\u001b[K     |████████████████████████▍       | 1.8MB 25.0MB/s eta 0:00:01\r\u001b[K     |████████████████████████▌       | 1.8MB 25.0MB/s eta 0:00:01\r\u001b[K     |████████████████████████▊       | 1.8MB 25.0MB/s eta 0:00:01\r\u001b[K     |████████████████████████▉       | 1.8MB 25.0MB/s eta 0:00:01\r\u001b[K     |█████████████████████████       | 1.8MB 25.0MB/s eta 0:00:01\r\u001b[K     |█████████████████████████▏      | 1.8MB 25.0MB/s eta 0:00:01\r\u001b[K     |█████████████████████████▎      | 1.8MB 25.0MB/s eta 0:00:01\r\u001b[K     |█████████████████████████▍      | 1.9MB 25.0MB/s eta 0:00:01\r\u001b[K     |█████████████████████████▌      | 1.9MB 25.0MB/s eta 0:00:01\r\u001b[K     |█████████████████████████▊      | 1.9MB 25.0MB/s eta 0:00:01\r\u001b[K     |█████████████████████████▉      | 1.9MB 25.0MB/s eta 0:00:01\r\u001b[K     |██████████████████████████      | 1.9MB 25.0MB/s eta 0:00:01\r\u001b[K     |██████████████████████████      | 1.9MB 25.0MB/s eta 0:00:01\r\u001b[K     |██████████████████████████▎     | 1.9MB 25.0MB/s eta 0:00:01\r\u001b[K     |██████████████████████████▍     | 1.9MB 25.0MB/s eta 0:00:01\r\u001b[K     |██████████████████████████▌     | 1.9MB 25.0MB/s eta 0:00:01\r\u001b[K     |██████████████████████████▋     | 1.9MB 25.0MB/s eta 0:00:01\r\u001b[K     |██████████████████████████▉     | 2.0MB 25.0MB/s eta 0:00:01\r\u001b[K     |███████████████████████████     | 2.0MB 25.0MB/s eta 0:00:01\r\u001b[K     |███████████████████████████     | 2.0MB 25.0MB/s eta 0:00:01\r\u001b[K     |███████████████████████████▏    | 2.0MB 25.0MB/s eta 0:00:01\r\u001b[K     |███████████████████████████▍    | 2.0MB 25.0MB/s eta 0:00:01\r\u001b[K     |███████████████████████████▌    | 2.0MB 25.0MB/s eta 0:00:01\r\u001b[K     |███████████████████████████▋    | 2.0MB 25.0MB/s eta 0:00:01\r\u001b[K     |███████████████████████████▉    | 2.0MB 25.0MB/s eta 0:00:01\r\u001b[K     |████████████████████████████    | 2.0MB 25.0MB/s eta 0:00:01\r\u001b[K     |████████████████████████████    | 2.0MB 25.0MB/s eta 0:00:01\r\u001b[K     |████████████████████████████▏   | 2.1MB 25.0MB/s eta 0:00:01\r\u001b[K     |████████████████████████████▍   | 2.1MB 25.0MB/s eta 0:00:01\r\u001b[K     |████████████████████████████▌   | 2.1MB 25.0MB/s eta 0:00:01\r\u001b[K     |████████████████████████████▋   | 2.1MB 25.0MB/s eta 0:00:01\r\u001b[K     |████████████████████████████▊   | 2.1MB 25.0MB/s eta 0:00:01\r\u001b[K     |█████████████████████████████   | 2.1MB 25.0MB/s eta 0:00:01\r\u001b[K     |█████████████████████████████   | 2.1MB 25.0MB/s eta 0:00:01\r\u001b[K     |█████████████████████████████▏  | 2.1MB 25.0MB/s eta 0:00:01\r\u001b[K     |█████████████████████████████▎  | 2.1MB 25.0MB/s eta 0:00:01\r\u001b[K     |█████████████████████████████▌  | 2.2MB 25.0MB/s eta 0:00:01\r\u001b[K     |█████████████████████████████▋  | 2.2MB 25.0MB/s eta 0:00:01\r\u001b[K     |█████████████████████████████▊  | 2.2MB 25.0MB/s eta 0:00:01\r\u001b[K     |█████████████████████████████▉  | 2.2MB 25.0MB/s eta 0:00:01\r\u001b[K     |██████████████████████████████  | 2.2MB 25.0MB/s eta 0:00:01\r\u001b[K     |██████████████████████████████▏ | 2.2MB 25.0MB/s eta 0:00:01\r\u001b[K     |██████████████████████████████▎ | 2.2MB 25.0MB/s eta 0:00:01\r\u001b[K     |██████████████████████████████▌ | 2.2MB 25.0MB/s eta 0:00:01\r\u001b[K     |██████████████████████████████▋ | 2.2MB 25.0MB/s eta 0:00:01\r\u001b[K     |██████████████████████████████▊ | 2.2MB 25.0MB/s eta 0:00:01\r\u001b[K     |██████████████████████████████▉ | 2.3MB 25.0MB/s eta 0:00:01\r\u001b[K     |███████████████████████████████ | 2.3MB 25.0MB/s eta 0:00:01\r\u001b[K     |███████████████████████████████▏| 2.3MB 25.0MB/s eta 0:00:01\r\u001b[K     |███████████████████████████████▎| 2.3MB 25.0MB/s eta 0:00:01\r\u001b[K     |███████████████████████████████▍| 2.3MB 25.0MB/s eta 0:00:01\r\u001b[K     |███████████████████████████████▋| 2.3MB 25.0MB/s eta 0:00:01\r\u001b[K     |███████████████████████████████▊| 2.3MB 25.0MB/s eta 0:00:01\r\u001b[K     |███████████████████████████████▉| 2.3MB 25.0MB/s eta 0:00:01\r\u001b[K     |████████████████████████████████| 2.3MB 25.0MB/s eta 0:00:01\r\u001b[K     |████████████████████████████████| 2.3MB 25.0MB/s \n",
            "\u001b[?25hRequirement already satisfied: regex!=2019.12.17 in /usr/local/lib/python3.7/dist-packages (from transformers) (2019.12.20)\n",
            "Requirement already satisfied: numpy>=1.17 in /usr/local/lib/python3.7/dist-packages (from transformers) (1.19.5)\n",
            "Requirement already satisfied: filelock in /usr/local/lib/python3.7/dist-packages (from transformers) (3.0.12)\n",
            "Requirement already satisfied: importlib-metadata; python_version < \"3.8\" in /usr/local/lib/python3.7/dist-packages (from transformers) (4.0.1)\n",
            "Requirement already satisfied: tqdm>=4.27 in /usr/local/lib/python3.7/dist-packages (from transformers) (4.41.1)\n",
            "Collecting tokenizers<0.11,>=0.10.1\n",
            "\u001b[?25l  Downloading https://files.pythonhosted.org/packages/ae/04/5b870f26a858552025a62f1649c20d29d2672c02ff3c3fb4c688ca46467a/tokenizers-0.10.2-cp37-cp37m-manylinux2010_x86_64.whl (3.3MB)\n",
            "\u001b[K     |████████████████████████████████| 3.3MB 44.8MB/s \n",
            "\u001b[?25hCollecting huggingface-hub==0.0.8\n",
            "  Downloading https://files.pythonhosted.org/packages/a1/88/7b1e45720ecf59c6c6737ff332f41c955963090a18e72acbcbeac6b25e86/huggingface_hub-0.0.8-py3-none-any.whl\n",
            "Requirement already satisfied: packaging in /usr/local/lib/python3.7/dist-packages (from transformers) (20.9)\n",
            "Requirement already satisfied: requests in /usr/local/lib/python3.7/dist-packages (from transformers) (2.23.0)\n",
            "Collecting sacremoses\n",
            "\u001b[?25l  Downloading https://files.pythonhosted.org/packages/75/ee/67241dc87f266093c533a2d4d3d69438e57d7a90abb216fa076e7d475d4a/sacremoses-0.0.45-py3-none-any.whl (895kB)\n",
            "\u001b[K     |████████████████████████████████| 901kB 45.3MB/s \n",
            "\u001b[?25hRequirement already satisfied: zipp>=0.5 in /usr/local/lib/python3.7/dist-packages (from importlib-metadata; python_version < \"3.8\"->transformers) (3.4.1)\n",
            "Requirement already satisfied: typing-extensions>=3.6.4; python_version < \"3.8\" in /usr/local/lib/python3.7/dist-packages (from importlib-metadata; python_version < \"3.8\"->transformers) (3.7.4.3)\n",
            "Requirement already satisfied: pyparsing>=2.0.2 in /usr/local/lib/python3.7/dist-packages (from packaging->transformers) (2.4.7)\n",
            "Requirement already satisfied: certifi>=2017.4.17 in /usr/local/lib/python3.7/dist-packages (from requests->transformers) (2020.12.5)\n",
            "Requirement already satisfied: chardet<4,>=3.0.2 in /usr/local/lib/python3.7/dist-packages (from requests->transformers) (3.0.4)\n",
            "Requirement already satisfied: urllib3!=1.25.0,!=1.25.1,<1.26,>=1.21.1 in /usr/local/lib/python3.7/dist-packages (from requests->transformers) (1.24.3)\n",
            "Requirement already satisfied: idna<3,>=2.5 in /usr/local/lib/python3.7/dist-packages (from requests->transformers) (2.10)\n",
            "Requirement already satisfied: click in /usr/local/lib/python3.7/dist-packages (from sacremoses->transformers) (8.0.0)\n",
            "Requirement already satisfied: joblib in /usr/local/lib/python3.7/dist-packages (from sacremoses->transformers) (1.0.1)\n",
            "Requirement already satisfied: six in /usr/local/lib/python3.7/dist-packages (from sacremoses->transformers) (1.15.0)\n",
            "Installing collected packages: tokenizers, huggingface-hub, sacremoses, transformers\n",
            "Successfully installed huggingface-hub-0.0.8 sacremoses-0.0.45 tokenizers-0.10.2 transformers-4.6.0\n"
          ],
          "name": "stdout"
        }
      ]
    },
    {
      "cell_type": "code",
      "metadata": {
        "id": "00_Xtidjczwl"
      },
      "source": [
        "#주요 패키지들을 불러와줍니다.\n",
        "\n",
        "import torch\n",
        "\n",
        "from transformers import BertTokenizer\n",
        "from transformers import BertForSequenceClassification, AdamW, BertConfig\n",
        "from transformers import get_linear_schedule_with_warmup\n",
        "from torch.utils.data import TensorDataset, DataLoader, RandomSampler, SequentialSampler\n",
        "from keras.preprocessing.sequence import pad_sequences\n",
        "from sklearn.model_selection import train_test_split\n",
        "\n",
        "import pandas as pd\n",
        "import numpy as np\n",
        "import random\n",
        "import time\n",
        "import datetime"
      ],
      "execution_count": 2,
      "outputs": []
    },
    {
      "cell_type": "code",
      "metadata": {
        "colab": {
          "base_uri": "https://localhost:8080/"
        },
        "id": "yDO3ECNxczy1",
        "outputId": "32dd03a0-631f-4b75-9a3a-768bb9a1180c"
      },
      "source": [
        "#Torch에서 GPU가 사용되는지 확인하는 코드입니다. 어떤 GPU를 쓰는지 확인할 수 있습니다.\n",
        "\n",
        "import os\n",
        "\n",
        "n_devices = torch.cuda.device_count()\n",
        "print(n_devices)\n",
        "\n",
        "for i in range(n_devices):\n",
        "    print(torch.cuda.get_device_name(i))"
      ],
      "execution_count": 174,
      "outputs": [
        {
          "output_type": "stream",
          "text": [
            "1\n",
            "Tesla T4\n"
          ],
          "name": "stdout"
        }
      ]
    },
    {
      "cell_type": "markdown",
      "metadata": {
        "id": "eTObb37kbjXy"
      },
      "source": [
        "#데이터셋"
      ]
    },
    {
      "cell_type": "code",
      "metadata": {
        "id": "eg1uDlhUcz7C"
      },
      "source": [
        "data = pd.read_csv(\"2020LectureReview.csv\", index_col = 0)\n",
        "data = data.dropna(axis=0)"
      ],
      "execution_count": 215,
      "outputs": []
    },
    {
      "cell_type": "code",
      "metadata": {
        "colab": {
          "base_uri": "https://localhost:8080/"
        },
        "id": "3l0SbC8AekYI",
        "outputId": "3d88561d-29f5-4c9f-cc06-f75f6efebb91"
      },
      "source": [
        "# 감성분석 모델링을 위해 별점 1,2점을 받은 리뷰는 0으로, 별점 4,5 점을 받은 리뷰는 1로 대치.\n",
        "change_value_dict = {100:1, 80:1, 60:60, 40:0, 20:0}\n",
        "data = data.replace({'ReviewStar':change_value_dict})\n",
        "\n",
        "# 별점 3점을 받은 리뷰는 감성분석 모델링을 위해 아예 제거\n",
        "data = data[data.ReviewStar != 60]\n",
        "data.shape"
      ],
      "execution_count": 216,
      "outputs": [
        {
          "output_type": "execute_result",
          "data": {
            "text/plain": [
              "(64600, 6)"
            ]
          },
          "metadata": {
            "tags": []
          },
          "execution_count": 216
        }
      ]
    },
    {
      "cell_type": "code",
      "metadata": {
        "colab": {
          "base_uri": "https://localhost:8080/"
        },
        "id": "I4MIz0Iwvcai",
        "outputId": "d2c0c751-0c73-42cb-a02b-9fc344a107fb"
      },
      "source": [
        "#accuracy 측정할때 문장 길이 상관없이 정확도가 나오는지를 테스트 하기 위해서 글자조정 전 data copy만들어 놓습니다.\n",
        "data_copy_foraccu2 = data\n",
        "data_copy_foraccu2 = data_copy_foraccu2.astype({'ReviewStar':'int'})\n",
        "data_copy_foraccu2.shape"
      ],
      "execution_count": 217,
      "outputs": [
        {
          "output_type": "execute_result",
          "data": {
            "text/plain": [
              "(64600, 6)"
            ]
          },
          "metadata": {
            "tags": []
          },
          "execution_count": 217
        }
      ]
    },
    {
      "cell_type": "code",
      "metadata": {
        "colab": {
          "base_uri": "https://localhost:8080/"
        },
        "id": "NamVUFGEhp4x",
        "outputId": "e5194b92-7b0a-494f-c4d7-14899add2a38"
      },
      "source": [
        "#[CLS] [SEP] 토큰 포함 128자 이하의 문장들로 학습시켰습니다.\n",
        "index = data[\"ReviewText\"].str.len() > 126\n",
        "data = data.loc[~index]\n",
        "data.shape"
      ],
      "execution_count": 190,
      "outputs": [
        {
          "output_type": "execute_result",
          "data": {
            "text/plain": [
              "(35453, 6)"
            ]
          },
          "metadata": {
            "tags": []
          },
          "execution_count": 190
        }
      ]
    },
    {
      "cell_type": "code",
      "metadata": {
        "colab": {
          "base_uri": "https://localhost:8080/",
          "height": 572
        },
        "id": "M960FqFplCW5",
        "outputId": "286b31fc-1908-4893-ac03-0c57677b2917"
      },
      "source": [
        "data = data.astype({'ReviewStar':'int'})\n",
        "data"
      ],
      "execution_count": 191,
      "outputs": [
        {
          "output_type": "execute_result",
          "data": {
            "text/html": [
              "<div>\n",
              "<style scoped>\n",
              "    .dataframe tbody tr th:only-of-type {\n",
              "        vertical-align: middle;\n",
              "    }\n",
              "\n",
              "    .dataframe tbody tr th {\n",
              "        vertical-align: top;\n",
              "    }\n",
              "\n",
              "    .dataframe thead th {\n",
              "        text-align: right;\n",
              "    }\n",
              "</style>\n",
              "<table border=\"1\" class=\"dataframe\">\n",
              "  <thead>\n",
              "    <tr style=\"text-align: right;\">\n",
              "      <th></th>\n",
              "      <th>LectureUrl</th>\n",
              "      <th>LectureName</th>\n",
              "      <th>LectureProf</th>\n",
              "      <th>ReviewStar</th>\n",
              "      <th>ReviewSemester</th>\n",
              "      <th>ReviewText</th>\n",
              "    </tr>\n",
              "  </thead>\n",
              "  <tbody>\n",
              "    <tr>\n",
              "      <th>0</th>\n",
              "      <td>https://yonsei.everytime.kr/lecture/view/3640</td>\n",
              "      <td>INTERNATIONAL MONEY AND CAPITAL MARKETS</td>\n",
              "      <td>함준호</td>\n",
              "      <td>1</td>\n",
              "      <td>20년 1학기 수강자</td>\n",
              "      <td>시험 잘 멋본 것 같은데 에이제로 떠서 놀람 감사합니다 교수님</td>\n",
              "    </tr>\n",
              "    <tr>\n",
              "      <th>1</th>\n",
              "      <td>https://yonsei.everytime.kr/lecture/view/3640</td>\n",
              "      <td>INTERNATIONAL MONEY AND CAPITAL MARKETS</td>\n",
              "      <td>함준호</td>\n",
              "      <td>1</td>\n",
              "      <td>20년 1학기 수강자</td>\n",
              "      <td>에 뭐,,, 그냥 괜찮았는데 자습기간을 안 주고 전범위 시험본다그러니까 당황스러웠네...</td>\n",
              "    </tr>\n",
              "    <tr>\n",
              "      <th>3</th>\n",
              "      <td>https://yonsei.everytime.kr/lecture/view/3640</td>\n",
              "      <td>INTERNATIONAL MONEY AND CAPITAL MARKETS</td>\n",
              "      <td>함준호</td>\n",
              "      <td>1</td>\n",
              "      <td>19년 1학기 수강자</td>\n",
              "      <td>교수님 너무 똑똑하시고 피피티 위주로 수업하시기는 하는데 현장경험이 풍부하셔서 그런...</td>\n",
              "    </tr>\n",
              "    <tr>\n",
              "      <th>5</th>\n",
              "      <td>https://yonsei.everytime.kr/lecture/view/943471</td>\n",
              "      <td>학교교실의현장연구방법입문</td>\n",
              "      <td>박순용</td>\n",
              "      <td>0</td>\n",
              "      <td>20년 1학기 수강자</td>\n",
              "      <td>조교가 일을 안하는건지 교수가 일을 안하는건지 강의가 맨날 늦게 올라옴 제 시간에 ...</td>\n",
              "    </tr>\n",
              "    <tr>\n",
              "      <th>6</th>\n",
              "      <td>https://yonsei.everytime.kr/lecture/view/943471</td>\n",
              "      <td>학교교실의현장연구방법입문</td>\n",
              "      <td>박순용</td>\n",
              "      <td>0</td>\n",
              "      <td>18년 2학기 수강자</td>\n",
              "      <td>교수님의 수업은 이해하기 쉬웠고 질적연구와 현장연구에 대해 잘 설명해주셔서 수업은 ...</td>\n",
              "    </tr>\n",
              "    <tr>\n",
              "      <th>...</th>\n",
              "      <td>...</td>\n",
              "      <td>...</td>\n",
              "      <td>...</td>\n",
              "      <td>...</td>\n",
              "      <td>...</td>\n",
              "      <td>...</td>\n",
              "    </tr>\n",
              "    <tr>\n",
              "      <th>38033</th>\n",
              "      <td>https://yonsei.everytime.kr/lecture/view/3053</td>\n",
              "      <td>신경생물학</td>\n",
              "      <td>오영준</td>\n",
              "      <td>0</td>\n",
              "      <td>19년 1학기 수강자</td>\n",
              "      <td>생물을 전공하는 사람이라면 신경생물학에 어느정도 흥미를 갖을 수 있지..그런 흥미를...</td>\n",
              "    </tr>\n",
              "    <tr>\n",
              "      <th>38040</th>\n",
              "      <td>https://yonsei.everytime.kr/lecture/view/3053</td>\n",
              "      <td>신경생물학</td>\n",
              "      <td>오영준</td>\n",
              "      <td>1</td>\n",
              "      <td>16년 1학기 수강자</td>\n",
              "      <td>꼭들으세요 인생강의입니다. 생물학과라면 꼭 듣는걸 추천합니다</td>\n",
              "    </tr>\n",
              "    <tr>\n",
              "      <th>38041</th>\n",
              "      <td>https://yonsei.everytime.kr/lecture/view/2005288</td>\n",
              "      <td>교육현장연구지도</td>\n",
              "      <td>고래억</td>\n",
              "      <td>1</td>\n",
              "      <td>20년 1학기 수강자</td>\n",
              "      <td>수업 자체는 별론데 교수님이 학생들 참여시키려고 애타게 이름 부르시는게 넘 귀엽고 ...</td>\n",
              "    </tr>\n",
              "    <tr>\n",
              "      <th>38042</th>\n",
              "      <td>https://yonsei.everytime.kr/lecture/view/2082636</td>\n",
              "      <td>UT세미나(항노화와여가활동)</td>\n",
              "      <td>이록빛</td>\n",
              "      <td>1</td>\n",
              "      <td>20년 1학기 수강자</td>\n",
              "      <td>너무 좋음. 하루만 투자하고 보람찬 한학기 생활을 할 수 있음. 꼭 들으셈</td>\n",
              "    </tr>\n",
              "    <tr>\n",
              "      <th>38049</th>\n",
              "      <td>https://yonsei.everytime.kr/lecture/view/2073416</td>\n",
              "      <td>세계희곡과인간의계보학</td>\n",
              "      <td>지유리</td>\n",
              "      <td>1</td>\n",
              "      <td>19년 2학기 수강자</td>\n",
              "      <td>쪽글 쓰는거는 귀찮지만 수업 내용이 좋고 교수님이 착하심시험 없는게 최대 장점인 수업</td>\n",
              "    </tr>\n",
              "  </tbody>\n",
              "</table>\n",
              "<p>35453 rows × 6 columns</p>\n",
              "</div>"
            ],
            "text/plain": [
              "                                             LectureUrl  ...                                         ReviewText\n",
              "0         https://yonsei.everytime.kr/lecture/view/3640  ...                 시험 잘 멋본 것 같은데 에이제로 떠서 놀람 감사합니다 교수님\n",
              "1         https://yonsei.everytime.kr/lecture/view/3640  ...  에 뭐,,, 그냥 괜찮았는데 자습기간을 안 주고 전범위 시험본다그러니까 당황스러웠네...\n",
              "3         https://yonsei.everytime.kr/lecture/view/3640  ...  교수님 너무 똑똑하시고 피피티 위주로 수업하시기는 하는데 현장경험이 풍부하셔서 그런...\n",
              "5       https://yonsei.everytime.kr/lecture/view/943471  ...  조교가 일을 안하는건지 교수가 일을 안하는건지 강의가 맨날 늦게 올라옴 제 시간에 ...\n",
              "6       https://yonsei.everytime.kr/lecture/view/943471  ...  교수님의 수업은 이해하기 쉬웠고 질적연구와 현장연구에 대해 잘 설명해주셔서 수업은 ...\n",
              "...                                                 ...  ...                                                ...\n",
              "38033     https://yonsei.everytime.kr/lecture/view/3053  ...  생물을 전공하는 사람이라면 신경생물학에 어느정도 흥미를 갖을 수 있지..그런 흥미를...\n",
              "38040     https://yonsei.everytime.kr/lecture/view/3053  ...                  꼭들으세요 인생강의입니다. 생물학과라면 꼭 듣는걸 추천합니다\n",
              "38041  https://yonsei.everytime.kr/lecture/view/2005288  ...  수업 자체는 별론데 교수님이 학생들 참여시키려고 애타게 이름 부르시는게 넘 귀엽고 ...\n",
              "38042  https://yonsei.everytime.kr/lecture/view/2082636  ...          너무 좋음. 하루만 투자하고 보람찬 한학기 생활을 할 수 있음. 꼭 들으셈\n",
              "38049  https://yonsei.everytime.kr/lecture/view/2073416  ...    쪽글 쓰는거는 귀찮지만 수업 내용이 좋고 교수님이 착하심시험 없는게 최대 장점인 수업\n",
              "\n",
              "[35453 rows x 6 columns]"
            ]
          },
          "metadata": {
            "tags": []
          },
          "execution_count": 191
        }
      ]
    },
    {
      "cell_type": "code",
      "metadata": {
        "colab": {
          "base_uri": "https://localhost:8080/"
        },
        "id": "XPDcK07repr_",
        "outputId": "144ca393-408e-441e-d636-09c47f2525d8"
      },
      "source": [
        "train = data.iloc[:30000]\n",
        "train.shape"
      ],
      "execution_count": 195,
      "outputs": [
        {
          "output_type": "execute_result",
          "data": {
            "text/plain": [
              "(30000, 6)"
            ]
          },
          "metadata": {
            "tags": []
          },
          "execution_count": 195
        }
      ]
    },
    {
      "cell_type": "code",
      "metadata": {
        "colab": {
          "base_uri": "https://localhost:8080/"
        },
        "id": "0mNDFa_4evaj",
        "outputId": "71228836-2b67-4a4f-b36c-9a5bdbeb6a55"
      },
      "source": [
        "test = data.iloc[30000:]\n",
        "test.shape"
      ],
      "execution_count": 196,
      "outputs": [
        {
          "output_type": "execute_result",
          "data": {
            "text/plain": [
              "(5453, 6)"
            ]
          },
          "metadata": {
            "tags": []
          },
          "execution_count": 196
        }
      ]
    },
    {
      "cell_type": "markdown",
      "metadata": {
        "id": "H4US2X2hbwBD"
      },
      "source": [
        "# 문장별 전처리\n",
        "\n",
        "Bert 분류 모델은 각 문장의 앞마다 [CLS]를 붙여 인식합니다. 문장 종료는 [SEP]로 알립니다. 이를 처리해줍니다."
      ]
    },
    {
      "cell_type": "code",
      "metadata": {
        "colab": {
          "base_uri": "https://localhost:8080/"
        },
        "id": "5iCZcobme1hn",
        "outputId": "03068eb7-e1c7-4863-d16e-edb7a07c6228"
      },
      "source": [
        "document_bert = [\"[CLS] \" + str(s) + \" [SEP]\" for s in train.ReviewText]\n",
        "document_bert[:5]"
      ],
      "execution_count": 198,
      "outputs": [
        {
          "output_type": "execute_result",
          "data": {
            "text/plain": [
              "['[CLS] 시험 잘 멋본 것 같은데 에이제로 떠서 놀람 감사합니다 교수님 [SEP]',\n",
              " '[CLS] 에 뭐,,, 그냥 괜찮았는데 자습기간을 안 주고 전범위 시험본다그러니까 당황스러웠네요. 교수님 똑똑하시고 나쁘지 않아요. 다만 3시간 연속인 게 좀 힘들지만 뭐 그건 당연히 고려하시고 신청하시겠죠. [SEP]',\n",
              " '[CLS] 교수님 너무 똑똑하시고 피피티 위주로 수업하시기는 하는데 현장경험이 풍부하셔서 그런지 잘 설명해주십니다 저는 정말 좋았어요 [SEP]',\n",
              " '[CLS] 조교가 일을 안하는건지 교수가 일을 안하는건지 강의가 맨날 늦게 올라옴 제 시간에 강의를 안 보게 되니까 이 수업에 대한 열정이 초반부터 확 사라짐. 그러면서 저작권 때문에 강의는 일찍 내려야겠다고 함 ㅋㅋ [SEP]',\n",
              " '[CLS] 교수님의 수업은 이해하기 쉬웠고 질적연구와 현장연구에 대해 잘 설명해주셔서 수업은 매우 좋았지만, 중간고사 비중이 크고 성적 산출에 있어서 아쉬운 부분이 있습니다. [SEP]']"
            ]
          },
          "metadata": {
            "tags": []
          },
          "execution_count": 198
        }
      ]
    },
    {
      "cell_type": "markdown",
      "metadata": {
        "id": "0W5IVJvKbwzl"
      },
      "source": [
        "# 토크나이징\n",
        "사전학습된 BERT multilingual 모델 내 포함되어있는 토크나이저를 활용하여 토크나이징합니다."
      ]
    },
    {
      "cell_type": "code",
      "metadata": {
        "colab": {
          "base_uri": "https://localhost:8080/"
        },
        "id": "7or_-wAYe4JV",
        "outputId": "d915242f-0f67-4981-ab2a-2377e92dd89c"
      },
      "source": [
        "tokenizer = BertTokenizer.from_pretrained('bert-base-multilingual-cased', do_lower_case=False)\n",
        "tokenized_texts = [tokenizer.tokenize(s) for s in document_bert]\n",
        "print(tokenized_texts[0])"
      ],
      "execution_count": 199,
      "outputs": [
        {
          "output_type": "stream",
          "text": [
            "['[CLS]', '시', '##험', '잘', '멋', '##본', '것', '같은', '##데', '에', '##이', '##제로', '떠', '##서', '놀', '##람', '감', '##사', '##합', '##니다', '교', '##수', '##님', '[SEP]']\n"
          ],
          "name": "stdout"
        }
      ]
    },
    {
      "cell_type": "markdown",
      "metadata": {
        "id": "ji9IwgsPb14O"
      },
      "source": [
        "#패딩\n",
        "token들의 max length보다 크게 max_len 값을 설정합니다. 설정한 max_len만큼 문장 길이에 따른 빈 공간을 0이 채웁니다. 이를 패딩이라 합니다."
      ]
    },
    {
      "cell_type": "code",
      "metadata": {
        "colab": {
          "base_uri": "https://localhost:8080/"
        },
        "id": "LalrGhLKe5iO",
        "outputId": "07722ce0-f633-45b5-fe1f-fb8365da6caa"
      },
      "source": [
        "# 패딩 작업\n",
        "MAX_LEN = 128\n",
        "input_ids = [tokenizer.convert_tokens_to_ids(x) for x in tokenized_texts]\n",
        "input_ids = pad_sequences(input_ids, maxlen=MAX_LEN, dtype='long', truncating='post', padding='post')\n",
        "input_ids[0]"
      ],
      "execution_count": 200,
      "outputs": [
        {
          "output_type": "execute_result",
          "data": {
            "text/plain": [
              "array([   101,   9485,  86834,   9654,   9270,  40419,   8870,  18589,\n",
              "        28911,   9559,  10739,  53914,   9138,  12424,   9025,  61250,\n",
              "         8848,  12945,  33188,  48345,   8907,  15891, 108578,    102,\n",
              "            0,      0,      0,      0,      0,      0,      0,      0,\n",
              "            0,      0,      0,      0,      0,      0,      0,      0,\n",
              "            0,      0,      0,      0,      0,      0,      0,      0,\n",
              "            0,      0,      0,      0,      0,      0,      0,      0,\n",
              "            0,      0,      0,      0,      0,      0,      0,      0,\n",
              "            0,      0,      0,      0,      0,      0,      0,      0,\n",
              "            0,      0,      0,      0,      0,      0,      0,      0,\n",
              "            0,      0,      0,      0,      0,      0,      0,      0,\n",
              "            0,      0,      0,      0,      0,      0,      0,      0,\n",
              "            0,      0,      0,      0,      0,      0,      0,      0,\n",
              "            0,      0,      0,      0,      0,      0,      0,      0,\n",
              "            0,      0,      0,      0,      0,      0,      0,      0,\n",
              "            0,      0,      0,      0,      0,      0,      0,      0])"
            ]
          },
          "metadata": {
            "tags": []
          },
          "execution_count": 200
        }
      ]
    },
    {
      "cell_type": "markdown",
      "metadata": {
        "id": "gjvaxytEb_cb"
      },
      "source": [
        "# 어텐션 마스크\n",
        "학습 속도를 높이기 위해 실 데이터가 있는 곳과 padding이 있는 곳을 attention에게 알려줍니다."
      ]
    },
    {
      "cell_type": "code",
      "metadata": {
        "colab": {
          "base_uri": "https://localhost:8080/"
        },
        "id": "4xFNEIsxfBe4",
        "outputId": "b5569710-d778-49a9-87be-756af9c5ed03"
      },
      "source": [
        "attention_masks = []\n",
        "\n",
        "for seq in input_ids:\n",
        "    seq_mask = [float(i>0) for i in seq]\n",
        "    attention_masks.append(seq_mask)\n",
        "    \n",
        "print(attention_masks[0])"
      ],
      "execution_count": 202,
      "outputs": [
        {
          "output_type": "stream",
          "text": [
            "[1.0, 1.0, 1.0, 1.0, 1.0, 1.0, 1.0, 1.0, 1.0, 1.0, 1.0, 1.0, 1.0, 1.0, 1.0, 1.0, 1.0, 1.0, 1.0, 1.0, 1.0, 1.0, 1.0, 1.0, 0.0, 0.0, 0.0, 0.0, 0.0, 0.0, 0.0, 0.0, 0.0, 0.0, 0.0, 0.0, 0.0, 0.0, 0.0, 0.0, 0.0, 0.0, 0.0, 0.0, 0.0, 0.0, 0.0, 0.0, 0.0, 0.0, 0.0, 0.0, 0.0, 0.0, 0.0, 0.0, 0.0, 0.0, 0.0, 0.0, 0.0, 0.0, 0.0, 0.0, 0.0, 0.0, 0.0, 0.0, 0.0, 0.0, 0.0, 0.0, 0.0, 0.0, 0.0, 0.0, 0.0, 0.0, 0.0, 0.0, 0.0, 0.0, 0.0, 0.0, 0.0, 0.0, 0.0, 0.0, 0.0, 0.0, 0.0, 0.0, 0.0, 0.0, 0.0, 0.0, 0.0, 0.0, 0.0, 0.0, 0.0, 0.0, 0.0, 0.0, 0.0, 0.0, 0.0, 0.0, 0.0, 0.0, 0.0, 0.0, 0.0, 0.0, 0.0, 0.0, 0.0, 0.0, 0.0, 0.0, 0.0, 0.0, 0.0, 0.0, 0.0, 0.0, 0.0, 0.0]\n"
          ],
          "name": "stdout"
        }
      ]
    },
    {
      "cell_type": "markdown",
      "metadata": {
        "id": "khWt7X4DcEdY"
      },
      "source": [
        "# train-validation set 분리\n",
        "random state는 일정히 고정합니다.(input과 mask가 섞이지 않기 위함)"
      ]
    },
    {
      "cell_type": "code",
      "metadata": {
        "id": "jnwuwixpfDfx"
      },
      "source": [
        "train_inputs, validation_inputs, train_labels, validation_labels = train_test_split(input_ids, train['ReviewStar'].values, random_state=42, test_size=0.1)\n",
        "\n",
        "train_masks, validation_masks, _, _ = train_test_split(attention_masks, \n",
        "                                                       input_ids,\n",
        "                                                       random_state=42, \n",
        "                                                       test_size=0.1)"
      ],
      "execution_count": 203,
      "outputs": []
    },
    {
      "cell_type": "markdown",
      "metadata": {
        "id": "tZbP7aJbcFVT"
      },
      "source": [
        "#파이토치 텐서로 변환\n",
        "numpy ndarray로 되어 있는 inputs, labels, masks들을 torch tensor로 변환합니다."
      ]
    },
    {
      "cell_type": "code",
      "metadata": {
        "id": "-zP33vJnfF16"
      },
      "source": [
        "train_inputs = torch.tensor(train_inputs)\n",
        "train_labels = torch.tensor(train_labels)\n",
        "train_masks = torch.tensor(train_masks)\n",
        "validation_inputs = torch.tensor(validation_inputs)\n",
        "validation_labels = torch.tensor(validation_labels)\n",
        "validation_masks = torch.tensor(validation_masks)"
      ],
      "execution_count": 204,
      "outputs": []
    },
    {
      "cell_type": "markdown",
      "metadata": {
        "id": "1CeEgZ7dcImj"
      },
      "source": [
        "# 배치 및 데이터로더 설정\n",
        "현재 쓰고 있는 GPU의 VRAM에 맞도록 배치 사이즈를 설정합니다. 우선 배치사이즈를 크게 넣어보고 VRAM 부족 메세지가 나오면 8의 배수 중 더 작은 것으로 줄여나갑니다."
      ]
    },
    {
      "cell_type": "code",
      "metadata": {
        "id": "aFczBnWKfHY8"
      },
      "source": [
        "BATCH_SIZE = 32\n",
        "\n",
        "train_data = TensorDataset(train_inputs, train_masks, train_labels)\n",
        "train_sampler = RandomSampler(train_data)\n",
        "train_dataloader = DataLoader(train_data, sampler=train_sampler, batch_size=BATCH_SIZE)\n",
        "\n",
        "validation_data = TensorDataset(validation_inputs, validation_masks, validation_labels)\n",
        "validation_sampler = SequentialSampler(validation_data)\n",
        "validation_dataloader = DataLoader(validation_data, sampler=validation_sampler, batch_size=BATCH_SIZE)"
      ],
      "execution_count": 205,
      "outputs": []
    },
    {
      "cell_type": "markdown",
      "metadata": {
        "id": "32xIdAWEcLG8"
      },
      "source": [
        "#테스트셋 전처리\n",
        "위에서 trainset 전처리 한것과 동일한 과정을  testset에 반복합니다."
      ]
    },
    {
      "cell_type": "code",
      "metadata": {
        "id": "clBKmbAQfJD_"
      },
      "source": [
        "#테스트 데이터 전처리 과정\n",
        "# test = data_copy_foraccu2.iloc[50000:60000] # 여기 주석만 풀어주면 문장길이 상관 없는 감정분석 정확도 확인 가능\n",
        "\n",
        "sentences = test['ReviewText']\n",
        "sentences = [\"[CLS] \" + str(sentence) + \" [SEP]\" for sentence in sentences]\n",
        "labels = test['ReviewStar'].values\n",
        "tokenized_texts = [tokenizer.tokenize(sent) for sent in sentences]\n",
        "\n",
        "input_ids = [tokenizer.convert_tokens_to_ids(x) for x in tokenized_texts]\n",
        "input_ids = pad_sequences(input_ids, maxlen=MAX_LEN, dtype=\"long\", truncating=\"post\", padding=\"post\")\n",
        "\n",
        "attention_masks = []\n",
        "for seq in input_ids:\n",
        "    seq_mask = [float(i>0) for i in seq]\n",
        "    attention_masks.append(seq_mask)\n",
        "\n",
        "test_inputs = torch.tensor(input_ids)\n",
        "test_labels = torch.tensor(labels)\n",
        "test_masks = torch.tensor(attention_masks)\n",
        "\n",
        "test_data = TensorDataset(test_inputs, test_masks, test_labels)\n",
        "test_sampler = RandomSampler(test_data)\n",
        "test_dataloader = DataLoader(test_data, sampler=test_sampler, batch_size=BATCH_SIZE)"
      ],
      "execution_count": 218,
      "outputs": []
    },
    {
      "cell_type": "markdown",
      "metadata": {
        "id": "AoJsEEvPcb2N"
      },
      "source": [
        "#모델 학습"
      ]
    },
    {
      "cell_type": "code",
      "metadata": {
        "colab": {
          "base_uri": "https://localhost:8080/"
        },
        "id": "7ikw44LQfMBQ",
        "outputId": "16e6b49e-8b2b-47df-d20e-754246753bc5"
      },
      "source": [
        "#GPU 체크 및 할당\n",
        "if torch.cuda.is_available():    \n",
        "    device = torch.device(\"cuda\")\n",
        "    print('There are %d GPU(s) available.' % torch.cuda.device_count())\n",
        "    print('We will use the GPU:', torch.cuda.get_device_name(0))\n",
        "else:\n",
        "    device = torch.device(\"cpu\")\n",
        "    print('No GPU available, using the CPU instead.')"
      ],
      "execution_count": 207,
      "outputs": [
        {
          "output_type": "stream",
          "text": [
            "There are 1 GPU(s) available.\n",
            "We will use the GPU: Tesla T4\n"
          ],
          "name": "stdout"
        }
      ]
    },
    {
      "cell_type": "code",
      "metadata": {
        "colab": {
          "base_uri": "https://localhost:8080/"
        },
        "id": "1XtYJmNTfNt_",
        "outputId": "86444334-57ae-4ebb-f93a-487233f99685"
      },
      "source": [
        "#bert 모델 생성\n",
        "\n",
        "#transformers의 bertforsequenceclassification 모듈 이용.\n",
        "\n",
        "model = BertForSequenceClassification.from_pretrained(\"bert-base-multilingual-cased\", num_labels=2)\n",
        "model.cuda()"
      ],
      "execution_count": 208,
      "outputs": [
        {
          "output_type": "stream",
          "text": [
            "Some weights of the model checkpoint at bert-base-multilingual-cased were not used when initializing BertForSequenceClassification: ['cls.predictions.bias', 'cls.seq_relationship.bias', 'cls.predictions.transform.LayerNorm.bias', 'cls.predictions.transform.dense.bias', 'cls.seq_relationship.weight', 'cls.predictions.transform.dense.weight', 'cls.predictions.decoder.weight', 'cls.predictions.transform.LayerNorm.weight']\n",
            "- This IS expected if you are initializing BertForSequenceClassification from the checkpoint of a model trained on another task or with another architecture (e.g. initializing a BertForSequenceClassification model from a BertForPreTraining model).\n",
            "- This IS NOT expected if you are initializing BertForSequenceClassification from the checkpoint of a model that you expect to be exactly identical (initializing a BertForSequenceClassification model from a BertForSequenceClassification model).\n",
            "Some weights of BertForSequenceClassification were not initialized from the model checkpoint at bert-base-multilingual-cased and are newly initialized: ['classifier.bias', 'classifier.weight']\n",
            "You should probably TRAIN this model on a down-stream task to be able to use it for predictions and inference.\n"
          ],
          "name": "stderr"
        },
        {
          "output_type": "execute_result",
          "data": {
            "text/plain": [
              "BertForSequenceClassification(\n",
              "  (bert): BertModel(\n",
              "    (embeddings): BertEmbeddings(\n",
              "      (word_embeddings): Embedding(119547, 768, padding_idx=0)\n",
              "      (position_embeddings): Embedding(512, 768)\n",
              "      (token_type_embeddings): Embedding(2, 768)\n",
              "      (LayerNorm): LayerNorm((768,), eps=1e-12, elementwise_affine=True)\n",
              "      (dropout): Dropout(p=0.1, inplace=False)\n",
              "    )\n",
              "    (encoder): BertEncoder(\n",
              "      (layer): ModuleList(\n",
              "        (0): BertLayer(\n",
              "          (attention): BertAttention(\n",
              "            (self): BertSelfAttention(\n",
              "              (query): Linear(in_features=768, out_features=768, bias=True)\n",
              "              (key): Linear(in_features=768, out_features=768, bias=True)\n",
              "              (value): Linear(in_features=768, out_features=768, bias=True)\n",
              "              (dropout): Dropout(p=0.1, inplace=False)\n",
              "            )\n",
              "            (output): BertSelfOutput(\n",
              "              (dense): Linear(in_features=768, out_features=768, bias=True)\n",
              "              (LayerNorm): LayerNorm((768,), eps=1e-12, elementwise_affine=True)\n",
              "              (dropout): Dropout(p=0.1, inplace=False)\n",
              "            )\n",
              "          )\n",
              "          (intermediate): BertIntermediate(\n",
              "            (dense): Linear(in_features=768, out_features=3072, bias=True)\n",
              "          )\n",
              "          (output): BertOutput(\n",
              "            (dense): Linear(in_features=3072, out_features=768, bias=True)\n",
              "            (LayerNorm): LayerNorm((768,), eps=1e-12, elementwise_affine=True)\n",
              "            (dropout): Dropout(p=0.1, inplace=False)\n",
              "          )\n",
              "        )\n",
              "        (1): BertLayer(\n",
              "          (attention): BertAttention(\n",
              "            (self): BertSelfAttention(\n",
              "              (query): Linear(in_features=768, out_features=768, bias=True)\n",
              "              (key): Linear(in_features=768, out_features=768, bias=True)\n",
              "              (value): Linear(in_features=768, out_features=768, bias=True)\n",
              "              (dropout): Dropout(p=0.1, inplace=False)\n",
              "            )\n",
              "            (output): BertSelfOutput(\n",
              "              (dense): Linear(in_features=768, out_features=768, bias=True)\n",
              "              (LayerNorm): LayerNorm((768,), eps=1e-12, elementwise_affine=True)\n",
              "              (dropout): Dropout(p=0.1, inplace=False)\n",
              "            )\n",
              "          )\n",
              "          (intermediate): BertIntermediate(\n",
              "            (dense): Linear(in_features=768, out_features=3072, bias=True)\n",
              "          )\n",
              "          (output): BertOutput(\n",
              "            (dense): Linear(in_features=3072, out_features=768, bias=True)\n",
              "            (LayerNorm): LayerNorm((768,), eps=1e-12, elementwise_affine=True)\n",
              "            (dropout): Dropout(p=0.1, inplace=False)\n",
              "          )\n",
              "        )\n",
              "        (2): BertLayer(\n",
              "          (attention): BertAttention(\n",
              "            (self): BertSelfAttention(\n",
              "              (query): Linear(in_features=768, out_features=768, bias=True)\n",
              "              (key): Linear(in_features=768, out_features=768, bias=True)\n",
              "              (value): Linear(in_features=768, out_features=768, bias=True)\n",
              "              (dropout): Dropout(p=0.1, inplace=False)\n",
              "            )\n",
              "            (output): BertSelfOutput(\n",
              "              (dense): Linear(in_features=768, out_features=768, bias=True)\n",
              "              (LayerNorm): LayerNorm((768,), eps=1e-12, elementwise_affine=True)\n",
              "              (dropout): Dropout(p=0.1, inplace=False)\n",
              "            )\n",
              "          )\n",
              "          (intermediate): BertIntermediate(\n",
              "            (dense): Linear(in_features=768, out_features=3072, bias=True)\n",
              "          )\n",
              "          (output): BertOutput(\n",
              "            (dense): Linear(in_features=3072, out_features=768, bias=True)\n",
              "            (LayerNorm): LayerNorm((768,), eps=1e-12, elementwise_affine=True)\n",
              "            (dropout): Dropout(p=0.1, inplace=False)\n",
              "          )\n",
              "        )\n",
              "        (3): BertLayer(\n",
              "          (attention): BertAttention(\n",
              "            (self): BertSelfAttention(\n",
              "              (query): Linear(in_features=768, out_features=768, bias=True)\n",
              "              (key): Linear(in_features=768, out_features=768, bias=True)\n",
              "              (value): Linear(in_features=768, out_features=768, bias=True)\n",
              "              (dropout): Dropout(p=0.1, inplace=False)\n",
              "            )\n",
              "            (output): BertSelfOutput(\n",
              "              (dense): Linear(in_features=768, out_features=768, bias=True)\n",
              "              (LayerNorm): LayerNorm((768,), eps=1e-12, elementwise_affine=True)\n",
              "              (dropout): Dropout(p=0.1, inplace=False)\n",
              "            )\n",
              "          )\n",
              "          (intermediate): BertIntermediate(\n",
              "            (dense): Linear(in_features=768, out_features=3072, bias=True)\n",
              "          )\n",
              "          (output): BertOutput(\n",
              "            (dense): Linear(in_features=3072, out_features=768, bias=True)\n",
              "            (LayerNorm): LayerNorm((768,), eps=1e-12, elementwise_affine=True)\n",
              "            (dropout): Dropout(p=0.1, inplace=False)\n",
              "          )\n",
              "        )\n",
              "        (4): BertLayer(\n",
              "          (attention): BertAttention(\n",
              "            (self): BertSelfAttention(\n",
              "              (query): Linear(in_features=768, out_features=768, bias=True)\n",
              "              (key): Linear(in_features=768, out_features=768, bias=True)\n",
              "              (value): Linear(in_features=768, out_features=768, bias=True)\n",
              "              (dropout): Dropout(p=0.1, inplace=False)\n",
              "            )\n",
              "            (output): BertSelfOutput(\n",
              "              (dense): Linear(in_features=768, out_features=768, bias=True)\n",
              "              (LayerNorm): LayerNorm((768,), eps=1e-12, elementwise_affine=True)\n",
              "              (dropout): Dropout(p=0.1, inplace=False)\n",
              "            )\n",
              "          )\n",
              "          (intermediate): BertIntermediate(\n",
              "            (dense): Linear(in_features=768, out_features=3072, bias=True)\n",
              "          )\n",
              "          (output): BertOutput(\n",
              "            (dense): Linear(in_features=3072, out_features=768, bias=True)\n",
              "            (LayerNorm): LayerNorm((768,), eps=1e-12, elementwise_affine=True)\n",
              "            (dropout): Dropout(p=0.1, inplace=False)\n",
              "          )\n",
              "        )\n",
              "        (5): BertLayer(\n",
              "          (attention): BertAttention(\n",
              "            (self): BertSelfAttention(\n",
              "              (query): Linear(in_features=768, out_features=768, bias=True)\n",
              "              (key): Linear(in_features=768, out_features=768, bias=True)\n",
              "              (value): Linear(in_features=768, out_features=768, bias=True)\n",
              "              (dropout): Dropout(p=0.1, inplace=False)\n",
              "            )\n",
              "            (output): BertSelfOutput(\n",
              "              (dense): Linear(in_features=768, out_features=768, bias=True)\n",
              "              (LayerNorm): LayerNorm((768,), eps=1e-12, elementwise_affine=True)\n",
              "              (dropout): Dropout(p=0.1, inplace=False)\n",
              "            )\n",
              "          )\n",
              "          (intermediate): BertIntermediate(\n",
              "            (dense): Linear(in_features=768, out_features=3072, bias=True)\n",
              "          )\n",
              "          (output): BertOutput(\n",
              "            (dense): Linear(in_features=3072, out_features=768, bias=True)\n",
              "            (LayerNorm): LayerNorm((768,), eps=1e-12, elementwise_affine=True)\n",
              "            (dropout): Dropout(p=0.1, inplace=False)\n",
              "          )\n",
              "        )\n",
              "        (6): BertLayer(\n",
              "          (attention): BertAttention(\n",
              "            (self): BertSelfAttention(\n",
              "              (query): Linear(in_features=768, out_features=768, bias=True)\n",
              "              (key): Linear(in_features=768, out_features=768, bias=True)\n",
              "              (value): Linear(in_features=768, out_features=768, bias=True)\n",
              "              (dropout): Dropout(p=0.1, inplace=False)\n",
              "            )\n",
              "            (output): BertSelfOutput(\n",
              "              (dense): Linear(in_features=768, out_features=768, bias=True)\n",
              "              (LayerNorm): LayerNorm((768,), eps=1e-12, elementwise_affine=True)\n",
              "              (dropout): Dropout(p=0.1, inplace=False)\n",
              "            )\n",
              "          )\n",
              "          (intermediate): BertIntermediate(\n",
              "            (dense): Linear(in_features=768, out_features=3072, bias=True)\n",
              "          )\n",
              "          (output): BertOutput(\n",
              "            (dense): Linear(in_features=3072, out_features=768, bias=True)\n",
              "            (LayerNorm): LayerNorm((768,), eps=1e-12, elementwise_affine=True)\n",
              "            (dropout): Dropout(p=0.1, inplace=False)\n",
              "          )\n",
              "        )\n",
              "        (7): BertLayer(\n",
              "          (attention): BertAttention(\n",
              "            (self): BertSelfAttention(\n",
              "              (query): Linear(in_features=768, out_features=768, bias=True)\n",
              "              (key): Linear(in_features=768, out_features=768, bias=True)\n",
              "              (value): Linear(in_features=768, out_features=768, bias=True)\n",
              "              (dropout): Dropout(p=0.1, inplace=False)\n",
              "            )\n",
              "            (output): BertSelfOutput(\n",
              "              (dense): Linear(in_features=768, out_features=768, bias=True)\n",
              "              (LayerNorm): LayerNorm((768,), eps=1e-12, elementwise_affine=True)\n",
              "              (dropout): Dropout(p=0.1, inplace=False)\n",
              "            )\n",
              "          )\n",
              "          (intermediate): BertIntermediate(\n",
              "            (dense): Linear(in_features=768, out_features=3072, bias=True)\n",
              "          )\n",
              "          (output): BertOutput(\n",
              "            (dense): Linear(in_features=3072, out_features=768, bias=True)\n",
              "            (LayerNorm): LayerNorm((768,), eps=1e-12, elementwise_affine=True)\n",
              "            (dropout): Dropout(p=0.1, inplace=False)\n",
              "          )\n",
              "        )\n",
              "        (8): BertLayer(\n",
              "          (attention): BertAttention(\n",
              "            (self): BertSelfAttention(\n",
              "              (query): Linear(in_features=768, out_features=768, bias=True)\n",
              "              (key): Linear(in_features=768, out_features=768, bias=True)\n",
              "              (value): Linear(in_features=768, out_features=768, bias=True)\n",
              "              (dropout): Dropout(p=0.1, inplace=False)\n",
              "            )\n",
              "            (output): BertSelfOutput(\n",
              "              (dense): Linear(in_features=768, out_features=768, bias=True)\n",
              "              (LayerNorm): LayerNorm((768,), eps=1e-12, elementwise_affine=True)\n",
              "              (dropout): Dropout(p=0.1, inplace=False)\n",
              "            )\n",
              "          )\n",
              "          (intermediate): BertIntermediate(\n",
              "            (dense): Linear(in_features=768, out_features=3072, bias=True)\n",
              "          )\n",
              "          (output): BertOutput(\n",
              "            (dense): Linear(in_features=3072, out_features=768, bias=True)\n",
              "            (LayerNorm): LayerNorm((768,), eps=1e-12, elementwise_affine=True)\n",
              "            (dropout): Dropout(p=0.1, inplace=False)\n",
              "          )\n",
              "        )\n",
              "        (9): BertLayer(\n",
              "          (attention): BertAttention(\n",
              "            (self): BertSelfAttention(\n",
              "              (query): Linear(in_features=768, out_features=768, bias=True)\n",
              "              (key): Linear(in_features=768, out_features=768, bias=True)\n",
              "              (value): Linear(in_features=768, out_features=768, bias=True)\n",
              "              (dropout): Dropout(p=0.1, inplace=False)\n",
              "            )\n",
              "            (output): BertSelfOutput(\n",
              "              (dense): Linear(in_features=768, out_features=768, bias=True)\n",
              "              (LayerNorm): LayerNorm((768,), eps=1e-12, elementwise_affine=True)\n",
              "              (dropout): Dropout(p=0.1, inplace=False)\n",
              "            )\n",
              "          )\n",
              "          (intermediate): BertIntermediate(\n",
              "            (dense): Linear(in_features=768, out_features=3072, bias=True)\n",
              "          )\n",
              "          (output): BertOutput(\n",
              "            (dense): Linear(in_features=3072, out_features=768, bias=True)\n",
              "            (LayerNorm): LayerNorm((768,), eps=1e-12, elementwise_affine=True)\n",
              "            (dropout): Dropout(p=0.1, inplace=False)\n",
              "          )\n",
              "        )\n",
              "        (10): BertLayer(\n",
              "          (attention): BertAttention(\n",
              "            (self): BertSelfAttention(\n",
              "              (query): Linear(in_features=768, out_features=768, bias=True)\n",
              "              (key): Linear(in_features=768, out_features=768, bias=True)\n",
              "              (value): Linear(in_features=768, out_features=768, bias=True)\n",
              "              (dropout): Dropout(p=0.1, inplace=False)\n",
              "            )\n",
              "            (output): BertSelfOutput(\n",
              "              (dense): Linear(in_features=768, out_features=768, bias=True)\n",
              "              (LayerNorm): LayerNorm((768,), eps=1e-12, elementwise_affine=True)\n",
              "              (dropout): Dropout(p=0.1, inplace=False)\n",
              "            )\n",
              "          )\n",
              "          (intermediate): BertIntermediate(\n",
              "            (dense): Linear(in_features=768, out_features=3072, bias=True)\n",
              "          )\n",
              "          (output): BertOutput(\n",
              "            (dense): Linear(in_features=3072, out_features=768, bias=True)\n",
              "            (LayerNorm): LayerNorm((768,), eps=1e-12, elementwise_affine=True)\n",
              "            (dropout): Dropout(p=0.1, inplace=False)\n",
              "          )\n",
              "        )\n",
              "        (11): BertLayer(\n",
              "          (attention): BertAttention(\n",
              "            (self): BertSelfAttention(\n",
              "              (query): Linear(in_features=768, out_features=768, bias=True)\n",
              "              (key): Linear(in_features=768, out_features=768, bias=True)\n",
              "              (value): Linear(in_features=768, out_features=768, bias=True)\n",
              "              (dropout): Dropout(p=0.1, inplace=False)\n",
              "            )\n",
              "            (output): BertSelfOutput(\n",
              "              (dense): Linear(in_features=768, out_features=768, bias=True)\n",
              "              (LayerNorm): LayerNorm((768,), eps=1e-12, elementwise_affine=True)\n",
              "              (dropout): Dropout(p=0.1, inplace=False)\n",
              "            )\n",
              "          )\n",
              "          (intermediate): BertIntermediate(\n",
              "            (dense): Linear(in_features=768, out_features=3072, bias=True)\n",
              "          )\n",
              "          (output): BertOutput(\n",
              "            (dense): Linear(in_features=3072, out_features=768, bias=True)\n",
              "            (LayerNorm): LayerNorm((768,), eps=1e-12, elementwise_affine=True)\n",
              "            (dropout): Dropout(p=0.1, inplace=False)\n",
              "          )\n",
              "        )\n",
              "      )\n",
              "    )\n",
              "    (pooler): BertPooler(\n",
              "      (dense): Linear(in_features=768, out_features=768, bias=True)\n",
              "      (activation): Tanh()\n",
              "    )\n",
              "  )\n",
              "  (dropout): Dropout(p=0.1, inplace=False)\n",
              "  (classifier): Linear(in_features=768, out_features=2, bias=True)\n",
              ")"
            ]
          },
          "metadata": {
            "tags": []
          },
          "execution_count": 208
        }
      ]
    },
    {
      "cell_type": "code",
      "metadata": {
        "id": "7Va7hX1IfPRw"
      },
      "source": [
        "# 학습 스케쥴링\n",
        "# 옵티마이저 설정\n",
        "optimizer = AdamW(model.parameters(),\n",
        "                  lr = 2e-5, # 학습률\n",
        "                  eps = 1e-8 # 0으로 나누는 것을 방지하기 위한 epsilon 값\n",
        "                )\n",
        "\n",
        "# 에폭수\n",
        "epochs = 4\n",
        "\n",
        "# 총 훈련 스텝\n",
        "total_steps = len(train_dataloader) * epochs\n",
        "\n",
        "# lr 조금씩 감소시키는 스케줄러\n",
        "scheduler = get_linear_schedule_with_warmup(optimizer, \n",
        "                                            num_warmup_steps = 0,\n",
        "                                            num_training_steps = total_steps)"
      ],
      "execution_count": 209,
      "outputs": []
    },
    {
      "cell_type": "markdown",
      "metadata": {
        "id": "CFBUKU6xcnQI"
      },
      "source": [
        "#학습"
      ]
    },
    {
      "cell_type": "code",
      "metadata": {
        "id": "Qqwge0XJfRWg"
      },
      "source": [
        "# 정확도 계산 함수\n",
        "def flat_accuracy(preds, labels):\n",
        "    pred_flat = np.argmax(preds, axis=1).flatten()\n",
        "    labels_flat = labels.flatten()\n",
        "    return np.sum(pred_flat == labels_flat) / len(labels_flat)\n",
        "\n",
        "# 시간 표시 함수\n",
        "def format_time(elapsed):\n",
        "    # 반올림\n",
        "    elapsed_rounded = int(round((elapsed)))\n",
        "    # hh:mm:ss으로 형태 변경\n",
        "    return str(datetime.timedelta(seconds=elapsed_rounded))"
      ],
      "execution_count": 210,
      "outputs": []
    },
    {
      "cell_type": "code",
      "metadata": {
        "colab": {
          "base_uri": "https://localhost:8080/"
        },
        "id": "io9vvScBfS1u",
        "outputId": "c3537c73-3940-4d53-9ff0-13313bd284c3"
      },
      "source": [
        "# 아래는 학습 실행 부분입니다.\n",
        "# 재현을 위해 랜덤시드 고정\n",
        "seed_val = 42\n",
        "random.seed(seed_val)\n",
        "np.random.seed(seed_val)\n",
        "torch.manual_seed(seed_val)\n",
        "torch.cuda.manual_seed_all(seed_val)\n",
        "\n",
        "# 그래디언트 초기화\n",
        "model.zero_grad()\n",
        "\n",
        "# 에폭만큼 반복\n",
        "for epoch_i in range(0, epochs):\n",
        "    \n",
        "    # ========================================\n",
        "    #               Training\n",
        "    # ========================================\n",
        "    \n",
        "    print(\"\")\n",
        "    print('======== Epoch {:} / {:} ========'.format(epoch_i + 1, epochs))\n",
        "    print('Training...')\n",
        "\n",
        "    # 시작 시간 설정\n",
        "    t0 = time.time()\n",
        "\n",
        "    # 로스 초기화\n",
        "    total_loss = 0\n",
        "\n",
        "    # 훈련모드로 변경\n",
        "    model.train()\n",
        "        \n",
        "    # 데이터로더에서 배치만큼 반복하여 가져옴\n",
        "    for step, batch in enumerate(train_dataloader):\n",
        "        # 경과 정보 표시\n",
        "        if step % 500 == 0 and not step == 0:\n",
        "            elapsed = format_time(time.time() - t0)\n",
        "            print('  Batch {:>5,}  of  {:>5,}.    Elapsed: {:}.'.format(step, len(train_dataloader), elapsed))\n",
        "\n",
        "        # 배치를 GPU에 넣음\n",
        "        batch = tuple(t.to(device) for t in batch)\n",
        "        \n",
        "        # 배치에서 데이터 추출\n",
        "        b_input_ids, b_input_mask, b_labels = batch\n",
        "\n",
        "        # Forward 수행                \n",
        "        outputs = model(b_input_ids, \n",
        "                        token_type_ids=None, \n",
        "                        attention_mask=b_input_mask, \n",
        "                        labels=b_labels)\n",
        "        \n",
        "        # 로스 구함\n",
        "        loss = outputs[0]\n",
        "\n",
        "        # 총 로스 계산\n",
        "        total_loss += loss.item()\n",
        "\n",
        "        # Backward 수행으로 그래디언트 계산\n",
        "        loss.backward()\n",
        "\n",
        "        # 그래디언트 클리핑\n",
        "        torch.nn.utils.clip_grad_norm_(model.parameters(), 1.0)\n",
        "\n",
        "        # 그래디언트를 통해 가중치 파라미터 업데이트\n",
        "        optimizer.step()\n",
        "\n",
        "        # 스케줄러로 학습률 감소\n",
        "        scheduler.step()\n",
        "\n",
        "        # 그래디언트 초기화\n",
        "        model.zero_grad()\n",
        "\n",
        "    # 평균 로스 계산\n",
        "    avg_train_loss = total_loss / len(train_dataloader)            \n",
        "\n",
        "    print(\"\")\n",
        "    print(\"  Average training loss: {0:.2f}\".format(avg_train_loss))\n",
        "    print(\"  Training epcoh took: {:}\".format(format_time(time.time() - t0)))\n",
        "        \n",
        "    # ========================================\n",
        "    #               Validation\n",
        "    # ========================================\n",
        "\n",
        "    print(\"\")\n",
        "    print(\"Running Validation...\")\n",
        "\n",
        "    #시작 시간 설정\n",
        "    t0 = time.time()\n",
        "\n",
        "    # 평가모드로 변경\n",
        "    model.eval()\n",
        "\n",
        "    # 변수 초기화\n",
        "    eval_loss, eval_accuracy = 0, 0\n",
        "    nb_eval_steps, nb_eval_examples = 0, 0\n",
        "\n",
        "    # 데이터로더에서 배치만큼 반복하여 가져옴\n",
        "    for batch in validation_dataloader:\n",
        "        # 배치를 GPU에 넣음\n",
        "        batch = tuple(t.to(device) for t in batch)\n",
        "        \n",
        "        # 배치에서 데이터 추출\n",
        "        b_input_ids, b_input_mask, b_labels = batch\n",
        "        \n",
        "        # 그래디언트 계산 안함\n",
        "        with torch.no_grad():     \n",
        "            # Forward 수행\n",
        "            outputs = model(b_input_ids, \n",
        "                            token_type_ids=None, \n",
        "                            attention_mask=b_input_mask)\n",
        "        \n",
        "        # 로스 구함\n",
        "        logits = outputs[0]\n",
        "\n",
        "        # CPU로 데이터 이동\n",
        "        logits = logits.detach().cpu().numpy()\n",
        "        label_ids = b_labels.to('cpu').numpy()\n",
        "        \n",
        "        # 출력 로짓과 라벨을 비교하여 정확도 계산\n",
        "        tmp_eval_accuracy = flat_accuracy(logits, label_ids)\n",
        "        eval_accuracy += tmp_eval_accuracy\n",
        "        nb_eval_steps += 1\n",
        "\n",
        "    print(\"  Accuracy: {0:.2f}\".format(eval_accuracy/nb_eval_steps))\n",
        "    print(\"  Validation took: {:}\".format(format_time(time.time() - t0)))\n",
        "\n",
        "print(\"\")\n",
        "print(\"Training complete!\")"
      ],
      "execution_count": 211,
      "outputs": [
        {
          "output_type": "stream",
          "text": [
            "\n",
            "======== Epoch 1 / 4 ========\n",
            "Training...\n",
            "  Batch   500  of    844.    Elapsed: 0:06:13.\n",
            "\n",
            "  Average training loss: 0.29\n",
            "  Training epcoh took: 0:10:27\n",
            "\n",
            "Running Validation...\n",
            "  Accuracy: 0.92\n",
            "  Validation took: 0:00:24\n",
            "\n",
            "======== Epoch 2 / 4 ========\n",
            "Training...\n",
            "  Batch   500  of    844.    Elapsed: 0:06:10.\n",
            "\n",
            "  Average training loss: 0.16\n",
            "  Training epcoh took: 0:10:25\n",
            "\n",
            "Running Validation...\n",
            "  Accuracy: 0.94\n",
            "  Validation took: 0:00:24\n",
            "\n",
            "======== Epoch 3 / 4 ========\n",
            "Training...\n",
            "  Batch   500  of    844.    Elapsed: 0:06:10.\n",
            "\n",
            "  Average training loss: 0.10\n",
            "  Training epcoh took: 0:10:24\n",
            "\n",
            "Running Validation...\n",
            "  Accuracy: 0.95\n",
            "  Validation took: 0:00:24\n",
            "\n",
            "======== Epoch 4 / 4 ========\n",
            "Training...\n",
            "  Batch   500  of    844.    Elapsed: 0:06:09.\n",
            "\n",
            "  Average training loss: 0.06\n",
            "  Training epcoh took: 0:10:23\n",
            "\n",
            "Running Validation...\n",
            "  Accuracy: 0.95\n",
            "  Validation took: 0:00:24\n",
            "\n",
            "Training complete!\n"
          ],
          "name": "stdout"
        }
      ]
    },
    {
      "cell_type": "markdown",
      "metadata": {
        "id": "z5t8Y7NdcvHe"
      },
      "source": [
        "#테스트셋 평가"
      ]
    },
    {
      "cell_type": "code",
      "metadata": {
        "colab": {
          "base_uri": "https://localhost:8080/"
        },
        "id": "CaqyKSYUfXsJ",
        "outputId": "42fe5984-5b1a-40a5-a5f9-900cf548978c"
      },
      "source": [
        "#시작 시간 설정\n",
        "t0 = time.time()\n",
        "\n",
        "# 평가모드로 변경\n",
        "model.eval()\n",
        "\n",
        "# 변수 초기화\n",
        "eval_loss, eval_accuracy = 0, 0\n",
        "nb_eval_steps, nb_eval_examples = 0, 0\n",
        "\n",
        "# 데이터로더에서 배치만큼 반복하여 가져옴\n",
        "for step, batch in enumerate(test_dataloader):\n",
        "    # 경과 정보 표시\n",
        "    if step % 100 == 0 and not step == 0:\n",
        "        elapsed = format_time(time.time() - t0)\n",
        "        print('  Batch {:>5,}  of  {:>5,}.    Elapsed: {:}.'.format(step, len(test_dataloader), elapsed))\n",
        "\n",
        "    # 배치를 GPU에 넣음\n",
        "    batch = tuple(t.to(device) for t in batch)\n",
        "    \n",
        "    # 배치에서 데이터 추출\n",
        "    b_input_ids, b_input_mask, b_labels = batch\n",
        "    \n",
        "    # 그래디언트 계산 안함\n",
        "    with torch.no_grad():     \n",
        "        # Forward 수행\n",
        "        outputs = model(b_input_ids, \n",
        "                        token_type_ids=None, \n",
        "                        attention_mask=b_input_mask)\n",
        "    \n",
        "    # 로스 구함\n",
        "    logits = outputs[0]\n",
        "\n",
        "    # CPU로 데이터 이동\n",
        "    logits = logits.detach().cpu().numpy()\n",
        "    label_ids = b_labels.to('cpu').numpy()\n",
        "    \n",
        "    # 출력 로짓과 라벨을 비교하여 정확도 계산\n",
        "    tmp_eval_accuracy = flat_accuracy(logits, label_ids)\n",
        "    eval_accuracy += tmp_eval_accuracy\n",
        "    nb_eval_steps += 1\n",
        "\n",
        "print(\"\")\n",
        "print(\"Accuracy: {0:.2f}\".format(eval_accuracy/nb_eval_steps))\n",
        "print(\"Test took: {:}\".format(format_time(time.time() - t0)))"
      ],
      "execution_count": 219,
      "outputs": [
        {
          "output_type": "stream",
          "text": [
            "  Batch   100  of    313.    Elapsed: 0:00:27.\n",
            "  Batch   200  of    313.    Elapsed: 0:00:53.\n",
            "  Batch   300  of    313.    Elapsed: 0:01:18.\n",
            "\n",
            "Accuracy: 0.94\n",
            "Test took: 0:01:21\n"
          ],
          "name": "stdout"
        }
      ]
    },
    {
      "cell_type": "markdown",
      "metadata": {
        "id": "HKd-PT3hcyJg"
      },
      "source": [
        "#테스트 정확도(결과)\n",
        "\n",
        "epoch 4회에 준수한 정확도가 나옵니다.\n",
        "\n",
        "문제\n",
        "1. fine tuning에 쓸 데이터 따로 존재하지 않음(과적합)\n",
        "2. \n",
        "\n",
        "\n",
        "----"
      ]
    },
    {
      "cell_type": "markdown",
      "metadata": {
        "id": "CHemXsEQxkHV"
      },
      "source": [
        "길이 조정된(128자) train data 10000개로 학습, 길이 조정된 test data 1000개로 테스트 결과"
      ]
    },
    {
      "cell_type": "markdown",
      "metadata": {
        "id": "N-lN0ZsHxdSc"
      },
      "source": [
        "![image.png](data:image/png;base64,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)"
      ]
    },
    {
      "cell_type": "markdown",
      "metadata": {
        "id": "rRvcY0kQxynF"
      },
      "source": [
        "길이 조정된(128자) train data 30000개로 학습, 길이 조정된 test data 5000개 가량으로 테스트 결과"
      ]
    },
    {
      "cell_type": "markdown",
      "metadata": {
        "id": "weqSHxGexyp7"
      },
      "source": [
        "![image.png](data:image/png;base64,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)"
      ]
    },
    {
      "cell_type": "markdown",
      "metadata": {
        "id": "lz42L9yLxyth"
      },
      "source": [
        "길이 조정된(128자) train data 30000개로 학습, *** 길이 조정되지 않은 *** test data 10000개 가량으로 테스트 결과"
      ]
    },
    {
      "cell_type": "markdown",
      "metadata": {
        "id": "GMY7oWjVxyv8"
      },
      "source": [
        "![image.png](data:image/png;base64,iVBORw0KGgoAAAANSUhEUgAAA0wAAADaCAYAAACVSsJ0AAAgAElEQVR4Ae2d2csktffGf/+K915645XgheCFCCKCgogioiiKMiojioqKG+7ruOE6jooLivu4IO6O2yiuIzrquM6476PWj09/52nPmzepqu6uXt7uJ9BUdVXlJHmSSs5zcpL6v8rBCBgBI2AEjIARMAJGwAgYASNgBLII/F/2qi8aASNgBIyAETACRsAIGAEjYASMQGXC5EZgBIyAETACRsAIGAEjYASMgBEoIGDCVADGl42AETACRsAIGAEjYASMgBEwAiZMbgNGwAgYASNgBIyAETACRsAIGIECAiZMBWB82QgYASNgBIyAETACRsAIGAEjYMLkNmAEjIARMAJGwAgYASNgBIyAESggYMJUAMaXjYARMAJGwAgYASNgBIyAETACJkxuA0bACBgBI2AEjIARMAJGwAgYgQICJkwFYHzZCBgBI2AEjIARMAJGwAgYASNgwuQ2YASMgBEwAkbACBgBI2AEjIARKCBgwlQAxpeNgBEwAkbACBgBI2AEjIARMAImTG4DRsAIGAEjYASMgBEwAkbACBiBAgImTAVgfNkIGAEjYASMgBEwAkbACBgBI2DC5DZgBIyAETACRsAIGAEjYASMgBEoIGDCVABmUS//+OOP1VtvvdX7ffDBB4sKw0TK/e+//46cThcyRs7EDAn49ddfq82bN1dvvPFGRfv9+eefZyh3Kysrs9C2ZiEPK6vWZi+3vIMaU+KRscahOwT++eefXp8njN9+++1q+/bt3SUwAUmz8r53kY8uZIwK+SzkYdQyzFJ8E6ZZqo0p5+Xvv/+udt5552qnnXbq/959990p52p2kkcZf+aZZ6pzzz232nPPPau99tpr4Mxt3LixOvnkk6tdd921h/WRRx5Z3X///QPJ6ULGQAnO+MN//vlndfvtt1e77bZbv93GNvziiy/OeAlmI3sQzfPOO6/aY489+jjuvffe1VVXXVX98ccfrTO5devW6sEHH6xWr17dq5OzzjqrdVwefPXVV6vjjz++X5/0SQcccED10EMPDSTHD88GArvssku/PcX38phjjpmNDM5JLi677LJlOD/88MMronS820cddVRvTGRsPOmkk6rXXnttonn/+uuve/0f4zrtlD7n6quvrhhf2oYuZLRNq/Tc888/38NP5eD9O/TQQ6sXXnihFKV//fHHH6/OPvvsxt8ll1xSoS8uWlh4woSV65prrqkuvvji7I+Gccstt1QvvfRShcI8iUCeeFnpQLAaTSpgjdBLpoHtzTffnFTyM5vOV199VR188MHLBiMwGqTTQBEUrumRjrlN6EJGm3RW0jPHHXdcEVdw5r5DPQKQ9rRNxv+777579cMPP9QKefnll5f1H8jYf//9a+PFm2eccUZtPlCybTWNiI3nfP369dnxsDROcv2OO+7IZmbffffN1ukRRxyRfd4Xh0PgrrvuWobzoMa44VIeLdZNN920LN/qe9oo+aOl/r/Y3377bUUfp3Tj8bDDDqv++uuvxmS6kNGYSM0D3333XW+si3lPz5uMV6nBPI0f/2/ZsqUmN/N5a+EJ03333Zd9SWLD0DmN6dZbbx17S6CTUJrffPPN2NNLE2AqX+mbMFU9y7bwSI9tCdMXX3zRx5R2BBFnoIjW/KbBrQsZaV2v9P/vvPNOH1ewxEL24YcfVrTbRx55pKfEYfVzqEcgDpQoCHfeeWf1wAMPLCFATTMCp556ar8u4nvSljDhQql45IcZKmaq6HNj/phNdBgfAhBS1cOgx08//TSbMRRODIH8aF/INWHKQjXSRcYjDBuqt6YxZaTEOohMf628Qliuv/766vLLL1/yvn/yyScdpFQWgVE6GorxAFm3bl11yCGH9PPGtbrQhYw6+W3unXDCCf380l8yEYBHzNq1a5fgSZ+aC0wIqC7AY5999ln2i7PFv/32W07MXF9beMKEEooiEBVXGsqBBx7Y++F6pUak4z333DPWRvHcc8/10/z888/HmlZOOB2UymrCVPWsS1hcce2iU7nxxhv7+LQlTBAkYfrEE0/0YYcQqxOik6oLXciok78S7zHACle7jw5fg5CSCy+8sEoNNL///vsSy2udax4WTlxrWEPBeyHFuC1hwvXlnHPOqW6++eaKdGP46KOP+vXcVl6M7/PBELjiiit6CiPuUXq/NCamR+pDz7z//vuNCR199NG9502YGqEa6gGUd9XHrBOm/fbbr5dXFPyo6+BWpjLgAj/OEA3UuKMp0IfR1pUP+rdS6EJGSXbb64cffngvrxBPvGJi2LRpU78c3M8Fysv7jmt7Sa8588wze3JIaxHDwhMmVfqTTz7Zb1CplQyffCwOenFoVE3hl19+6S3AxIWKHw24rStJl4QJyx6W2w0bNlRMocYXIVVKVKYcYSIegyGL6X/66Sc9upDHQQkT2IkUHXTQQcsww+VTbQtlMxe6kJGTO+1rDO6fffZZ9frrry9T1tvk7YILLuhj1/b9aiPXz/yHAO6iap+DbAQzKGH6L8X8Ge8O+UC5cpgMAmvWrOnXfSlFxjq1j3ETJt5x+gv6SQxYtMdJW7rJw7Zt2yoMNLjqM17KZYvrqbJawg05GGxRtikPOHYRVgphikYQ1kmmgfW9et/rDDVpvEH/H3vssf32m+pE1LHa9g033FAU3YWMovCWNzBW0UeCay6IUFGe0vIS9Ax+uUAb10z/rBPxXP67uGbCtAPFOsIkoONLUbI24MbCQmm9ZPGI0oybUC7QSFl0zQBw22239eM/9dRTPaLCQKQfz6iDzsniGh15Lh80eNYJMKtG3q677rplIiJhYl0CFp5YDs7BomlNwzLBc3JhUMLE4lXhh/U8DdS77rMWIBe6kJGTO61rKAm5tQ20Tzr2jz/+uJg1rI+nn356hQtYnBnmf/rj/XEYDQHcUdQ+U4WiTnKXhAnlUpt6YPV1mAwCbQhTdOUZF2HCrZaNAKSwqT3qyCYhGDbTgPFRxiqe5TnGWsZYFHKMn8ikTbHhCetQ6gKKYs7rBNnxekkhRTaESuOv8q8j1n90kaaAIk9fpz6UeKtWrarY5GFQwgQeuG7hCofhindtEiG2rZx3wN13393vd6jHNoHlBMyOgmGbzRoou7DPzXiChdoPWOdCFzJSuewsee+99/ZcFNEPugi0fZUVoj5oiDryohrNTZh2tJrYGNIZJjWsqDjkCBNWIjXIumOuQzzllFNaxZVcOvtc4OUdRBYbS6QhEiallzsuqmvMoIQJkiz8WHOTC+qU6dRyoQsZObmTvoalsGmTBmF15ZVXZrOXMwQoTnpEyXYYHoH33nuv33bZaWmQ0BVhQmlBeVDd4obpMBkEolIbU+TdhGh8+eWXvcsiMqlLZ4yj82Fc8tSW1AZyR/oFxr8YotJNHPpZuYHlZFCO0m6Mjz76aL8NShZEJSeHdZS5ENtxLp6ugVFaFuRxDez1XO544okn9u83zQQgLxqdkAfxmkTA6EV6YJ4jadGQSD02BQhkxAMynMMwyoEgK07OmMmzIhq0nVzoQkaUywyq8qQjG3qMEpiFlY7BMYd3k3x0RfLDu7iowYRpR803ESYUXQ0KdDC5ID9RnmMWh7UqECtmYuIONjkfUmYW9HK0OWJty4Vrr712iRxIHh09boEo+qzPivJzSlBKmFA6WSjIIABOcZDAMrVoYVDCREcszEvuGlp0WrKedyFjFuop7oLGe8JAiNLFwEa7w8oprDjmFqgya8QMJx14tOrSkXNNP5SOXPxZwGGW80B/hQVeAyT1QF1hfR4kSMkd1rBCe6A/iwSZ9yRnrBokX362PQIlwqRdQ5ntJWDZx+27TRiGMGlBO1Z+XJgZj5ntZEZLrpq005Ts0K8we6H8xr6FRf0XXXRRxbqM2I/wTPopAmaMNP4zHkZChDLK+r8oO+e6GjdT4lnWpIpgMhvC2KpZVO5feumly+CM7rE8gzLPeIRLGzvrxjxw3kSYot4T4ypfyzLQ4QVmdEizZNRiFkN5yrnsxazQJ+jZeHzsscfiY8vOo8tdaayIHjY5AtaFjJixmJ7KUtI5Y7y689g+2X5+0PD999/38WWjtEUNJkw7aj52HMzQQGDoTLFapB1R3fQwU6m5l4pkYqPNTdlzDT9mXnK9KFh4uRZ/JZ9tOnHF45j7jgEW/jjANBEmOjN2Norh2Wef7afD9PeihUEJU1xnU6o7Deg5Mg2+XciYdj2hhKh9YuUqDcpsNKLnUFLqdrljK2M929UagGnjNO30Y1sTtiW/+Lq8jkqY5G6kPGAxLr0/dfnwveERiIRJ9RCPTz/99MDChyFMWMTTcUgJR2X5/PPP1+Ulxzj7QJ+SEiLG7LiBDONeHKPj2Mp65lwAC2GTknryHw2NJVdhDGqaCUBWdE2OeeAZCFga0hm1JsIUx3LlPU03TaOr/zLecswFMFOeTjvttNwj/WuRXCkOx6aZGQy+eh4sciG+A7kxqwsZMV30TuVJR+p72EBbi3Jiu24rk51JJWNRl2KAlQnTjhYTCZMaRu5IR4rlsy5wn44KaxAWdSwGrBWK1vWcBUoyh930IVqfsBCXAkqHZjRyWwWTf5U91+FAunSf6f9FC4MSpljvJTIt5bK0oUgXMqZdT+xApHbD+1YXsK7q2bpB34SpDsXh7uFajPU9Km4omW3cYmKKatPDzjChiECaZNmnPaB05gxBMV2fd4dAVBb1PsbjpAgTJWLdLumxoyOknj4Rwya71qqtMiuaC5EwlWYSiBfd7tnyWgFjjMqNARWjTm49H2Nnzusijqklt2ulxeYCSivuyMs3dHS9tBYaGXJ149m6vpNnGY8YcySXY86Iqrx1eZQrYF3/oHy10TM0C6k49BtNBpZonGbddy7E+sBdLg1dyIgyY1tRWYZ1Q46zX8ga1EtA+RK5nVTbULqzdjRh2lEjkTBhpUIp1lQ3il7cXpKGl5vqpaHHnUjU2HPHnHVIjWNYwiTLHek1LcrDkoWbF3lOQ3xhS8qJ8FjEj4IOSpgikU0tj8Je1vSSta0LGUprWsfoWlUijsobBgW9NxgcSsGEqYTM6NepI/CNhKXUH+RSG5UwSSYWzeimQn6YyXcYPwKRMNEe9NOMeJ23RSl3Gqdyi+xLcSBJIkXqF3LH0nbHIky0nbqAi5/k4h4cA8qi7sUj+cIACVlj04UckYK4xDi4AJZ+8X2DFCpozB2kDE2ECdmQQZ7DNRGyt337diU51qM8XcAhF6JhFu+cpkDbpD1CLFkrVpqRjHLoz1QvkSDHZ+JyiRwB60JGTI9z3NT5TiPlxoA1TKAtx7aUM363kcsspzCKBL5N3Hl7xoRpR41GwlTa9AH3ODVAFNwYcBuKHTrPYUmiweOrjPUjWnLGQZjkh93UocZ8584jYSp9h0kfdTNhWrrIOIdnXOibI6jEkbtGaTOPLmTk8jbJa3p32vhjMzCpky5Zjcm7CdP4a5B1IaoLLPBtQ1eESelJ6SUvbRRBxfNxeAQiYYpS5LapsZLZn7auPoMSprh+k7pn7IVIQGgg0tFlvokwlQxSKlvsd1LvC0i61t3ofcgd0QPStapNGzXk5HAtrmNS/wk5qwvUg+TN8nuizSnAKxfQqVQOCPM4Au1XaZQIhfqdkl7VhYyuy5aSJYy8w4b4/UfWMi1yMGHaUfttCBOPxh3o4mxBXJ9EJ57b0jKuzWhLmEoKdq7R6rsFdABtB6+cHBOmHCr/XRt0hin6iceP1kpiHOCiRVH3OXYhI8qbxnncnYqtb+tC/EZHnZJuwlSHYjf3Yvusc59JU+uaMMWPQw6zcDnNn/83I1AiTMSM1nYZfNqMO4MQJoiYFFoMjrgY5YIMeE2EqaScS2a0ppf6Yrw3cOvjI8voAyj+zD6J0JDflGxFgxf6AZtl1P30baY42yOMS27bKkPsO2eZMEWdKepSKkd839m4ahwhEuT40dqYlsatkqGvCxkxvVHPmZGKbfGaa64ZWiTjtAz9zCovejBh2tEC2hImOlF14HEhtKxcpR1fSIbOS3HrCBPfPtJzpRmeXMONVqw2HSWDT26AM2HKofvftUEJU9x2lAE2DXFRZqneupCRpjvp//HdYTCsC3G3xzo3ABOmOhS7uYfSpv6otItjLqWuCRM7fSofTbtmkR/6N2b5UR7on/lGnsNgCNQRJknCBU31Urc2V88PQpjipzpKfSObAzDukocmwsQzdX1PtKbHGQeUYowFdWtJmFUSDimpYbzXPYjCMEG4IadEHJE7qB6wfv36/i6CED0+Tj+JENf+5NaVRTfczz//vDFLw77vWkuV091wB1a9lXYmJmNdyFABISm0MzyGIPiMm9q+X8+UjilZYkfJUQLrulT++D60lTmtttU2f4M+Z8K0A7E2hAmlVWybhkxHrSDCROPKWUvoMImjxldHmNgyVc+hEOYCU65MU8cZqBgPJWHLli25qL048ofOuTuZMGVh618clDARUbN/1EvaPhjkqW/uRattP8EdJ13ISGVO8n+cJWNwKvmYx/VL4FJqx+TdhGn0GmQhM6Q9NyuOdPoZ9UeDzOwMSphQ1CBFsV+NpaOvUj5KC7T1PDLkoqw4HNsqHpKz6Mc2hCluiMC41BSk+LdZw/TKK6/06xw3wDSwbiUaYtoQJvqeOG5KZjRc0Vbkbsj9SNzqNlyQHkBfHgOkkmtqi3Fb8vgc54wBbN0MYYi75MUP2uOWl3OPiutpSKtEMpVmdHtT3pjJKr2DitfFkdlDYYI+Er0OmMWTvtRmZmOU9x1SobJjrI4hjvV1GyZ0IUPpspZK+dERt8CmAGEUnsTLERx2u2ONV5y5rJO7evXqfl5SvaUuHvem2baa8jbs/YUnTHS4NLRolcESycDNDyWP/3ReeoFpjDS6GJieV+Pm5cdiwgwU8dPdW3gORY/BhfTTEF1gIGhYxBjoWZCJdUo73CEnXfMSLWTcx/+btVdYv3jh2Z5T+eRIuWLAohLXLKxdu7aK1h3yS76VBwYI5OfKEeWu5HM6F9qI2oR8msEPxY3rDKi5LUdVbupOuDMAbNu2rWJRK5ZyXWfgrwtdyKiTP4l7cRcq3ieUD21TShtloavw4JizkDGYgjvvRVSWcHfkmn7US4kETKKsKyUNufpQH/RjKI7UCe992p/UzSBQLxs3buy/J9pZCeur3h3eo9yGDdE6D9GhPyYOyjj9C5ZvtQsUXt6dupD7+CPx6Q8dmhGg/unTsKoLd9Vheoz9UkqYGBcwDsY4zNQgk7VI8TrnKaElH0qfI4SdfCETAqG2q2docxDvrVu3Lilk7LP1LH0HCiQGARmjdI9dbWOgXeseR+JiyBGxoO+Pa61yu4nFD9+i2NK30e4hCpAkyA5yo9LLhgMKYBmNALyv9Jf0hbyzcRc95RWSGT1hJEvH6CqoOBwxvk4isMGW0qWsEEuIYKyPNu54o7zvsY2BKWSWeo0GvpI7njDqQoZkaW2XcNFR93NH2o+M+TzPe4GXRvzhmidZbTyXkKnn2aBj0DDttjVofts8v/CEKXZyahxNRzY6SAnCF198saSjy8mQ9SneK23VmyqOMU48T91MUO75qGd8pnSO9YCXQoFOInbWMZ6ei7u1xftYIuc15L6LEMuuc7ArKegMipEsKI6ODIQ5i2HEtAsZUd40zjEGaIctlb10RHmQQhLzmnuPSjJSg0CU4/P/IZAaUUpYolzWBe30WIqv6zllkv4UIqRn6o5tlDnelZy8OitxXdkW6V7dOFBXL9xLCVP8PEBTXO6jsKaBd7guLv2uXKL0XCpHhInrWpOiZ9Mju8Wl4zsELX2O/6SNzPReyYMkflohjZP+p0ybN29eAgcGh1x6MW6KBfdKpClHNChTzlV/SUY6+oOXQdw9NZaDc1xq07rIJT3q+86MXpq2/oMHJL0pdCGDNHJymmbZcFtXftsc0/c0VzZmJyXrzjvvzD1Se23abas2c0PeXHjClE7Dq4GkR9g7ihrTnKUXGCuUZl5ifDowbUOurTS5z4uIda4USCu1oBEPxYRvA6TWuCgHF8NcXOLjtoD1JBfkqhfzjxxN4caXKD6TErec7JV6rVTmWH7O6fhLbYOylwgP8ZhxahO6kNEmnXE/w/a7OYUWHLES1ym2cTY3rYP0PzOkDvUIQPKZ6cz1XeBJ/8UC9aYQv/+S1kP8n87OSy4GAxTbUruAaOVcqRQ/PeI/L+WRvrb0UdM0nv9XS3aei3VXd84YmSrabftOyc1tKoLrVtzaWc9Sp1jjcRWKn+LgfmoRF2GCLNFHM7vDOCjyQTvB0MgsTy7ENaS8J6StfMQjMpkRrQvMpJXeNWRRJt630lhCeeMMjNKnLBha42wt97hO/kuBj88LB8b6SY/lzM7kjC145pQwyJVl1PcdfUtY6ggudWNRmo8uZDB7HmfUabNNRiJcN1WHynvpyHvaNENPuaI7Xlv9JMVj2m0rzc+o/xeeMI0KYBofhRarEESIjhGXklEDgxAWK14KzfS0lYmbDIMAxBDrFP8dposAVjUILa6Pdetz6nLZhYw6+ZO6h3sW1jvwwN2rTUc+qbwtYjr0NRs2bKjWrVtX4eKIZXoQpaUrzBig+Ugp+UAZHvY9IT8okNMoQ1dYWM7/EGDswpWIsYwxlrG2bYiEKY3Ttm1A1jdt2tSLTtqscWJsffHFF3tjK4r/IIGxnDGZvg+lfNB2ivsafSe6BnFHCWBQZ4AdRXbbuKSPIQ3iMyiWMY1BcYxxIef0f7iTUTeDtDHJ6UIGsuiLm7xOlOY4jriZ0r7r3LDbpDsLbatNPts8Y8LUBiU/YwSMgBEwAkbACKxIBOoI04oskDNtBIzAxBEwYZo45E7QCBgBI2AEjIARmBQCJkyTQtrpGIH5RcCEaX7r1iUzAkbACBgBI7CwCOBOxPb2cc0R64f0W7Vq1cJi44IbASMwGAImTIPh5aeNgBEwAkbACBiBFYBAm11wva53BVSks2gEZgABE6YZqARnwQgYASNgBIyAEegWATaVYecyiFPuV9ottttcWJoRMALzgIAJ0zzUostgBIyAETACRsAIGAEjYASMwFgQMGEaC6wWagSMgBEwAkbACBgBI2AEjMA8IGDCNA+16DIYASNgBIyAETACRsAIGAEjMBYETJjGAquFGgEjYASMgBEwAkbACBgBIzAPCJgwzUMtugxGwAgYASNgBIyAETACRsAIjAUBE6axwGqhRsAIGAEjYASMgBEwAkbACMwDAiZM81CLLoMRMAJGwAgYASNgBIyAETACY0HAhGkssFqoETACRsAIGAEjYASMgBEwAvOAgAnTPNSiy2AEjIARMAJGwAgYASNgBIzAWBAwYRoLrCtX6I8//li99dZbvd8HH3ywcgsy5pz/+++/I6cwKzJGLsgMCfj111+rzZs3V2+88UZF+/35559nKHcrKytdtM9RSzwLeRi1DIsen3dQY0o8MtY4dIfAP//80+vzhPHbb79dbd++vbsEJiBpVt73LvLRhYwJQN6YxLyUo7GgLR4wYWoB0qI88vfff1c777xztdNOO/V/77777qIUv7acP/30U3XFFVdUhxxySLXLLrv08Nl7772r8847r/rll19q48abGzdurE4++eRq11137WF95JFHVvfff398pPG8CxmNiaygB/7888/q9ttvr3bbbbd+u41t+MUXX1xBpZleViGatOc99tijjyNt/Kqrrqr++OOP1hnbunVr9eCDD1arV6/u1clZZ53VOi4Pvvrqq9Xxxx/fr0/6pAMOOKB66KGHBpLjh2cDAfWX8Z3k/JhjjpmNDM5JLi677LL+eyusH3744RVROt7to446qjcmMjaedNJJ1WuvvTbRvH/99de9/m+vvfbq4Uifc/XVV1eML21DFzLappU+h2Himmuuqc4+++zi79prr62aDBXogfTfUdehTg4//PAKEr7IYeEJE42HRnbxxRdnf5dcckl1yy23VC+99FKF9XoSgTzxstKBYDWaVMCSoM5CHe6bb745qeRnNp1HH320T5KESzzSmbSZjUMRjPHiOR1zm9CFjDbprKRnjjvuuCKuYMx9h3oEIO2xPabnu+++e/XDDz/UCnn55ZeX9R/I2X///WvjxZtnnHFGbT5Qsm3xjIiN53z9+vXZ8bA0TnL9jjvuyGZm3333zdbpEUcckX3eF4dD4K677lqG86DGuOFSHi3WTTfdtCzf6n9eeOGF0YS3jP3tt99W9HFKNx4PO+yw6q+//mqU1IWMxkRqHnjyySez+Y9l4Xzt2rVFKfTx9NdpnPj/tttuK8af9xsLT5juu+++2sYRGwqWzltvvXXsbYJOQul+8803Y08vTQArgtJfdMKE1V1YcNSMEJ0Typvu7bnnnrWWqC+++KL/LO0IIs5AEa35TYNbFzLSul7p/995550+rmD5+OOPVx9++GFFu33kkUd6ShxWP4d6BOLMMgrCnXfeWT3wwANLCFDTjMCpp57arwu9FxzbEiaMDopHfpihwtJJnxvzx2yiw/gQgJCqHgY9fvrpp9mMoXBiCORH+0KuCVMWqpEuMjuA0qt6axpTRkqsg8j018orhOX666+vLr/88iXv+yeffNJBSmURGKWjoRgPkHXr1vVmWJQ3rtWFLmTUyW9zLxImvC1yv/3226/WuAsZUpmJf+655/bG1AsvvLB/nfuL6nm08IQJJRRFICqu++yzT3XggQf2fijCakA63nPPPW3a79DPPPfcc/00P//886HlDBuRDkplXXTCFMnjDTfcsAxSXIeEVZ37AwRJzz3xxBN9ORBiuazQadeFLmTUyV+J9xhgheuiduJd1BukhEExNdD8/vvvSyyvda553333Xc9tjjUUKG5SjNsSJlxfzjnnnOrmm2+uSDeGjz76qF/PbeXF+D4fDAG5HzN7rvdLY2J6jBbp999/vzGho48+uifThKkRqqEeQHlXnc06YUKBJ68YRKKu8/zzz/fLgNI+zhAN1LizKaWgQa4AACAASURBVNCH0daFJf1bKXQhoyS77fVImNrGSZ/D4IHhCyKbzuSj9woL3D8XMSw8YVKlx8aWWsnwycfioMbCINIUWNeCxRQXKn5fffXVsgZYktElYcKyRz42bNhQbdmypafIKN1UKdH1HGGi82AwZDE963kWJfz22289xe/SSy/NFjnOcFxwwQXZZ8BOpOiggw5a9gwun2pbKJu50IWMnNxpX2Nw/+yzz6rXX399mbLeJm9gLuzSDr5NfD/TjADuosK4jeupJA5KmBSvdOTdIR8oVw6TQWDNmjX9ui+lyFin9jFuwsQ7Tn9BP8naRNojffQkA3nYtm1bz8qOqz7jpVy2uM5Y3yYgB4MtyjblGWQtbJ38lUKYohGEdZJpwJtD73udoSaNN+j/Y489tt9+U50II5zads5gqrS6kCFZwx6jDjusjLp46CDCguUiixhMmHbUemxsKWFSw4gvRcnagBsLC6XVsOIRpRk3oVygMeL+xQAQp0WfeuqpHlFhINKPZ9RB52RxjY48lw+UDdYJyJ3suuuuWyYiEibWJWDhieXgHCya1jQsEzyHF6LLXmnansWrwg/reRqiDNYC5EIXMnJyp3UNJSG3toH2yeLSjz/+uJg1rI+nn356zxIWZ4axjKU/3h+H0RCgXav9pgpFneQuCRPKpTb1wOrrMBkE2hAm1vaqfYyLMOFWy0YA9A9KKx6Z6cewmQaMjzJW8TzPMdYyxqKQY/xEJm2KDU9Yh1IXmLHJeZ0gO16vW+8ModL4G8vAOW5p6CJNAUWevk59KPFWrVpV4eUwKGECj2eeeabnCofhindtEiG2rZx3wN13392va+qxTcAjhNlRMGyzWUMkAbkZT7BQ+wHrXOhCRiqXDRzuvffenosi+kGbEHXYNs8P+kxcEnDllVcOGn0unjdh2lGNsbGVCFNUHHKECStR2gHm/uc6xFNOOaVVXMmjs88FXt5BZOUsBZEwKb3c0a4xVW8dkrBh3UcuQJL1DDNSuaBOmQE9F7qQkZM76WtYCps2aRBWpU45ZwhQnPSIku0wPALvvfdev+0eeuihAwnqijChtKA8qG5xw3SYDAJRqY0p8m5CNL788sveZRGZ1KUzxtH5MC55aktqA7kj/QLjXwxR6SYO/azcwHIyKEdpN0Y2/4lxkFXaKIB1lLkQ23GUlZ6DUVoW5HEN7NPn4/8TTzyxf7/JJQ950eiEHIjXJAJGL9ID8xxJi4ZE6rEpQCAjDpDhHIZRDgRZcXLGTJ6V2z31nQtdyIhymUFVnnRkQ4+mEHXYV155pddO0FnZpZR2p3e1SU7uPuN2xLfkCZOLO0/XTJh21GZsbDnChKKrQYEOJhc2bdrU7wCYxWGtCsSKmZi4gw2dbBqYWdDL0eaItS0X2DYyxueFoaPHLfDGG2+sWJ8V7+eUoJQwoXSy+JpBAJziIIFlalEDHaXaBMfSjBsdsTAvuWto0WnJet6FjFmop7gLGpgxENKRM7DR7ljwK6w40u7SwKwRM5yQ/WjVRanimn4oHbn4qTz/X4oA7RgLPDiqLqgrrM+DBCm5wxpWaA/0Z5Eg857kjFWD5MvPtkegRJgOPvjgXttgtpeAZR+37zZhGMJ0wgkn9NLDyo8LM+Mxs53MaMlVk7aakh36FWYvlF+1Z45sm3zRRRdVZ5555pJ+hHvppwiYMVJfz3gYCREugemi+JzralwPSxqsSRXBZDaEsVWzqNzPuYFH91ieQZlnXMeljZ11uRZ/TYQp6j0xnvLVpj6HfYYZHdIsGbVw/Veeci57MV36BD0bj4899lh8bNl5dLkrjRXRwyZHwLqQETMW01NZSjpnjFeqS8ng2IZ4RZl4GNFOZdBFBm2OWcxFDCZMO2o9NjZmaCAwdKaw6rQjqpseZio191KRTOxUc1P2XMOPmZdcjRwLL9fir+SzTSeueBxz3zHAUhAHmCbCRGfGzkYxPPvss/10mP5exIBLZFzsXLJOgU1cZ1OqOw3oOTLdlYxp1xNKiNonHXBpUGajET2HklK3yx1bGevZrtYATBunaacf26uwZb3BoGFUwiR3I+UBi3Hp/Rk0b36+HQKRMKke4vHpp59uJyg8NQxhYgYiHYckMirL559/vi4vOUbrOH1KSogYs+MGMox7cYyOYyvrmXMBLIRNSurJfzQ0llyFMahF5TS6Jsc88AwELA3pjFoTYYpjufLOMaabptHVfxlvOeYCmClPp512Wu6R/rVIrhSHYxNBwOCr58EiF+I7kBuzupAR00XvVJ50pL6bQlqXkCxmC6PBqQ0mSof2r/R1ZPZykYMJ047aj4RJjSN3pCPF8lkXuE9HhTUIizoWA9YKRet6zgIlmcNu+hCtT1iISwGlQzMaua2Cyb/KnutwIF26v4gvENaV6PbAmps6i0us9xKZlnJZ2lCkCxml9jCp6+xApHbD+1YXsK7q2bpB34SpDsXh7uFuET9aSD2gZLZxi4kpqk0PO8OEIgJpkmWffKB05gxBMV2fd4dAVBb1PsbjpAgTJcJIRXrs6Aipp0/EsMnuXSIZzIrmQiRMpZkE4kW3e3YKU8AYo3JjQMWok1vPx9iZ87qIY2rJ7VppsbmA0oo78uJapeultdDIkKsbz9b1nTzLeMSYI7kcc0ZU5a3Lo1wB6/oH5auNnqFZSMWh32gysETjNOu+cyHWB+5yaehCRpQZ24rK0sYNGY8XDK/MxnEeA2vbJAtccsQvPq9z3n/piopP+yh5yijevB5NmHbUbCRMWKmY5tZUN4pe3F6ShpOb6qWhozyrYdUdc9YhNbJhCZMsd6TbtJMdDZ5ZEfKchvjClpQT4bFoHwXF6hUHXzr9JqwjkU0tj8Je1vSSta0LGUprWsdo6SoRR+UNg4LeHwwOpWDCVEJm9OvUEfhGwlLqD3KpjUqYJBMXweimQn6YyXcYPwKRMNEe9NOMeJ23RSl3Gqdyi+xLcSBJIkXqF3JHxt9cUJ9N26kLuPhJLu7BMaAo6l48ki+USsgaimmOSEFcYhxciUu/+L5BChU05g5ShibChGzIIM/hmgjZ2759u5Ic61GeLuCQC9Ewi3dOU6Bt0h61Zqc0Ixnl0J+pXiJBjs/E5RI5AtaFjJge57ip851Gyt3VeqGoQwxq/EInlAsleFF3ixhMmHbUeiRMuTVMPIZ7nDozFNwYcBuKHTrPYUmiweMDivUjWnLGQZi0nqOpQ435zp1HwlT6DhMWaF6cRSJMzCJp4KXsWLtTS04Oz7jQN0dQiSN3jdJmHl3IyOVtktf07rTxx2Zg0kBWshqTdxOm8dcg60JUF1jg24auCJPSi+9eG0VQ8XwcHoFImKIUuW1qrGT2J7qwxWfT80EJU1y/STtk7IVIQGgg0tFlvokwlQxSymPsd1LvC0h6VBr1TqRH9IDUAt+0UUMqQ//jOib1n5CzuhBdqWb5PZGXBnjlAjqVcIAwjyPQfpVGzpuGNNXvlPSqLmSMo2ypTGaVVNb4van0ubr/0lOQw655ixZMmHbUeBvCxKNxB7o4WxDXJ9GJ57a0jGsz2hKmkoKda6j6bgGNue3glZNjwrQcFaxX6uDBF9fMdFBcHut/V6JvcfxorZ6PA1y0KOo+xy5kRHnTOI+7U9W5MJK3+I2OOiXdhGn8NRnbZ537TJqTrglT/Djkon44McV43P9LhIl0o7VdilSbcWcQwgQRk5KHwTG3/TR5kQGviTCVlHPhyNodpVfqi/EowK2PjyyjDzAuMPskQkP8lGxFgxf6AZtl1P30baY42yOMS27bKkPsO2eZMEWdKepSKkd839m4ahwhEuQSidC4VTL0dSFjHGVLZaLDqG2zadIwAeO/ZJRcGIeRu1LimDDtqKm2hIlOVA0mLoSWlQtFuhTovBS3jjCxM4meK83w5NKIVqw2HSWDT26AM2Faii4dDbOFqhM6zrY+wEhiFkpxGWDTwAJg3S/VWxcy0nQn/T++OwyGdSHu9hj9+NM4JkwpIt3/R2lT+yzt4phLtWvCxE6fykfTrlnkh/6N9xZFlv6Zb+Q5DIZAHWGSJFzQVC91a3P1/CCEKX6qo9Q34ibNuEsemggTz9T1PVEhjDMOKMUYC+rWkmBAEw4pqWG81z2IwjBBuCGnRByRO6gesH79+v4ughA9Pk4/iRDX/uTWlUU33M8//7wxS8O+74znYJrT3XAHVr2VdiYmY13IUAExJtLO8BiC4DNujrIluOTGTUNoI8ME+l3hQX/cFKbVtpryNex9E6YdyLUhTCitcqujIdNRK4gw0Zhy1hI6TOKosdURJrZM1XMohLmArzXT1HEGKsZDSdiyZUsuai+O/KFz7k4mTP/BRh3HhcC4Q6T1C848k+689J+UqveRROqUeknjM8jrXrTaxvicawZxFBmpzEn+j7NkDE4lH/O4fglcSu2YvJswjV6DLGSGtOdmxZFOP6P+aJCZnUEJE4oag3DsV2Pp6KuUjybrJjLkoqw4HLtQPGKe5v28DWGKGyJ0/eFaviej+sMNMA0Ys6Ihpg1hou+J46ZkRsMVacrdkPuRuNVtuCA9gD46Bkgl11QWlNdSYAy47777eu6Gcbe6+EF7xqHvv/9+mYi4noa0SiRTEaPbm/LGTFbpHVS8Lo7MHgoT9JHodcAsnvQl1ss1hVHed7apV9kxVsfAOnbdq/usQhcylC5rqZSmjrgFjhqkZyCTsTgNvEusYYttLj6DS6oME8io01WIN822FfPd5fnCEyYaCZaJaJXBEsnAzY+GxX+sHXqBaSwsLIyB6Xk1bl5+LCbMQBE/3b2F51D0GFxIPw3RBQaChkWMgZ7GjHWKzlJppWteooWMZ/D/Zu0V1i9eeLbnVFyOlCsGLCpxzcLatWuraN0hv+RbeWCAQH6uHFHuSj2PgxR4sSEIsx/xp8XAuIWUAnUn3BkAtm3bVrGoNVpsGPjrQhcy6uRP4l4kn7xPKB+0OQJtlIWuwokjA1EaGExRmHkvorKEuyPX9OP9LZGAVOYi/5erD/VBP4biSJ3w3qf9Sd0MAvWycePGft+pbYOxvqo/pa/NbdgQrfMQHfpj4qCM079g+Va7YNDm3akLuY8/Er9u+/86eYt2j/qHJGBVF+6qw/QY+6WUMDEuYByMcZipQSZrkeJ1zlNCSz6UPkcIO/lCJn2z2q6eoc1BvLdu3bqkyrQORc9xpO+4/fbbewYBGaN0n11tY6Bd657iYsgRscDjIK61YkxIQ/zwLUSBvo12D1FA+YTskCeRCNJhwwEFsIxGAN5X+kv6Qt7ZuIue8grJjJ4wkqVjdBVUHI4YXycRGE+VLmWFWEIEY320cccb5X2PbQxMIbPUazTw0YfVhS5kSH50/Rc2HOsC5IRNldDH0Nl4P+gjKQfGgYgn711OX4t6H7oMhjL6e/p1xlTpfOSlzceNp9226vAa9t7CE6bYycXGWXfORgdpg2MBXOzocvFlfYr3SruVpIpjjBPPUzcT3GfwT43PlM5Xr169xErAy1Uqg6wJcaeVKBdL5DwGzSjGspbOc7N1woRBMZKFVAYDYc5iqPgcu5AR5U3jHGOAdthKMUj/ozxIIYl5zb1HaVz9Tw0CUY7P/4dAakQRdukR5bIuMBCncXL/c8ok/Wm0Xubi6VobZY53JSevzkpcV7ZFulc3DqgOSseUMMXPA5TixOsorGmIrlnxWZ0zZsklStdSOSJMXNeaFD2bHtktLh3fUUDT5/hP2shM7/F8LsRPK6Rx0v+UafPmzUvEYHDIpRfjplhwr0SackSDMuVc9ZdkpKM/eBnE3VNjOTjHpTati1zSo77vzOilaes/eEDSm0IXMkgjJ6dpli31ylDe0yNliTOnsUzosOnzuf8YKXJGryiL82m3rTQ/XfxfeMKUTsPnGgjXUJxR1PBrLr3AWKEiC5csOjBtQ66tNLlH48U6VwqklVrQiIdiwrcBUmtclIOLYS4u8ZmazU3JEl+ueso7R+Ro8SlT/PGezlPiFvOyks9zVjuVOT02KZQlwsOAwYxTm9CFjDbpjPsZtt/NKbRgipW4TrGNs7lpHaT/sbY51CPALBwznbm+Czzpv1ig3hTi91/Seoj/09l5ycVggGJbahcQrZwrleKnR/znpTzS15Y+aprG8/9qyc5zse7qzhkjU0W7NF6U5OQ2FcF1K27trLjUKdZ4XJzjpzi4n257LMIEWWL8ZnaHcVDkg3aCoZFZnlyIa0h5T0hb+YhHZDIjWheYSSu9a8iiTLxvJT2D8sYZA6VPWTC0xtla7nGd/JcCH58XDoz1kx7LmZ3JGVvwzClhkCvLqO87+paw1BFc6saiNB9dyGBmKM6o02bbGImY0Sn1nZQH8pkuB0jzD9GnDZfaN4SfGae2Ydptq20+2z638ISpLVBtn0OhxSoEEaJjxKVk1MAgREPGt1QzPW1l0rgZBCCGWKcGaext0/BzgyGAVQ1CyxR43fqcOqldyKiTP6l7WKqw3oEHVrImV6tJ5WtR06Gv2bBhQ7Vu3boKF0cs04MoLV3hhgGBj5SSD5ThYd8T8oMCOY0ydIWF5fwPAcYuNkFiLGOMZaxtGyJhSuO0bRuQ9U2bNvWikzaWesZW1q4ytqL4DxIYy4lH34dSPmg7xX2NvhNdg7ijBDCoM8COIrttXNLHkAbxGRTLmMagOMa4kHP6P8gHdTNIG5OcLmQgi764yetEacYj2LEWi76TpR+ctzXISg6zzLxjLC3BCwpddpi8IG8W2pbKNerRhGlUBB3fCBgBI2AEjIARmFkE6gjTzGbaGTMCRmCmEDBhmqnqcGaMgBEwAkbACBiBLhEwYeoSTcsyAouJgAnTYta7S20EjIARMAJGYK4RwM2X7e3jmgzWD+nXZrevuQbIhTMCRqA1AiZMraHyg0bACBgBI2AEjMBKQaDNLrhe17tSatP5NALTRcCEabr4O3UjYASMgBEwAkZgDAiwqQw7l0Gccr/SbrFjyIpFGgEjsMIRMGFa4RXo7BsBI2AEjIARMAJGwAgYASMwPgRMmMaHrSUbASNgBIyAETACRsAIGAEjsMIRMGFa4RXo7BsBI2AEjIARMAJGwAgYASMwPgRMmMaHrSUbASNgBIyAETACRsAIGAEjsMIRMGFa4RXo7BsBI2AEjIARMAJGwAgYASMwPgRMmMaHrSUbASNgBIyAETACRsAIGAEjsMIRMGFa4RXo7BsBI2AEjIARMAJGwAgYASMwPgRMmMaHrSUbASNgBIyAETACRsAIGAEjsMIRMGFa4RXo7BsBI2AEjIARMAJGwAgYASMwPgRMmMaH7YqU/OOPP1ZvvfVW7/fBBx+syDJMItP//vvvyMnMioyRCzJDAn799ddq8+bN1RtvvFHRfn/++ecZyt3KykoX7XPUEs9CHkYtw6LH5x3UmBKPjDUO3SHwzz//9Po8Yfz2229X27dv7y6BCUialfd9VvIxAcgbkzAW/0FkwvQfFgt/9vfff1c777xztdNOO/V/77777sLjAgAM7jfddFO1zz779DHaY489qlNOOaX65ptvWmO0cePG6uSTT6523XXXnpwjjzyyuv/++1vH58EuZAyU4Iw//Oeff1a33357tdtuu/XbbWzDL7744oyXYDayB9E877zzKtq18Nt7772rq666qvrjjz9aZ3Lr1q3Vgw8+WK1evbpXJ2eddVbruDz46quvVscff3y/PumTDjjggOqhhx4aSI4fng0Edtlll357UrvieMwxx8xGBuckF5dddtkynB9++OEVUTre7aOOOqo3JjI2nnTSSdVrr7020bx//fXXvf5vr7326uFIn3P11VdXjC9tAwa7Z555pjr33HOrPffcs0LWNMLHH39crV27tjriiCMq3r9HHnlkoGy89957vfdz991372GBjIMPPrh67LHHBpIzbw8vPGFCEb7mmmuqiy++OPu75JJLqltuuaV66aWXKl6GSQTyxMtKB4LVaFIBS4I6Cw1sb7755qSSn9l03nnnnR7BESbpEYUOEtMUUATTuPpPx9wmdCGjTTor6ZnjjjuuiCv4ct+hHgFIu9pi7sjA+cMPP9QKefnll5f1H8jaf//9a+PFm2eccUZtPlCybfGMiI3nfP369dnxsDROcv2OO+7IZmbffffN1inKnEN3CNx1113LcB7UGNddbtpLwhCZ63O49sILL7QXNMKT3377bSVykOblsMMOq/76669a6V999VWPUKRx+Y8helLh1ltvzeoqkOm24frrry/WB+U5/PDDJ1qmtvmexHMLT5juu+++2sYRXwAUYxrkuAOdhNIdZPaiq3wxla/0TZiqHnEVHgz+EGwsLShvus7sxm+//Vasgi+++KL/LO0IIs5AEa35TYNbFzKKGVyhNyCzqgOwfPzxx6sPP/ywot1iVUOJw3LoUI8AbVI4oiDceeed1QMPPLCEADXNCJx66ql9GZLFsS1hwoVS8cgPM1TMVNHnxvwxm+gwPgQgpKqHQY+ffvppNmMonBgC+dG+kGvClIVqpIso5xg2VG9NY8pIiXUQmf5aeYWwoKxffvnlS973Tz75pIOUyiIwSkdDMR4g69atqw455JB+3rhWF5ghUznS4yQJUyR9cWa3LWHCG0P5Jz7tZ9OmTdXzzz/f68d178ILL6yDY27vLTxhQglFEYiKK25XBx54YO/HtKoaiY733HPPWBvEc88910/z888/H2taOeF0UCqrCVPV6yxOO+20CiKZhhNOOKGPFbOQpQBBEqZPPPFE/zEIsTq2pun7LmT0E56Tk2gNs/vo8JUKKWEQTA00v//++xLLa51r3nfffddzm2MNBUqCFOO2hAnXl3POOae6+eabK9KN4aOPPuq/P23lxfg+HwyBK664oqcw4h6lfktjYnqkPvTM+++/35jQ0Ucf3XvehKkRqqEegACoPmadMO233369vGIQiboOCrrKgHvbOEM0UJ999tn9pOjDaOvKB/1bKWAQYFYWwoEn0o033tiPN0nCRD+JG6ZIpvLeljBFbw3c+mJgPRwu2pI5yXLFfEzzfOEJk8B/8skn+w0htZLhk4/FQQ2FQaQp/PLLL70FmLhQ8WPKtq0rSZeEiRcZy+2GDRuqLVu2LJlKTZUSlSlHmHg5GAxZTP/TTz/p0YU/4metdoHPcC6AnUjRQQcdtOwRXD4lA2UzF7qQkZM77WsM7p999ln1+uuvL1PW2+Ttggsu6GPX9v1qI9fP/IcA7qJqn4NsBDMoYfovxfwZ7w75QLlymAwCa9as6dd9KUXGOrWPcRMm3nH6C/pJlFPaY93MfinPo1wnD9u2basw0GAkY7yUyxbXGevbBORgsEVhpzzg2EVYKYQpGkFYJ5kG1vfqfa8z1KTxBv1/7LHH9ttvqhNRx2rbN9xwQ2vR0yJMaQaV97aESQYSiGIu3HbbbX08qL9FCyZMO2q8jjCpUcQXq2RtwI0lsnA1WI4ozaXFdyjELLpmAIiN8qmnnuoRFQYi/XhGHbTylh7pyHP5QNlgnYDcya677ro0am8AUL5Zl4CFR/91BIumNQ3LBM/hBSx4wgRSmguRVGE9TwP1LhmsBciFLmTk5E7rGkpCbm0D7RMf6dS6FfOJ9fH000+vcAGLM8P8T3+8Pw6jIYA7itpnqlDUSe6SMKFcalOP0mBelxffGw6BNoQJi7rax7gIE261bARA/6C04pFNQjBspgHjo4xVPM9zjLWMsSjkKIjIpE2x4QlrWeoC/X3O6wTZ8XrdemcIlcbfWAbOcalCF2kKKPL0depDibdq1are7MKghAk82KgAVzgMV7xrkwixbeW8A+6+++5+XVOPbQJeIMyOgmGbzRoou+ogN+MJFmo/YN02jEqY2Fny3nvv7bkooh8MG1S2toRJOmOpj8UTQTIxDixaMGHaUeNtCFNUHHKECSuRGlPdMdchsttaXZz0Hp19LtABDCKLjSXSEGeY0nTj/0V3jWGAxn0TTBh0S1u4QpKFG2tuckGdMgN6LnQhIyd30tewFMZpf+GSO1555ZXZ7KlTz8VJr6FkOwyPALslCdNDDz10IEFdESaUFpQH5QM3TIfJIBCV2pgi7yZ93pdfftm7LCKTunTGODofxiVPbUltIHekX2D8iyEq3cShn5UbWE4G5Sjtxvjoo4/226BkxTUjUR7rKHMhtuP4fHoORmlZkMc1sE+fj/9PPPHE/v0mlzzkRaMTciBekwgYvUgPzHMkLRoSqcemAIGMOECGcxhGORBkxckZM3mWMZlnaDttwyiEiRlU5UlHNvQYJih+W8IU3f5ZuxQDRnqt9WpaPhDjzdO5CdOO2mwiTCi6GhToYHKBBkYD5TlmcVirArFiJibuYEMnmwZmFtS42xyxtuXCtddeu0QOJI+OHrdAXmIp+EojpwSlhAmlk8XXDALgFAcJLFOLFOiAwSLdzatuITodsfAuuWuoIypZdrqQMQv1FHHjPWEgROkCV9odVk5hxRGs08CsETOckP1o1UWp4pp+KB25+Kk8/1+KAP0VFnhwVF1QV1ifBwlScoc1rNAe6M8iQeY9yRmrBsmXn22PQIkwscUwbYPZXgKW/dIMe5raMIRJa0Wx8uPCzHjMbCczWnLVJD8p2aFfYfZC+VV75sii/osuuqg688wzl/Qj3Es/RcCMkcZ/xsNIiHAJZP1flJ1zXY2bKfEsyqkIJrMhjK2aReX+pZdemkLX2+Y6poMyz7iOSxs768Z7nDcRpqj3xLjK17IMdHiBGR3SLBm1cP1XnnIuezEr9Al6Nh6btsGOLnelsSJ62DQRMOVpFMIU01NZSjqn0isdFb8tYaJdq51DENkUTZs+REPDohqtTJh2tLTYcTBDA4GhM8VqkXZEddPDTKWWXqrYqeam7LmGHzMvuRo6Fl6uxV/JZ5vGrngcc98xwMIfB5gmwkRnxs5GMTz77LP9dJj+XqQAQYwYc44bZl2I62xKdacBPUemkd2FjLo8TuJeugNPaVBmoxFhTOddmeyZBAAAIABJREFUt8sdu+Dp2a7WAEwCi1lOI7Y1YTuMv/qohEnuRsoDFuPS+zPLeK7kvEXCpHqIx6effnrg4g1DmJiBSMchJRyV5fPPP1+Xlxzj7AN9SkqIGLPjBjKMe3GMjmMr65lzASyETUrqyX80NJZchTGoydsAWdE1OeaBZ3KbEKUzak2EKY7lynuabq6sXVyT8ZZjLoCZ8sSmS3UhkivF4dg0MxPHc7DIhfgOlMasNN4ohAm9M5aB80Fmt2JeJKctYSIufX1sg5Kh47g3PYv5n7VzE6YdNRIJkxpG7khHiuWzLnCfjorF0ljUsRiwViha13MWKMkcdtOHuDgbC3EpoHRoRiO3VTD5V9lzHQ6kS/eZ/l+k8P333/dcyuLgBxbUcWlhaqz3EpmWcolSmAtdyMjJneQ1diBSu+F9qwtYV/Vs3aBvwlSH4nD3cC3G+h4HTZTMNm4xMUW16WFnmFBmIE2yeNIeeO9yhqCYrs+7QyAqi3of43FShIkS4RJEeqyjgNTTJ2LYRIFTW2VWNBciYSrNJBAvut2z5bUCxhiVGwMqRp3cej7GzpzXRRxTS27XSovNBZRWVE75ALSul9ZCI0Oubjxb13fyLOMRY47kcswZUZW3Lo9yBazrH5SvNnqGZiEVh36jycASjdOlXW5jfeAu1yaMQphiW1FZhp3RUfxBCBMbe+l9Uvx4zOmEbTCZh2dMmHbUYiRMWKlo8PyYCkbRw1UqNprcVC8NnQXr8bnSec46pAY1LGGS5Y40m3ayw5KFmxd5TkN8YUvKifBY5I+C4o4SXcJKbgORyKaWR2Eva3rJ2taFDKU1rWN0rSoRR+UNg4LeHchoKZgwlZAZ/Tp1BL6RsJT6g1xqoxImycRFMLqpkB9m8h3Gj0AkTLQH/TQjXudtUcqdxqncIvtSHEhSnRKnvoLxNxdEmGg7dQEXP8nCPTgGiITuxSP5wgAJWWNL5xyRgrjEOIwbpV983yCFChpzBylDE2FCNmSQ53BNhOyV1uIqH10d5ekCDrkQDbNtvvtD26Q9QixZK1aakYxp0Z+pXiJBjs/E5RJNBEzxRiFMyMBNne80Um4MWMMGla0tYYpbrNOuWWqAKzb6rnQUZILJIgYTph21HglTuq24GgbucerMaDwx4DYUO3Sew5JEg8dXGetHtOSMgzBJeW/qUGO+c+eRMJW+w6SPui0yYQI7iKc6pZIvdlzomyOoyNGMVWkzjy5k5Op6ktf07rTxx2ZgEq4lqzF5N2Eafw3GjzJigW8buiJMSk9KL+2ijSKoeD4Oj0AkTFGK3DY1VjL7E13Y4rPp+aCEKa7fpO4ZeyESEBqIdHSZbyJMJYOU8hj7ndT7ApKudTfqm3JH9IB0rWrTRg05OVyL65jUf0LO6gL1IHmz/J5ocwrwygV0KpUDwjyOQPtVGqWZE/U7g+hVoxKmrsqqsrUlTKoTyhq/i0V+IKQiTdzn/6IFE6YdNd6GMPFo3IEuzhbE9Ul04rktLePajLaEqaRg5xqqvlvAS9J28MrJMWHKoVK+FhdD5qxz0U88frRWEuMAFy2Kus+xCxlR3jTOI05sfVsX4jc66pR0E6Y6FLu5F9tnnftMmlrXhClaP9sqAGme/H8wBEqECSnR2i6DT5txZxDCBBGT0ofBMbf9NHmRAa+JMJWUc6HCmiGlV+qL8d7ArY+PLKMPoGQy+yRCQ/yUbEWDF/oB3gl1P32bKY4nwrjktq0yxL5zlglT1JmiLqVyxPedjavGESJBjh+tjWlp3Gpj6FO8lUiYIEBqw6Uxl1k4vR8lY7owmMejCdOOWm1LmOhE1WDiQmhZuUqzDCRD56W4dYSJbx/puUEaZbRitekoGXxyA5wJ02CvulwLqLM4wElK3LqUATYNLABWfZfqrQsZabqT/h/fHQbDuhB3e4x+/GkcE6YUke7/06bVPku7OOZS7ZowsdOn8lFyf435oH9jlh8lgP65aXOWGNfn/0OgjjAJI1zQVC91a3P1/CCEKX6qo9Q3sjkA4y55aCJMPFPX98RtleOMA4o1xoK6tSTR2yAlNYz3wgiiMEwQbsgpEUfkDqoHrF+/vr+LIESPNSyTCHH9UG5dWXTDTWc7cvkb9n3XWqqc7oY7sOqttDNxLi+jECaMibQzPIYg+Iyb2r4/l1bdNeW9jYEpvsfMquVC3LgpV2dpnGm1rTQfXf03YdqBZBvChNIqtzoaMh21gggTDTRnLaHDJI4acB1hYstUPYdCmAv4WjNNHWegYjyUhC1btuSi9uLIHzrn7mTC9B9s+EHz0ufqlKci5nXWd83+US+pLAZ56pt70Wr7Xy7+d9aFjFTmJP/HWTIGp5KPeVy/BC6ldkzeTZhGr0EWMkPac7PiSKefUX/UZuBVjgYlTChqkKLYr0oWR/oq5aO0QFvPI0MuyorDcVjFQ3IX7diGMMUNEbr+cO0rr7zSr3PcANOAVTwaYtoQJvqeOG5KZjRc0Vbkbsj9SNzqNlyQHkBfHgPKKNfUFtnxrhQYA9jOGcIQd8mLH7THLY8NiNIQ1+SQVolkKl50e1PemMkqvYOK18WR2UNhgj4SvQ6YxZO+xHq5pjDK+8429So7xuoYIvEZ5LMKMd6grmtxFkf5KhGYmNfcueK37bc1iwmJzBl/46xgk3Fkmm0rh0UX1xaeMNGYsUxEqwyWSAZufih5/Kfz0gtMI2RhYQxMz6tx8vLDvpmBIn66ewvPoegxuORepugCA0HDIsZAz4JMGqx2uENOuuYlWsi4j/83a6+wfvHCsz2n8smRcsWARSWuWVi7du0SX1byS76VBwYI5OfKEeWu1HP5L4MV9cgARF3w0VrcLGKbiBbJtLzUnXBnAOAr2SxqxVKu6wz8daELGXXyJ3Ev7kIFdigftDkCbZSFrsKDI4NZGhhMUZh5L6KyhLsj1/Tj/S2RgFTmIv/XIEl90I+hOFInWHXT/qRukKReNm7c2O87tW0wg6/6U/ra3IYN0ToP0aE/Jg7KOP0Llm+1CxTe0o6Uqsfcxx+JT3/o0IwA9Q9JwKou3FWH6TH2SylhYlzAOBjjYFhCJush4nXOU0JLPpQ+RxQ/8oVMCITarp6hzUG86Z9jiP24nqXvYFE7BgEZo3SPXW1joF3rHkfiYsgRsWC76bjWKrfTXPzwLUSBvo12D1GAJEF2kCsSQTpxcT1YRiMA7yv9JX0h72zcRU95hWRGT5hYJs6jq6DicMQQOInABltKl7JCLCGCsT7auOON8r7HNgamkFnqNRr4mtzxIBf0bWrPsb1RP1yn3bbZllzriISLjm3qg/YkwxNpKi4z7fynjVE+yGouxFk99B311eCBp4fkoZdGgpuTNe22lcvTqNcWnjDFTk6NoenIRgcpQfjiiy+WdHQ5GbI+xXulrXpTxTHGieepmwkvLh/1jM+UzlevXr1kRoOXInbWMZ5mPuJubfE+lsh5DOx6FMtZOk991lMs6FwiWUjlMBDmLIZRThcyorxpnGMM0A5bKQbpf5QHKSQxr7n3KI2r/6lBIMrx+f8QSI0owi491n2cGUlaEJzGS//nlEn6U4hQ+mzufxtljnclJ28QK/Gito+6cSBXH/FaSpji5wHic6VzFNY0RCUuF48xS25Vup/KkQLLda1J0bPpkd3i0vEdgpY+x3/SRmZ6r+RBEj+tkMZJ/1OmzZs3L4EDpTyXXoybYsG9EmnKEQ3KlHPVX5KRjv7gZRB3T43l4BxFP62LXNKjvu/M6KVp6z94QHbqQu7bSYofj8hqMuLl8tJmlg0dLaZVd15yLUVGaoSgHyXfUV6bfnTabauuvoa9t/CEKZ2Gj40insOoUdSYRSi9wFihNPMS49KBaRvyuN6FRoh1rhRIK228yEUx4dsAqTUuysHFMBeX+LgtYD3JBbnqxfwjR9OzzLDEezpPiVtO9kq9xoybrKIqr47UIYpkqU3EMpcIDwMGM05tQhcy2qQz7mcgojmFFlyxEtd1yHE2V/VQOjJD6lCPAAM4M525vgtc6b9YoN4U4vdfSvXB9XR2XnIxGKDYltoFRCvnSqX46RFXWimPvKelj5qm8fy/WrLzXF1dxnuMkamiXRovYrx4nnNrxhrO7EN8jnPqFGs8Ls7xUxzcY5yNQYQJskRfzewO46DIB+0EQyMW+FyIa0h5T0g7zQ//kcmMaF3A0l9615BBmXjfSmMK5Y0zMMoHZcHQGmdrucd18l8KfHxeODDWT3osZ4YnZ2xhhqOEQa4so77v6FvCUkdwqRuLlI+27ZyxvqlMzJ7HGXXabBsjEXLjDKTKkDui05QCukhplov8D7Kuftptq1TGYa8vPGEaFrhSPBRarEIQITpGXEpGDQxCWKzwZ9ZMT1uZuMkwCEAMsU7x32E4BOiQwJBZQVwuqZNB64OUsapBaOm06tbn1OWyCxl18id1jyl/rHfggbtXk6vVpPK1qOnQ12zYsKFat25dhYsjlummAX4cWDFo85FS8oEyPOx7Qt5QIKdRhnHgssgyGbtQ1hjLGGMZa9uGSJjSOG3bBmR906ZNveikzRonxlYWwjMuoPgPEhg7iEffh1I+aDvFfY2+E12DuKMEMKgzwI4iu21c0seQBvEZFMuYxqA4xriQc/o/3Mmom0HaWJTTxTl9cZPXSRfplGRQHxjW6YMx+OPK1/ZdiTJnoW3F/IxybsI0CnqOawSMgBEwAkbACMw0AnWEaaYz7swZASMwMwiYMM1MVTgjRsAIGAEjYASMQNcImDB1jajlGYHFQ8CEafHq3CU2AkbACBgBIzD3CODmy/b2cc0R64f0W7Vq1dxj4AIaASPQDQImTN3gaClGwAgYASNgBIzADCHQZhdcr+udoQpzVozADCNgwjTDleOsGQEjYASMgBEwAsMhwKYy7H4Gccr9SrvFDpeaYxkBIzDPCJgwzXPtumxGwAgYASNgBIyAETACRsAIjISACdNI8DmyETACRsAIGAEjYASMgBEwAvOMgAnTPNeuy2YEjIARMAJGwAgYASNgBIzASAiYMI0EnyMbASNgBIyAETACRsAIGAEjMM8ImDDNc+26bEbACBgBI2AEjIARMAJGwAiMhIAJ00jwObIRMAJGwAgYASNgBIyAETAC84yACdM8167LZgSMgBEwAkbACBgBI2AEjMBICJgwjQSfIxsBI2AEjIARMAJGwAgYASMwzwiYMM1z7bpsRsAIGAEjYASMgBEwAkbACIyEgAnTSPA5shEwAkbACBgBI2AEjIARMALzjIAJ0zzXrstmBIyAETACRsAIGAEjYASMwEgImDCNBJ8jGwEjYASMgBEwAkbACBgBIzDPCJgwzXPtumxGwAgYASNgBIyAETACRsAIjISACdNI8DmyETACRsAIGAEjYASMgBEwAvOMgAnTPNeuy2YEjIARMAJGwAgYASNgBIzASAiYMI0EnyMbASNgBIyAETACRsAIGAEjMM8ImDDNc+26bEbACBgBI2AEjIARMAJGwAiMhIAJ00jwObIRMAJGwAgYASNgBIyAETAC84yACdM8167LZgSMgBEwAkbACBgBI2AEjMBICJgwjQSfIxsBI2AEjIARMAJGwAgYASMwzwiYMM1z7bpsRsAIGAEjYASMgBEwAkbACIyEgAnTSPA5shEwAkbACBgBI2AEjIARMALzjIAJ0zzXrstmBIyAETACRsAIGAEjYASMwEgImDCNBJ8jGwEjYASMgBEwAkbACBgBIzDPCJgwzXPtumxGwAgYASNgBIyAETACRsAIjISACdNI8DmyETACRsAIGAEjYASMgBEwAvOMgAnTPNeuy2YEjIARMAJGwAgYASNgBIzASAiYMI0EnyMbASNgBIyAETACRsAIGAEjMM8ImDDNc+26bEbACBgBI2AEjIARMAJGwAiMhIAJ00jwObIRMAJGwAgYASNgBIyAETAC84yACdM8167LZgSMgBEwAkbACBgBI2AEjMBICJgwjQSfIxsBI2AEjIARMAJGwAgYASMwzwiYMM1z7bpsRsAIGAEjYASMgBEwAkbACIyEgAnTSPA5shEwAkbACBgBI2AEjIARMALzjIAJ0zzXrstmBIyAETACRsAIGAEjYASMwEgImDCNBJ8jGwEjYASMgBEwAkbACBgBIzDPCJgwzXPtumxGwAgYASNgBIyAETACRsAIjISACdNI8DmyETACRsAIGAEjYASMgBEwAvOMgAnTPNeuy2YEjIARMAJGwAgYASNgBIzASAiYMI0EnyMbASNgBIyAETACRsAIGAEjMM8ImDDNc+26bEbACBgBI2AEjIARMAJGwAiMhIAJ00jwObIRMAJGwAgYASNgBIyAETAC84yACdM8167LZgSMgBEwAkbACBgBI2AEjMBICJgwjQSfIy8qAv/+++/Uiz4LeZg6CM6AETACRsAIGAEjYATGjIAJ05gBtvj5QeDrr7+uzjvvvGqvvfaqdtppp+qAAw6orr766urPP/+cWCF//fXX6txzz+3nYbfddqtOPPHE6uWXXx4qD7///nu1xx57VLvsskt10EEHVd99991QchzJCBgBI2AEjIARMALzisDUCdMvv/xS3XTTTdUll1xSXXzxxUt+999//7zi7nKtMAS+/fbbavfdd+8RJchS/B122GHVX3/9NfYSbd68uYIgxbTj+bp16wbOw+WXX75E3saNGweW4QhGwAgYASNgBIyAEZhnBKZOmB566KElCltUADl/5ZVX5hl/l20FIPDPP//0Z3RokyeffHIFOTnkkEP6bZdr4w7MAOn9OPTQQ6sHHniguvXWW3uzQ7q+fv361tnYsmVLX57imzC1hs8PGgEjYASMgBEwAguCwNQJEy5AxxxzTM8dCBcnKW46cs/BCEwTgRdeeKHfLs8+++x+Vv7+++/qwAMP7N8bpzvbiy++2E/nyCOPrOL6pa1bt1Y777xz7z7ugvFeP7OZE+TwnkG+9L6ZMGWA8iUjYASMgBEwAkZgoRGYOmGK6D/33HN9xS0qoiiEgwTc/N58883ej7hRgfzjjz9aicIFa8OGDdW7775b/fTTT/04KMnbt2/v/5/0CWX58MMPq3feeaciL3WBZz/77LPqrbfeqlC4P/jgg+q3336ri5K91wWeWcEr5OKxxx7bb5es+YmB9iGyccMNN8RbnZ5ff/31/XTefvvtZbLj/WeffXbZ/fTC888/35MH0UKeymDClCLl/0bACBgBI2AEjMCiIzBThOm4447rKW64HqHkS4m77rrrGusJt6nbb789u8aDdR8szmdxOzJfffXVrDwW1J955pl9a73S57jvvvtWUkpRMnlWAfcsWfh5NlWccdeKsniW9ShpuPTSS5fIIc4jjzzSe+y1116rVq1atcT9CjlPPPFEKqZic4KTTjppmSzl4fjjj6+aSOiweJ5++unL0mVDgXvvvbefz2eeeabaddddl2Hy6KOP9p/JnXzxxRfVjTfeWN11113V999/n3uk82uQUuF2xBFHLJMPKaV8PEMbGVeIbShHesFU+bzqqqtqswHh17tw7bXXVl999VU/rglTLXS+aQSMgBEwAkbACCwgAjNDmH788ce+0nbffff1qkK7kUF4UOBLgdmg/fffvx9fimPpyLqPNLz++uvLlPhSfK6///77fRHnnHPOkrRPOOGE/j1OcpsF5NaaHH744UvkkA4EQUQtlx9kp4FNCHLPxmt77713cYZqFDz322+/bNpgpHDPPfdkn2Hjj1J48MEHl8XZtGlT6fHOroOFcLv55puzciGgPANxGlfAFVD5gOCkIRKmpvVUbLKCLEgrM64mTCma/m8EjIARMAJGwAgYgf8QmBnCdMcdd/QVQs3eMJMgJREXolzAwh8X3/M8O3+hQBIHJTydzYCAxMBshWYJiA9Bu+2223pbNT/++OPVGWec0c+H8sMMmAL5ZVtnESMU6BiYTXr66aerxx57rC9HM0fxOfLBTBJ514xVmi92EowbDrDNdRogbOSTGY9bbrml576HKxkkL24cwIYbaRgVTwgGuxsKJ47MWkRXSGZtKCekTc/hRla305zIs57nSL2MO0SXO0hbLrDNt/LV5CaZi9/mWnwX1q5duyzKaaed1s8D7qylQP2obak8JkwltHzdCBgBI2AEjIARMAJVNTOEaZ999ukpfJFsQESk3B199NHZ+oqKJG5GOes7u4FF0pQSJrkCovRynq5TIeFowee5SJiUMc2uxDLoHkfkSrHOEab4bMwvccgzZCaG0loqnmPGLhfYmEB5OP/885c90gWeCNWGAqTF+qk0fPPNN/18nHLKKentZf8hf8q3jrgojjvEei+tDVqzZk0/b5RrHOHLL7/sp8E78cYbb/STSWff6ggT32wCP943tScTpj6UPjECRsAIGAEjYASMwDIEZoIw4VolJZiNH2KIszu5dTdxxoTZgFL46KOP+uSLtU4KkA6lDUnR7Jbux2NUTNl4IQ3jIkwPP/xwmlTjf2ZrmNXC/fCCCy7ozcYwO4U7nGatjjrqqGVyRsVTAt97770+rux+mIboxsjapKaQc+PLkdYmOYPej7OCL730UjY6a9bUhthkY1xBrnRKi1k3rUXSNY6nnnpqNguQLD0X1/GZMGXh8kUjYASMgBEwAkbACPQQmAnCxEyHFDkU1CeffLL/u+yyy/r3cps/aAYK5bEpoGDjahd3vYsuV7hWNQU2Jih9UHcchOnCCy9sytKy++m3eYRtemTNVBpGxTPKY0t4pcmOgwpxdolNItoG6grSx2zb559/3jbaSM/hOqgy4J6ZC+RJz+Q2ZMjFGeYa6/giOVOaHOOMXrrpiNLSLF1KlFPCVGc0kCwfjYARMAJGwAgYASOwKAhMnTCx5kMzHlEBzJ2nmz/88MMPfUV12O81oQQrrTjzNEwDGAdhYtOHQQIbE6g8HFGSmaVjXReEMH7rKiVMXeAZ8xpnDpm5UogbGOBqNsvh008/7eOJu2IuMKMD1pDNSQTWxJGXs846q6K+2WKejVJU77mdE4mj+7RTNobQD3dX3VP7KJHDSZTPaRgBI2AEjIARMAJGYJYQmDphwm1MyhqzRLkfREnPxM0fWIOhGRHWZAwTousYrmujBBGm0toaLPcqR9s1TIMQJtzwJB/3wpKLojbJSAlTF3im+IGF8sRsTZxdmsSmDWl+Bv3PjJHyHz9aG+Wo3nGPm1ZQHshrjoSy8YbK0ebILK+DETACRsAIGAEjYASMwAxs+iDrNjumlUKc+Ug3f4gfuM192yjKZDYLt7y4k1kkGSi8dTu1IYu88AHYXFBeSovuSVvK6jgIU5RfchuEFImApoSJMqkM5HMYPFNcPvnkk36ZIWpxdonvRbUN27Zt682QMRtJPfGtodKmF21ltn1O64TALQ2xbfLtq6aAWx0uhXvuuWdvZhXSmCM4TXLifciN2lWJhOKGeuihh/a232cL/viLuxVSVtqF3fIiwj43AkbACBgBI2AEFhmBqc4wsY22FD22v64Lq1ev7j8bN39gvY5k4E5UWkPCDmciCqxjiiGu/2Cbbu0eFp9B0WXRvWa0cqQp5jH9sCoyUViV13EQpldeeaUvPzdbBlFEoVYecoSpCzwjbpxrZzaly7E0W5PG1X8+KBzjc57bFl3Pd3mkbSptto+PgRlA3eNbXk0huoAqXmmThiZZ3H/77bf7bZK2yS6Ig4Z0DdOg8f28ETACRsAIGAEjYATmGYGpESaUtLhYHgKBe9yff/65BG+24sa1jA0fpGCywxprSwgQGa274D6kiF3lmNlgO3G2hY5EhWdSdyMImIgQ9w8++ODeN5zYve3jjz/ubfKgWQblgRmPNETlGRcpdiJDBrurxZkbZFx66aUVO/cpQKjYeY84/JQflGld07G0q1yc7SANNsxg1gmlGpKo70SpDLgxsnNaJKBd4Kky6RjXASltvgc0SEi3WUdOjvANIrPtsxFXZrioJ+oLEq7y0D7ahBx5RMagAWKUrleD7A4SMC5A8nj3VA7W8TXNLA6Shp81AkbACBgBI2AEjMBKR2AqhAmFXwpaeky/YaT1Nulz/NdsEi5NrH3KPZNeKymVL7zwQqvNJ1CY01kGNYJffvmlVoZIUMyTdntj9714ve4cOdGtUOlzjB9Rzckgbkr+KFMMXeAZ5XHOBgPKT5vdCNP4cfZOcq655pr0sbH9j5sqKH0dwRRi2ibk5EDQmwKkjd0kDzvssCUf/CUPpL9+/fomEcvul8gbMtUul0XyBSNgBIyAETACRsAILBgCUyFMrI/IzRig+DHrFAMuclJM45E1IHG9EQSCWShkxOd0ftppp/VmBqLs9BylNKeYI4P8XnnllY0uT7jqaftmpc2RmSJmpSAnuo5MuVChcJfyrud1ZM0JM0G5ACZx5k5xkI2CTHp860rXOcYd7CSzCzwli2NUznOzc/HZ3DmzcXEmETfKuD18Lk7X1+JHfYUf9dnGFU95+eOPP6q43Tozkexy1xQeeOCBJXWm9Jk9HZbcMMspOfEY22VTvnzfCBgBI2AEjIARMALzjsBUCNO4QWUzAXbTw2UKRRsldZAAWcAt6amnnqpYF4RCWprRKcmFmKAIQ6AGjVuSOch1yMSbb77ZKwNlKRGsNjJHxTNu/JBbW9UmD3oGUvvzzz/r78SPEFK+KXXvvff2XEWHxRWjQbrOra4wpIvr3Nq1a3tHMB027bp0fM8IGAEjYASMgBEwAkZgKQJzSZiWFtH/po0AbpaawdCM2rTz5PSNgBEwAkbACBgBI2AEjEAbBEyY2qDkZ4ZGgBk+kaXU3XJooY5oBIyAETACRsAIGAEjYAQmhIAJ04SAXpRk2HWPdTn6AHG6Zos1Nz/++OOiwOFyGgEjYASMgBEwAkbACKxwBEyYVngFzlr216xZ059R0sxSemR9mYMRMAJGwAgYASNgBIyAEVgJCJgwrYRaWkF5ZAc8NibgG0G534MPPjiVTTBWEITOqhEwAkZsfMdYAAARdklEQVTACBgBI2AEjMAMIWDCNEOV4awYASNgBIyAETACRsAIGAEjMFsImDDNVn04N0bACBgBI2AEjIARMAJGwAjMEAImTDNUGc6KETACRsAIGAEjYASMgBEwArOFgAnTbNWHc2MEjIARMAJGwAgYASNgBIzADCFgwjRDleGsGAEjYASMgBEwAkbACBgBIzBbCJgwzVZ9ODdGwAgYASNgBIyAETACRsAIzBACJkwzVBnOihEwAkbACBgBI2AEjIARMAKzhYAJ02zVh3NjBIyAETACRsAIGAEjYASMwAwhYMI0Q5XhrBgBI2AEjIARMAJGwAgYASMwWwiYMM1WfTg3OxD46quvqrfeeqv3e/vtt6vffvtt7rD5999/p16mWchDFyDMSzm6wMIyjIARMAJGwAgYgW4RMGHqFk9L6wCBTz/9tNppp52W/C6++OIOJE9fxMaNG6uTTz652nXXXaudd965OvLII6v7779/4hl76KGHqqOOOqqXB/Jy0kknVa+99lrrfPz999/Vm2++WV111VXV/vvvX+2yyy7VZ5991jp+Fw9+8skn1Zlnnlntt99+vbYCngcccEB1++23V//880/rJLZu3Vo9+OCD1erVq6vddtutOuuss1rH9YNGwAgYASNgBIzA/CMwVcL03nvvVZdeemmFMtz2d/nll1fMPsxyQCHed999qy+++GJq2XzjjTeqvfbaq7r22munlodhE/7uu+96inwkTeeee+6w4mYm3quvvrqEBMbyXX311RPL50033VTMxwsvvFCbD4gI5ApyEvPP+UsvvVQbt6ubkLUrrrhiWfoxP5CoX3/9tTbJl19+ufeOxHicQwAdjIARMAJGwAgYASMgBKZKmA4//PBapSdVZPQfq/ashj///LNfpocffnhq2bzkkkt6+dh9992nlodRE0bh3WOPPXrlWOmECfKs9gvZoH4gLiof9yYx0/T444/380HbuP766yuMEJEAMXNTCl9//XU/PnmO8SZFmO65554leTj77LOr9evXV8yaYSQQzqecckqpGL3rp556av9ZxeFowlQLm28aASNgBIyAEVg4BKZKmFBMUFBwCTrwwAP7PykvuPnE61LOZll5/v333/tK2H333Te1BsWMnbCdWiY6SFgK8CzXeZtiisBSJ0888UQ/yjfffNNzZ+M6ZR13iO5rn3/+eT+5559/vt9um7BmZubJJ5+scGVjfZne10kRpjhDxqxdDLx/uNUpT+BbCsxkQrJYK8es1WGHHdaLZ8JUQszXjYARMAJGwAgsJgJTJUz77LNPT0G54IILlqAvJRnXthgOOuig3vNnnHFGvLzsnJmJd955p0IJRCkcZD0Di8e3bdtWvfvuuz0XI6ztf/31Vy8Nrje5A84jYWLW7MMPP+wplj/99NMyvNtc+OWXX3rK9QcffFAhr21QW2hS4tvKm8ZzKOOQf5R42nAabrnllt497qO8jyt89NFH/XRys7SspyIPGCb++OOPVtmYBmF6//33e4YUZsty4eabb+6X85lnnsk9kr1mwpSFxReNgBEwAkbACCw8AlMlTHvuuWdPsWE9QgxSklPCJBe+9DpxITq4NEXrsqzMHInz/fffx2SWnRNfeYpxOY/Xc2sjIFKQARbCK+5ll11WodzFH8/8+OOPy9Lu4gJkDaWY9E488cS+8hvT1zlEsG5nMZT8devWVbhtqTw6ovxDWpvK8fPPP1fnnHNOnywoPkfkQhRIpy6oLUTCxAyDZhslk/+PPPJInajePRR82hszJIMQt0bBNQ+wmYLyiTKfhs2bN/fvt93cAmzvvffenksd8duENWvW9NPBIJCGu+++u3//ueeeS29n/49KmKh/SA1uga+//nptm8xmIHMxlmMQN0cTpgyYvmQEjIARMAJGwAhUUyVMUsZZRxGDlOSUGB177LE9he64446Lj/eIELtjSSktHVGqS25Djz766JL4kALlL5XHbEsM7LCVPlP3n3w0EYUov+15iSyW8nLrrbdmRbNL3d57791YJsrx1FNPZWU8++yzWaKU5oW6/vjjj7MyuKi2EAlTacH/DTfcUJTDjXTNCq6g46iHNBMQOZWbmc9c0AzU8ccfn7u95Bq70UmejnfdddeSZ3J/Tj/99F486i1HliNxg3S0CaMQJrCPa7goy6pVq9okW/uMDCvIw4DQNpgwtUXKzxkBI2AEjIARWCwEpkqYUFhRaljEHYOU5JQwMavB88yexCBXIu7h5sdOX3Kj+/LLLyspitxHMf32229j9N5uWiiR3Id0RELE938uvPDC3j3u82OWKAbIge61OULExqGoszNfm/T1TM76Dm6RLKHQUj5m55jBQuE/5phjlqSTbhIA4RKepHXEEUf0XM3A8ocffui5SqqOuc/sXWm2R8+JMIEbW0mrDMRdu3Ztb1Yt1kl6znoVxYnHxx57LH208//RRazk0qlysmavKYBFLAPn1FNToB54ljaeC7hbSm7OZS8XZxTCxCyf0ovHunVHuTzEa/FdHHQtkglTRNLnRsAIGAEjYASMgBCYKmFC8UPhTWcYpDymhAkFC2UvWtPj7A6zTCXFOy66T634ECQpbLih5cLTTz/dfwblOw2QCdbpQMYkC0Wea+kvjdvVf9ZqKS1c4cgHBFHX4rGEE9u8K/+HHHJIn3imebzxxhv7z0FSY9BmHsi58sor463+OcSH7wAprfPPP79/L56oLdBWcEMjT4pz0UUXVdu3b4+PF88jGVB8jrEtFSOPeIM1ekqz9AHegw8+uPcMZLopUG7J05F6bgpaM5jWl+Ix6yR5p512mi7XHkchTJHcKF2OaX9Qm4Fwc8uWLUuIOnkbJJgwDYKWnzUCRsAIGAEjsDgITJUwlWCWkpwSptzzuPBI2UpnOuLzKNaa9UiVS4iEZEC6WIcEAUoD8psWkRNPslbiLnlxrVZpNgRcUK6jG6S+OcVMlMrPTFXdTFr83lJp1kNtATer6L6Vmx1L6yv9f8IJJ/TzRh5pDyUCk8Yd5b9mRkmzhIeUdWZdmwLtUBjrmLq15mQIv7qZF8lLZ3Fz8rg2CmECC80yK91DDz20lFTtddbTxbbb5J6ZE6Y6qMMnF8/XjIARMAJGwAgYgflGYMUTJhRtKVsoTHU/PceRHe9iQFGL93UOuUJpZzaE7yrliFSUs5IJE0qnys1MTlNgBk3Pay0TR11r89Hco48+uv98bhMJESbJ5IjbWm4NTlN+UdDZzOCss87qbZiQS69JxjD3+Sit8p+bnUSm3ClLsz9puriasvkF7qJtd9bTLpO8I7nAznjKJ3LbhFEIE/IxVkB+cbPEGNF2xjDmjdlDzZ6Rf2aQh2kfJkwRVZ8bASNgBIyAETACQmBFEyYUYCl4gx5R1GLA3UtrPOpkQaDqZl5WMmGK2043bd0OdtGlShtI3HHHHf06abNrXVwfxg5+acgRJupHa5rS52fxP7vZqU2VZkG1wQjr8cYVtHNiOsOq9OJHaVWfulc6jkqYSnLbXof0RrIEfqVZvCaZJkxNCPm+ETACRsAIGIHFRGBFEyaqTC49KIF8d6npt2HDhgrrfClgrWZdFGuATjnllN4GE8w+yZ0PxZdND0ohEqZJrI8p5UMfri0px7l4Me8oj03hzjvv7BMBucjFD6C2cYtix0ORCbn1xXRFmHDvY1ZQSi1xrrvuuvjozJ5HYhk/WqsMs029MGhDVBVv0GMkp7mZLjZLUT7YNbJNmCZhogxqH+Qbt01t9tIm7+kzalt2yUuR8X8jYASMgBEwAouNwIonTFJyUJiYJRomsI4FJaluHQizSlIm69aZxFmvaSr0fNdG+R0EE61zgSDmlOooK27AoG8BQWqULpjWuUZBTiF0PF8idlKINaNEXe233379NNpuf02++fYQ7lqUjfVXDzzwQCzO2M7jRiCQ8DREN0YRz/SZ+J/NPWiruNaBGySrzgiguOwIqLrBKJAGMNZ9PvjcJoxKmNavX19pwwsMEW+88UabZHu7NlJ+5Ze4w7jzxcTUl5gwRVR8bgSMgBEwAkbACKx4whR3a0t3v0urF5cvdoFL3Y1YAyLFq86NTJscoHDXBcniu1G5gOsTs08vvvhi7nYn1+JW1rlv0UDsmFG47bbbKoiLQpyFYH1Ryb2J/Kuc6c5u0UWKj9PmAkp/3ISBbyTlQkqYeAY3rKgso3Q3BYhbjKO8tyEaTbLb3NfW9zkiqu8Gca/NJhSPP/54H3uVo4RfzBuzL6RBHNaBUQcKkbxCYNqGUQhTdAFUOWhLdSSbfJHXuPX96tWrl7XTl19+uTrppJOqtsQPuSZMbWvdzxkBI2AEjIARWCwEZoIwoZRj/X/11Vd7P23kwAyGrnE/p0hhVZZSjdKF+xy73KF4ohAyM4RyH2cleC4qphs3blyigGKxZ4tipcd3YSIBadrJK6bFN6ZQyl977bWKTRBkTScPTcRrlKYY3atQjiGLzAIxs8CW0XJlJB+R1LDwX7NM3GMzAvIOXtQTa3DYvZB7+qWbDqS7uLF2BtJGfNz+qB+s+IpPXiJpo9xbt27tPae2oBkmYZIq28wWkc/SLGPuY6+kT71OIrChgcpLG2AmDqz53pGut3XH01okxdOxTTnYvl3P47ZJfbCzoQgd95rc8ahLsObdZBt+ycN4wbXXX3+919aa8hPXdkkGx9LHfSUvbkfP82vWrOm9W7xf+mlNWN0sL22Od199jIg+7V/X6HdKbUr58dEIGAEjYASMgBGYbwRmgjDFWaKoOKXnL730UrY2+JBsJABpvPR/+m2gaCWPz0Jo5DIWr/N8XUDZis+Xztt+66YurdI9yEmqWObyQRk3bdq0RAzfpZLCmYsTr6H05gIzdZrNiM+n59Rbimd0f9TzKWHCdU334rE0ywh5FvmKz6PcTyKQfko0Yz6Y/YK4tAlsVx/jct52VojZuTg7k8oBP9pOKcT1WGnc9H9KpFOZORJLm2FNVylgyEjTqfufziZHudqZsC4+95oMJFGmz42AETACRsAIGIH5Q2AmCFNcW1FSXnKKfawOlKzzzjuvqEwxC8U2zMxMpCGuMeG5kqKP69R7772XRs/+x3KdU0xR2vmQaZMVPSt0wIsovmzXnCN9lAWyU1JO+bAtxLKEBWtGmtzZwBUFPFenyGWGI870qXjMeqTkho8Wx8AsSE4usw2lgOueZs9Iv/Sx3FL8Ua+XSJM2tGgrn5kp8Ff5mdEcpD398MMP/W3MJYMjLpJ1ZIn8MbtUahNRFm2utCNgLOcVV1zRb5+Q9KZ1ZeQv917FtON5SsZj2qeffnofwxgnPWcbegcjYASMgBEwAkZgcRGYCcLUJfy40aHIs1sb1nBmT0qkIKaLcqeZFhTbTz/9tOd2xDoj3HJQMocJuAwyAwbRGlbGMOmmcXBxg8RhoW9SitO4EJ9XXnml950c3PoGjc/zzCZQH8wS5khrmuY4/zODNWgZuswPszwQwIceeqhXH8PKpl23nZXKpcF7wrfFIJLTbJvURRP5zuXf14yAETACRsAIGAEjMAkE5o4wTQI0p2EEjIARMAJGwAgYASNgBIzAYiBgwrQY9exSGgEjYASMgBEwAkbACBgBIzAEAiZMQ4DmKEbACBgBI2AEjIARMAJGwAgsBgImTItRzy6lETACRsAIGAEjYASMgBEwAkMgYMI0BGiOYgSMgBEwAkbACBgBI2AEjMBiIGDCtBj17FIaASNgBIyAETACRsAIGAEjMAQCJkxDgOYoRsAIGAEjYASMgBEwAkbACCwGAiZMi1HPLqURMAJGwAgYASNgBIyAETACQyBgwjQEaI5iBIyAETACRsAIGAEjYASMwGIgYMK0GPXsUhoBI2AEjIARMAJGwAgYASMwBAImTEOA5ihGwAgYASNgBIyAETACRsAILAYCJkyLUc8upREwAkbACBgBI2AEjIARMAJDIGDCNARojmIEjIARMAJGwAgYASNgBIzAYiDw/yMI9Luh+impAAAAAElFTkSuQmCC)"
      ]
    }
  ]
}